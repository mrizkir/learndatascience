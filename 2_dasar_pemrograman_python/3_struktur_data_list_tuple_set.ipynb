{
 "cells": [
  {
   "cell_type": "markdown",
   "metadata": {
    "colab_type": "text",
    "id": "vaZ6ufnSGmx0"
   },
   "source": [
    "# Struktur Data (List, Tuple, Set)\n",
    "## List\n",
    "*List* merupakan salah satu struktur data di Python yang paling sering digunakan. Kita bisa membayangkan *list* sebagai urutan data yang tertutup di dalam sepasang kurung siku. Data-data tersebut terpisah oleh sebuah koma. Masing-masing dari data tersebut dapat diakses dengan menggunakan nilai indeksnya masing-masing.\n",
    "\n",
    "Sebuah *list* dideklarasikan dengan menetapkan `[]` ke sebuah variabel."
   ]
  },
  {
   "cell_type": "code",
   "execution_count": 1,
   "metadata": {
    "colab": {},
    "colab_type": "code",
    "id": "IidFJmd_Ghv1"
   },
   "outputs": [],
   "source": [
    "a = []"
   ]
  },
  {
   "cell_type": "code",
   "execution_count": 2,
   "metadata": {
    "colab": {
     "base_uri": "https://localhost:8080/",
     "height": 34
    },
    "colab_type": "code",
    "executionInfo": {
     "elapsed": 1088,
     "status": "ok",
     "timestamp": 1563118337814,
     "user": {
      "displayName": "Galuh S",
      "photoUrl": "https://lh5.googleusercontent.com/--bTMli6TIrE/AAAAAAAAAAI/AAAAAAAAAkc/qrvZnPSSR3A/s64/photo.jpg",
      "userId": "03255550178648543649"
     },
     "user_tz": -420
    },
    "id": "mV1Wikc4Gnom",
    "outputId": "625fdfeb-d331-4a9f-91f7-dfaf04060d5b"
   },
   "outputs": [
    {
     "data": {
      "text/plain": [
       "list"
      ]
     },
     "execution_count": 2,
     "metadata": {},
     "output_type": "execute_result"
    }
   ],
   "source": [
    "type(a)"
   ]
  },
  {
   "cell_type": "markdown",
   "metadata": {
    "colab_type": "text",
    "id": "AQnEe9TlHQbw"
   },
   "source": [
    "Kita juga dapat langsung menyisipkan data ke sebuah *list* dan menetapkannya ke sebuah variabel."
   ]
  },
  {
   "cell_type": "code",
   "execution_count": 3,
   "metadata": {
    "colab": {},
    "colab_type": "code",
    "id": "_59nNTGnHOxy"
   },
   "outputs": [],
   "source": [
    "x = ['apple', 'orange']"
   ]
  },
  {
   "cell_type": "markdown",
   "metadata": {
    "colab_type": "text",
    "id": "JQcfLoXgHXqD"
   },
   "source": [
    "### Indeks"
   ]
  },
  {
   "cell_type": "markdown",
   "metadata": {
    "colab_type": "text",
    "id": "QUyfKhhwHcLd"
   },
   "source": [
    "Di Python, indeks dimulai dari 0, sehingga untuk *list* x yang baru saja kita buat dan memiliki dua elemen, 'apple' akan berada di indeks ke-0 dan 'orange' akan berada di indeks ke-1."
   ]
  },
  {
   "cell_type": "code",
   "execution_count": 4,
   "metadata": {
    "colab": {
     "base_uri": "https://localhost:8080/",
     "height": 34
    },
    "colab_type": "code",
    "executionInfo": {
     "elapsed": 731,
     "status": "ok",
     "timestamp": 1563118447936,
     "user": {
      "displayName": "Galuh S",
      "photoUrl": "https://lh5.googleusercontent.com/--bTMli6TIrE/AAAAAAAAAAI/AAAAAAAAAkc/qrvZnPSSR3A/s64/photo.jpg",
      "userId": "03255550178648543649"
     },
     "user_tz": -420
    },
    "id": "B_jQvYuHHWTF",
    "outputId": "4ef68f40-2c9a-4eac-ca91-13122f5b02b9"
   },
   "outputs": [
    {
     "data": {
      "text/plain": [
       "'apple'"
      ]
     },
     "execution_count": 4,
     "metadata": {},
     "output_type": "execute_result"
    }
   ],
   "source": [
    "x[0]"
   ]
  },
  {
   "cell_type": "markdown",
   "metadata": {
    "colab_type": "text",
    "id": "YJbF7KT1HtGZ"
   },
   "source": [
    "Mengakses data dengan menggunakan indeks juga dapat dilakukan dengan indeks terbalik. Pada kasus ini, indeks akan dimulai dari -1. Sehingga, 'orange' akan ada di indeks -1 dan 'apple' akan ada di indeks -2."
   ]
  },
  {
   "cell_type": "code",
   "execution_count": 5,
   "metadata": {
    "colab": {
     "base_uri": "https://localhost:8080/",
     "height": 34
    },
    "colab_type": "code",
    "executionInfo": {
     "elapsed": 869,
     "status": "ok",
     "timestamp": 1563118521747,
     "user": {
      "displayName": "Galuh S",
      "photoUrl": "https://lh5.googleusercontent.com/--bTMli6TIrE/AAAAAAAAAAI/AAAAAAAAAkc/qrvZnPSSR3A/s64/photo.jpg",
      "userId": "03255550178648543649"
     },
     "user_tz": -420
    },
    "id": "zfTbNeuAHqn-",
    "outputId": "8b20cc35-25d3-47f3-d277-3acaa4164830"
   },
   "outputs": [
    {
     "data": {
      "text/plain": [
       "'orange'"
      ]
     },
     "execution_count": 5,
     "metadata": {},
     "output_type": "execute_result"
    }
   ],
   "source": [
    "x[-1]"
   ]
  },
  {
   "cell_type": "code",
   "execution_count": 6,
   "metadata": {
    "colab": {},
    "colab_type": "code",
    "id": "QSWGhZ1bH8mi"
   },
   "outputs": [],
   "source": [
    "y = ['carrot', 'potato']"
   ]
  },
  {
   "cell_type": "markdown",
   "metadata": {
    "colab_type": "text",
    "id": "qNOI4Wm9IDU4"
   },
   "source": [
    "Kita telah mendeklarasikan dua buah *list* berbeda, yaitu `x` dan `y`. Kedua *list* tersebut memiliki data masing-masing. Masing-masing dari *list* ini dapat disisipkan ke *list* lain, misalnya `z`. Nantinya, *list* `z` akan memiliki *list* `x` dan `y` sebagai datanya. *List* ini dinamakan *nested list*, yang juga berkaitan dengan bagaimana nanti kita akan mendefinisikan sebuah *array* (selanjutnya akan dibahas dengan lebih detil lagi)."
   ]
  },
  {
   "cell_type": "code",
   "execution_count": 7,
   "metadata": {
    "colab": {
     "base_uri": "https://localhost:8080/",
     "height": 34
    },
    "colab_type": "code",
    "executionInfo": {
     "elapsed": 1059,
     "status": "ok",
     "timestamp": 1563118677251,
     "user": {
      "displayName": "Galuh S",
      "photoUrl": "https://lh5.googleusercontent.com/--bTMli6TIrE/AAAAAAAAAAI/AAAAAAAAAkc/qrvZnPSSR3A/s64/photo.jpg",
      "userId": "03255550178648543649"
     },
     "user_tz": -420
    },
    "id": "p949VGTPICNu",
    "outputId": "2d8e5612-e401-4a83-b385-3535f9b4c3c5"
   },
   "outputs": [
    {
     "name": "stdout",
     "output_type": "stream",
     "text": [
      "[['apple', 'orange'], ['carrot', 'potato']]\n"
     ]
    }
   ],
   "source": [
    "z  = [x, y]\n",
    "print(z)"
   ]
  },
  {
   "cell_type": "markdown",
   "metadata": {
    "colab_type": "text",
    "id": "2gzshpsEInly"
   },
   "source": [
    "Lalu, bagaimana indeks bekerja pada sebuah *nested list*? Misalnya, bagaimana caranya kita dapat mengakses 'orange' dari *list* `z`?\n",
    "\n",
    "Pertama-tama, pada *list* `z` di indeks 0 akan ada *list* \\['apple', 'orange'] dan di indeks 1 akan ada *list* lain yaitu \\['carrot', 'potato']. Maka, apabila kita memanggil `z[0]`, maka kita akan mendapatkan *list* pertama yang di dalamnya terdapat 'apple' dan 'orange'."
   ]
  },
  {
   "cell_type": "code",
   "execution_count": 8,
   "metadata": {
    "colab": {
     "base_uri": "https://localhost:8080/",
     "height": 34
    },
    "colab_type": "code",
    "executionInfo": {
     "elapsed": 875,
     "status": "ok",
     "timestamp": 1563118834848,
     "user": {
      "displayName": "Galuh S",
      "photoUrl": "https://lh5.googleusercontent.com/--bTMli6TIrE/AAAAAAAAAAI/AAAAAAAAAkc/qrvZnPSSR3A/s64/photo.jpg",
      "userId": "03255550178648543649"
     },
     "user_tz": -420
    },
    "id": "10PbtDH-IhfS",
    "outputId": "a517346a-5646-4a7d-c8b3-33ab4db850c9"
   },
   "outputs": [
    {
     "data": {
      "text/plain": [
       "['apple', 'orange']"
      ]
     },
     "execution_count": 8,
     "metadata": {},
     "output_type": "execute_result"
    }
   ],
   "source": [
    "z[0]"
   ]
  },
  {
   "cell_type": "markdown",
   "metadata": {
    "colab_type": "text",
    "id": "u5PPngHoJJsK"
   },
   "source": [
    "Dari *list* tersebut kita dapat mengambil elemen kedua (indeks 1) untuk mendapatkan 'orange'."
   ]
  },
  {
   "cell_type": "code",
   "execution_count": 9,
   "metadata": {
    "colab": {
     "base_uri": "https://localhost:8080/",
     "height": 34
    },
    "colab_type": "code",
    "executionInfo": {
     "elapsed": 923,
     "status": "ok",
     "timestamp": 1563118879545,
     "user": {
      "displayName": "Galuh S",
      "photoUrl": "https://lh5.googleusercontent.com/--bTMli6TIrE/AAAAAAAAAAI/AAAAAAAAAkc/qrvZnPSSR3A/s64/photo.jpg",
      "userId": "03255550178648543649"
     },
     "user_tz": -420
    },
    "id": "Hl8qjYC5JJC2",
    "outputId": "0bbe4961-ba2f-489d-b963-94c96f7a1e38"
   },
   "outputs": [
    {
     "data": {
      "text/plain": [
       "'orange'"
      ]
     },
     "execution_count": 9,
     "metadata": {},
     "output_type": "execute_result"
    }
   ],
   "source": [
    "z[0][1]"
   ]
  },
  {
   "cell_type": "markdown",
   "metadata": {
    "colab_type": "text",
    "id": "Cq-7eeU5JV_t"
   },
   "source": [
    "Sebuah *list* tidak harus memiliki tipe yang sama untuk setiap data di dalamnya."
   ]
  },
  {
   "cell_type": "code",
   "execution_count": 10,
   "metadata": {
    "colab": {
     "base_uri": "https://localhost:8080/",
     "height": 34
    },
    "colab_type": "code",
    "executionInfo": {
     "elapsed": 876,
     "status": "ok",
     "timestamp": 1563118922550,
     "user": {
      "displayName": "Galuh S",
      "photoUrl": "https://lh5.googleusercontent.com/--bTMli6TIrE/AAAAAAAAAAI/AAAAAAAAAkc/qrvZnPSSR3A/s64/photo.jpg",
      "userId": "03255550178648543649"
     },
     "user_tz": -420
    },
    "id": "fucVOg8EJSdX",
    "outputId": "b8a17bb5-9756-4caa-caf9-e226c056a1ac"
   },
   "outputs": [
    {
     "data": {
      "text/plain": [
       "['this is a valid list', 2, 3.6, ['a', 'sublist']]"
      ]
     },
     "execution_count": 10,
     "metadata": {},
     "output_type": "execute_result"
    }
   ],
   "source": [
    "[\"this is a valid list\", 2, 3.6, [\"a\",\"sublist\"]] # list yang terdiri dari string, integer, float, dan list"
   ]
  },
  {
   "cell_type": "markdown",
   "metadata": {
    "colab_type": "text",
    "id": "eaSnDtMMJggz"
   },
   "source": [
    "### Slicing"
   ]
  },
  {
   "cell_type": "markdown",
   "metadata": {
    "colab_type": "text",
    "id": "s7R74cbgKUJt"
   },
   "source": [
    "Mengakses data dengan indeks hanya terbatas pada mengakses satu elemen saja. *Slicing* merupakan teknik yang dapat digunakan untuk mengakses urutan data di dalam sebuah *list*. *Slicing* dilakukan dengan mendefinisikan nilai indeks dari elemen pertama dan elemen terakhir dari *list*. Untuk sebuah *list* \\[a:b], a dan b adalah nilai indeks dari *list* tersebut.\n",
    "\n",
    "Apabila nilai indeks a tidak didefinisikan (misalnya \\[:5]) maka a dianggap sebagai indeks awal. Apabila nilai indeks b tidak didefinisikan (misalnya \\[3:]) maka b dianggap sebagai indeks akhir."
   ]
  },
  {
   "cell_type": "code",
   "execution_count": 11,
   "metadata": {
    "colab": {
     "base_uri": "https://localhost:8080/",
     "height": 52
    },
    "colab_type": "code",
    "executionInfo": {
     "elapsed": 883,
     "status": "ok",
     "timestamp": 1563119372878,
     "user": {
      "displayName": "Galuh S",
      "photoUrl": "https://lh5.googleusercontent.com/--bTMli6TIrE/AAAAAAAAAAI/AAAAAAAAAkc/qrvZnPSSR3A/s64/photo.jpg",
      "userId": "03255550178648543649"
     },
     "user_tz": -420
    },
    "id": "J5CdD8ZaJec5",
    "outputId": "82db6e41-4029-41eb-a283-1203a4c68520"
   },
   "outputs": [
    {
     "name": "stdout",
     "output_type": "stream",
     "text": [
      "[0, 1, 2, 3]\n",
      "[4, 5, 6, 7, 8, 9]\n"
     ]
    }
   ],
   "source": [
    "num = [0,1,2,3,4,5,6,7,8,9]\n",
    "print(num[0:4])\n",
    "print(num[4:])"
   ]
  },
  {
   "cell_type": "markdown",
   "metadata": {
    "colab_type": "text",
    "id": "QnxgUFFDLfRo"
   },
   "source": [
    "### Fungsi-fungsi built-in terkait list"
   ]
  },
  {
   "cell_type": "markdown",
   "metadata": {
    "colab_type": "text",
    "id": "Dy-rPbhcLjgS"
   },
   "source": [
    "Untuk mendapatkan panjang dari *list*, gunakan `len()`."
   ]
  },
  {
   "cell_type": "code",
   "execution_count": 12,
   "metadata": {
    "colab": {
     "base_uri": "https://localhost:8080/",
     "height": 34
    },
    "colab_type": "code",
    "executionInfo": {
     "elapsed": 503,
     "status": "ok",
     "timestamp": 1563119480056,
     "user": {
      "displayName": "Galuh S",
      "photoUrl": "https://lh5.googleusercontent.com/--bTMli6TIrE/AAAAAAAAAAI/AAAAAAAAAkc/qrvZnPSSR3A/s64/photo.jpg",
      "userId": "03255550178648543649"
     },
     "user_tz": -420
    },
    "id": "EvC4LNbvLT_P",
    "outputId": "6c38462e-09fa-4443-f286-61c23630c17f"
   },
   "outputs": [
    {
     "data": {
      "text/plain": [
       "10"
      ]
     },
     "execution_count": 12,
     "metadata": {},
     "output_type": "execute_result"
    }
   ],
   "source": [
    "len(num)"
   ]
  },
  {
   "cell_type": "markdown",
   "metadata": {
    "colab_type": "text",
    "id": "D1QlyV3QLpD6"
   },
   "source": [
    "Apabila *list* hanya berisi elemen-elemen integer, maka fungsi `min()` dan `max()` akan memberikan nilai minimum dan maksimum dari *list*. Fungsi `sum()` akan mengembalikan jumlah dari elemen-elemen di dalam *list*."
   ]
  },
  {
   "cell_type": "code",
   "execution_count": 13,
   "metadata": {
    "colab": {
     "base_uri": "https://localhost:8080/",
     "height": 34
    },
    "colab_type": "code",
    "executionInfo": {
     "elapsed": 745,
     "status": "ok",
     "timestamp": 1563119547222,
     "user": {
      "displayName": "Galuh S",
      "photoUrl": "https://lh5.googleusercontent.com/--bTMli6TIrE/AAAAAAAAAAI/AAAAAAAAAkc/qrvZnPSSR3A/s64/photo.jpg",
      "userId": "03255550178648543649"
     },
     "user_tz": -420
    },
    "id": "uStmLxqGLmqf",
    "outputId": "45cb55dc-bfba-4c24-878c-c93176ae8735"
   },
   "outputs": [
    {
     "name": "stdout",
     "output_type": "stream",
     "text": [
      "min = 0   max = 9   total = 45\n"
     ]
    }
   ],
   "source": [
    "print(\"min =\", min(num),\"  max =\", max(num),\"  total =\", sum(num))"
   ]
  },
  {
   "cell_type": "code",
   "execution_count": 14,
   "metadata": {
    "colab": {
     "base_uri": "https://localhost:8080/",
     "height": 34
    },
    "colab_type": "code",
    "executionInfo": {
     "elapsed": 793,
     "status": "ok",
     "timestamp": 1563119555077,
     "user": {
      "displayName": "Galuh S",
      "photoUrl": "https://lh5.googleusercontent.com/--bTMli6TIrE/AAAAAAAAAAI/AAAAAAAAAkc/qrvZnPSSR3A/s64/photo.jpg",
      "userId": "03255550178648543649"
     },
     "user_tz": -420
    },
    "id": "XPBlbfftL2_1",
    "outputId": "6f7ad691-8c26-4fbc-87e3-79ff7d946e44"
   },
   "outputs": [
    {
     "data": {
      "text/plain": [
       "9"
      ]
     },
     "execution_count": 14,
     "metadata": {},
     "output_type": "execute_result"
    }
   ],
   "source": [
    "max(num)"
   ]
  },
  {
   "cell_type": "markdown",
   "metadata": {
    "colab_type": "text",
    "id": "pUPLPz2PL5n8"
   },
   "source": [
    "*List* dapat digabungkan dengan cara menambahkan `'+'` di antara kedua *list* yang akan digabungkan."
   ]
  },
  {
   "cell_type": "code",
   "execution_count": 15,
   "metadata": {
    "colab": {
     "base_uri": "https://localhost:8080/",
     "height": 34
    },
    "colab_type": "code",
    "executionInfo": {
     "elapsed": 1853,
     "status": "ok",
     "timestamp": 1563119587430,
     "user": {
      "displayName": "Galuh S",
      "photoUrl": "https://lh5.googleusercontent.com/--bTMli6TIrE/AAAAAAAAAAI/AAAAAAAAAkc/qrvZnPSSR3A/s64/photo.jpg",
      "userId": "03255550178648543649"
     },
     "user_tz": -420
    },
    "id": "VLg0eIQIL45a",
    "outputId": "786e5785-1a5b-4f09-e89d-eda52c422078"
   },
   "outputs": [
    {
     "data": {
      "text/plain": [
       "[1, 2, 3, 5, 4, 7]"
      ]
     },
     "execution_count": 15,
     "metadata": {},
     "output_type": "execute_result"
    }
   ],
   "source": [
    "[1,2,3] + [5,4,7]"
   ]
  },
  {
   "cell_type": "markdown",
   "metadata": {
    "colab_type": "text",
    "id": "E_C9EeMoMESL"
   },
   "source": [
    "Untuk mengecek apakah sebuah data ada di dalam *list*, gunakan `in`."
   ]
  },
  {
   "cell_type": "code",
   "execution_count": 16,
   "metadata": {
    "colab": {},
    "colab_type": "code",
    "id": "Qko91PCHMAif"
   },
   "outputs": [],
   "source": [
    "names = ['Earth', 'Air', 'Fire', 'Water']"
   ]
  },
  {
   "cell_type": "code",
   "execution_count": 17,
   "metadata": {
    "colab": {
     "base_uri": "https://localhost:8080/",
     "height": 34
    },
    "colab_type": "code",
    "executionInfo": {
     "elapsed": 1847,
     "status": "ok",
     "timestamp": 1563119634089,
     "user": {
      "displayName": "Galuh S",
      "photoUrl": "https://lh5.googleusercontent.com/--bTMli6TIrE/AAAAAAAAAAI/AAAAAAAAAkc/qrvZnPSSR3A/s64/photo.jpg",
      "userId": "03255550178648543649"
     },
     "user_tz": -420
    },
    "id": "MZZFWEbSMKvs",
    "outputId": "cdd34718-fc43-4c3e-8673-d2e3f8d839e7"
   },
   "outputs": [
    {
     "data": {
      "text/plain": [
       "True"
      ]
     },
     "execution_count": 17,
     "metadata": {},
     "output_type": "execute_result"
    }
   ],
   "source": [
    "'Fire' in names"
   ]
  },
  {
   "cell_type": "code",
   "execution_count": 18,
   "metadata": {
    "colab": {
     "base_uri": "https://localhost:8080/",
     "height": 34
    },
    "colab_type": "code",
    "executionInfo": {
     "elapsed": 2019,
     "status": "ok",
     "timestamp": 1563119638433,
     "user": {
      "displayName": "Galuh S",
      "photoUrl": "https://lh5.googleusercontent.com/--bTMli6TIrE/AAAAAAAAAAI/AAAAAAAAAkc/qrvZnPSSR3A/s64/photo.jpg",
      "userId": "03255550178648543649"
     },
     "user_tz": -420
    },
    "id": "W9hsv_cuML8L",
    "outputId": "ef9d1f4c-9181-41af-8c7e-7bdd5b322b71"
   },
   "outputs": [
    {
     "data": {
      "text/plain": [
       "False"
      ]
     },
     "execution_count": 18,
     "metadata": {},
     "output_type": "execute_result"
    }
   ],
   "source": [
    "'Space' in names"
   ]
  },
  {
   "cell_type": "markdown",
   "metadata": {
    "colab_type": "text",
    "id": "YvdAORklMU3m"
   },
   "source": [
    "Sebuah *string* dapat diubah menjadi sebuah *list* berisi kata-kata dari *string* tersebut dengan menggunakan metode `split()`."
   ]
  },
  {
   "cell_type": "code",
   "execution_count": 19,
   "metadata": {
    "colab": {
     "base_uri": "https://localhost:8080/",
     "height": 34
    },
    "colab_type": "code",
    "executionInfo": {
     "elapsed": 896,
     "status": "ok",
     "timestamp": 1563119713457,
     "user": {
      "displayName": "Galuh S",
      "photoUrl": "https://lh5.googleusercontent.com/--bTMli6TIrE/AAAAAAAAAAI/AAAAAAAAAkc/qrvZnPSSR3A/s64/photo.jpg",
      "userId": "03255550178648543649"
     },
     "user_tz": -420
    },
    "id": "ergLGdOAMM8o",
    "outputId": "446e1ba7-21a5-459b-91bf-c341f2ef1991"
   },
   "outputs": [
    {
     "name": "stdout",
     "output_type": "stream",
     "text": [
      "['Hello', 'World', '!!']\n"
     ]
    }
   ],
   "source": [
    "print('Hello   World !!'.split())"
   ]
  },
  {
   "cell_type": "markdown",
   "metadata": {
    "colab_type": "text",
    "id": "MxhHeyDfMn8P"
   },
   "source": [
    "`append()` digunakan untuk menambahkan elemen baru ke akhir dari *list*. "
   ]
  },
  {
   "cell_type": "code",
   "execution_count": 20,
   "metadata": {
    "colab": {
     "base_uri": "https://localhost:8080/",
     "height": 34
    },
    "colab_type": "code",
    "executionInfo": {
     "elapsed": 818,
     "status": "ok",
     "timestamp": 1563121070816,
     "user": {
      "displayName": "Galuh S",
      "photoUrl": "https://lh5.googleusercontent.com/--bTMli6TIrE/AAAAAAAAAAI/AAAAAAAAAkc/qrvZnPSSR3A/s64/photo.jpg",
      "userId": "03255550178648543649"
     },
     "user_tz": -420
    },
    "id": "f84pnVg7MfjE",
    "outputId": "f3d02e3a-3d16-41b8-97cb-17af8b33b9ef"
   },
   "outputs": [
    {
     "name": "stdout",
     "output_type": "stream",
     "text": [
      "[1, 1, 4, 8, 7, 1]\n"
     ]
    }
   ],
   "source": [
    "lst = [1,1,4,8,7]\n",
    "lst.append(1)\n",
    "print(lst)"
   ]
  },
  {
   "cell_type": "markdown",
   "metadata": {
    "colab_type": "text",
    "id": "f_u_8Ld2N1Ob"
   },
   "source": [
    "`count()` digunakan untuk menghitung jumlah dari sebuah elemen tertentu yang ada di dalam *list*."
   ]
  },
  {
   "cell_type": "code",
   "execution_count": 21,
   "metadata": {
    "colab": {
     "base_uri": "https://localhost:8080/",
     "height": 34
    },
    "colab_type": "code",
    "executionInfo": {
     "elapsed": 789,
     "status": "ok",
     "timestamp": 1563120092808,
     "user": {
      "displayName": "Galuh S",
      "photoUrl": "https://lh5.googleusercontent.com/--bTMli6TIrE/AAAAAAAAAAI/AAAAAAAAAkc/qrvZnPSSR3A/s64/photo.jpg",
      "userId": "03255550178648543649"
     },
     "user_tz": -420
    },
    "id": "z3JenyrlMt4F",
    "outputId": "901640db-607b-4aa4-fcb4-d90cf1c4cabf"
   },
   "outputs": [
    {
     "data": {
      "text/plain": [
       "3"
      ]
     },
     "execution_count": 21,
     "metadata": {},
     "output_type": "execute_result"
    }
   ],
   "source": [
    "lst.count(1)"
   ]
  },
  {
   "cell_type": "markdown",
   "metadata": {
    "colab_type": "text",
    "id": "E9w-0FC0N_Yj"
   },
   "source": [
    "`insert(x,y)` digunakan untuk menyisipkan elemen `y` pada indeks `x`. `append()` hanya dapat menyisipkan elemen baru ke akhir *list*. "
   ]
  },
  {
   "cell_type": "code",
   "execution_count": 22,
   "metadata": {
    "colab": {
     "base_uri": "https://localhost:8080/",
     "height": 34
    },
    "colab_type": "code",
    "executionInfo": {
     "elapsed": 720,
     "status": "ok",
     "timestamp": 1563121071953,
     "user": {
      "displayName": "Galuh S",
      "photoUrl": "https://lh5.googleusercontent.com/--bTMli6TIrE/AAAAAAAAAAI/AAAAAAAAAkc/qrvZnPSSR3A/s64/photo.jpg",
      "userId": "03255550178648543649"
     },
     "user_tz": -420
    },
    "id": "-vBIhZU0N8LW",
    "outputId": "9fd3b7fc-145d-4296-ed37-9001d64cd4dc"
   },
   "outputs": [
    {
     "name": "stdout",
     "output_type": "stream",
     "text": [
      "[1, 1, 4, 8, 7, 'name', 1]\n"
     ]
    }
   ],
   "source": [
    "lst.insert(5, 'name')\n",
    "print(lst)"
   ]
  },
  {
   "cell_type": "markdown",
   "metadata": {
    "colab_type": "text",
    "id": "gRpSGQZqOJV8"
   },
   "source": [
    "`insert(x, y)` menyisipkan elemen baru namun tidak mengganti elemen lama. Apabila kita ingin mengganti elemen yang lama dengan elemen yang baru, kita bisa langsung menetapkan elemen baru tersebut ke indeks yang kita inginkan."
   ]
  },
  {
   "cell_type": "code",
   "execution_count": 23,
   "metadata": {
    "colab": {
     "base_uri": "https://localhost:8080/",
     "height": 34
    },
    "colab_type": "code",
    "executionInfo": {
     "elapsed": 572,
     "status": "ok",
     "timestamp": 1563121073336,
     "user": {
      "displayName": "Galuh S",
      "photoUrl": "https://lh5.googleusercontent.com/--bTMli6TIrE/AAAAAAAAAAI/AAAAAAAAAkc/qrvZnPSSR3A/s64/photo.jpg",
      "userId": "03255550178648543649"
     },
     "user_tz": -420
    },
    "id": "q9veMBVkOHAc",
    "outputId": "61a97b45-cd50-42e6-ea0f-57d4ed6ad562"
   },
   "outputs": [
    {
     "name": "stdout",
     "output_type": "stream",
     "text": [
      "[1, 1, 4, 8, 7, 'Python', 1]\n"
     ]
    }
   ],
   "source": [
    "lst[5] = 'Python'\n",
    "print(lst)"
   ]
  },
  {
   "cell_type": "markdown",
   "metadata": {
    "colab_type": "text",
    "id": "TvJTzsQaOVgC"
   },
   "source": [
    "`pop()` mengembalikan dan menghilangkan elemen terakhir dari *list*."
   ]
  },
  {
   "cell_type": "code",
   "execution_count": 24,
   "metadata": {
    "colab": {
     "base_uri": "https://localhost:8080/",
     "height": 34
    },
    "colab_type": "code",
    "executionInfo": {
     "elapsed": 856,
     "status": "ok",
     "timestamp": 1563121075819,
     "user": {
      "displayName": "Galuh S",
      "photoUrl": "https://lh5.googleusercontent.com/--bTMli6TIrE/AAAAAAAAAAI/AAAAAAAAAkc/qrvZnPSSR3A/s64/photo.jpg",
      "userId": "03255550178648543649"
     },
     "user_tz": -420
    },
    "id": "nwHG-FitOT99",
    "outputId": "59d1c8fa-1dde-4f1c-a8e3-f26db2862c56"
   },
   "outputs": [
    {
     "data": {
      "text/plain": [
       "1"
      ]
     },
     "execution_count": 24,
     "metadata": {},
     "output_type": "execute_result"
    }
   ],
   "source": [
    "lst.pop()"
   ]
  },
  {
   "cell_type": "markdown",
   "metadata": {
    "colab_type": "text",
    "id": "qBKrrfmdQ0CW"
   },
   "source": [
    "Kita juga dapat memberikan nilai indeks sebagai argumen untuk mengembalikan dan menghilangkan elemen di indeks tersebut."
   ]
  },
  {
   "cell_type": "code",
   "execution_count": 25,
   "metadata": {
    "colab": {
     "base_uri": "https://localhost:8080/",
     "height": 34
    },
    "colab_type": "code",
    "executionInfo": {
     "elapsed": 938,
     "status": "ok",
     "timestamp": 1563121076909,
     "user": {
      "displayName": "Galuh S",
      "photoUrl": "https://lh5.googleusercontent.com/--bTMli6TIrE/AAAAAAAAAAI/AAAAAAAAAkc/qrvZnPSSR3A/s64/photo.jpg",
      "userId": "03255550178648543649"
     },
     "user_tz": -420
    },
    "id": "t6QMNfLKOZOY",
    "outputId": "7b05dfe2-9636-4f6e-d33f-51912c2fe1d1"
   },
   "outputs": [
    {
     "data": {
      "text/plain": [
       "4"
      ]
     },
     "execution_count": 25,
     "metadata": {},
     "output_type": "execute_result"
    }
   ],
   "source": [
    "lst.pop(2)"
   ]
  },
  {
   "cell_type": "code",
   "execution_count": 26,
   "metadata": {
    "colab": {
     "base_uri": "https://localhost:8080/",
     "height": 34
    },
    "colab_type": "code",
    "executionInfo": {
     "elapsed": 724,
     "status": "ok",
     "timestamp": 1563121018977,
     "user": {
      "displayName": "Galuh S",
      "photoUrl": "https://lh5.googleusercontent.com/--bTMli6TIrE/AAAAAAAAAAI/AAAAAAAAAkc/qrvZnPSSR3A/s64/photo.jpg",
      "userId": "03255550178648543649"
     },
     "user_tz": -420
    },
    "id": "Zo0aywRdRTWq",
    "outputId": "3df34f98-1f41-45ee-9a84-7fbed2e02175"
   },
   "outputs": [
    {
     "data": {
      "text/plain": [
       "[1, 1, 8, 7, 'Python']"
      ]
     },
     "execution_count": 26,
     "metadata": {},
     "output_type": "execute_result"
    }
   ],
   "source": [
    "lst"
   ]
  },
  {
   "cell_type": "markdown",
   "metadata": {
    "colab_type": "text",
    "id": "yct7TCfsRg-a"
   },
   "source": [
    "Untuk menghilangkan elemen dengan cara memberikan elemen tersebut sebagai argumennya, kita dapat menggunakan `remove()`."
   ]
  },
  {
   "cell_type": "code",
   "execution_count": 27,
   "metadata": {
    "colab": {
     "base_uri": "https://localhost:8080/",
     "height": 34
    },
    "colab_type": "code",
    "executionInfo": {
     "elapsed": 833,
     "status": "ok",
     "timestamp": 1563121079229,
     "user": {
      "displayName": "Galuh S",
      "photoUrl": "https://lh5.googleusercontent.com/--bTMli6TIrE/AAAAAAAAAAI/AAAAAAAAAkc/qrvZnPSSR3A/s64/photo.jpg",
      "userId": "03255550178648543649"
     },
     "user_tz": -420
    },
    "id": "WxF2AIwdRW_W",
    "outputId": "9ee094f8-5956-4efe-c9c6-de47aefa9bcd"
   },
   "outputs": [
    {
     "name": "stdout",
     "output_type": "stream",
     "text": [
      "[1, 1, 8, 7]\n"
     ]
    }
   ],
   "source": [
    "lst.remove('Python')\n",
    "print(lst)"
   ]
  },
  {
   "cell_type": "markdown",
   "metadata": {
    "colab_type": "text",
    "id": "lE-qaYAURxuu"
   },
   "source": [
    "Cara lain untuk menghapus elemen dengan menggunakan nilai indeks (tanpa mengembalikan elemen tersebut) adalah dengan menggunakan `del`."
   ]
  },
  {
   "cell_type": "code",
   "execution_count": 28,
   "metadata": {
    "colab": {
     "base_uri": "https://localhost:8080/",
     "height": 34
    },
    "colab_type": "code",
    "executionInfo": {
     "elapsed": 796,
     "status": "ok",
     "timestamp": 1563121122383,
     "user": {
      "displayName": "Galuh S",
      "photoUrl": "https://lh5.googleusercontent.com/--bTMli6TIrE/AAAAAAAAAAI/AAAAAAAAAkc/qrvZnPSSR3A/s64/photo.jpg",
      "userId": "03255550178648543649"
     },
     "user_tz": -420
    },
    "id": "jiQ7zxp0RghA",
    "outputId": "e101c100-e165-4052-bf2d-eda0bce28fbb"
   },
   "outputs": [
    {
     "name": "stdout",
     "output_type": "stream",
     "text": [
      "[1, 8, 7]\n"
     ]
    }
   ],
   "source": [
    "del lst[1]\n",
    "print(lst)"
   ]
  },
  {
   "cell_type": "markdown",
   "metadata": {
    "colab_type": "text",
    "id": "9C1i5zzGR6Vh"
   },
   "source": [
    "Elemen-elemen yang ada di *list* dapat dibalik dengan menggunakan fungsi `reverse()`."
   ]
  },
  {
   "cell_type": "code",
   "execution_count": 29,
   "metadata": {
    "colab": {
     "base_uri": "https://localhost:8080/",
     "height": 34
    },
    "colab_type": "code",
    "executionInfo": {
     "elapsed": 910,
     "status": "ok",
     "timestamp": 1563121162578,
     "user": {
      "displayName": "Galuh S",
      "photoUrl": "https://lh5.googleusercontent.com/--bTMli6TIrE/AAAAAAAAAAI/AAAAAAAAAkc/qrvZnPSSR3A/s64/photo.jpg",
      "userId": "03255550178648543649"
     },
     "user_tz": -420
    },
    "id": "IC-Of5DVR3if",
    "outputId": "900fa1e9-532e-4b3a-fd12-8bcfdf4d7a92"
   },
   "outputs": [
    {
     "name": "stdout",
     "output_type": "stream",
     "text": [
      "[7, 8, 1]\n"
     ]
    }
   ],
   "source": [
    "lst.reverse()\n",
    "print(lst)"
   ]
  },
  {
   "cell_type": "markdown",
   "metadata": {
    "colab_type": "text",
    "id": "-h9DH4ImSE2k"
   },
   "source": [
    "Python memiliki fungsi *built-in* `sort()` untuk mengurutkan elemen-elemen di dalam *list* dengan urutan menaik. Selain `sort()` kita juga dapat menggunakan `sorted()` apabila kita tidak ingin langsung mengubah list."
   ]
  },
  {
   "cell_type": "code",
   "execution_count": 30,
   "metadata": {
    "colab": {
     "base_uri": "https://localhost:8080/",
     "height": 34
    },
    "colab_type": "code",
    "executionInfo": {
     "elapsed": 826,
     "status": "ok",
     "timestamp": 1563121285741,
     "user": {
      "displayName": "Galuh S",
      "photoUrl": "https://lh5.googleusercontent.com/--bTMli6TIrE/AAAAAAAAAAI/AAAAAAAAAkc/qrvZnPSSR3A/s64/photo.jpg",
      "userId": "03255550178648543649"
     },
     "user_tz": -420
    },
    "id": "aVvOMVx-SBUz",
    "outputId": "9c233b47-b208-49da-ffa2-b7a7804e8466"
   },
   "outputs": [
    {
     "name": "stdout",
     "output_type": "stream",
     "text": [
      "[1, 7, 8]\n"
     ]
    }
   ],
   "source": [
    "lst.sort()\n",
    "print(lst)"
   ]
  },
  {
   "cell_type": "code",
   "execution_count": 31,
   "metadata": {
    "colab": {
     "base_uri": "https://localhost:8080/",
     "height": 34
    },
    "colab_type": "code",
    "executionInfo": {
     "elapsed": 813,
     "status": "ok",
     "timestamp": 1563121318972,
     "user": {
      "displayName": "Galuh S",
      "photoUrl": "https://lh5.googleusercontent.com/--bTMli6TIrE/AAAAAAAAAAI/AAAAAAAAAkc/qrvZnPSSR3A/s64/photo.jpg",
      "userId": "03255550178648543649"
     },
     "user_tz": -420
    },
    "id": "y55nhhAwSfaG",
    "outputId": "271bd71e-c3d9-4f1a-a07e-14a246e2318b"
   },
   "outputs": [
    {
     "name": "stdout",
     "output_type": "stream",
     "text": [
      "[1, 7, 8]\n"
     ]
    }
   ],
   "source": [
    "lst = [7, 8, 1]\n",
    "print(sorted(lst))"
   ]
  },
  {
   "cell_type": "code",
   "execution_count": 32,
   "metadata": {
    "colab": {
     "base_uri": "https://localhost:8080/",
     "height": 34
    },
    "colab_type": "code",
    "executionInfo": {
     "elapsed": 869,
     "status": "ok",
     "timestamp": 1563121335134,
     "user": {
      "displayName": "Galuh S",
      "photoUrl": "https://lh5.googleusercontent.com/--bTMli6TIrE/AAAAAAAAAAI/AAAAAAAAAkc/qrvZnPSSR3A/s64/photo.jpg",
      "userId": "03255550178648543649"
     },
     "user_tz": -420
    },
    "id": "s8xmDWlUSiXS",
    "outputId": "c36e7bea-f039-411a-d767-770cfdc4a832"
   },
   "outputs": [
    {
     "data": {
      "text/plain": [
       "[7, 8, 1]"
      ]
     },
     "execution_count": 32,
     "metadata": {},
     "output_type": "execute_result"
    }
   ],
   "source": [
    "lst # urutan di list asli tidak berubah ketika kita menggunakan sorted()"
   ]
  },
  {
   "cell_type": "markdown",
   "metadata": {
    "colab_type": "text",
    "id": "jmFyxouESuBT"
   },
   "source": [
    "Untuk urutan menurun, kita dapat menggunakan parameter `reverse` untuk mengaturnya. Secara *default*, argumen untuk parameter `reverse` di fungsi `sort()` bernilai `False`. Apabila kita menginginkan urutan menurun, kita perlu menggantinya dengan nilai `True`."
   ]
  },
  {
   "cell_type": "code",
   "execution_count": 33,
   "metadata": {
    "colab": {
     "base_uri": "https://localhost:8080/",
     "height": 34
    },
    "colab_type": "code",
    "executionInfo": {
     "elapsed": 760,
     "status": "ok",
     "timestamp": 1563121409749,
     "user": {
      "displayName": "Galuh S",
      "photoUrl": "https://lh5.googleusercontent.com/--bTMli6TIrE/AAAAAAAAAAI/AAAAAAAAAkc/qrvZnPSSR3A/s64/photo.jpg",
      "userId": "03255550178648543649"
     },
     "user_tz": -420
    },
    "id": "wkkkqxooSi8Q",
    "outputId": "efae50f0-0158-42e2-ef7f-bad81e08b5b5"
   },
   "outputs": [
    {
     "name": "stdout",
     "output_type": "stream",
     "text": [
      "[8, 7, 1]\n"
     ]
    }
   ],
   "source": [
    "lst.sort(reverse=True)\n",
    "print(lst)"
   ]
  },
  {
   "cell_type": "markdown",
   "metadata": {
    "colab_type": "text",
    "id": "Jgviv1O8TCT3"
   },
   "source": [
    "Kita juga dapat mengurutkan *string* sesuai dengan urutan leksikal."
   ]
  },
  {
   "cell_type": "code",
   "execution_count": 34,
   "metadata": {
    "colab": {
     "base_uri": "https://localhost:8080/",
     "height": 52
    },
    "colab_type": "code",
    "executionInfo": {
     "elapsed": 856,
     "status": "ok",
     "timestamp": 1563121444911,
     "user": {
      "displayName": "Galuh S",
      "photoUrl": "https://lh5.googleusercontent.com/--bTMli6TIrE/AAAAAAAAAAI/AAAAAAAAAkc/qrvZnPSSR3A/s64/photo.jpg",
      "userId": "03255550178648543649"
     },
     "user_tz": -420
    },
    "id": "aFqE9BlPS9s5",
    "outputId": "8a61ccbb-3699-47bd-c54b-5e77a6a9fb58"
   },
   "outputs": [
    {
     "name": "stdout",
     "output_type": "stream",
     "text": [
      "['Air', 'Earth', 'Fire', 'Water']\n",
      "['Water', 'Fire', 'Earth', 'Air']\n"
     ]
    }
   ],
   "source": [
    "names.sort()\n",
    "print(names)\n",
    "names.sort(reverse=True)\n",
    "print(names)"
   ]
  },
  {
   "cell_type": "markdown",
   "metadata": {
    "colab_type": "text",
    "id": "aOcJv1cMTH6B"
   },
   "source": [
    "Untuk mengurutkan berdasarkan panjang kata, kita dapat menggunakan kode berikut:"
   ]
  },
  {
   "cell_type": "code",
   "execution_count": 35,
   "metadata": {
    "colab": {
     "base_uri": "https://localhost:8080/",
     "height": 52
    },
    "colab_type": "code",
    "executionInfo": {
     "elapsed": 844,
     "status": "ok",
     "timestamp": 1563121469606,
     "user": {
      "displayName": "Galuh S",
      "photoUrl": "https://lh5.googleusercontent.com/--bTMli6TIrE/AAAAAAAAAAI/AAAAAAAAAkc/qrvZnPSSR3A/s64/photo.jpg",
      "userId": "03255550178648543649"
     },
     "user_tz": -420
    },
    "id": "FEFZHValTGRT",
    "outputId": "dc8931db-b1dc-4d43-837a-8ea0d487d601"
   },
   "outputs": [
    {
     "name": "stdout",
     "output_type": "stream",
     "text": [
      "['Air', 'Fire', 'Water', 'Earth']\n",
      "['Water', 'Earth', 'Fire', 'Air']\n"
     ]
    }
   ],
   "source": [
    "names.sort(key=len)\n",
    "print(names)\n",
    "print(sorted(names, key=len, reverse=True))"
   ]
  },
  {
   "cell_type": "markdown",
   "metadata": {
    "colab_type": "text",
    "id": "7cpxt9aYTO7u"
   },
   "source": [
    "### Menggandakan sebuah list"
   ]
  },
  {
   "cell_type": "markdown",
   "metadata": {
    "colab_type": "text",
    "id": "-jYFtfAwToyu"
   },
   "source": [
    "Menetapkan sebuah *list* ke sebuah variabel tidak berarti Python membuat *list* yang berbeda, melainkan hanya membuat referensi kedua untuk *list* yang sama. Hal ini sering menjadi jebakan untuk pemrogram Python pemula.\n"
   ]
  },
  {
   "cell_type": "code",
   "execution_count": 36,
   "metadata": {
    "colab": {
     "base_uri": "https://localhost:8080/",
     "height": 34
    },
    "colab_type": "code",
    "executionInfo": {
     "elapsed": 1205,
     "status": "ok",
     "timestamp": 1563121651453,
     "user": {
      "displayName": "Galuh S",
      "photoUrl": "https://lh5.googleusercontent.com/--bTMli6TIrE/AAAAAAAAAAI/AAAAAAAAAkc/qrvZnPSSR3A/s64/photo.jpg",
      "userId": "03255550178648543649"
     },
     "user_tz": -420
    },
    "id": "IdcGQzxxTMS4",
    "outputId": "ba412166-d243-4445-9b09-02b11d06abd5"
   },
   "outputs": [
    {
     "name": "stdout",
     "output_type": "stream",
     "text": [
      "[2, 1, 4, 3]\n"
     ]
    }
   ],
   "source": [
    "lista = [2,1,4,3]\n",
    "listb = lista\n",
    "print(listb)"
   ]
  },
  {
   "cell_type": "markdown",
   "metadata": {
    "colab_type": "text",
    "id": "WFJ4njDYT6oV"
   },
   "source": [
    "Kita telah mendeklarasikan sebuah *list*, yaitu `lista = [2, 1, 4, 3]`. *List* ini kita tetapkan ke variabel `listb` dan ketika kita mencetak `listb`, tampaknya *list* tersebut sudah tergandakan.\n",
    "\n",
    "Selanjutnya, mari kita coba untuk melakukan operasi pada `lista`, **tanpa melakukan operasi apapun pada `listb`**."
   ]
  },
  {
   "cell_type": "code",
   "execution_count": 37,
   "metadata": {
    "colab": {
     "base_uri": "https://localhost:8080/",
     "height": 52
    },
    "colab_type": "code",
    "executionInfo": {
     "elapsed": 916,
     "status": "ok",
     "timestamp": 1563121759227,
     "user": {
      "displayName": "Galuh S",
      "photoUrl": "https://lh5.googleusercontent.com/--bTMli6TIrE/AAAAAAAAAAI/AAAAAAAAAkc/qrvZnPSSR3A/s64/photo.jpg",
      "userId": "03255550178648543649"
     },
     "user_tz": -420
    },
    "id": "zxih8Ju_T4mz",
    "outputId": "7effba15-c3e7-481b-9fec-72308189d699"
   },
   "outputs": [
    {
     "name": "stdout",
     "output_type": "stream",
     "text": [
      "A = [1, 2, 3, 9]\n",
      "B = [1, 2, 3, 9]\n"
     ]
    }
   ],
   "source": [
    "lista.sort()\n",
    "lista.pop()\n",
    "lista.append(9)\n",
    "print(\"A =\", lista)\n",
    "print(\"B =\", listb)"
   ]
  },
  {
   "cell_type": "markdown",
   "metadata": {
    "colab_type": "text",
    "id": "rMCe1E40UWoy"
   },
   "source": [
    "Bisa dilihat bahwa `listb` juga ikut berubah, padahal kita tidak melakukan operasi apapun pada `listb`. Hal ini menunjukkan bahwa `listb` merujuk ke *list* yang sama dengan *list* yang ditunjuk `lista`. Apabila kita ingin benar-benar menggandakan `lista`, kita dapat menggunakan konsep *slicing*."
   ]
  },
  {
   "cell_type": "code",
   "execution_count": 38,
   "metadata": {
    "colab": {
     "base_uri": "https://localhost:8080/",
     "height": 121
    },
    "colab_type": "code",
    "executionInfo": {
     "elapsed": 794,
     "status": "ok",
     "timestamp": 1563121884366,
     "user": {
      "displayName": "Galuh S",
      "photoUrl": "https://lh5.googleusercontent.com/--bTMli6TIrE/AAAAAAAAAAI/AAAAAAAAAkc/qrvZnPSSR3A/s64/photo.jpg",
      "userId": "03255550178648543649"
     },
     "user_tz": -420
    },
    "id": "XiV98GooUS_e",
    "outputId": "b01e35f3-473d-41a5-8ba6-8bdd1cb7736a"
   },
   "outputs": [
    {
     "name": "stdout",
     "output_type": "stream",
     "text": [
      "Starting with:\n",
      "A = [2, 1, 4, 3]\n",
      "B = [2, 1, 4, 3]\n",
      "Finished with:\n",
      "A = [1, 2, 3, 9]\n",
      "B = [2, 1, 4, 3]\n"
     ]
    }
   ],
   "source": [
    "lista = [2,1,4,3]\n",
    "listb = lista[:] # membuat duplikat dengan cara mengambil slice dari awal sampai akhir\n",
    "print(\"Starting with:\")\n",
    "print(\"A =\", lista)\n",
    "print(\"B =\", listb)\n",
    "lista.sort()\n",
    "lista.pop()\n",
    "lista.append(9)\n",
    "print(\"Finished with:\")\n",
    "print(\"A =\", lista)\n",
    "print(\"B =\", listb)"
   ]
  },
  {
   "cell_type": "markdown",
   "metadata": {
    "colab_type": "text",
    "id": "9aX6O7tYU1co"
   },
   "source": [
    "### List comprehension"
   ]
  },
  {
   "cell_type": "markdown",
   "metadata": {
    "colab_type": "text",
    "id": "d5BcVezjU467"
   },
   "source": [
    "*List comprehension* adalah konsep yang sangat *powerful* di Python. Dengan *list comprehension*, kita dapat mendefinisikan *list* dengan menggunakan ekspresi *looping*. Sebagai contoh:"
   ]
  },
  {
   "cell_type": "code",
   "execution_count": 39,
   "metadata": {
    "colab": {
     "base_uri": "https://localhost:8080/",
     "height": 34
    },
    "colab_type": "code",
    "executionInfo": {
     "elapsed": 718,
     "status": "ok",
     "timestamp": 1563121957215,
     "user": {
      "displayName": "Galuh S",
      "photoUrl": "https://lh5.googleusercontent.com/--bTMli6TIrE/AAAAAAAAAAI/AAAAAAAAAkc/qrvZnPSSR3A/s64/photo.jpg",
      "userId": "03255550178648543649"
     },
     "user_tz": -420
    },
    "id": "Ay-uWpUbUvru",
    "outputId": "2d6bef69-389e-4fd1-9dfb-da700de9a4cb"
   },
   "outputs": [
    {
     "data": {
      "text/plain": [
       "[1, 4, 9]"
      ]
     },
     "execution_count": 39,
     "metadata": {},
     "output_type": "execute_result"
    }
   ],
   "source": [
    "[i**2 for i in [1, 2, 3]]"
   ]
  },
  {
   "cell_type": "markdown",
   "metadata": {
    "colab_type": "text",
    "id": "BO6j6Zx0VE7i"
   },
   "source": [
    "Penjelasannya adalah, kita membuat sebuah *list* baru dengan cara mengambil masing-masing elemen dari *list* aslinya, \\[1, 2, 3], dengan menggunakan konsep *looping*. Kemudian kita memangkatkan masing-masing elemen tersebut. Kita juga dapat menggunakan lebih dari satu *loop*:"
   ]
  },
  {
   "cell_type": "code",
   "execution_count": 40,
   "metadata": {
    "colab": {
     "base_uri": "https://localhost:8080/",
     "height": 34
    },
    "colab_type": "code",
    "executionInfo": {
     "elapsed": 744,
     "status": "ok",
     "timestamp": 1563122066638,
     "user": {
      "displayName": "Galuh S",
      "photoUrl": "https://lh5.googleusercontent.com/--bTMli6TIrE/AAAAAAAAAAI/AAAAAAAAAkc/qrvZnPSSR3A/s64/photo.jpg",
      "userId": "03255550178648543649"
     },
     "user_tz": -420
    },
    "id": "WvO4cOl3VDX2",
    "outputId": "aac8c388-dd59-4388-8c30-42a406ca5a7b"
   },
   "outputs": [
    {
     "data": {
      "text/plain": [
       "[15, 17, 25, 27, 35, 37]"
      ]
     },
     "execution_count": 40,
     "metadata": {},
     "output_type": "execute_result"
    }
   ],
   "source": [
    "[10*i+j for i in [1,2,3] for j in [5,7]]"
   ]
  },
  {
   "cell_type": "markdown",
   "metadata": {
    "colab_type": "text",
    "id": "k-ChAemRVgK9"
   },
   "source": [
    "Kita juga dapat menggunakan ekspresi `if`:"
   ]
  },
  {
   "cell_type": "code",
   "execution_count": 41,
   "metadata": {
    "colab": {
     "base_uri": "https://localhost:8080/",
     "height": 34
    },
    "colab_type": "code",
    "executionInfo": {
     "elapsed": 695,
     "status": "ok",
     "timestamp": 1563122104933,
     "user": {
      "displayName": "Galuh S",
      "photoUrl": "https://lh5.googleusercontent.com/--bTMli6TIrE/AAAAAAAAAAI/AAAAAAAAAkc/qrvZnPSSR3A/s64/photo.jpg",
      "userId": "03255550178648543649"
     },
     "user_tz": -420
    },
    "id": "rpCEs2TcVeEp",
    "outputId": "3f933275-c49d-4ce0-b109-6e1d375e37eb"
   },
   "outputs": [
    {
     "data": {
      "text/plain": [
       "[15, 17, 37]"
      ]
     },
     "execution_count": 41,
     "metadata": {},
     "output_type": "execute_result"
    }
   ],
   "source": [
    "[10*i+j for i in [1,2,3] if i%2==1 for j in [4,5,7] if j >= i+4] # keep odd i and j larger than i+3 only"
   ]
  },
  {
   "cell_type": "markdown",
   "metadata": {
    "colab_type": "text",
    "id": "WdhKGzuCVrOO"
   },
   "source": [
    "## Tuple"
   ]
  },
  {
   "cell_type": "markdown",
   "metadata": {
    "colab_type": "text",
    "id": "j5-0TTxWVxBS"
   },
   "source": [
    " *Tuple* cukup mirip dengan *list*. Salah satu perbedaan terbesarnya adalah elemen-elemen di dalam *list* dapat diubah, namun elemen-elemen di dalam *tuple* tidak dapat diubah. Contoh dari *tuple* adalah nilai yang dikembalikan oleh fungsi `divmod()`."
   ]
  },
  {
   "cell_type": "code",
   "execution_count": 42,
   "metadata": {
    "colab": {
     "base_uri": "https://localhost:8080/",
     "height": 52
    },
    "colab_type": "code",
    "executionInfo": {
     "elapsed": 815,
     "status": "ok",
     "timestamp": 1563122202581,
     "user": {
      "displayName": "Galuh S",
      "photoUrl": "https://lh5.googleusercontent.com/--bTMli6TIrE/AAAAAAAAAAI/AAAAAAAAAkc/qrvZnPSSR3A/s64/photo.jpg",
      "userId": "03255550178648543649"
     },
     "user_tz": -420
    },
    "id": "j6TV7bClVncA",
    "outputId": "15923635-a9f1-40b8-ebf4-c8a4c704b4e8"
   },
   "outputs": [
    {
     "name": "stdout",
     "output_type": "stream",
     "text": [
      "(3, 1)\n",
      "<class 'tuple'>\n"
     ]
    }
   ],
   "source": [
    "xyz = divmod(10, 3)\n",
    "print(xyz)\n",
    "print(type(xyz))"
   ]
  },
  {
   "cell_type": "markdown",
   "metadata": {
    "colab_type": "text",
    "id": "vtZa1gHVWFjn"
   },
   "source": [
    "Untuk mendefinisikan sebuah *tuple*, kita dapat menetapkan tanda kurung `()` atau `tuple()` ke sebuah variabel."
   ]
  },
  {
   "cell_type": "code",
   "execution_count": 43,
   "metadata": {
    "colab": {},
    "colab_type": "code",
    "id": "kFWZknm8V-ru"
   },
   "outputs": [],
   "source": [
    "tup = ()\n",
    "tup2 = tuple()"
   ]
  },
  {
   "cell_type": "markdown",
   "metadata": {
    "colab_type": "text",
    "id": "wyLqSji3WQ7y"
   },
   "source": [
    "Kita dapat langsung menetapkan nilai ke sebuah *tuple*:"
   ]
  },
  {
   "cell_type": "code",
   "execution_count": 44,
   "metadata": {
    "colab": {
     "base_uri": "https://localhost:8080/",
     "height": 52
    },
    "colab_type": "code",
    "executionInfo": {
     "elapsed": 721,
     "status": "ok",
     "timestamp": 1563122382247,
     "user": {
      "displayName": "Galuh S",
      "photoUrl": "https://lh5.googleusercontent.com/--bTMli6TIrE/AAAAAAAAAAI/AAAAAAAAAkc/qrvZnPSSR3A/s64/photo.jpg",
      "userId": "03255550178648543649"
     },
     "user_tz": -420
    },
    "id": "Z560OzMuWOjj",
    "outputId": "d876002d-780c-473f-bced-32906e1652c6"
   },
   "outputs": [
    {
     "name": "stdout",
     "output_type": "stream",
     "text": [
      "(1, 2, 3)\n",
      "('H', 'e', 'l', 'l', 'o')\n"
     ]
    }
   ],
   "source": [
    "tup3 = tuple([1,2,3])\n",
    "print(tup3)\n",
    "tup4 = tuple('Hello')\n",
    "print(tup4)"
   ]
  },
  {
   "cell_type": "markdown",
   "metadata": {
    "colab_type": "text",
    "id": "Pd2lSP_kWumC"
   },
   "source": [
    "Konsep *indexing* dan *slicing* juga berlaku untuk *tuple*:"
   ]
  },
  {
   "cell_type": "code",
   "execution_count": 45,
   "metadata": {
    "colab": {
     "base_uri": "https://localhost:8080/",
     "height": 52
    },
    "colab_type": "code",
    "executionInfo": {
     "elapsed": 759,
     "status": "ok",
     "timestamp": 1563122413939,
     "user": {
      "displayName": "Galuh S",
      "photoUrl": "https://lh5.googleusercontent.com/--bTMli6TIrE/AAAAAAAAAAI/AAAAAAAAAkc/qrvZnPSSR3A/s64/photo.jpg",
      "userId": "03255550178648543649"
     },
     "user_tz": -420
    },
    "id": "Jz6IPASgWrIr",
    "outputId": "d6f9ca76-1f41-4558-8185-965381564c4c"
   },
   "outputs": [
    {
     "name": "stdout",
     "output_type": "stream",
     "text": [
      "2\n",
      "('H', 'e', 'l')\n"
     ]
    }
   ],
   "source": [
    "print(tup3[1])\n",
    "tup5 = tup4[:3]\n",
    "print(tup5)"
   ]
  },
  {
   "cell_type": "markdown",
   "metadata": {
    "colab_type": "text",
    "id": "GfWar4sNW1Lk"
   },
   "source": [
    "## Set"
   ]
  },
  {
   "cell_type": "markdown",
   "metadata": {
    "colab_type": "text",
    "id": "wr1HCr-JXE4g"
   },
   "source": [
    " *Set* biasanya digunakan untuk menghilangkan data yang merupakan duplikat di sebuah urutan atau *list*. *Set* juga digunakan agar kita dapat melakukan operasi *set*. Sebuah *set* dideklarasikan dengan `set()` (*set* kosong). Kita juga dapat menggunakan `set(urutan)` untuk mendeklarasikan `set` dengan elemen."
   ]
  },
  {
   "cell_type": "code",
   "execution_count": 46,
   "metadata": {
    "colab": {
     "base_uri": "https://localhost:8080/",
     "height": 34
    },
    "colab_type": "code",
    "executionInfo": {
     "elapsed": 859,
     "status": "ok",
     "timestamp": 1563122668550,
     "user": {
      "displayName": "Galuh S",
      "photoUrl": "https://lh5.googleusercontent.com/--bTMli6TIrE/AAAAAAAAAAI/AAAAAAAAAkc/qrvZnPSSR3A/s64/photo.jpg",
      "userId": "03255550178648543649"
     },
     "user_tz": -420
    },
    "id": "Zh4j2U4wWy3E",
    "outputId": "5ffe2db6-9b8b-4e44-83d8-acefb9cad12d"
   },
   "outputs": [
    {
     "name": "stdout",
     "output_type": "stream",
     "text": [
      "<class 'set'>\n"
     ]
    }
   ],
   "source": [
    "set1 = set()\n",
    "print(type(set1))"
   ]
  },
  {
   "cell_type": "code",
   "execution_count": 47,
   "metadata": {
    "colab": {
     "base_uri": "https://localhost:8080/",
     "height": 34
    },
    "colab_type": "code",
    "executionInfo": {
     "elapsed": 987,
     "status": "ok",
     "timestamp": 1563122686545,
     "user": {
      "displayName": "Galuh S",
      "photoUrl": "https://lh5.googleusercontent.com/--bTMli6TIrE/AAAAAAAAAAI/AAAAAAAAAkc/qrvZnPSSR3A/s64/photo.jpg",
      "userId": "03255550178648543649"
     },
     "user_tz": -420
    },
    "id": "YFCzqFL8Xw_H",
    "outputId": "19b66410-be8f-4289-a55f-347ea8c9105b"
   },
   "outputs": [
    {
     "name": "stdout",
     "output_type": "stream",
     "text": [
      "{1, 2, 3, 4}\n"
     ]
    }
   ],
   "source": [
    "set0 = set([1,2,2,3,3,4])\n",
    "print(set0)"
   ]
  },
  {
   "cell_type": "markdown",
   "metadata": {
    "colab_type": "text",
    "id": "XvvfFAdeX3ul"
   },
   "source": [
    "### Fungsi-fungsi built-in"
   ]
  },
  {
   "cell_type": "code",
   "execution_count": 48,
   "metadata": {
    "colab": {},
    "colab_type": "code",
    "id": "r5FTSkopXyTz"
   },
   "outputs": [],
   "source": [
    "set1 = set([1,2,3])\n",
    "set2 = set([2,3,4,5])"
   ]
  },
  {
   "cell_type": "markdown",
   "metadata": {
    "colab_type": "text",
    "id": "s0sJW21-X-jk"
   },
   "source": [
    "`union()` akan mengembalikan sebuah *set* yang berisi seluruh elemen dari kedua *set* tanpa pengulangan."
   ]
  },
  {
   "cell_type": "code",
   "execution_count": 49,
   "metadata": {
    "colab": {
     "base_uri": "https://localhost:8080/",
     "height": 34
    },
    "colab_type": "code",
    "executionInfo": {
     "elapsed": 783,
     "status": "ok",
     "timestamp": 1563122722703,
     "user": {
      "displayName": "Galuh S",
      "photoUrl": "https://lh5.googleusercontent.com/--bTMli6TIrE/AAAAAAAAAAI/AAAAAAAAAkc/qrvZnPSSR3A/s64/photo.jpg",
      "userId": "03255550178648543649"
     },
     "user_tz": -420
    },
    "id": "lytOnq0rX8iS",
    "outputId": "589c1a8e-84ab-4131-f033-69dc0b3ec46d"
   },
   "outputs": [
    {
     "data": {
      "text/plain": [
       "{1, 2, 3, 4, 5}"
      ]
     },
     "execution_count": 49,
     "metadata": {},
     "output_type": "execute_result"
    }
   ],
   "source": [
    "set1.union(set2)"
   ]
  },
  {
   "cell_type": "markdown",
   "metadata": {
    "colab_type": "text",
    "id": "S5OTfD8-YIZD"
   },
   "source": [
    "`add()` akan menambahkan sebuah elemen baru ke dalam *set*. Perhatikan bahwa indeks dari elemen yang baru ditambahkan akan acak, jadi tidak harus terletak sebagai elemen terakhir."
   ]
  },
  {
   "cell_type": "code",
   "execution_count": 50,
   "metadata": {
    "colab": {
     "base_uri": "https://localhost:8080/",
     "height": 34
    },
    "colab_type": "code",
    "executionInfo": {
     "elapsed": 735,
     "status": "ok",
     "timestamp": 1563122821284,
     "user": {
      "displayName": "Galuh S",
      "photoUrl": "https://lh5.googleusercontent.com/--bTMli6TIrE/AAAAAAAAAAI/AAAAAAAAAkc/qrvZnPSSR3A/s64/photo.jpg",
      "userId": "03255550178648543649"
     },
     "user_tz": -420
    },
    "id": "2I2QcsxoX-O5",
    "outputId": "07a5f6b3-e316-4f9f-d5fc-9896dd96fcb6"
   },
   "outputs": [
    {
     "data": {
      "text/plain": [
       "{0, 1, 2, 3}"
      ]
     },
     "execution_count": 50,
     "metadata": {},
     "output_type": "execute_result"
    }
   ],
   "source": [
    "set1.add(0)\n",
    "set1"
   ]
  },
  {
   "cell_type": "markdown",
   "metadata": {
    "colab_type": "text",
    "id": "TRAGR9jhYZCz"
   },
   "source": [
    " `intersection()` mengembalikan *set* yang berisi elemen-elemen yang ada di kedua *set*."
   ]
  },
  {
   "cell_type": "code",
   "execution_count": 51,
   "metadata": {
    "colab": {
     "base_uri": "https://localhost:8080/",
     "height": 34
    },
    "colab_type": "code",
    "executionInfo": {
     "elapsed": 911,
     "status": "ok",
     "timestamp": 1563122862718,
     "user": {
      "displayName": "Galuh S",
      "photoUrl": "https://lh5.googleusercontent.com/--bTMli6TIrE/AAAAAAAAAAI/AAAAAAAAAkc/qrvZnPSSR3A/s64/photo.jpg",
      "userId": "03255550178648543649"
     },
     "user_tz": -420
    },
    "id": "8UibYYUrYWT_",
    "outputId": "54f63873-a00f-48a1-ed9b-034919b3149f"
   },
   "outputs": [
    {
     "data": {
      "text/plain": [
       "{2, 3}"
      ]
     },
     "execution_count": 51,
     "metadata": {},
     "output_type": "execute_result"
    }
   ],
   "source": [
    "set1.intersection(set2)"
   ]
  },
  {
   "cell_type": "markdown",
   "metadata": {
    "colab_type": "text",
    "id": "PuqBohlZYiLB"
   },
   "source": [
    "`difference()` mengembalikan *set* yang berisi elemen-elemen yang ada di `set1` dan tidak ada di `set2`."
   ]
  },
  {
   "cell_type": "code",
   "execution_count": 52,
   "metadata": {
    "colab": {
     "base_uri": "https://localhost:8080/",
     "height": 34
    },
    "colab_type": "code",
    "executionInfo": {
     "elapsed": 863,
     "status": "ok",
     "timestamp": 1563122908068,
     "user": {
      "displayName": "Galuh S",
      "photoUrl": "https://lh5.googleusercontent.com/--bTMli6TIrE/AAAAAAAAAAI/AAAAAAAAAkc/qrvZnPSSR3A/s64/photo.jpg",
      "userId": "03255550178648543649"
     },
     "user_tz": -420
    },
    "id": "puV0EE40YgZH",
    "outputId": "48b31368-d6bd-406e-da5e-dd8b8809f343"
   },
   "outputs": [
    {
     "data": {
      "text/plain": [
       "{0, 1}"
      ]
     },
     "execution_count": 52,
     "metadata": {},
     "output_type": "execute_result"
    }
   ],
   "source": [
    "set1.difference(set2)"
   ]
  },
  {
   "cell_type": "markdown",
   "metadata": {
    "colab_type": "text",
    "id": "8xt8uQiaYteD"
   },
   "source": [
    " `symmetric_difference()` mengembalikan *set* berisi elemen-elemen yang hanya ada di salah satu *set*."
   ]
  },
  {
   "cell_type": "code",
   "execution_count": 53,
   "metadata": {
    "colab": {
     "base_uri": "https://localhost:8080/",
     "height": 34
    },
    "colab_type": "code",
    "executionInfo": {
     "elapsed": 822,
     "status": "ok",
     "timestamp": 1563122950404,
     "user": {
      "displayName": "Galuh S",
      "photoUrl": "https://lh5.googleusercontent.com/--bTMli6TIrE/AAAAAAAAAAI/AAAAAAAAAkc/qrvZnPSSR3A/s64/photo.jpg",
      "userId": "03255550178648543649"
     },
     "user_tz": -420
    },
    "id": "rfNgoP5TYhsE",
    "outputId": "5d105cbc-40a2-47a7-81ff-6deba369e024"
   },
   "outputs": [
    {
     "data": {
      "text/plain": [
       "{0, 1, 4, 5}"
      ]
     },
     "execution_count": 53,
     "metadata": {},
     "output_type": "execute_result"
    }
   ],
   "source": [
    "set2.symmetric_difference(set1)"
   ]
  },
  {
   "cell_type": "markdown",
   "metadata": {
    "colab_type": "text",
    "id": "9SOT8JuEZKZ4"
   },
   "source": [
    "`pop()` digunakan untuk menghapus sembarang elemen dari *set*."
   ]
  },
  {
   "cell_type": "code",
   "execution_count": 54,
   "metadata": {
    "colab": {
     "base_uri": "https://localhost:8080/",
     "height": 34
    },
    "colab_type": "code",
    "executionInfo": {
     "elapsed": 45,
     "status": "ok",
     "timestamp": 1563123024346,
     "user": {
      "displayName": "Galuh S",
      "photoUrl": "https://lh5.googleusercontent.com/--bTMli6TIrE/AAAAAAAAAAI/AAAAAAAAAkc/qrvZnPSSR3A/s64/photo.jpg",
      "userId": "03255550178648543649"
     },
     "user_tz": -420
    },
    "id": "_tYTgbKrY52u",
    "outputId": "189c1b5f-2eec-4790-b5d7-0f6624ad52bd"
   },
   "outputs": [
    {
     "name": "stdout",
     "output_type": "stream",
     "text": [
      "{1, 2, 3}\n"
     ]
    }
   ],
   "source": [
    "set1.pop()\n",
    "print(set1)"
   ]
  },
  {
   "cell_type": "markdown",
   "metadata": {
    "colab_type": "text",
    "id": "2UpQLR2kZQ3_"
   },
   "source": [
    "`remove()` menghapus elemen yang telah ditentukan sebelumnya dari dalam *set*."
   ]
  },
  {
   "cell_type": "code",
   "execution_count": 55,
   "metadata": {
    "colab": {
     "base_uri": "https://localhost:8080/",
     "height": 34
    },
    "colab_type": "code",
    "executionInfo": {
     "elapsed": 37,
     "status": "ok",
     "timestamp": 1563123024357,
     "user": {
      "displayName": "Galuh S",
      "photoUrl": "https://lh5.googleusercontent.com/--bTMli6TIrE/AAAAAAAAAAI/AAAAAAAAAkc/qrvZnPSSR3A/s64/photo.jpg",
      "userId": "03255550178648543649"
     },
     "user_tz": -420
    },
    "id": "bmKi9T4oY9yU",
    "outputId": "4b028c77-2866-4b1c-975d-b3ead32c454d"
   },
   "outputs": [
    {
     "data": {
      "text/plain": [
       "{1, 3}"
      ]
     },
     "execution_count": 55,
     "metadata": {},
     "output_type": "execute_result"
    }
   ],
   "source": [
    "set1.remove(2)\n",
    "set1"
   ]
  },
  {
   "cell_type": "markdown",
   "metadata": {
    "colab_type": "text",
    "id": "2kyH9btgZVsp"
   },
   "source": [
    " `clear()` digunakan untuk mengosongkan *set*."
   ]
  },
  {
   "cell_type": "code",
   "execution_count": 56,
   "metadata": {
    "colab": {
     "base_uri": "https://localhost:8080/",
     "height": 34
    },
    "colab_type": "code",
    "executionInfo": {
     "elapsed": 23,
     "status": "ok",
     "timestamp": 1563123024362,
     "user": {
      "displayName": "Galuh S",
      "photoUrl": "https://lh5.googleusercontent.com/--bTMli6TIrE/AAAAAAAAAAI/AAAAAAAAAkc/qrvZnPSSR3A/s64/photo.jpg",
      "userId": "03255550178648543649"
     },
     "user_tz": -420
    },
    "id": "asE5pjQqY_B_",
    "outputId": "c90036fb-87fb-4b8d-90ca-e29a93f27ae9"
   },
   "outputs": [
    {
     "data": {
      "text/plain": [
       "set()"
      ]
     },
     "execution_count": 56,
     "metadata": {},
     "output_type": "execute_result"
    }
   ],
   "source": [
    "set1.clear()\n",
    "set1"
   ]
  }
 ],
 "metadata": {
  "colab": {
   "name": "Pengenalan Dasar Python - 3.ipynb",
   "provenance": [],
   "version": "0.3.2"
  },
  "kernelspec": {
   "display_name": "Python 3",
   "language": "python",
   "name": "python3"
  },
  "language_info": {
   "codemirror_mode": {
    "name": "ipython",
    "version": 3
   },
   "file_extension": ".py",
   "mimetype": "text/x-python",
   "name": "python",
   "nbconvert_exporter": "python",
   "pygments_lexer": "ipython3",
   "version": "3.7.4"
  }
 },
 "nbformat": 4,
 "nbformat_minor": 1
}
