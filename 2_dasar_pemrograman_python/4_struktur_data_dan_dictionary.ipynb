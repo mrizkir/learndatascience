{
 "cells": [
  {
   "cell_type": "markdown",
   "metadata": {
    "colab_type": "text",
    "id": "gxA8WBj7w5cO"
   },
   "source": [
    "# Struktur Data (Dictionary)"
   ]
  },
  {
   "cell_type": "markdown",
   "metadata": {
    "colab_type": "text",
    "id": "CMoshWT-w9kV"
   },
   "source": [
    "## Dictionary"
   ]
  },
  {
   "cell_type": "markdown",
   "metadata": {
    "colab_type": "text",
    "id": "LdwUmfwvxKtW"
   },
   "source": [
    "*Dictionary* adalah pemetaan antara *key* dan *item* yang disimpan di *dictionary*. Kita dapat mendefinisikan sebuah *dictionary* dengan cara berikut:"
   ]
  },
  {
   "cell_type": "code",
   "execution_count": 1,
   "metadata": {
    "colab": {
     "base_uri": "https://localhost:8080/",
     "height": 52
    },
    "colab_type": "code",
    "executionInfo": {
     "elapsed": 873,
     "status": "ok",
     "timestamp": 1563294627292,
     "user": {
      "displayName": "Galuh S",
      "photoUrl": "https://lh5.googleusercontent.com/--bTMli6TIrE/AAAAAAAAAAI/AAAAAAAAAkc/qrvZnPSSR3A/s64/photo.jpg",
      "userId": "03255550178648543649"
     },
     "user_tz": -420
    },
    "id": "OEmope-KdeR7",
    "outputId": "2f1c4b1a-832a-42a7-ee12-96ce8ee306a2"
   },
   "outputs": [
    {
     "name": "stdout",
     "output_type": "stream",
     "text": [
      "<class 'dict'>\n",
      "{'abc': 3, 4: 'A string'}\n"
     ]
    }
   ],
   "source": [
    "d = dict() # kita juga dapat mendefinisikannya dengan d={}\n",
    "print(type(d))\n",
    "d['abc'] = 3\n",
    "d[4] = \"A string\"\n",
    "print(d)"
   ]
  },
  {
   "cell_type": "markdown",
   "metadata": {
    "colab_type": "text",
    "id": "uyFZsvHrxhIL"
   },
   "source": [
    "Seperti yang bisa dilihat di *output* sebelumnya, *dictionary* juga dapat didefinisikan dengan menggunakan sintaks `{ key: value }`. *Dictionary* berikut memiliki tiga elemen:"
   ]
  },
  {
   "cell_type": "code",
   "execution_count": 2,
   "metadata": {
    "colab": {
     "base_uri": "https://localhost:8080/",
     "height": 34
    },
    "colab_type": "code",
    "executionInfo": {
     "elapsed": 961,
     "status": "ok",
     "timestamp": 1563213176775,
     "user": {
      "displayName": "Galuh S",
      "photoUrl": "https://lh5.googleusercontent.com/--bTMli6TIrE/AAAAAAAAAAI/AAAAAAAAAkc/qrvZnPSSR3A/s64/photo.jpg",
      "userId": "03255550178648543649"
     },
     "user_tz": -420
    },
    "id": "zOASUnjNw9Ci",
    "outputId": "1c5ade4e-ca56-44c6-de4f-b186a9cc0dde"
   },
   "outputs": [
    {
     "data": {
      "text/plain": [
       "3"
      ]
     },
     "execution_count": 2,
     "metadata": {},
     "output_type": "execute_result"
    }
   ],
   "source": [
    "d = { 1: 'One', 2 : 'Two', 100 : 'Hundred'}\n",
    "len(d)"
   ]
  },
  {
   "cell_type": "markdown",
   "metadata": {
    "colab_type": "text",
    "id": "1MEDiedRxs4O"
   },
   "source": [
    "Sekarang kita dapat mengakses 'One' dengan cara menggunakan nilai indeks/kuncinya, yaitu 1."
   ]
  },
  {
   "cell_type": "code",
   "execution_count": 3,
   "metadata": {
    "colab": {
     "base_uri": "https://localhost:8080/",
     "height": 34
    },
    "colab_type": "code",
    "executionInfo": {
     "elapsed": 988,
     "status": "ok",
     "timestamp": 1563213183227,
     "user": {
      "displayName": "Galuh S",
      "photoUrl": "https://lh5.googleusercontent.com/--bTMli6TIrE/AAAAAAAAAAI/AAAAAAAAAkc/qrvZnPSSR3A/s64/photo.jpg",
      "userId": "03255550178648543649"
     },
     "user_tz": -420
    },
    "id": "ZQCNDaJGxBuo",
    "outputId": "a67f8ff1-afe0-4a18-c47f-c3968c0c5b03"
   },
   "outputs": [
    {
     "name": "stdout",
     "output_type": "stream",
     "text": [
      "One\n"
     ]
    }
   ],
   "source": [
    "print(d[1])"
   ]
  },
  {
   "cell_type": "markdown",
   "metadata": {
    "colab_type": "text",
    "id": "1OILa4KyyKX4"
   },
   "source": [
    "### Fungsi-fungsi built-in"
   ]
  },
  {
   "cell_type": "markdown",
   "metadata": {
    "colab_type": "text",
    "id": "zE7FezvryWjm"
   },
   "source": [
    "Funsgi `len()` menghitung jumlah elemen di dalam *dictionary*. `in` dapat digunakan untuk mengecek apakah elemen tersebut merupakan salah satu *key* dari *dictionary* atau bukan."
   ]
  },
  {
   "cell_type": "code",
   "execution_count": 4,
   "metadata": {
    "colab": {},
    "colab_type": "code",
    "id": "Kc0ZTukhnzaX"
   },
   "outputs": [],
   "source": [
    "a1 = {'Three': 3, 'Four': 4, 'Five': 5, 'One': 1, 'Two': 2}"
   ]
  },
  {
   "cell_type": "code",
   "execution_count": 5,
   "metadata": {
    "colab": {
     "base_uri": "https://localhost:8080/",
     "height": 52
    },
    "colab_type": "code",
    "executionInfo": {
     "elapsed": 599,
     "status": "ok",
     "timestamp": 1563294654804,
     "user": {
      "displayName": "Galuh S",
      "photoUrl": "https://lh5.googleusercontent.com/--bTMli6TIrE/AAAAAAAAAAI/AAAAAAAAAkc/qrvZnPSSR3A/s64/photo.jpg",
      "userId": "03255550178648543649"
     },
     "user_tz": -420
    },
    "id": "IS77G8ssyM_l",
    "outputId": "e459d4b4-7cef-41c7-93d3-fccd529c093d"
   },
   "outputs": [
    {
     "name": "stdout",
     "output_type": "stream",
     "text": [
      "a1 has 5 elements\n",
      "One is in a1 True but not Zero False\n"
     ]
    }
   ],
   "source": [
    "print(\"a1 has\", len(a1), \"elements\")\n",
    "print(\"One is in a1\", 'One' in a1, \"but not Zero\", 'Zero' in a1)"
   ]
  },
  {
   "cell_type": "markdown",
   "metadata": {
    "colab_type": "text",
    "id": "lywLol9Gyk-K"
   },
   "source": [
    "`clear()` digunakan untuk menghapus seluruh elemen."
   ]
  },
  {
   "cell_type": "code",
   "execution_count": 6,
   "metadata": {
    "colab": {
     "base_uri": "https://localhost:8080/",
     "height": 34
    },
    "colab_type": "code",
    "executionInfo": {
     "elapsed": 919,
     "status": "ok",
     "timestamp": 1563294549076,
     "user": {
      "displayName": "Galuh S",
      "photoUrl": "https://lh5.googleusercontent.com/--bTMli6TIrE/AAAAAAAAAAI/AAAAAAAAAkc/qrvZnPSSR3A/s64/photo.jpg",
      "userId": "03255550178648543649"
     },
     "user_tz": -420
    },
    "id": "1UCfSEFcnXSh",
    "outputId": "7d27616f-2a5f-406d-f4a1-7732e788a7f0"
   },
   "outputs": [
    {
     "name": "stdout",
     "output_type": "stream",
     "text": [
      "{'Three': 5, 'Four': 4, 'Five': 4, 'One': 3, 'Two': 3}\n"
     ]
    }
   ],
   "source": [
    "a2 = {'Three': 5, 'Four': 4, 'Five': 4, 'One': 3, 'Two': 3}\n",
    "print(a2)"
   ]
  },
  {
   "cell_type": "code",
   "execution_count": 7,
   "metadata": {
    "colab": {
     "base_uri": "https://localhost:8080/",
     "height": 34
    },
    "colab_type": "code",
    "executionInfo": {
     "elapsed": 791,
     "status": "ok",
     "timestamp": 1563294552601,
     "user": {
      "displayName": "Galuh S",
      "photoUrl": "https://lh5.googleusercontent.com/--bTMli6TIrE/AAAAAAAAAAI/AAAAAAAAAkc/qrvZnPSSR3A/s64/photo.jpg",
      "userId": "03255550178648543649"
     },
     "user_tz": -420
    },
    "id": "rnsJ3I69yQVF",
    "outputId": "5f9757a1-9954-4ab0-cb0c-cdfecb06b7ef"
   },
   "outputs": [
    {
     "name": "stdout",
     "output_type": "stream",
     "text": [
      "{}\n"
     ]
    }
   ],
   "source": [
    "a2.clear()\n",
    "print(a2)"
   ]
  },
  {
   "cell_type": "markdown",
   "metadata": {
    "colab_type": "text",
    "id": "Xb2Z70WynisT"
   },
   "source": [
    "Fungsi `values()` mengembalikan *list* berisi nilai-nilai yang ditetapkan sebagai *value* di dalam *dictionary*. "
   ]
  },
  {
   "cell_type": "code",
   "execution_count": 8,
   "metadata": {
    "colab": {
     "base_uri": "https://localhost:8080/",
     "height": 34
    },
    "colab_type": "code",
    "executionInfo": {
     "elapsed": 1065,
     "status": "ok",
     "timestamp": 1563294658186,
     "user": {
      "displayName": "Galuh S",
      "photoUrl": "https://lh5.googleusercontent.com/--bTMli6TIrE/AAAAAAAAAAI/AAAAAAAAAkc/qrvZnPSSR3A/s64/photo.jpg",
      "userId": "03255550178648543649"
     },
     "user_tz": -420
    },
    "id": "zp4DkzHtyppU",
    "outputId": "6042ce9d-8998-48ae-b727-2edb1645d5f3"
   },
   "outputs": [
    {
     "data": {
      "text/plain": [
       "[3, 4, 5, 1, 2]"
      ]
     },
     "execution_count": 8,
     "metadata": {},
     "output_type": "execute_result"
    }
   ],
   "source": [
    "[ v for v in a1.values() ]"
   ]
  },
  {
   "cell_type": "markdown",
   "metadata": {
    "colab_type": "text",
    "id": "GTDfFRign4-q"
   },
   "source": [
    "Fungsi `keys()` mengembalikan seluruh indeks atau seluruh kunci di dalam *dictionary*."
   ]
  },
  {
   "cell_type": "code",
   "execution_count": 9,
   "metadata": {
    "colab": {
     "base_uri": "https://localhost:8080/",
     "height": 34
    },
    "colab_type": "code",
    "executionInfo": {
     "elapsed": 830,
     "status": "ok",
     "timestamp": 1563294700186,
     "user": {
      "displayName": "Galuh S",
      "photoUrl": "https://lh5.googleusercontent.com/--bTMli6TIrE/AAAAAAAAAAI/AAAAAAAAAkc/qrvZnPSSR3A/s64/photo.jpg",
      "userId": "03255550178648543649"
     },
     "user_tz": -420
    },
    "id": "PDqjuqAZnrO0",
    "outputId": "e79ce877-276b-43ab-9f00-5e4e5a2295df"
   },
   "outputs": [
    {
     "data": {
      "text/plain": [
       "{'Five', 'Four', 'One', 'Three', 'Two'}"
      ]
     },
     "execution_count": 9,
     "metadata": {},
     "output_type": "execute_result"
    }
   ],
   "source": [
    "{ k for k in a1.keys() }"
   ]
  },
  {
   "cell_type": "markdown",
   "metadata": {
    "colab_type": "text",
    "id": "z72ciiRPoBqK"
   },
   "source": [
    "Fungsi `items()`  mengembalikan sebuah list yang berisi pasangan *key* dan *value* di dalam *dictionary*, yang dikembalikan dalam bentuk *tuple*. "
   ]
  },
  {
   "cell_type": "code",
   "execution_count": 10,
   "metadata": {
    "colab": {
     "base_uri": "https://localhost:8080/",
     "height": 34
    },
    "colab_type": "code",
    "executionInfo": {
     "elapsed": 735,
     "status": "ok",
     "timestamp": 1563294751219,
     "user": {
      "displayName": "Galuh S",
      "photoUrl": "https://lh5.googleusercontent.com/--bTMli6TIrE/AAAAAAAAAAI/AAAAAAAAAkc/qrvZnPSSR3A/s64/photo.jpg",
      "userId": "03255550178648543649"
     },
     "user_tz": -420
    },
    "id": "qyOPKKZuoA79",
    "outputId": "301fea65-f994-4e5a-c0d7-8ad67731eafe"
   },
   "outputs": [
    {
     "data": {
      "text/plain": [
       "'Three = 3,  Four = 4,  Five = 5,  One = 1,  Two = 2'"
      ]
     },
     "execution_count": 10,
     "metadata": {},
     "output_type": "execute_result"
    }
   ],
   "source": [
    "\",  \".join( \"%s = %d\" % (name,val) for name,val in a1.items())"
   ]
  },
  {
   "cell_type": "markdown",
   "metadata": {
    "colab_type": "text",
    "id": "KUo8AtaZoPhi"
   },
   "source": [
    "Fungsi `pop()` digunakan untuk menghapus elemen tertentu."
   ]
  },
  {
   "cell_type": "code",
   "execution_count": 11,
   "metadata": {
    "colab": {
     "base_uri": "https://localhost:8080/",
     "height": 52
    },
    "colab_type": "code",
    "executionInfo": {
     "elapsed": 1214,
     "status": "ok",
     "timestamp": 1563294794295,
     "user": {
      "displayName": "Galuh S",
      "photoUrl": "https://lh5.googleusercontent.com/--bTMli6TIrE/AAAAAAAAAAI/AAAAAAAAAkc/qrvZnPSSR3A/s64/photo.jpg",
      "userId": "03255550178648543649"
     },
     "user_tz": -420
    },
    "id": "haGr_kTJoPFr",
    "outputId": "9ec07a0d-72f1-41f9-bed5-be9b6774218a"
   },
   "outputs": [
    {
     "name": "stdout",
     "output_type": "stream",
     "text": [
      "{'Three': 3, 'Five': 5, 'One': 1, 'Two': 2}\n",
      "Removed 4\n"
     ]
    }
   ],
   "source": [
    "val = a1.pop('Four')\n",
    "print(a1)\n",
    "print(\"Removed\", val) "
   ]
  }
 ],
 "metadata": {
  "colab": {
   "collapsed_sections": [],
   "name": "Pengenalan Dasar Python - 4.ipynb",
   "provenance": [],
   "version": "0.3.2"
  },
  "kernelspec": {
   "display_name": "Python 3",
   "language": "python",
   "name": "python3"
  },
  "language_info": {
   "codemirror_mode": {
    "name": "ipython",
    "version": 3
   },
   "file_extension": ".py",
   "mimetype": "text/x-python",
   "name": "python",
   "nbconvert_exporter": "python",
   "pygments_lexer": "ipython3",
   "version": "3.7.4"
  }
 },
 "nbformat": 4,
 "nbformat_minor": 1
}
