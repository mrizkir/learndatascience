{
 "cells": [
  {
   "cell_type": "markdown",
   "metadata": {
    "colab_type": "text",
    "id": "ZN1jEj7uXpc9"
   },
   "source": [
    "# Fungsi\n",
    "Fungsi dapat merepresentasikan fungsi matematis. Selain itu, di dalam pemrograman, fungsi adalah sebuah mekanisme di mana kode dapat dipakai ulang sehingga program-program yang kompleks dapat dibangun dari bagian-bagian yang lebih sederhana. Berikut adalah sintaks dasar dari sebuah fungsi:\n",
    "\n",
    "```\n",
    "def funcname(arg1, arg2,... argN):\n",
    "    statements\n",
    "    return <value>\n",
    "```\n",
    "\n",
    "Anda dapat membaca sintaks di atas sebagai berikut:\n",
    "- Sebuah fungsi dengan nama 'funcname' didefinisikan\n",
    "- Fungsi tersebut menerima argumen 'arg1, arg2, ..., arg N'\n",
    "- Setelah mengeksekusi statemen-statemen yang ada di dalam fungsi, maka fungsi itu akan mengembalikan sebuah nilai. \n",
    "- Adanya nilai yang dikembalikan adalah opsional - secara *default*, setiap fungsi akan mengembalikan `None` apabila tidak ada statemen yang dikembalikan."
   ]
  },
  {
   "cell_type": "code",
   "execution_count": 1,
   "metadata": {
    "colab": {
     "base_uri": "https://localhost:8080/",
     "height": 52
    },
    "colab_type": "code",
    "executionInfo": {
     "elapsed": 1605,
     "status": "ok",
     "timestamp": 1563324166690,
     "user": {
      "displayName": "Galuh S",
      "photoUrl": "https://lh5.googleusercontent.com/--bTMli6TIrE/AAAAAAAAAAI/AAAAAAAAAkc/qrvZnPSSR3A/s64/photo.jpg",
      "userId": "03255550178648543649"
     },
     "user_tz": -420
    },
    "id": "-nKL2AiqXllL",
    "outputId": "e3a94d48-9e4f-4aa4-d3fb-864592e14350"
   },
   "outputs": [
    {
     "name": "stdout",
     "output_type": "stream",
     "text": [
      "Hello Jack.\n",
      "Jack, how are you?\n"
     ]
    }
   ],
   "source": [
    "print(\"Hello Jack.\")\n",
    "print(\"Jack, how are you?\")"
   ]
  },
  {
   "cell_type": "markdown",
   "metadata": {
    "colab_type": "text",
    "id": "JqsyTl6jYaI7"
   },
   "source": [
    " Alih-alih menulis kedua statemen di atas setiap saat, kita dapat mendefinisikan sebuah fungsi yang dapat melakukannya hanya dalam satu baris. Pertama-tama, definisikan sebuah fungsi `cetak_sapaan()`.\n"
   ]
  },
  {
   "cell_type": "code",
   "execution_count": 2,
   "metadata": {
    "colab": {
     "base_uri": "https://localhost:8080/",
     "height": 52
    },
    "colab_type": "code",
    "executionInfo": {
     "elapsed": 761,
     "status": "ok",
     "timestamp": 1563324227088,
     "user": {
      "displayName": "Galuh S",
      "photoUrl": "https://lh5.googleusercontent.com/--bTMli6TIrE/AAAAAAAAAAI/AAAAAAAAAkc/qrvZnPSSR3A/s64/photo.jpg",
      "userId": "03255550178648543649"
     },
     "user_tz": -420
    },
    "id": "LY6wnnYeYYcp",
    "outputId": "6afc2a46-5ca0-4a4f-b8fa-ddd6a30394a8"
   },
   "outputs": [
    {
     "name": "stdout",
     "output_type": "stream",
     "text": [
      "Hello Jack.\n",
      "Jack, how are you?\n"
     ]
    }
   ],
   "source": [
    "def cetak_sapaan():\n",
    "    print(\"Hello Jack.\")\n",
    "    print(\"Jack, how are you?\")\n",
    "cetak_sapaan() # execute the function"
   ]
  },
  {
   "cell_type": "markdown",
   "metadata": {
    "colab_type": "text",
    "id": "bPt23IWBYrpA"
   },
   "source": [
    "Saat ini, fungsi `cetak_sapaan()` hanya mencetak pesan ke satu orang saja. Kita dapat membuat fungsi `cetak_sapaan()` kita untuk menerima argumen yang akan menyimpan nama orang yang akan kita sapa, sehingga sapaan yang dicetak akan ditujukan ke nama yang diberikan sebagai argumen ke fungsi."
   ]
  },
  {
   "cell_type": "code",
   "execution_count": 3,
   "metadata": {
    "colab": {},
    "colab_type": "code",
    "id": "jH4BXfXTYprB"
   },
   "outputs": [],
   "source": [
    "def cetak_sapaan(username):\n",
    "    print(\"Hello %s.\" % username)\n",
    "    print(username + ',' ,\"how are you?\")"
   ]
  },
  {
   "cell_type": "code",
   "execution_count": 4,
   "metadata": {
    "colab": {},
    "colab_type": "code",
    "id": "i2t9wtiPqKGa"
   },
   "outputs": [],
   "source": [
    "name_1 = 'Sally'"
   ]
  },
  {
   "cell_type": "code",
   "execution_count": 5,
   "metadata": {
    "colab": {
     "base_uri": "https://localhost:8080/",
     "height": 52
    },
    "colab_type": "code",
    "executionInfo": {
     "elapsed": 525,
     "status": "ok",
     "timestamp": 1563328842345,
     "user": {
      "displayName": "Galuh S",
      "photoUrl": "https://lh5.googleusercontent.com/--bTMli6TIrE/AAAAAAAAAAI/AAAAAAAAAkc/qrvZnPSSR3A/s64/photo.jpg",
      "userId": "03255550178648543649"
     },
     "user_tz": -420
    },
    "id": "j14WWL3kqL-N",
    "outputId": "8d639606-1836-41e9-9525-b47d4e852aa8"
   },
   "outputs": [
    {
     "name": "stdout",
     "output_type": "stream",
     "text": [
      "Hello Sally.\n",
      "Sally, how are you?\n"
     ]
    }
   ],
   "source": [
    "cetak_sapaan(name_1)"
   ]
  },
  {
   "cell_type": "markdown",
   "metadata": {
    "colab_type": "text",
    "id": "QUFH09GCwmCh"
   },
   "source": [
    "## Statemen Return\n",
    "Ketika suatu fungsi menghasilkan suatu nilai dan nilai tersebut harus disimpan dalam sebuah variabel atau harus dikembalikan untuk operasi selanjutnya, kita dapat menggunakan statemen `return`."
   ]
  },
  {
   "cell_type": "code",
   "execution_count": 6,
   "metadata": {
    "colab": {},
    "colab_type": "code",
    "id": "XVX47H1jqOOf"
   },
   "outputs": [],
   "source": [
    "def times(x, y):\n",
    "    z = x*y\n",
    "    return z"
   ]
  },
  {
   "cell_type": "markdown",
   "metadata": {
    "colab_type": "text",
    "id": "qZiPQ9MUxFaf"
   },
   "source": [
    " Fungsi di atas mendefinisikan fungsi `times()` sebagai fungsi yang menerima dua argumen, dan mengembalikan suatu variabel `z`. Variabel `z` berisi hasil dari perkalian kedua argumen tersebut."
   ]
  },
  {
   "cell_type": "code",
   "execution_count": 7,
   "metadata": {
    "colab": {
     "base_uri": "https://localhost:8080/",
     "height": 34
    },
    "colab_type": "code",
    "executionInfo": {
     "elapsed": 752,
     "status": "ok",
     "timestamp": 1563364298508,
     "user": {
      "displayName": "Galuh S",
      "photoUrl": "https://lh5.googleusercontent.com/--bTMli6TIrE/AAAAAAAAAAI/AAAAAAAAAkc/qrvZnPSSR3A/s64/photo.jpg",
      "userId": "03255550178648543649"
     },
     "user_tz": -420
    },
    "id": "1x8SIu3cxDqU",
    "outputId": "34216365-b70b-4a7f-f0dc-2327f9eff041"
   },
   "outputs": [
    {
     "name": "stdout",
     "output_type": "stream",
     "text": [
      "20\n"
     ]
    }
   ],
   "source": [
    "c = times(4, 5)\n",
    "print(c)"
   ]
  },
  {
   "cell_type": "markdown",
   "metadata": {
    "colab_type": "text",
    "id": "Rk8fVtd9xRem"
   },
   "source": [
    "Nilai `z` disimpan di variabel `c` dan sekarang dapat digunakan untuk operasi-operasi selanjutnya. Kita juga dapat langsung mengembalikan statemen tanpa harus menyimpannya di sebuah variabel terlebih dahulu, seperti:"
   ]
  },
  {
   "cell_type": "code",
   "execution_count": 8,
   "metadata": {
    "colab": {},
    "colab_type": "code",
    "id": "a5WaOfpsxPQ_"
   },
   "outputs": [],
   "source": [
    "def times(x, y):\n",
    "    return x*y"
   ]
  },
  {
   "cell_type": "code",
   "execution_count": 9,
   "metadata": {
    "colab": {
     "base_uri": "https://localhost:8080/",
     "height": 34
    },
    "colab_type": "code",
    "executionInfo": {
     "elapsed": 836,
     "status": "ok",
     "timestamp": 1563364292538,
     "user": {
      "displayName": "Galuh S",
      "photoUrl": "https://lh5.googleusercontent.com/--bTMli6TIrE/AAAAAAAAAAI/AAAAAAAAAkc/qrvZnPSSR3A/s64/photo.jpg",
      "userId": "03255550178648543649"
     },
     "user_tz": -420
    },
    "id": "84HDlD28xdA4",
    "outputId": "d97b481d-9984-402f-ac2f-95320e124942"
   },
   "outputs": [
    {
     "name": "stdout",
     "output_type": "stream",
     "text": [
      "20\n"
     ]
    }
   ],
   "source": [
    "c = times(4, 5)\n",
    "print(c)"
   ]
  },
  {
   "cell_type": "markdown",
   "metadata": {
    "colab_type": "text",
    "id": "Vplp_xLjxme_"
   },
   "source": [
    "Apabila Anda harus mengembalikan lebih dari satu variabel, maka variabel-variabel tersebut dapat dikembalikan di dalam sebuah *tuple*. Meskipun demikian, cara ini kadang menghasilkan kode yang susah dibaca apabila fungsi Anda mengembalikan banyak nilai di saat yang sama, dan dapat menghasilkan banyak *error* apabila urutan dari pengembalian nilai-nilai tersebut tidak diinterpretasikan dengan benar."
   ]
  },
  {
   "cell_type": "code",
   "execution_count": 10,
   "metadata": {
    "colab": {},
    "colab_type": "code",
    "id": "qoBtDsH_xeY9"
   },
   "outputs": [],
   "source": [
    "eglist = [10, 50, 30, 12, 6, 8, 100]"
   ]
  },
  {
   "cell_type": "code",
   "execution_count": 11,
   "metadata": {
    "colab": {},
    "colab_type": "code",
    "id": "7ArF2CPsx7nD"
   },
   "outputs": [],
   "source": [
    "def egfunc(eglist):\n",
    "    highest = max(eglist)\n",
    "    lowest = min(eglist)\n",
    "    first = eglist[0]\n",
    "    last = eglist[-1]\n",
    "    return highest, lowest, first, last"
   ]
  },
  {
   "cell_type": "markdown",
   "metadata": {
    "colab_type": "text",
    "id": "NrUwEmIFyGn8"
   },
   "source": [
    "Apabila sebuah fungsi dipanggil tanpa ditetapkan ke sebuah variabel, maka hasil yang dikembalikan akan disimpan di dalam sebuah tuple. Namun apabila variabel-variabelknya disebutkan, maka hasil yang dikembalikan oleh fungsi akan langsung disimpan di variabel berdasarkan urutannya."
   ]
  },
  {
   "cell_type": "code",
   "execution_count": 12,
   "metadata": {
    "colab": {
     "base_uri": "https://localhost:8080/",
     "height": 34
    },
    "colab_type": "code",
    "executionInfo": {
     "elapsed": 895,
     "status": "ok",
     "timestamp": 1563364462669,
     "user": {
      "displayName": "Galuh S",
      "photoUrl": "https://lh5.googleusercontent.com/--bTMli6TIrE/AAAAAAAAAAI/AAAAAAAAAkc/qrvZnPSSR3A/s64/photo.jpg",
      "userId": "03255550178648543649"
     },
     "user_tz": -420
    },
    "id": "5L3TOBt9x9Gw",
    "outputId": "12de951f-8023-4fc5-9f3b-3292c8362fa4"
   },
   "outputs": [
    {
     "data": {
      "text/plain": [
       "(100, 6, 10, 100)"
      ]
     },
     "execution_count": 12,
     "metadata": {},
     "output_type": "execute_result"
    }
   ],
   "source": [
    "egfunc(eglist)"
   ]
  },
  {
   "cell_type": "code",
   "execution_count": 13,
   "metadata": {
    "colab": {
     "base_uri": "https://localhost:8080/",
     "height": 34
    },
    "colab_type": "code",
    "executionInfo": {
     "elapsed": 1214,
     "status": "ok",
     "timestamp": 1563364470101,
     "user": {
      "displayName": "Galuh S",
      "photoUrl": "https://lh5.googleusercontent.com/--bTMli6TIrE/AAAAAAAAAAI/AAAAAAAAAkc/qrvZnPSSR3A/s64/photo.jpg",
      "userId": "03255550178648543649"
     },
     "user_tz": -420
    },
    "id": "VNtne30cyIx7",
    "outputId": "01efbe58-cf40-4e15-9b05-97986241c4f5"
   },
   "outputs": [
    {
     "name": "stdout",
     "output_type": "stream",
     "text": [
      " a = 100  b = 6  c = 10  d = 100\n"
     ]
    }
   ],
   "source": [
    "a,b,c,d = egfunc(eglist)\n",
    "print(' a =',a,' b =',b,' c =',c,' d =',d)"
   ]
  },
  {
   "cell_type": "markdown",
   "metadata": {
    "colab_type": "text",
    "id": "r7Doj7cxyQYY"
   },
   "source": [
    "## Argumen default\n",
    "Apabila sebuah argumen dalam sebuah fungsi memiliki nilai yang sama di banyak kasus, maka kita dapat menentukan nilai *default* untuk argumen tersebut. Argumen *default* juga bisa disebut argumen *implisit*."
   ]
  },
  {
   "cell_type": "code",
   "execution_count": 14,
   "metadata": {
    "colab": {},
    "colab_type": "code",
    "id": "2JgujtaIyKgi"
   },
   "outputs": [],
   "source": [
    "def implicit_add(x, y=3, z=0):\n",
    "    print(\"%d + %d + %d = %d\"%(x, y, z, x+y+z))\n",
    "    return x + y + z"
   ]
  },
  {
   "cell_type": "markdown",
   "metadata": {
    "colab_type": "text",
    "id": "HsDCypZgy_aQ"
   },
   "source": [
    "`implicit_add()` adalah sebuah fungsi yang menerima tiga argumen. Nilai *default* dari argumen kedua adalah 3 sementara nilai *default* dari argumen ketiga adalah 0. Apabila kita tidak mendefinisikan argumen kedua ketika memanggil fungsi `implicit_add()`, maka fungsi tersebut akan menganggap `y = 3`."
   ]
  },
  {
   "cell_type": "code",
   "execution_count": 15,
   "metadata": {
    "colab": {
     "base_uri": "https://localhost:8080/",
     "height": 52
    },
    "colab_type": "code",
    "executionInfo": {
     "elapsed": 1965,
     "status": "ok",
     "timestamp": 1563383829616,
     "user": {
      "displayName": "Galuh S",
      "photoUrl": "https://lh5.googleusercontent.com/--bTMli6TIrE/AAAAAAAAAAI/AAAAAAAAAkc/qrvZnPSSR3A/s64/photo.jpg",
      "userId": "03255550178648543649"
     },
     "user_tz": -420
    },
    "id": "BSF8ee-2zAOW",
    "outputId": "0a1b0355-23bf-47fc-d753-e38df7ebc11b"
   },
   "outputs": [
    {
     "name": "stdout",
     "output_type": "stream",
     "text": [
      "4 + 3 + 0 = 7\n"
     ]
    },
    {
     "data": {
      "text/plain": [
       "7"
      ]
     },
     "execution_count": 15,
     "metadata": {},
     "output_type": "execute_result"
    }
   ],
   "source": [
    "implicit_add(4)"
   ]
  },
  {
   "cell_type": "code",
   "execution_count": 16,
   "metadata": {
    "colab": {
     "base_uri": "https://localhost:8080/",
     "height": 121
    },
    "colab_type": "code",
    "executionInfo": {
     "elapsed": 1851,
     "status": "ok",
     "timestamp": 1563383835730,
     "user": {
      "displayName": "Galuh S",
      "photoUrl": "https://lh5.googleusercontent.com/--bTMli6TIrE/AAAAAAAAAAI/AAAAAAAAAkc/qrvZnPSSR3A/s64/photo.jpg",
      "userId": "03255550178648543649"
     },
     "user_tz": -420
    },
    "id": "qUAzDL6qzEGJ",
    "outputId": "be4183c8-eda4-4fb4-b9ce-c441b63e3dd5"
   },
   "outputs": [
    {
     "name": "stdout",
     "output_type": "stream",
     "text": [
      "4 + 4 + 0 = 8\n",
      "4 + 5 + 6 = 15\n",
      "4 + 3 + 7 = 14\n",
      "2 + 1 + 9 = 12\n",
      "1 + 3 + 0 = 4\n"
     ]
    },
    {
     "data": {
      "text/plain": [
       "4"
      ]
     },
     "execution_count": 16,
     "metadata": {},
     "output_type": "execute_result"
    }
   ],
   "source": [
    "implicit_add(4,4)\n",
    "implicit_add(4,5,6)\n",
    "implicit_add(4, z=7)\n",
    "implicit_add(2, y=1, z=9)\n",
    "implicit_add(x=1)"
   ]
  }
 ],
 "metadata": {
  "colab": {
   "collapsed_sections": [],
   "name": "Pengenalan Dasar Python - 6 - Fungsi.ipynb",
   "provenance": [],
   "version": "0.3.2"
  },
  "kernelspec": {
   "display_name": "Python 3",
   "language": "python",
   "name": "python3"
  },
  "language_info": {
   "codemirror_mode": {
    "name": "ipython",
    "version": 3
   },
   "file_extension": ".py",
   "mimetype": "text/x-python",
   "name": "python",
   "nbconvert_exporter": "python",
   "pygments_lexer": "ipython3",
   "version": "3.7.3"
  }
 },
 "nbformat": 4,
 "nbformat_minor": 1
}
