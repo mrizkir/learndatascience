{
 "cells": [
  {
   "cell_type": "markdown",
   "metadata": {
    "colab_type": "text",
    "id": "kLHf67bOgTjI"
   },
   "source": [
    "# Pengenalan\n",
    "\n",
    "Beberapa hal yang perlu Anda ketahui terkait penulisan statemen dan ekspresi di Python:\n",
    "\n",
    "\n",
    "*  Indentasi memiliki peran penting di Python. Untuk sekarang, pastikan bahwa tidak ada karakter spasi atau tab di awal baris.\n",
    "*  Karakter `#` di sebuah baris menunjukkan bahwa baris setelah tanda tersebut merupakan sebuah komentar.\n",
    "\n"
   ]
  },
  {
   "cell_type": "markdown",
   "metadata": {
    "colab_type": "text",
    "id": "33gmTNruhSdo"
   },
   "source": [
    "# Variabel\n",
    "\n",
    "Sebuah nama yang digunakan untuk menunjukkan sesuatu atau sebuah nilai disebut **variabel**. Di Python, variabel dapat dideklarasikan dan sebuah nilai dapat ditetapkan dengan cara sebagai berikut:"
   ]
  },
  {
   "cell_type": "code",
   "execution_count": 1,
   "metadata": {
    "colab": {
     "base_uri": "https://localhost:8080/",
     "height": 34
    },
    "colab_type": "code",
    "executionInfo": {
     "elapsed": 801,
     "status": "ok",
     "timestamp": 1563108872723,
     "user": {
      "displayName": "Galuh S",
      "photoUrl": "https://lh5.googleusercontent.com/--bTMli6TIrE/AAAAAAAAAAI/AAAAAAAAAkc/qrvZnPSSR3A/s64/photo.jpg",
      "userId": "03255550178648543649"
     },
     "user_tz": -420
    },
    "id": "koa7kjykis9Y",
    "outputId": "5c92fcc3-138c-43c5-d0c1-f5c9e5ca32c0"
   },
   "outputs": [
    {
     "name": "stdout",
     "output_type": "stream",
     "text": [
      "8 Hey\n"
     ]
    }
   ],
   "source": [
    "x = 2          # apapun setelah karakter `#` merupakan sebuah komentar\n",
    "y = 6\n",
    "xy = 'Hey'\n",
    "print(x + y, xy) # ketika kita menggunakan notebook, sebenarnya tidak perlu mencetak hasilnya karena nilai terakhir dari sebuah potongan kode akan langsung tercetak secara default"
   ]
  },
  {
   "cell_type": "code",
   "execution_count": 0,
   "metadata": {
    "colab": {
     "base_uri": "https://localhost:8080/",
     "height": 34
    },
    "colab_type": "code",
    "executionInfo": {
     "elapsed": 925,
     "status": "ok",
     "timestamp": 1563108875249,
     "user": {
      "displayName": "Galuh S",
      "photoUrl": "https://lh5.googleusercontent.com/--bTMli6TIrE/AAAAAAAAAAI/AAAAAAAAAkc/qrvZnPSSR3A/s64/photo.jpg",
      "userId": "03255550178648543649"
     },
     "user_tz": -420
    },
    "id": "sKbYFb7WjCY-",
    "outputId": "f54edbfb-1378-42bc-c2e4-7a21a862b67e"
   },
   "outputs": [
    {
     "data": {
      "text/plain": [
       "7"
      ]
     },
     "execution_count": 3,
     "metadata": {
      "tags": []
     },
     "output_type": "execute_result"
    }
   ],
   "source": [
    "x + y"
   ]
  },
  {
   "cell_type": "markdown",
   "metadata": {
    "colab_type": "text",
    "id": "CXX33VrfjMtU"
   },
   "source": [
    "Kita dapat menetapkan nilai yang sama ke dua (atau lebih) variabel yang berbeda:"
   ]
  },
  {
   "cell_type": "code",
   "execution_count": 0,
   "metadata": {
    "colab": {
     "base_uri": "https://localhost:8080/",
     "height": 34
    },
    "colab_type": "code",
    "executionInfo": {
     "elapsed": 968,
     "status": "ok",
     "timestamp": 1563108917689,
     "user": {
      "displayName": "Galuh S",
      "photoUrl": "https://lh5.googleusercontent.com/--bTMli6TIrE/AAAAAAAAAAI/AAAAAAAAAkc/qrvZnPSSR3A/s64/photo.jpg",
      "userId": "03255550178648543649"
     },
     "user_tz": -420
    },
    "id": "EObxUoDTjJff",
    "outputId": "e7bc6c5e-be2c-485f-bcb8-7f954f6faa3d"
   },
   "outputs": [
    {
     "name": "stdout",
     "output_type": "stream",
     "text": [
      "1 1\n"
     ]
    }
   ],
   "source": [
    "x = y = 1\n",
    "print(x,y)"
   ]
  },
  {
   "cell_type": "markdown",
   "metadata": {
    "colab_type": "text",
    "id": "f0tLGPewjb0Z"
   },
   "source": [
    "Setiap nilai di Python memiliki tipe data. Beberapa tipe data tersebut di antaranya adalah:\n",
    "- `float` (float)\n",
    "- `int` (integer)\n",
    "- `str` (string)\n",
    "- `bool` (boolean)\n",
    "\n",
    "Kita tidak perlu mendefinisikan tipe datanya secara eksplisit kecuali memang diperlukan, karena Python akan menebak kira-kira tipe data apa yang sesuai."
   ]
  },
  {
   "cell_type": "code",
   "execution_count": 0,
   "metadata": {
    "colab": {
     "base_uri": "https://localhost:8080/",
     "height": 34
    },
    "colab_type": "code",
    "executionInfo": {
     "elapsed": 801,
     "status": "ok",
     "timestamp": 1563109396077,
     "user": {
      "displayName": "Galuh S",
      "photoUrl": "https://lh5.googleusercontent.com/--bTMli6TIrE/AAAAAAAAAAI/AAAAAAAAAkc/qrvZnPSSR3A/s64/photo.jpg",
      "userId": "03255550178648543649"
     },
     "user_tz": -420
    },
    "id": "8KDmpTMqjpS1",
    "outputId": "44de6196-8f2a-449a-a192-5f75fcfdf938"
   },
   "outputs": [
    {
     "data": {
      "text/plain": [
       "'This is a string'"
      ]
     },
     "execution_count": 6,
     "metadata": {
      "tags": []
     },
     "output_type": "execute_result"
    }
   ],
   "source": [
    "2.0           # a simple floating point number\n",
    "1e100         # a googol \n",
    "-1234567890   # an integer\n",
    "True or False # the two possible boolean values\n",
    "'This is a string' # string"
   ]
  },
  {
   "cell_type": "markdown",
   "metadata": {
    "colab_type": "text",
    "id": "CsKd34K0lJqo"
   },
   "source": [
    "Namun, apabila kita ingin merubah tipe datanya, kita dapat melakukan operasi-operasi berikut:"
   ]
  },
  {
   "cell_type": "code",
   "execution_count": 1,
   "metadata": {
    "colab": {
     "base_uri": "https://localhost:8080/",
     "height": 52
    },
    "colab_type": "code",
    "executionInfo": {
     "elapsed": 871,
     "status": "ok",
     "timestamp": 1563109485699,
     "user": {
      "displayName": "Galuh S",
      "photoUrl": "https://lh5.googleusercontent.com/--bTMli6TIrE/AAAAAAAAAAI/AAAAAAAAAkc/qrvZnPSSR3A/s64/photo.jpg",
      "userId": "03255550178648543649"
     },
     "user_tz": -420
    },
    "id": "ZJqBAiADlQCn",
    "outputId": "d610d92a-1c5c-40ee-fc0e-908d9bcb7cc7"
   },
   "outputs": [
    {
     "name": "stdout",
     "output_type": "stream",
     "text": [
      "2\n",
      "<class 'int'>\n"
     ]
    }
   ],
   "source": [
    "float_to_int = int(2.0) # mengubah float ke integer\n",
    "print(float_to_int)\n",
    "print(type(float_to_int)) # gunakan type() untuk mengecek tipe data"
   ]
  },
  {
   "cell_type": "code",
   "execution_count": 0,
   "metadata": {
    "colab": {
     "base_uri": "https://localhost:8080/",
     "height": 52
    },
    "colab_type": "code",
    "executionInfo": {
     "elapsed": 885,
     "status": "ok",
     "timestamp": 1563109509378,
     "user": {
      "displayName": "Galuh S",
      "photoUrl": "https://lh5.googleusercontent.com/--bTMli6TIrE/AAAAAAAAAAI/AAAAAAAAAkc/qrvZnPSSR3A/s64/photo.jpg",
      "userId": "03255550178648543649"
     },
     "user_tz": -420
    },
    "id": "t3Cp9GmflTdl",
    "outputId": "637e1fb1-574f-47c9-c6f7-0040fd8b0d33"
   },
   "outputs": [
    {
     "name": "stdout",
     "output_type": "stream",
     "text": [
      "3.0\n",
      "<class 'float'>\n"
     ]
    }
   ],
   "source": [
    "int_to_float = float(3)\n",
    "print(int_to_float)\n",
    "print(type(int_to_float))"
   ]
  },
  {
   "cell_type": "code",
   "execution_count": 0,
   "metadata": {
    "colab": {
     "base_uri": "https://localhost:8080/",
     "height": 52
    },
    "colab_type": "code",
    "executionInfo": {
     "elapsed": 900,
     "status": "ok",
     "timestamp": 1563109537266,
     "user": {
      "displayName": "Galuh S",
      "photoUrl": "https://lh5.googleusercontent.com/--bTMli6TIrE/AAAAAAAAAAI/AAAAAAAAAkc/qrvZnPSSR3A/s64/photo.jpg",
      "userId": "03255550178648543649"
     },
     "user_tz": -420
    },
    "id": "WEnMkswDljRi",
    "outputId": "2ebbfb8b-077d-470b-c8fa-2a92cb3b93c3"
   },
   "outputs": [
    {
     "name": "stdout",
     "output_type": "stream",
     "text": [
      "50\n",
      "<class 'str'>\n"
     ]
    }
   ],
   "source": [
    "int_to_string = str(50)\n",
    "print(int_to_string)\n",
    "print(type(int_to_string))"
   ]
  },
  {
   "cell_type": "code",
   "execution_count": 0,
   "metadata": {
    "colab": {
     "base_uri": "https://localhost:8080/",
     "height": 52
    },
    "colab_type": "code",
    "executionInfo": {
     "elapsed": 969,
     "status": "ok",
     "timestamp": 1563109559601,
     "user": {
      "displayName": "Galuh S",
      "photoUrl": "https://lh5.googleusercontent.com/--bTMli6TIrE/AAAAAAAAAAI/AAAAAAAAAkc/qrvZnPSSR3A/s64/photo.jpg",
      "userId": "03255550178648543649"
     },
     "user_tz": -420
    },
    "id": "_uyfHmmElrHP",
    "outputId": "eff7676a-2c44-4291-a1f2-bc9f25e96a82"
   },
   "outputs": [
    {
     "name": "stdout",
     "output_type": "stream",
     "text": [
      "237.5\n",
      "<class 'str'>\n"
     ]
    }
   ],
   "source": [
    "float_to_string = str(237.5)\n",
    "print(float_to_string)\n",
    "print(type(float_to_string))"
   ]
  },
  {
   "cell_type": "markdown",
   "metadata": {
    "colab_type": "text",
    "id": "8Lpa550pl3OY"
   },
   "source": [
    "# Operator\n",
    "## Operator Aritmatika"
   ]
  },
  {
   "cell_type": "markdown",
   "metadata": {
    "colab_type": "text",
    "id": "tmYdngLNoAeE"
   },
   "source": [
    "- +: pertambahan\n",
    "- -: pengurangan\n",
    "- /: pembagian\n",
    "- %: modulo\n",
    "- \\*: perkalian\n",
    "- //: pembagian *(floor division)*\n",
    "- \\*\\*: pangkat"
   ]
  },
  {
   "cell_type": "code",
   "execution_count": 0,
   "metadata": {
    "colab": {
     "base_uri": "https://localhost:8080/",
     "height": 34
    },
    "colab_type": "code",
    "executionInfo": {
     "elapsed": 809,
     "status": "ok",
     "timestamp": 1563111641293,
     "user": {
      "displayName": "Galuh S",
      "photoUrl": "https://lh5.googleusercontent.com/--bTMli6TIrE/AAAAAAAAAAI/AAAAAAAAAkc/qrvZnPSSR3A/s64/photo.jpg",
      "userId": "03255550178648543649"
     },
     "user_tz": -420
    },
    "id": "AfTN7vJbtr46",
    "outputId": "eca40c87-99e1-4dc1-93f4-c6bb2ccf966e"
   },
   "outputs": [
    {
     "data": {
      "text/plain": [
       "3"
      ]
     },
     "execution_count": 17,
     "metadata": {
      "tags": []
     },
     "output_type": "execute_result"
    }
   ],
   "source": [
    "1+2"
   ]
  },
  {
   "cell_type": "code",
   "execution_count": 0,
   "metadata": {
    "colab": {
     "base_uri": "https://localhost:8080/",
     "height": 34
    },
    "colab_type": "code",
    "executionInfo": {
     "elapsed": 939,
     "status": "ok",
     "timestamp": 1563111645524,
     "user": {
      "displayName": "Galuh S",
      "photoUrl": "https://lh5.googleusercontent.com/--bTMli6TIrE/AAAAAAAAAAI/AAAAAAAAAkc/qrvZnPSSR3A/s64/photo.jpg",
      "userId": "03255550178648543649"
     },
     "user_tz": -420
    },
    "id": "kJULaqdvts1D",
    "outputId": "a769de60-16a6-4696-df40-9c2250a2d99a"
   },
   "outputs": [
    {
     "data": {
      "text/plain": [
       "1"
      ]
     },
     "execution_count": 18,
     "metadata": {
      "tags": []
     },
     "output_type": "execute_result"
    }
   ],
   "source": [
    "2-1"
   ]
  },
  {
   "cell_type": "code",
   "execution_count": 0,
   "metadata": {
    "colab": {
     "base_uri": "https://localhost:8080/",
     "height": 34
    },
    "colab_type": "code",
    "executionInfo": {
     "elapsed": 1015,
     "status": "ok",
     "timestamp": 1563111650612,
     "user": {
      "displayName": "Galuh S",
      "photoUrl": "https://lh5.googleusercontent.com/--bTMli6TIrE/AAAAAAAAAAI/AAAAAAAAAkc/qrvZnPSSR3A/s64/photo.jpg",
      "userId": "03255550178648543649"
     },
     "user_tz": -420
    },
    "id": "bNtl85dTtt1N",
    "outputId": "edcb8035-3d5d-43b7-ddc8-73e0ec38288a"
   },
   "outputs": [
    {
     "data": {
      "text/plain": [
       "2"
      ]
     },
     "execution_count": 19,
     "metadata": {
      "tags": []
     },
     "output_type": "execute_result"
    }
   ],
   "source": [
    "1*2"
   ]
  },
  {
   "cell_type": "code",
   "execution_count": 0,
   "metadata": {
    "colab": {
     "base_uri": "https://localhost:8080/",
     "height": 34
    },
    "colab_type": "code",
    "executionInfo": {
     "elapsed": 788,
     "status": "ok",
     "timestamp": 1563111654418,
     "user": {
      "displayName": "Galuh S",
      "photoUrl": "https://lh5.googleusercontent.com/--bTMli6TIrE/AAAAAAAAAAI/AAAAAAAAAkc/qrvZnPSSR3A/s64/photo.jpg",
      "userId": "03255550178648543649"
     },
     "user_tz": -420
    },
    "id": "vYQ2AxkItvDA",
    "outputId": "fc0fb16d-da5c-43e6-a3a2-fcd76d776f2f"
   },
   "outputs": [
    {
     "data": {
      "text/plain": [
       "0.75"
      ]
     },
     "execution_count": 20,
     "metadata": {
      "tags": []
     },
     "output_type": "execute_result"
    }
   ],
   "source": [
    "3/4"
   ]
  },
  {
   "cell_type": "markdown",
   "metadata": {
    "colab_type": "text",
    "id": "GGR_hZt8ue5S"
   },
   "source": [
    "Pada *floor division*, hasil pembagian akan diubah ke integer terdekat."
   ]
  },
  {
   "cell_type": "code",
   "execution_count": 0,
   "metadata": {
    "colab": {
     "base_uri": "https://localhost:8080/",
     "height": 34
    },
    "colab_type": "code",
    "executionInfo": {
     "elapsed": 767,
     "status": "ok",
     "timestamp": 1563111662149,
     "user": {
      "displayName": "Galuh S",
      "photoUrl": "https://lh5.googleusercontent.com/--bTMli6TIrE/AAAAAAAAAAI/AAAAAAAAAkc/qrvZnPSSR3A/s64/photo.jpg",
      "userId": "03255550178648543649"
     },
     "user_tz": -420
    },
    "id": "4BBV4G8MtwBd",
    "outputId": "ae5f8bf1-9951-4b38-d4f6-ad6afc5a3e24"
   },
   "outputs": [
    {
     "data": {
      "text/plain": [
       "0.0"
      ]
     },
     "execution_count": 21,
     "metadata": {
      "tags": []
     },
     "output_type": "execute_result"
    }
   ],
   "source": [
    "3//4.0"
   ]
  },
  {
   "cell_type": "code",
   "execution_count": 0,
   "metadata": {
    "colab": {
     "base_uri": "https://localhost:8080/",
     "height": 34
    },
    "colab_type": "code",
    "executionInfo": {
     "elapsed": 790,
     "status": "ok",
     "timestamp": 1563111667274,
     "user": {
      "displayName": "Galuh S",
      "photoUrl": "https://lh5.googleusercontent.com/--bTMli6TIrE/AAAAAAAAAAI/AAAAAAAAAkc/qrvZnPSSR3A/s64/photo.jpg",
      "userId": "03255550178648543649"
     },
     "user_tz": -420
    },
    "id": "KGVkf2rftx7L",
    "outputId": "0b6dad39-6552-4ea7-a049-8dc009966018"
   },
   "outputs": [
    {
     "data": {
      "text/plain": [
       "5"
      ]
     },
     "execution_count": 22,
     "metadata": {
      "tags": []
     },
     "output_type": "execute_result"
    }
   ],
   "source": [
    "15%10"
   ]
  },
  {
   "cell_type": "markdown",
   "metadata": {
    "colab_type": "text",
    "id": "fqkzHY8xt_Xf"
   },
   "source": [
    "## Operator Relasional\n",
    "- `==`: True apabila sama\n",
    "- `!=`: True apabila tidak sama\n",
    "- `<`: kurang dari\n",
    "- `>`: lebih dari\n",
    "- `<=`: kurang dari atau sama dengan\n",
    "- `>=`: lebih dari atau sama dengan\n",
    "\n",
    "> Perhatikan bahwa `==` (tes persamaan) dan `=` (penetapan nilai) merupakan operator yang berbeda"
   ]
  },
  {
   "cell_type": "code",
   "execution_count": 0,
   "metadata": {
    "colab": {
     "base_uri": "https://localhost:8080/",
     "height": 34
    },
    "colab_type": "code",
    "executionInfo": {
     "elapsed": 946,
     "status": "ok",
     "timestamp": 1563111897589,
     "user": {
      "displayName": "Galuh S",
      "photoUrl": "https://lh5.googleusercontent.com/--bTMli6TIrE/AAAAAAAAAAI/AAAAAAAAAkc/qrvZnPSSR3A/s64/photo.jpg",
      "userId": "03255550178648543649"
     },
     "user_tz": -420
    },
    "id": "7Tpa0kd9uMJD",
    "outputId": "ffc056cf-58a9-41a7-9b94-0f9354c30265"
   },
   "outputs": [
    {
     "data": {
      "text/plain": [
       "True"
      ]
     },
     "execution_count": 25,
     "metadata": {
      "tags": []
     },
     "output_type": "execute_result"
    }
   ],
   "source": [
    "z = 2 # menetapkan nilai dari variabel z adalah 2\n",
    "z == 2 # mengecek apakah variabel z sama dengan 2"
   ]
  },
  {
   "cell_type": "code",
   "execution_count": 0,
   "metadata": {
    "colab": {
     "base_uri": "https://localhost:8080/",
     "height": 34
    },
    "colab_type": "code",
    "executionInfo": {
     "elapsed": 764,
     "status": "ok",
     "timestamp": 1563111901902,
     "user": {
      "displayName": "Galuh S",
      "photoUrl": "https://lh5.googleusercontent.com/--bTMli6TIrE/AAAAAAAAAAI/AAAAAAAAAkc/qrvZnPSSR3A/s64/photo.jpg",
      "userId": "03255550178648543649"
     },
     "user_tz": -420
    },
    "id": "GLXpfLZlup74",
    "outputId": "016fe5dc-9f6e-46f2-a5e3-f33ef2ddc9a5"
   },
   "outputs": [
    {
     "data": {
      "text/plain": [
       "False"
      ]
     },
     "execution_count": 26,
     "metadata": {
      "tags": []
     },
     "output_type": "execute_result"
    }
   ],
   "source": [
    "z > 2"
   ]
  },
  {
   "cell_type": "markdown",
   "metadata": {
    "colab_type": "text",
    "id": "rfNOyN0Bu2HU"
   },
   "source": [
    "## Operator Boolean dan Bitwise\n",
    "**Boolean**\n",
    "- `and`: logical and (dan)\n",
    "- `or`: logical or (atau)\n",
    "- `not`: tidak\n",
    "\n",
    "**Bitwise**\n",
    "- `&`: logical and (dan)\n",
    "- `|`: logical or (atau)\n",
    "- `^`: XOR\n",
    "- `~`: negasi\n",
    "- `>>`: shift ke kanan\n",
    "- `<<`: shift ke kiri\n",
    "\n",
    "\n"
   ]
  },
  {
   "cell_type": "code",
   "execution_count": 0,
   "metadata": {
    "colab": {
     "base_uri": "https://localhost:8080/",
     "height": 69
    },
    "colab_type": "code",
    "executionInfo": {
     "elapsed": 933,
     "status": "ok",
     "timestamp": 1563112157283,
     "user": {
      "displayName": "Galuh S",
      "photoUrl": "https://lh5.googleusercontent.com/--bTMli6TIrE/AAAAAAAAAAI/AAAAAAAAAkc/qrvZnPSSR3A/s64/photo.jpg",
      "userId": "03255550178648543649"
     },
     "user_tz": -420
    },
    "id": "En0lri-vvZJE",
    "outputId": "1627ea6a-9e63-41ef-b2e5-c70511c1d6e8"
   },
   "outputs": [
    {
     "name": "stdout",
     "output_type": "stream",
     "text": [
      "a & b = 2 = 0b10\n",
      "a | b = 3 = 0b11\n",
      "a ^ b = 1 = 0b1\n"
     ]
    }
   ],
   "source": [
    "a = 2 #binary: 10\n",
    "b = 3 #binary: 11\n",
    "print('a & b =',a & b,\"=\",bin(a&b))\n",
    "print('a | b =',a | b,\"=\",bin(a|b))\n",
    "print('a ^ b =',a ^ b,\"=\",bin(a^b))"
   ]
  },
  {
   "cell_type": "code",
   "execution_count": 0,
   "metadata": {
    "colab": {
     "base_uri": "https://localhost:8080/",
     "height": 34
    },
    "colab_type": "code",
    "executionInfo": {
     "elapsed": 883,
     "status": "ok",
     "timestamp": 1563112176262,
     "user": {
      "displayName": "Galuh S",
      "photoUrl": "https://lh5.googleusercontent.com/--bTMli6TIrE/AAAAAAAAAAI/AAAAAAAAAkc/qrvZnPSSR3A/s64/photo.jpg",
      "userId": "03255550178648543649"
     },
     "user_tz": -420
    },
    "id": "hJ2hEI0Rvbs3",
    "outputId": "a0d97fc5-c6ce-49d2-83c0-0cf64c54672b"
   },
   "outputs": [
    {
     "name": "stdout",
     "output_type": "stream",
     "text": [
      "True == True\n"
     ]
    }
   ],
   "source": [
    "print( not (True and False), \"==\", not True or not False)"
   ]
  },
  {
   "cell_type": "code",
   "execution_count": 0,
   "metadata": {
    "colab": {
     "base_uri": "https://localhost:8080/",
     "height": 34
    },
    "colab_type": "code",
    "executionInfo": {
     "elapsed": 829,
     "status": "ok",
     "timestamp": 1563112185588,
     "user": {
      "displayName": "Galuh S",
      "photoUrl": "https://lh5.googleusercontent.com/--bTMli6TIrE/AAAAAAAAAAI/AAAAAAAAAkc/qrvZnPSSR3A/s64/photo.jpg",
      "userId": "03255550178648543649"
     },
     "user_tz": -420
    },
    "id": "aoDwTGWRvvaB",
    "outputId": "e54498ef-4f28-48ce-8691-624a746eb4b9"
   },
   "outputs": [
    {
     "data": {
      "text/plain": [
       "True"
      ]
     },
     "execution_count": 32,
     "metadata": {
      "tags": []
     },
     "output_type": "execute_result"
    }
   ],
   "source": [
    "True == True"
   ]
  },
  {
   "cell_type": "markdown",
   "metadata": {
    "colab_type": "text",
    "id": "5UGwWEnZv8wo"
   },
   "source": [
    "# Fungsi *built-in*\n",
    "\n",
    "Python memiliki banyak fungsi built-in, namun banyak juga fungsi yang merupakan bagian dari *library* standar seperti `math`."
   ]
  },
  {
   "cell_type": "markdown",
   "metadata": {
    "colab_type": "text",
    "id": "A2S2tZ0L1SIF"
   },
   "source": [
    "## Fungsi matematika"
   ]
  },
  {
   "cell_type": "code",
   "execution_count": 1,
   "metadata": {
    "colab": {
     "base_uri": "https://localhost:8080/",
     "height": 34
    },
    "colab_type": "code",
    "executionInfo": {
     "elapsed": 920,
     "status": "ok",
     "timestamp": 1563384360924,
     "user": {
      "displayName": "Galuh S",
      "photoUrl": "https://lh5.googleusercontent.com/--bTMli6TIrE/AAAAAAAAAAI/AAAAAAAAAkc/qrvZnPSSR3A/s64/photo.jpg",
      "userId": "03255550178648543649"
     },
     "user_tz": -420
    },
    "id": "bv8canie1OcD",
    "outputId": "288ec22c-1716-4df1-8d49-c4f1b0d00c67"
   },
   "outputs": [
    {
     "data": {
      "text/plain": [
       "1.0"
      ]
     },
     "execution_count": 1,
     "metadata": {
      "tags": []
     },
     "output_type": "execute_result"
    }
   ],
   "source": [
    "import math\n",
    "math.sin(math.pi/2)\n",
    "from math import * # dengan menuliskan baris ini, kita tidak perlu menulis `math` di awal\n",
    "sin(pi/2) # sama dengan statemen sebelumnya, namun kali ini kita tidak perlu menulis `math` di awal"
   ]
  },
  {
   "cell_type": "markdown",
   "metadata": {
    "colab_type": "text",
    "id": "Q49J3dw41e2e"
   },
   "source": [
    "## Menyederhanakan operasi-operasi matematis"
   ]
  },
  {
   "cell_type": "markdown",
   "metadata": {
    "colab_type": "text",
    "id": "iyTTmW6x3F_n"
   },
   "source": [
    "`round()` adalah fungsi yang membulatkan nilai input ke integer terdekat atau *float* dengan jumlah koma dibulatkan sebanyak jumlah digit yang diberikan."
   ]
  },
  {
   "cell_type": "code",
   "execution_count": 0,
   "metadata": {
    "colab": {
     "base_uri": "https://localhost:8080/",
     "height": 52
    },
    "colab_type": "code",
    "executionInfo": {
     "elapsed": 1000,
     "status": "ok",
     "timestamp": 1563114099268,
     "user": {
      "displayName": "Galuh S",
      "photoUrl": "https://lh5.googleusercontent.com/--bTMli6TIrE/AAAAAAAAAAI/AAAAAAAAAkc/qrvZnPSSR3A/s64/photo.jpg",
      "userId": "03255550178648543649"
     },
     "user_tz": -420
    },
    "id": "6BqnyR9c1QT-",
    "outputId": "cf084ad7-ec76-40d2-fd2c-3cd7631ee526"
   },
   "outputs": [
    {
     "name": "stdout",
     "output_type": "stream",
     "text": [
      "6\n",
      "4.56\n"
     ]
    }
   ],
   "source": [
    "print( round(5.6231) )\n",
    "print( round(4.55892, 2) )"
   ]
  },
  {
   "cell_type": "markdown",
   "metadata": {
    "colab_type": "text",
    "id": "avsirMXh48yg"
   },
   "source": [
    "`complex()` digunakan untuk mendefinisikan angka kompleks dan `abs()` digunakan untuk mengeluarkan nilai absolut dari nilai yang diberikan."
   ]
  },
  {
   "cell_type": "code",
   "execution_count": 0,
   "metadata": {
    "colab": {
     "base_uri": "https://localhost:8080/",
     "height": 34
    },
    "colab_type": "code",
    "executionInfo": {
     "elapsed": 848,
     "status": "ok",
     "timestamp": 1563114627873,
     "user": {
      "displayName": "Galuh S",
      "photoUrl": "https://lh5.googleusercontent.com/--bTMli6TIrE/AAAAAAAAAAI/AAAAAAAAAkc/qrvZnPSSR3A/s64/photo.jpg",
      "userId": "03255550178648543649"
     },
     "user_tz": -420
    },
    "id": "uZYgRV1B3Ez-",
    "outputId": "dfc6b66f-113f-4d42-aafd-928b14ef4107"
   },
   "outputs": [
    {
     "name": "stdout",
     "output_type": "stream",
     "text": [
      "5.385164807134504\n"
     ]
    }
   ],
   "source": [
    "c =complex('5+2j')\n",
    "print( abs(c) )"
   ]
  },
  {
   "cell_type": "markdown",
   "metadata": {
    "colab_type": "text",
    "id": "kduj5Nsy5Iyw"
   },
   "source": [
    "`divmod(x,y)` mengeluarkan quotient dan hasil bagi dan sisa dari sebuah pembagian di sebuah *tuple* (sebuah struktur data yang akan kita pelajari nanti) di dalam format (hasil bagi, sisa)."
   ]
  },
  {
   "cell_type": "code",
   "execution_count": 0,
   "metadata": {
    "colab": {
     "base_uri": "https://localhost:8080/",
     "height": 34
    },
    "colab_type": "code",
    "executionInfo": {
     "elapsed": 803,
     "status": "ok",
     "timestamp": 1563114636197,
     "user": {
      "displayName": "Galuh S",
      "photoUrl": "https://lh5.googleusercontent.com/--bTMli6TIrE/AAAAAAAAAAI/AAAAAAAAAkc/qrvZnPSSR3A/s64/photo.jpg",
      "userId": "03255550178648543649"
     },
     "user_tz": -420
    },
    "id": "8I-BSopb5F8o",
    "outputId": "412142e7-abce-4aa8-8e0b-f9f1d56ed607"
   },
   "outputs": [
    {
     "data": {
      "text/plain": [
       "(4, 1)"
      ]
     },
     "execution_count": 38,
     "metadata": {
      "tags": []
     },
     "output_type": "execute_result"
    }
   ],
   "source": [
    "divmod(9,2)"
   ]
  }
 ],
 "metadata": {
  "colab": {
   "name": "Pengenalan Dasar Python - 1 - Variabel dan Operator.ipynb",
   "provenance": [],
   "version": "0.3.2"
  },
  "kernelspec": {
   "display_name": "Python 3",
   "language": "python",
   "name": "python3"
  },
  "language_info": {
   "codemirror_mode": {
    "name": "ipython",
    "version": 3
   },
   "file_extension": ".py",
   "mimetype": "text/x-python",
   "name": "python",
   "nbconvert_exporter": "python",
   "pygments_lexer": "ipython3",
   "version": "3.7.4"
  }
 },
 "nbformat": 4,
 "nbformat_minor": 1
}
