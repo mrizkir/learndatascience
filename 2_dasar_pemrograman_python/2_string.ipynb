{
 "cells": [
  {
   "cell_type": "markdown",
   "metadata": {
    "colab_type": "text",
    "id": "IX8wNrVb5q7x"
   },
   "source": [
    "# String\n",
    "## `print()`\n",
    "Fungsi `print()` mencetak seluruh argumennya sebagai *string*, dipisahkan dengan spasi dan diikuti dengan sebuah *line break*:"
   ]
  },
  {
   "cell_type": "code",
   "execution_count": 1,
   "metadata": {
    "colab": {
     "base_uri": "https://localhost:8080/",
     "height": 69
    },
    "colab_type": "code",
    "executionInfo": {
     "elapsed": 855,
     "status": "ok",
     "timestamp": 1563114952506,
     "user": {
      "displayName": "Galuh S",
      "photoUrl": "https://lh5.googleusercontent.com/--bTMli6TIrE/AAAAAAAAAAI/AAAAAAAAAkc/qrvZnPSSR3A/s64/photo.jpg",
      "userId": "03255550178648543649"
     },
     "user_tz": -420
    },
    "id": "1XirAYUV5cQt",
    "outputId": "27988774-2c57-43ff-da34-ad464ab457be"
   },
   "outputs": [
    {
     "name": "stdout",
     "output_type": "stream",
     "text": [
      "Hello World\n",
      "Hello World\n",
      "Hello Budi\n"
     ]
    }
   ],
   "source": [
    "name = \"Budi\"\n",
    "\n",
    "print(\"Hello World\")\n",
    "print(\"Hello\", 'World')\n",
    "print(\"Hello\", name)"
   ]
  },
  {
   "cell_type": "markdown",
   "metadata": {
    "colab_type": "text",
    "id": "8WmhoHKu6Dxf"
   },
   "source": [
    "> Catatan: Fungsi untuk mencetak di Python 2.7 dan Python 3 berbeda. Di Python 2.7, kita tidak perlu menggunakan tanda kurung di sekitar argumennya (contoh: `print \"Hello World\"`)."
   ]
  },
  {
   "cell_type": "code",
   "execution_count": 2,
   "metadata": {
    "colab": {
     "base_uri": "https://localhost:8080/",
     "height": 34
    },
    "colab_type": "code",
    "executionInfo": {
     "elapsed": 991,
     "status": "ok",
     "timestamp": 1563114950102,
     "user": {
      "displayName": "Galuh S",
      "photoUrl": "https://lh5.googleusercontent.com/--bTMli6TIrE/AAAAAAAAAAI/AAAAAAAAAkc/qrvZnPSSR3A/s64/photo.jpg",
      "userId": "03255550178648543649"
     },
     "user_tz": -420
    },
    "id": "CFrv9nEr5p4M",
    "outputId": "a0f0047a-8261-4108-c62b-fdb9942c86f0"
   },
   "outputs": [
    {
     "name": "stdout",
     "output_type": "stream",
     "text": [
      "Hello World\n"
     ]
    }
   ],
   "source": [
    "print(\"Hello\", \"World\")"
   ]
  },
  {
   "cell_type": "markdown",
   "metadata": {
    "colab_type": "text",
    "id": "kYfWqNTX6X0R"
   },
   "source": [
    "Fungsi `print()` memiliki argumen opsional untuk mengontrol di mana dan bagaimana statemen yang diberikan akan dicetak. Di antaranya adalah:\n",
    "- `sep`, yaitu pemisah antar kata (nilai *default*-nya adalah spasi)\n",
    "- `end`, yaitu karakter yang akan ditambahkan di akhir statemen (nilai *default*-nya adalah `\\n` (karakter *newline*))"
   ]
  },
  {
   "cell_type": "code",
   "execution_count": 3,
   "metadata": {
    "colab": {
     "base_uri": "https://localhost:8080/",
     "height": 34
    },
    "colab_type": "code",
    "executionInfo": {
     "elapsed": 814,
     "status": "ok",
     "timestamp": 1563115145204,
     "user": {
      "displayName": "Galuh S",
      "photoUrl": "https://lh5.googleusercontent.com/--bTMli6TIrE/AAAAAAAAAAI/AAAAAAAAAkc/qrvZnPSSR3A/s64/photo.jpg",
      "userId": "03255550178648543649"
     },
     "user_tz": -420
    },
    "id": "2RSnU9cv5rvs",
    "outputId": "7f3b8d3d-48a6-4602-cf30-99000954cad4"
   },
   "outputs": [
    {
     "name": "stdout",
     "output_type": "stream",
     "text": [
      "Hello...World!!"
     ]
    }
   ],
   "source": [
    "print(\"Hello\", \"World\", sep=\"...\", end=\"!!\")"
   ]
  },
  {
   "cell_type": "code",
   "execution_count": 4,
   "metadata": {
    "colab": {
     "base_uri": "https://localhost:8080/",
     "height": 34
    },
    "colab_type": "code",
    "executionInfo": {
     "elapsed": 817,
     "status": "ok",
     "timestamp": 1563115152522,
     "user": {
      "displayName": "Galuh S",
      "photoUrl": "https://lh5.googleusercontent.com/--bTMli6TIrE/AAAAAAAAAAI/AAAAAAAAAkc/qrvZnPSSR3A/s64/photo.jpg",
      "userId": "03255550178648543649"
     },
     "user_tz": -420
    },
    "id": "GAd1yfFv7CIr",
    "outputId": "20e59f90-bf07-4327-9c99-6b08e37f21ec"
   },
   "outputs": [
    {
     "name": "stdout",
     "output_type": "stream",
     "text": [
      "Good...Morning...Everyone:)"
     ]
    }
   ],
   "source": [
    "print(\"Good\", \"Morning\", \"Everyone\", sep=\"...\", end=\":)\")"
   ]
  },
  {
   "cell_type": "markdown",
   "metadata": {
    "colab_type": "text",
    "id": "le_5YcUv7PGk"
   },
   "source": [
    "## Mengatur format string"
   ]
  },
  {
   "cell_type": "markdown",
   "metadata": {
    "colab_type": "text",
    "id": "I2Q46nf87Z49"
   },
   "source": [
    "Ada banyak metode yang dapat digunakan untuk mengatur format dan memanipulasi string. Beberapa metode tersebut akan ditunjukkan di sini.\n",
    "\n",
    "*String concatenation* adalah penggabungan dari dua *string*. Perhatikan bahwa ketika kita melakukan penggabungan, tidak ada spasi di antara kedua *string*."
   ]
  },
  {
   "cell_type": "code",
   "execution_count": 5,
   "metadata": {
    "colab": {
     "base_uri": "https://localhost:8080/",
     "height": 34
    },
    "colab_type": "code",
    "executionInfo": {
     "elapsed": 736,
     "status": "ok",
     "timestamp": 1563115418382,
     "user": {
      "displayName": "Galuh S",
      "photoUrl": "https://lh5.googleusercontent.com/--bTMli6TIrE/AAAAAAAAAAI/AAAAAAAAAkc/qrvZnPSSR3A/s64/photo.jpg",
      "userId": "03255550178648543649"
     },
     "user_tz": -420
    },
    "id": "hcF_ucg07GDo",
    "outputId": "72f0b53a-74c4-4b90-81af-f6e80bf83194"
   },
   "outputs": [
    {
     "name": "stdout",
     "output_type": "stream",
     "text": [
      "HelloWorld!\n"
     ]
    }
   ],
   "source": [
    "string1 = 'World'\n",
    "string2 = '!'\n",
    "print('Hello' + string1 + string2)"
   ]
  },
  {
   "cell_type": "markdown",
   "metadata": {
    "colab_type": "text",
    "id": "_Zt9Bgn08KnC"
   },
   "source": [
    "Operator `%` digunakan untuk melakukan format pada sebuah *string*, dengan cara menyisipkan nilai yang disertakan setelahnya. *String* tersebut harus memiliki penanda yang mengidentifikasikan di mana kita harus menyisipkan nilai tersebut. Penanda yang sering digunakan adalah:\n",
    "- `%s`: string\n",
    "- `%d`: integer\n",
    "- `%f`: float\n",
    "- `%o`: oktal\n",
    "- `%x`: heksadesimal\n",
    "- `%e`: eksponensial\n"
   ]
  },
  {
   "cell_type": "code",
   "execution_count": 6,
   "metadata": {
    "colab": {
     "base_uri": "https://localhost:8080/",
     "height": 121
    },
    "colab_type": "code",
    "executionInfo": {
     "elapsed": 791,
     "status": "ok",
     "timestamp": 1563115638312,
     "user": {
      "displayName": "Galuh S",
      "photoUrl": "https://lh5.googleusercontent.com/--bTMli6TIrE/AAAAAAAAAAI/AAAAAAAAAkc/qrvZnPSSR3A/s64/photo.jpg",
      "userId": "03255550178648543649"
     },
     "user_tz": -420
    },
    "id": "L4-4QZYZ8G-0",
    "outputId": "7a6b11dc-803b-4bb8-9cd6-3cac1d9aeccb"
   },
   "outputs": [
    {
     "name": "stdout",
     "output_type": "stream",
     "text": [
      "Hello World\n",
      "Actual Number = 18\n",
      "Float of the number = 18.000000\n",
      "Octal equivalent of the number = 22\n",
      "Hexadecimal equivalent of the number = 12\n",
      "Exponential equivalent of the number = 1.800000e+01\n"
     ]
    }
   ],
   "source": [
    "print(\"Hello %s\" % string1)\n",
    "print(\"Actual Number = %d\" %18)\n",
    "print(\"Float of the number = %f\" %18)\n",
    "print(\"Octal equivalent of the number = %o\" %18)\n",
    "print(\"Hexadecimal equivalent of the number = %x\" %18)\n",
    "print(\"Exponential equivalent of the number = %e\" %18)"
   ]
  },
  {
   "cell_type": "markdown",
   "metadata": {
    "colab_type": "text",
    "id": "FBDKnwPv8_wR"
   },
   "source": [
    "Ketika kita merujuk ke lebih dari satu variabel, kita harus menggunakan tanda kurung. Nilai-nilai disisipkan sesuai dengan urutan mereka di dalam tanda kurung."
   ]
  },
  {
   "cell_type": "code",
   "execution_count": 0,
   "metadata": {
    "colab": {
     "base_uri": "https://localhost:8080/",
     "height": 34
    },
    "colab_type": "code",
    "executionInfo": {
     "elapsed": 1121,
     "status": "ok",
     "timestamp": 1563115745192,
     "user": {
      "displayName": "Galuh S",
      "photoUrl": "https://lh5.googleusercontent.com/--bTMli6TIrE/AAAAAAAAAAI/AAAAAAAAAkc/qrvZnPSSR3A/s64/photo.jpg",
      "userId": "03255550178648543649"
     },
     "user_tz": -420
    },
    "id": "3vhwBcKD88qG",
    "outputId": "90cccc78-7b6f-4ca2-8c37-acbcee4ff6f8"
   },
   "outputs": [
    {
     "name": "stdout",
     "output_type": "stream",
     "text": [
      "Hello World! The meaning of life is 42\n"
     ]
    }
   ],
   "source": [
    "print(\"Hello %s%s The meaning of life is %d\" % (string1, string2, 42))"
   ]
  },
  {
   "cell_type": "markdown",
   "metadata": {
    "colab_type": "text",
    "id": "wNNPLuPQ9X5x"
   },
   "source": [
    "## Metode-metode terkait string lainnya\n",
    "Mengalikan sebuah *string* sebuah integer akan mengembalikan sebuah *string* dengan *string* asli yang diulang-ulang sebanyak nilai integer tersebut."
   ]
  },
  {
   "cell_type": "code",
   "execution_count": 7,
   "metadata": {
    "colab": {
     "base_uri": "https://localhost:8080/",
     "height": 34
    },
    "colab_type": "code",
    "executionInfo": {
     "elapsed": 2135,
     "status": "ok",
     "timestamp": 1563115828488,
     "user": {
      "displayName": "Galuh S",
      "photoUrl": "https://lh5.googleusercontent.com/--bTMli6TIrE/AAAAAAAAAAI/AAAAAAAAAkc/qrvZnPSSR3A/s64/photo.jpg",
      "userId": "03255550178648543649"
     },
     "user_tz": -420
    },
    "id": "Y55Wpx6B9O1W",
    "outputId": "597b92a1-d4e7-4b87-acfc-d3fc0054fb41"
   },
   "outputs": [
    {
     "name": "stdout",
     "output_type": "stream",
     "text": [
      "Hello World! Hello World! Hello World! Hello World! Hello World! \n"
     ]
    }
   ],
   "source": [
    "print(\"Hello World! \" * 5)"
   ]
  },
  {
   "cell_type": "markdown",
   "metadata": {
    "colab_type": "text",
    "id": "WxeVvQCI92TV"
   },
   "source": [
    "*String* dapat ditransformasikan dengan menggunakan banyak fungsi:"
   ]
  },
  {
   "cell_type": "code",
   "execution_count": 8,
   "metadata": {
    "colab": {
     "base_uri": "https://localhost:8080/",
     "height": 104
    },
    "colab_type": "code",
    "executionInfo": {
     "elapsed": 797,
     "status": "ok",
     "timestamp": 1563115965059,
     "user": {
      "displayName": "Galuh S",
      "photoUrl": "https://lh5.googleusercontent.com/--bTMli6TIrE/AAAAAAAAAAI/AAAAAAAAAkc/qrvZnPSSR3A/s64/photo.jpg",
      "userId": "03255550178648543649"
     },
     "user_tz": -420
    },
    "id": "GS5KM0Uf9wB7",
    "outputId": "1ea51f12-cafd-490a-a319-c272db8fd395"
   },
   "outputs": [
    {
     "name": "stdout",
     "output_type": "stream",
     "text": [
      "Hello world\n",
      "HELLO WORLD\n",
      "hello world\n",
      "|lots of space|\n",
      "Hello Class\n"
     ]
    }
   ],
   "source": [
    "s = \"hello wOrld\"\n",
    "print(s.capitalize()) # mengubah seluruh huruf di string menjadi huruf kecil, kecuali huruf pertama yang menjadi huruf kapital\n",
    "print(s.upper()) # mengubah seluruh huruf di string menjadi huruf besar\n",
    "print(s.lower()) # mengubah seluruh huruf di string menjadi huruf kecil\n",
    "print('|%s|'% \"     lots of space             \".strip()) # menghilangkan spasi di awal dan akhir string\n",
    "print(\"Hello World\".replace(\"World\", \"Class\")) # mengganti kata \"World\" dengan kata \"Class\""
   ]
  },
  {
   "cell_type": "markdown",
   "metadata": {
    "colab_type": "text",
    "id": "KxORs5YD-Qvx"
   },
   "source": [
    "Python juga menyediakan banyak fungsi yang dapat kita gunakan untuk melakukan pengecekan pada *string*."
   ]
  },
  {
   "cell_type": "code",
   "execution_count": 9,
   "metadata": {
    "colab": {
     "base_uri": "https://localhost:8080/",
     "height": 86
    },
    "colab_type": "code",
    "executionInfo": {
     "elapsed": 947,
     "status": "ok",
     "timestamp": 1563116150727,
     "user": {
      "displayName": "Galuh S",
      "photoUrl": "https://lh5.googleusercontent.com/--bTMli6TIrE/AAAAAAAAAAI/AAAAAAAAAkc/qrvZnPSSR3A/s64/photo.jpg",
      "userId": "03255550178648543649"
     },
     "user_tz": -420
    },
    "id": "SWh06yzw9zcJ",
    "outputId": "97dc2ad8-c32c-492e-ccfb-20c5e8b3e696"
   },
   "outputs": [
    {
     "name": "stdout",
     "output_type": "stream",
     "text": [
      "The length of 'Hello World' is 11 characters\n",
      "There are 3 'l's but only 1 World in Hello World\n",
      "\"el\" is at index 1 in Hello World\n"
     ]
    },
    {
     "data": {
      "text/plain": [
       "-1"
      ]
     },
     "execution_count": 9,
     "metadata": {},
     "output_type": "execute_result"
    }
   ],
   "source": [
    "s = \"Hello World\"\n",
    "print(\"The length of '%s' is\" %s, len(s), \"characters\") # len() memberikan panjang string\n",
    "s.startswith(\"Hello\") and s.endswith(\"World\") # mengecek awal dan akhir\n",
    "print(\"There are %d 'l's but only %d World in %s\" % (s.count('l'), s.count('World'), s)) # menghitung huruf di sebuah string\n",
    "print('\"el\" is at index', s.find('el'), \"in\", s) # mencari index potongan kata \"el\" di kalimat \"Hello World\"\n",
    "s.find('ab') # mencari index potongan kata \"ab\" di kalimat \"Hello World\". Apabila tidak ditemukan, maka fungsi akan mengembalikan -1"
   ]
  },
  {
   "cell_type": "markdown",
   "metadata": {
    "colab_type": "text",
    "id": "o5Bv9Dse-9Ra"
   },
   "source": [
    "## Operator untuk perbandingan string"
   ]
  },
  {
   "cell_type": "markdown",
   "metadata": {
    "colab_type": "text",
    "id": "lOAd3aE7_CP_"
   },
   "source": [
    "*String* dapat dibandingkan satu sama lain sesuai dengan urutan leksikal/alfabet."
   ]
  },
  {
   "cell_type": "code",
   "execution_count": 10,
   "metadata": {
    "colab": {
     "base_uri": "https://localhost:8080/",
     "height": 34
    },
    "colab_type": "code",
    "executionInfo": {
     "elapsed": 760,
     "status": "ok",
     "timestamp": 1563116241639,
     "user": {
      "displayName": "Galuh S",
      "photoUrl": "https://lh5.googleusercontent.com/--bTMli6TIrE/AAAAAAAAAAI/AAAAAAAAAkc/qrvZnPSSR3A/s64/photo.jpg",
      "userId": "03255550178648543649"
     },
     "user_tz": -420
    },
    "id": "Z8i0wfz1-uGE",
    "outputId": "2e36ff79-6f8f-4da5-a067-f79777363734"
   },
   "outputs": [
    {
     "data": {
      "text/plain": [
       "True"
      ]
     },
     "execution_count": 10,
     "metadata": {},
     "output_type": "execute_result"
    }
   ],
   "source": [
    "'abc' < 'bbc' <= 'bbc'"
   ]
  },
  {
   "cell_type": "code",
   "execution_count": 11,
   "metadata": {
    "colab": {
     "base_uri": "https://localhost:8080/",
     "height": 34
    },
    "colab_type": "code",
    "executionInfo": {
     "elapsed": 837,
     "status": "ok",
     "timestamp": 1563116263231,
     "user": {
      "displayName": "Galuh S",
      "photoUrl": "https://lh5.googleusercontent.com/--bTMli6TIrE/AAAAAAAAAAI/AAAAAAAAAkc/qrvZnPSSR3A/s64/photo.jpg",
      "userId": "03255550178648543649"
     },
     "user_tz": -420
    },
    "id": "9B6uX9Gl_P85",
    "outputId": "1c65a6f4-87c1-45ae-ce23-afd54e96f4aa"
   },
   "outputs": [
    {
     "data": {
      "text/plain": [
       "False"
      ]
     },
     "execution_count": 11,
     "metadata": {},
     "output_type": "execute_result"
    }
   ],
   "source": [
    "'abc' > 'def'"
   ]
  },
  {
   "cell_type": "markdown",
   "metadata": {
    "colab_type": "text",
    "id": "qEGOaCCY_b1H"
   },
   "source": [
    "Kita dapat menggunakan `in` untuk mengecek apakah sebuah *string* merupakan potongan (*substring*) dari *string* lainnya."
   ]
  },
  {
   "cell_type": "code",
   "execution_count": 12,
   "metadata": {
    "colab": {
     "base_uri": "https://localhost:8080/",
     "height": 34
    },
    "colab_type": "code",
    "executionInfo": {
     "elapsed": 1427,
     "status": "ok",
     "timestamp": 1563116281177,
     "user": {
      "displayName": "Galuh S",
      "photoUrl": "https://lh5.googleusercontent.com/--bTMli6TIrE/AAAAAAAAAAI/AAAAAAAAAkc/qrvZnPSSR3A/s64/photo.jpg",
      "userId": "03255550178648543649"
     },
     "user_tz": -420
    },
    "id": "IH7IH-g6_ST0",
    "outputId": "d263e4ef-924c-456a-d222-cb90fae56ffc"
   },
   "outputs": [
    {
     "data": {
      "text/plain": [
       "True"
      ]
     },
     "execution_count": 12,
     "metadata": {},
     "output_type": "execute_result"
    }
   ],
   "source": [
    "\"ABC\" in \"This is the ABC of Python\""
   ]
  },
  {
   "cell_type": "markdown",
   "metadata": {
    "colab_type": "text",
    "id": "p-bSovdK_i-j"
   },
   "source": [
    "## Mengakses bagian dari string"
   ]
  },
  {
   "cell_type": "markdown",
   "metadata": {
    "colab_type": "text",
    "id": "rpZEvODNFc9X"
   },
   "source": [
    "Kita dapat mengakses bagian dari *string* dengan menggunakan indeks dan kurung siku. Indeks dimulai dari 0."
   ]
  },
  {
   "cell_type": "code",
   "execution_count": 13,
   "metadata": {
    "colab": {
     "base_uri": "https://localhost:8080/",
     "height": 52
    },
    "colab_type": "code",
    "executionInfo": {
     "elapsed": 1012,
     "status": "ok",
     "timestamp": 1563117955357,
     "user": {
      "displayName": "Galuh S",
      "photoUrl": "https://lh5.googleusercontent.com/--bTMli6TIrE/AAAAAAAAAAI/AAAAAAAAAkc/qrvZnPSSR3A/s64/photo.jpg",
      "userId": "03255550178648543649"
     },
     "user_tz": -420
    },
    "id": "UKAGi7vD_Zbp",
    "outputId": "98004873-fde9-4024-86ca-f3a08d764995"
   },
   "outputs": [
    {
     "name": "stdout",
     "output_type": "stream",
     "text": [
      "The first character of 123456789 is 1\n",
      "The last character of 123456789 is 9\n"
     ]
    }
   ],
   "source": [
    "s = '123456789'\n",
    "print('The first character of', s, 'is', s[0])\n",
    "print('The last character of', s, 'is', s[len(s)-1])"
   ]
  },
  {
   "cell_type": "markdown",
   "metadata": {
    "colab_type": "text",
    "id": "jZHn3B6iFos7"
   },
   "source": [
    "Indeks negatif dapat digunakan untuk memulai perhitungan dari belakang."
   ]
  },
  {
   "cell_type": "code",
   "execution_count": 14,
   "metadata": {
    "colab": {
     "base_uri": "https://localhost:8080/",
     "height": 52
    },
    "colab_type": "code",
    "executionInfo": {
     "elapsed": 600,
     "status": "ok",
     "timestamp": 1563117972404,
     "user": {
      "displayName": "Galuh S",
      "photoUrl": "https://lh5.googleusercontent.com/--bTMli6TIrE/AAAAAAAAAAI/AAAAAAAAAkc/qrvZnPSSR3A/s64/photo.jpg",
      "userId": "03255550178648543649"
     },
     "user_tz": -420
    },
    "id": "B4WinENXFJkJ",
    "outputId": "0149d4d3-e3dc-442e-8d36-72dac7d7a271"
   },
   "outputs": [
    {
     "name": "stdout",
     "output_type": "stream",
     "text": [
      "The first character of 123456789 is 1\n",
      "The last character of 123456789 is 9\n"
     ]
    }
   ],
   "source": [
    "print('The first character of', s, 'is', s[-len(s)])\n",
    "print('The last character of', s, 'is', s[-1])"
   ]
  },
  {
   "cell_type": "markdown",
   "metadata": {
    "colab_type": "text",
    "id": "oN2amWrVGIXX"
   },
   "source": [
    "*Substring* bisa didapatkan dengan menggunakan `a:b` untuk menandakan karakter dari indeks `a` sampai indeks `b-1`. Perhatikan bahwa karakter terakhir (indeks `b`) tidak diikutsertakan."
   ]
  },
  {
   "cell_type": "code",
   "execution_count": 15,
   "metadata": {
    "colab": {
     "base_uri": "https://localhost:8080/",
     "height": 52
    },
    "colab_type": "code",
    "executionInfo": {
     "elapsed": 889,
     "status": "ok",
     "timestamp": 1563118055907,
     "user": {
      "displayName": "Galuh S",
      "photoUrl": "https://lh5.googleusercontent.com/--bTMli6TIrE/AAAAAAAAAAI/AAAAAAAAAkc/qrvZnPSSR3A/s64/photo.jpg",
      "userId": "03255550178648543649"
     },
     "user_tz": -420
    },
    "id": "iTGGiWMgFukb",
    "outputId": "68a67047-def7-4833-b9f9-8f952bba2d28"
   },
   "outputs": [
    {
     "name": "stdout",
     "output_type": "stream",
     "text": [
      "First three charcters 123\n",
      "Next three characters 456\n"
     ]
    }
   ],
   "source": [
    "print(\"First three charcters\", s[0:3])\n",
    "print(\"Next three characters\", s[3:6])"
   ]
  },
  {
   "cell_type": "markdown",
   "metadata": {
    "colab_type": "text",
    "id": "JhVgtG2BGORl"
   },
   "source": [
    "Indeks awal yang kosong menandakan awal *string* (sama dengan indeks 0), sementara indeks akhir yang kosong menandakan akhir *string*."
   ]
  },
  {
   "cell_type": "code",
   "execution_count": 16,
   "metadata": {
    "colab": {
     "base_uri": "https://localhost:8080/",
     "height": 52
    },
    "colab_type": "code",
    "executionInfo": {
     "elapsed": 971,
     "status": "ok",
     "timestamp": 1563118067991,
     "user": {
      "displayName": "Galuh S",
      "photoUrl": "https://lh5.googleusercontent.com/--bTMli6TIrE/AAAAAAAAAAI/AAAAAAAAAkc/qrvZnPSSR3A/s64/photo.jpg",
      "userId": "03255550178648543649"
     },
     "user_tz": -420
    },
    "id": "DYLQTp96GK3y",
    "outputId": "881382b7-6294-4861-a812-2ccf9d1ecc6d"
   },
   "outputs": [
    {
     "name": "stdout",
     "output_type": "stream",
     "text": [
      "First three characters 123\n",
      "Last three characters 789\n"
     ]
    }
   ],
   "source": [
    "print(\"First three characters\", s[:3])\n",
    "print(\"Last three characters\", s[-3:])"
   ]
  }
 ],
 "metadata": {
  "colab": {
   "name": "Pengenalan Dasar Python - 2 - String.ipynb",
   "provenance": [],
   "version": "0.3.2"
  },
  "kernelspec": {
   "display_name": "Python 3",
   "language": "python",
   "name": "python3"
  },
  "language_info": {
   "codemirror_mode": {
    "name": "ipython",
    "version": 3
   },
   "file_extension": ".py",
   "mimetype": "text/x-python",
   "name": "python",
   "nbconvert_exporter": "python",
   "pygments_lexer": "ipython3",
   "version": "3.7.4"
  }
 },
 "nbformat": 4,
 "nbformat_minor": 1
}
