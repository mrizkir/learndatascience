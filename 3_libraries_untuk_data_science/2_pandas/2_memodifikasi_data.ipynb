{
 "cells": [
  {
   "cell_type": "code",
   "execution_count": 1,
   "metadata": {
    "colab": {},
    "colab_type": "code",
    "id": "bqM49HgZhxPE"
   },
   "outputs": [],
   "source": [
    "import pandas as pd"
   ]
  },
  {
   "cell_type": "markdown",
   "metadata": {
    "colab_type": "text",
    "id": "Uiv8MyhEhubK"
   },
   "source": [
    "# Menghapus Data"
   ]
  },
  {
   "cell_type": "code",
   "execution_count": 2,
   "metadata": {
    "colab": {},
    "colab_type": "code",
    "id": "sK1PX7k_6F4N"
   },
   "outputs": [],
   "source": [
    "df_aps = pd.read_csv(\"data/angka_partisipasi_sekolah.csv\", sep=\";\")"
   ]
  },
  {
   "cell_type": "code",
   "execution_count": 3,
   "metadata": {
    "colab": {
     "base_uri": "https://localhost:8080/",
     "height": 293
    },
    "colab_type": "code",
    "id": "3c6erXVqdqeJ",
    "outputId": "51dd7f1d-9295-401d-a01d-f2538cfd5f23"
   },
   "outputs": [
    {
     "data": {
      "text/html": [
       "<div>\n",
       "<style scoped>\n",
       "    .dataframe tbody tr th:only-of-type {\n",
       "        vertical-align: middle;\n",
       "    }\n",
       "\n",
       "    .dataframe tbody tr th {\n",
       "        vertical-align: top;\n",
       "    }\n",
       "\n",
       "    .dataframe thead th {\n",
       "        text-align: right;\n",
       "    }\n",
       "</style>\n",
       "<table border=\"1\" class=\"dataframe\">\n",
       "  <thead>\n",
       "    <tr style=\"text-align: right;\">\n",
       "      <th></th>\n",
       "      <th>nama_variabel</th>\n",
       "      <th>nama_variabel_turunan</th>\n",
       "      <th>nama_tahun</th>\n",
       "      <th>nama_turunan_tahun</th>\n",
       "      <th>data_content</th>\n",
       "      <th>nama_item_vertical_variabel</th>\n",
       "    </tr>\n",
       "  </thead>\n",
       "  <tbody>\n",
       "    <tr>\n",
       "      <td>0</td>\n",
       "      <td>Angka Partisipasi Sekolah ( A P S )</td>\n",
       "      <td>7-12</td>\n",
       "      <td>2011</td>\n",
       "      <td>Tahun</td>\n",
       "      <td>98.99</td>\n",
       "      <td>ACEH</td>\n",
       "    </tr>\n",
       "    <tr>\n",
       "      <td>1</td>\n",
       "      <td>Angka Partisipasi Sekolah ( A P S )</td>\n",
       "      <td>7-12</td>\n",
       "      <td>2011</td>\n",
       "      <td>Tahun</td>\n",
       "      <td>98.34</td>\n",
       "      <td>SUMATERA UTARA</td>\n",
       "    </tr>\n",
       "    <tr>\n",
       "      <td>2</td>\n",
       "      <td>Angka Partisipasi Sekolah ( A P S )</td>\n",
       "      <td>7-12</td>\n",
       "      <td>2011</td>\n",
       "      <td>Tahun</td>\n",
       "      <td>98.09</td>\n",
       "      <td>SUMATERA BARAT</td>\n",
       "    </tr>\n",
       "    <tr>\n",
       "      <td>3</td>\n",
       "      <td>Angka Partisipasi Sekolah ( A P S )</td>\n",
       "      <td>7-12</td>\n",
       "      <td>2011</td>\n",
       "      <td>Tahun</td>\n",
       "      <td>97.68</td>\n",
       "      <td>RIAU</td>\n",
       "    </tr>\n",
       "    <tr>\n",
       "      <td>4</td>\n",
       "      <td>Angka Partisipasi Sekolah ( A P S )</td>\n",
       "      <td>7-12</td>\n",
       "      <td>2011</td>\n",
       "      <td>Tahun</td>\n",
       "      <td>NaN</td>\n",
       "      <td>JAMBI</td>\n",
       "    </tr>\n",
       "  </tbody>\n",
       "</table>\n",
       "</div>"
      ],
      "text/plain": [
       "                         nama_variabel nama_variabel_turunan  nama_tahun  \\\n",
       "0  Angka Partisipasi Sekolah ( A P S )                  7-12        2011   \n",
       "1  Angka Partisipasi Sekolah ( A P S )                  7-12        2011   \n",
       "2  Angka Partisipasi Sekolah ( A P S )                  7-12        2011   \n",
       "3  Angka Partisipasi Sekolah ( A P S )                  7-12        2011   \n",
       "4  Angka Partisipasi Sekolah ( A P S )                  7-12        2011   \n",
       "\n",
       "  nama_turunan_tahun data_content nama_item_vertical_variabel  \n",
       "0              Tahun        98.99                        ACEH  \n",
       "1              Tahun        98.34              SUMATERA UTARA  \n",
       "2              Tahun        98.09              SUMATERA BARAT  \n",
       "3              Tahun        97.68                        RIAU  \n",
       "4              Tahun          NaN                       JAMBI  "
      ]
     },
     "execution_count": 3,
     "metadata": {},
     "output_type": "execute_result"
    }
   ],
   "source": [
    "df_aps.head()"
   ]
  },
  {
   "cell_type": "markdown",
   "metadata": {
    "colab_type": "text",
    "id": "VR6NxPNyYT8w"
   },
   "source": [
    "## Menghapus kolom"
   ]
  },
  {
   "cell_type": "markdown",
   "metadata": {
    "colab_type": "text",
    "id": "OCkQx_6ydw__"
   },
   "source": [
    "Ada dua metode:\n",
    "- `del`\n",
    "- `drop`"
   ]
  },
  {
   "cell_type": "markdown",
   "metadata": {
    "colab_type": "text",
    "id": "7EcHvW8qj5gF"
   },
   "source": [
    "### del"
   ]
  },
  {
   "cell_type": "code",
   "execution_count": 4,
   "metadata": {
    "colab": {},
    "colab_type": "code",
    "id": "jfgRhRMddoZP"
   },
   "outputs": [],
   "source": [
    "del df_aps[\"nama_variabel_turunan\"]"
   ]
  },
  {
   "cell_type": "code",
   "execution_count": 5,
   "metadata": {
    "colab": {
     "base_uri": "https://localhost:8080/",
     "height": 206
    },
    "colab_type": "code",
    "id": "pXp9Theg9g48",
    "outputId": "798d1476-362b-41a2-d0aa-eaa3bd9b7418"
   },
   "outputs": [
    {
     "data": {
      "text/html": [
       "<div>\n",
       "<style scoped>\n",
       "    .dataframe tbody tr th:only-of-type {\n",
       "        vertical-align: middle;\n",
       "    }\n",
       "\n",
       "    .dataframe tbody tr th {\n",
       "        vertical-align: top;\n",
       "    }\n",
       "\n",
       "    .dataframe thead th {\n",
       "        text-align: right;\n",
       "    }\n",
       "</style>\n",
       "<table border=\"1\" class=\"dataframe\">\n",
       "  <thead>\n",
       "    <tr style=\"text-align: right;\">\n",
       "      <th></th>\n",
       "      <th>nama_variabel</th>\n",
       "      <th>nama_tahun</th>\n",
       "      <th>nama_turunan_tahun</th>\n",
       "      <th>data_content</th>\n",
       "      <th>nama_item_vertical_variabel</th>\n",
       "    </tr>\n",
       "  </thead>\n",
       "  <tbody>\n",
       "    <tr>\n",
       "      <td>0</td>\n",
       "      <td>Angka Partisipasi Sekolah ( A P S )</td>\n",
       "      <td>2011</td>\n",
       "      <td>Tahun</td>\n",
       "      <td>98.99</td>\n",
       "      <td>ACEH</td>\n",
       "    </tr>\n",
       "    <tr>\n",
       "      <td>1</td>\n",
       "      <td>Angka Partisipasi Sekolah ( A P S )</td>\n",
       "      <td>2011</td>\n",
       "      <td>Tahun</td>\n",
       "      <td>98.34</td>\n",
       "      <td>SUMATERA UTARA</td>\n",
       "    </tr>\n",
       "    <tr>\n",
       "      <td>2</td>\n",
       "      <td>Angka Partisipasi Sekolah ( A P S )</td>\n",
       "      <td>2011</td>\n",
       "      <td>Tahun</td>\n",
       "      <td>98.09</td>\n",
       "      <td>SUMATERA BARAT</td>\n",
       "    </tr>\n",
       "    <tr>\n",
       "      <td>3</td>\n",
       "      <td>Angka Partisipasi Sekolah ( A P S )</td>\n",
       "      <td>2011</td>\n",
       "      <td>Tahun</td>\n",
       "      <td>97.68</td>\n",
       "      <td>RIAU</td>\n",
       "    </tr>\n",
       "    <tr>\n",
       "      <td>4</td>\n",
       "      <td>Angka Partisipasi Sekolah ( A P S )</td>\n",
       "      <td>2011</td>\n",
       "      <td>Tahun</td>\n",
       "      <td>NaN</td>\n",
       "      <td>JAMBI</td>\n",
       "    </tr>\n",
       "  </tbody>\n",
       "</table>\n",
       "</div>"
      ],
      "text/plain": [
       "                         nama_variabel  nama_tahun nama_turunan_tahun  \\\n",
       "0  Angka Partisipasi Sekolah ( A P S )        2011              Tahun   \n",
       "1  Angka Partisipasi Sekolah ( A P S )        2011              Tahun   \n",
       "2  Angka Partisipasi Sekolah ( A P S )        2011              Tahun   \n",
       "3  Angka Partisipasi Sekolah ( A P S )        2011              Tahun   \n",
       "4  Angka Partisipasi Sekolah ( A P S )        2011              Tahun   \n",
       "\n",
       "  data_content nama_item_vertical_variabel  \n",
       "0        98.99                        ACEH  \n",
       "1        98.34              SUMATERA UTARA  \n",
       "2        98.09              SUMATERA BARAT  \n",
       "3        97.68                        RIAU  \n",
       "4          NaN                       JAMBI  "
      ]
     },
     "execution_count": 5,
     "metadata": {},
     "output_type": "execute_result"
    }
   ],
   "source": [
    "df_aps.head()"
   ]
  },
  {
   "cell_type": "markdown",
   "metadata": {
    "colab_type": "text",
    "id": "pbUmn4o9h4bi"
   },
   "source": [
    "⚠️ *Keyword* `del` akan menghapus kolom secara langsung (*in-place*). Apabila Anda ingin menggunakan `del`, pastikan bahwa Anda menghapus kolom yang benar. Apabila Anda ingin mencoba-coba dulu tanpa menghapus data yang sebenarnya, gunakan metode `drop` tanpa menempatkan *dataframe* Anda ke sebuah variabel."
   ]
  },
  {
   "cell_type": "markdown",
   "metadata": {
    "colab_type": "text",
    "id": "8L5MOhFNj7ve"
   },
   "source": [
    "### drop"
   ]
  },
  {
   "cell_type": "markdown",
   "metadata": {
    "colab_type": "text",
    "id": "92BvuXLskBt5"
   },
   "source": [
    "📖  Dokumentasi `pandas.drop`: [tautan](https://pandas.pydata.org/pandas-docs/stable/reference/api/pandas.DataFrame.drop.html)\n",
    "\n",
    "- `axis`: bernilai 0 atau `index` apabila ingin menghapus label dari indeks; bernilai 1 apabila ingin menghapus kolom.\n",
    "- `inplace`: `True` apabila operasi akan dilakukan ditempat; `False` apabila sebaliknya."
   ]
  },
  {
   "cell_type": "code",
   "execution_count": 6,
   "metadata": {
    "colab": {
     "base_uri": "https://localhost:8080/",
     "height": 206
    },
    "colab_type": "code",
    "id": "_4ocUPvcY_dk",
    "outputId": "34fde7e2-a821-4887-9127-a06cf6c004b8"
   },
   "outputs": [
    {
     "data": {
      "text/html": [
       "<div>\n",
       "<style scoped>\n",
       "    .dataframe tbody tr th:only-of-type {\n",
       "        vertical-align: middle;\n",
       "    }\n",
       "\n",
       "    .dataframe tbody tr th {\n",
       "        vertical-align: top;\n",
       "    }\n",
       "\n",
       "    .dataframe thead th {\n",
       "        text-align: right;\n",
       "    }\n",
       "</style>\n",
       "<table border=\"1\" class=\"dataframe\">\n",
       "  <thead>\n",
       "    <tr style=\"text-align: right;\">\n",
       "      <th></th>\n",
       "      <th>nama_variabel</th>\n",
       "      <th>nama_tahun</th>\n",
       "      <th>data_content</th>\n",
       "      <th>nama_item_vertical_variabel</th>\n",
       "    </tr>\n",
       "  </thead>\n",
       "  <tbody>\n",
       "    <tr>\n",
       "      <td>0</td>\n",
       "      <td>Angka Partisipasi Sekolah ( A P S )</td>\n",
       "      <td>2011</td>\n",
       "      <td>98.99</td>\n",
       "      <td>ACEH</td>\n",
       "    </tr>\n",
       "    <tr>\n",
       "      <td>1</td>\n",
       "      <td>Angka Partisipasi Sekolah ( A P S )</td>\n",
       "      <td>2011</td>\n",
       "      <td>98.34</td>\n",
       "      <td>SUMATERA UTARA</td>\n",
       "    </tr>\n",
       "    <tr>\n",
       "      <td>2</td>\n",
       "      <td>Angka Partisipasi Sekolah ( A P S )</td>\n",
       "      <td>2011</td>\n",
       "      <td>98.09</td>\n",
       "      <td>SUMATERA BARAT</td>\n",
       "    </tr>\n",
       "    <tr>\n",
       "      <td>3</td>\n",
       "      <td>Angka Partisipasi Sekolah ( A P S )</td>\n",
       "      <td>2011</td>\n",
       "      <td>97.68</td>\n",
       "      <td>RIAU</td>\n",
       "    </tr>\n",
       "    <tr>\n",
       "      <td>4</td>\n",
       "      <td>Angka Partisipasi Sekolah ( A P S )</td>\n",
       "      <td>2011</td>\n",
       "      <td>NaN</td>\n",
       "      <td>JAMBI</td>\n",
       "    </tr>\n",
       "  </tbody>\n",
       "</table>\n",
       "</div>"
      ],
      "text/plain": [
       "                         nama_variabel  nama_tahun data_content  \\\n",
       "0  Angka Partisipasi Sekolah ( A P S )        2011        98.99   \n",
       "1  Angka Partisipasi Sekolah ( A P S )        2011        98.34   \n",
       "2  Angka Partisipasi Sekolah ( A P S )        2011        98.09   \n",
       "3  Angka Partisipasi Sekolah ( A P S )        2011        97.68   \n",
       "4  Angka Partisipasi Sekolah ( A P S )        2011          NaN   \n",
       "\n",
       "  nama_item_vertical_variabel  \n",
       "0                        ACEH  \n",
       "1              SUMATERA UTARA  \n",
       "2              SUMATERA BARAT  \n",
       "3                        RIAU  \n",
       "4                       JAMBI  "
      ]
     },
     "execution_count": 6,
     "metadata": {},
     "output_type": "execute_result"
    }
   ],
   "source": [
    "df_aps.drop(\"nama_turunan_tahun\", axis=1).head()"
   ]
  },
  {
   "cell_type": "code",
   "execution_count": 7,
   "metadata": {
    "colab": {
     "base_uri": "https://localhost:8080/",
     "height": 206
    },
    "colab_type": "code",
    "id": "fUjnJxgleCeS",
    "outputId": "52bb91ce-2928-413a-bff7-2278f329a25b"
   },
   "outputs": [
    {
     "data": {
      "text/html": [
       "<div>\n",
       "<style scoped>\n",
       "    .dataframe tbody tr th:only-of-type {\n",
       "        vertical-align: middle;\n",
       "    }\n",
       "\n",
       "    .dataframe tbody tr th {\n",
       "        vertical-align: top;\n",
       "    }\n",
       "\n",
       "    .dataframe thead th {\n",
       "        text-align: right;\n",
       "    }\n",
       "</style>\n",
       "<table border=\"1\" class=\"dataframe\">\n",
       "  <thead>\n",
       "    <tr style=\"text-align: right;\">\n",
       "      <th></th>\n",
       "      <th>nama_variabel</th>\n",
       "      <th>nama_tahun</th>\n",
       "      <th>nama_turunan_tahun</th>\n",
       "      <th>data_content</th>\n",
       "      <th>nama_item_vertical_variabel</th>\n",
       "    </tr>\n",
       "  </thead>\n",
       "  <tbody>\n",
       "    <tr>\n",
       "      <td>0</td>\n",
       "      <td>Angka Partisipasi Sekolah ( A P S )</td>\n",
       "      <td>2011</td>\n",
       "      <td>Tahun</td>\n",
       "      <td>98.99</td>\n",
       "      <td>ACEH</td>\n",
       "    </tr>\n",
       "    <tr>\n",
       "      <td>1</td>\n",
       "      <td>Angka Partisipasi Sekolah ( A P S )</td>\n",
       "      <td>2011</td>\n",
       "      <td>Tahun</td>\n",
       "      <td>98.34</td>\n",
       "      <td>SUMATERA UTARA</td>\n",
       "    </tr>\n",
       "    <tr>\n",
       "      <td>2</td>\n",
       "      <td>Angka Partisipasi Sekolah ( A P S )</td>\n",
       "      <td>2011</td>\n",
       "      <td>Tahun</td>\n",
       "      <td>98.09</td>\n",
       "      <td>SUMATERA BARAT</td>\n",
       "    </tr>\n",
       "    <tr>\n",
       "      <td>3</td>\n",
       "      <td>Angka Partisipasi Sekolah ( A P S )</td>\n",
       "      <td>2011</td>\n",
       "      <td>Tahun</td>\n",
       "      <td>97.68</td>\n",
       "      <td>RIAU</td>\n",
       "    </tr>\n",
       "    <tr>\n",
       "      <td>4</td>\n",
       "      <td>Angka Partisipasi Sekolah ( A P S )</td>\n",
       "      <td>2011</td>\n",
       "      <td>Tahun</td>\n",
       "      <td>NaN</td>\n",
       "      <td>JAMBI</td>\n",
       "    </tr>\n",
       "  </tbody>\n",
       "</table>\n",
       "</div>"
      ],
      "text/plain": [
       "                         nama_variabel  nama_tahun nama_turunan_tahun  \\\n",
       "0  Angka Partisipasi Sekolah ( A P S )        2011              Tahun   \n",
       "1  Angka Partisipasi Sekolah ( A P S )        2011              Tahun   \n",
       "2  Angka Partisipasi Sekolah ( A P S )        2011              Tahun   \n",
       "3  Angka Partisipasi Sekolah ( A P S )        2011              Tahun   \n",
       "4  Angka Partisipasi Sekolah ( A P S )        2011              Tahun   \n",
       "\n",
       "  data_content nama_item_vertical_variabel  \n",
       "0        98.99                        ACEH  \n",
       "1        98.34              SUMATERA UTARA  \n",
       "2        98.09              SUMATERA BARAT  \n",
       "3        97.68                        RIAU  \n",
       "4          NaN                       JAMBI  "
      ]
     },
     "execution_count": 7,
     "metadata": {},
     "output_type": "execute_result"
    }
   ],
   "source": [
    "df_aps.head()"
   ]
  },
  {
   "cell_type": "code",
   "execution_count": 8,
   "metadata": {
    "colab": {},
    "colab_type": "code",
    "id": "QjTDMoVjb8_c"
   },
   "outputs": [],
   "source": [
    "df_aps_deleted = df_aps.drop(\"nama_turunan_tahun\", axis=1).head()"
   ]
  },
  {
   "cell_type": "code",
   "execution_count": 9,
   "metadata": {
    "colab": {
     "base_uri": "https://localhost:8080/",
     "height": 206
    },
    "colab_type": "code",
    "id": "nw-kghaWcDn0",
    "outputId": "9ca4976d-9b9d-4f50-f81b-bc3faa1b29d6"
   },
   "outputs": [
    {
     "data": {
      "text/html": [
       "<div>\n",
       "<style scoped>\n",
       "    .dataframe tbody tr th:only-of-type {\n",
       "        vertical-align: middle;\n",
       "    }\n",
       "\n",
       "    .dataframe tbody tr th {\n",
       "        vertical-align: top;\n",
       "    }\n",
       "\n",
       "    .dataframe thead th {\n",
       "        text-align: right;\n",
       "    }\n",
       "</style>\n",
       "<table border=\"1\" class=\"dataframe\">\n",
       "  <thead>\n",
       "    <tr style=\"text-align: right;\">\n",
       "      <th></th>\n",
       "      <th>nama_variabel</th>\n",
       "      <th>nama_tahun</th>\n",
       "      <th>data_content</th>\n",
       "      <th>nama_item_vertical_variabel</th>\n",
       "    </tr>\n",
       "  </thead>\n",
       "  <tbody>\n",
       "    <tr>\n",
       "      <td>0</td>\n",
       "      <td>Angka Partisipasi Sekolah ( A P S )</td>\n",
       "      <td>2011</td>\n",
       "      <td>98.99</td>\n",
       "      <td>ACEH</td>\n",
       "    </tr>\n",
       "    <tr>\n",
       "      <td>1</td>\n",
       "      <td>Angka Partisipasi Sekolah ( A P S )</td>\n",
       "      <td>2011</td>\n",
       "      <td>98.34</td>\n",
       "      <td>SUMATERA UTARA</td>\n",
       "    </tr>\n",
       "    <tr>\n",
       "      <td>2</td>\n",
       "      <td>Angka Partisipasi Sekolah ( A P S )</td>\n",
       "      <td>2011</td>\n",
       "      <td>98.09</td>\n",
       "      <td>SUMATERA BARAT</td>\n",
       "    </tr>\n",
       "    <tr>\n",
       "      <td>3</td>\n",
       "      <td>Angka Partisipasi Sekolah ( A P S )</td>\n",
       "      <td>2011</td>\n",
       "      <td>97.68</td>\n",
       "      <td>RIAU</td>\n",
       "    </tr>\n",
       "    <tr>\n",
       "      <td>4</td>\n",
       "      <td>Angka Partisipasi Sekolah ( A P S )</td>\n",
       "      <td>2011</td>\n",
       "      <td>NaN</td>\n",
       "      <td>JAMBI</td>\n",
       "    </tr>\n",
       "  </tbody>\n",
       "</table>\n",
       "</div>"
      ],
      "text/plain": [
       "                         nama_variabel  nama_tahun data_content  \\\n",
       "0  Angka Partisipasi Sekolah ( A P S )        2011        98.99   \n",
       "1  Angka Partisipasi Sekolah ( A P S )        2011        98.34   \n",
       "2  Angka Partisipasi Sekolah ( A P S )        2011        98.09   \n",
       "3  Angka Partisipasi Sekolah ( A P S )        2011        97.68   \n",
       "4  Angka Partisipasi Sekolah ( A P S )        2011          NaN   \n",
       "\n",
       "  nama_item_vertical_variabel  \n",
       "0                        ACEH  \n",
       "1              SUMATERA UTARA  \n",
       "2              SUMATERA BARAT  \n",
       "3                        RIAU  \n",
       "4                       JAMBI  "
      ]
     },
     "execution_count": 9,
     "metadata": {},
     "output_type": "execute_result"
    }
   ],
   "source": [
    "df_aps_deleted.head()"
   ]
  },
  {
   "cell_type": "code",
   "execution_count": 10,
   "metadata": {
    "colab": {},
    "colab_type": "code",
    "id": "9apCVQldeEAU"
   },
   "outputs": [],
   "source": [
    "df_aps.drop(\"nama_turunan_tahun\", axis=1, inplace=True)"
   ]
  },
  {
   "cell_type": "code",
   "execution_count": 11,
   "metadata": {
    "colab": {
     "base_uri": "https://localhost:8080/",
     "height": 206
    },
    "colab_type": "code",
    "id": "wWW5CAgFeHhC",
    "outputId": "970497ce-df21-4860-fc9f-ab4c9a803508"
   },
   "outputs": [
    {
     "data": {
      "text/html": [
       "<div>\n",
       "<style scoped>\n",
       "    .dataframe tbody tr th:only-of-type {\n",
       "        vertical-align: middle;\n",
       "    }\n",
       "\n",
       "    .dataframe tbody tr th {\n",
       "        vertical-align: top;\n",
       "    }\n",
       "\n",
       "    .dataframe thead th {\n",
       "        text-align: right;\n",
       "    }\n",
       "</style>\n",
       "<table border=\"1\" class=\"dataframe\">\n",
       "  <thead>\n",
       "    <tr style=\"text-align: right;\">\n",
       "      <th></th>\n",
       "      <th>nama_variabel</th>\n",
       "      <th>nama_tahun</th>\n",
       "      <th>data_content</th>\n",
       "      <th>nama_item_vertical_variabel</th>\n",
       "    </tr>\n",
       "  </thead>\n",
       "  <tbody>\n",
       "    <tr>\n",
       "      <td>0</td>\n",
       "      <td>Angka Partisipasi Sekolah ( A P S )</td>\n",
       "      <td>2011</td>\n",
       "      <td>98.99</td>\n",
       "      <td>ACEH</td>\n",
       "    </tr>\n",
       "    <tr>\n",
       "      <td>1</td>\n",
       "      <td>Angka Partisipasi Sekolah ( A P S )</td>\n",
       "      <td>2011</td>\n",
       "      <td>98.34</td>\n",
       "      <td>SUMATERA UTARA</td>\n",
       "    </tr>\n",
       "    <tr>\n",
       "      <td>2</td>\n",
       "      <td>Angka Partisipasi Sekolah ( A P S )</td>\n",
       "      <td>2011</td>\n",
       "      <td>98.09</td>\n",
       "      <td>SUMATERA BARAT</td>\n",
       "    </tr>\n",
       "    <tr>\n",
       "      <td>3</td>\n",
       "      <td>Angka Partisipasi Sekolah ( A P S )</td>\n",
       "      <td>2011</td>\n",
       "      <td>97.68</td>\n",
       "      <td>RIAU</td>\n",
       "    </tr>\n",
       "    <tr>\n",
       "      <td>4</td>\n",
       "      <td>Angka Partisipasi Sekolah ( A P S )</td>\n",
       "      <td>2011</td>\n",
       "      <td>NaN</td>\n",
       "      <td>JAMBI</td>\n",
       "    </tr>\n",
       "  </tbody>\n",
       "</table>\n",
       "</div>"
      ],
      "text/plain": [
       "                         nama_variabel  nama_tahun data_content  \\\n",
       "0  Angka Partisipasi Sekolah ( A P S )        2011        98.99   \n",
       "1  Angka Partisipasi Sekolah ( A P S )        2011        98.34   \n",
       "2  Angka Partisipasi Sekolah ( A P S )        2011        98.09   \n",
       "3  Angka Partisipasi Sekolah ( A P S )        2011        97.68   \n",
       "4  Angka Partisipasi Sekolah ( A P S )        2011          NaN   \n",
       "\n",
       "  nama_item_vertical_variabel  \n",
       "0                        ACEH  \n",
       "1              SUMATERA UTARA  \n",
       "2              SUMATERA BARAT  \n",
       "3                        RIAU  \n",
       "4                       JAMBI  "
      ]
     },
     "execution_count": 11,
     "metadata": {},
     "output_type": "execute_result"
    }
   ],
   "source": [
    "df_aps.head()"
   ]
  },
  {
   "cell_type": "code",
   "execution_count": 12,
   "metadata": {
    "colab": {},
    "colab_type": "code",
    "id": "aNHJCqWneIw9"
   },
   "outputs": [],
   "source": [
    "df_aps = df_aps.drop(\"nama_variabel\", axis=1)"
   ]
  },
  {
   "cell_type": "code",
   "execution_count": 13,
   "metadata": {
    "colab": {
     "base_uri": "https://localhost:8080/",
     "height": 206
    },
    "colab_type": "code",
    "id": "OTfu6itxeL8V",
    "outputId": "cdebbd0a-533d-4cb9-cf55-57a923c21d75"
   },
   "outputs": [
    {
     "data": {
      "text/html": [
       "<div>\n",
       "<style scoped>\n",
       "    .dataframe tbody tr th:only-of-type {\n",
       "        vertical-align: middle;\n",
       "    }\n",
       "\n",
       "    .dataframe tbody tr th {\n",
       "        vertical-align: top;\n",
       "    }\n",
       "\n",
       "    .dataframe thead th {\n",
       "        text-align: right;\n",
       "    }\n",
       "</style>\n",
       "<table border=\"1\" class=\"dataframe\">\n",
       "  <thead>\n",
       "    <tr style=\"text-align: right;\">\n",
       "      <th></th>\n",
       "      <th>nama_tahun</th>\n",
       "      <th>data_content</th>\n",
       "      <th>nama_item_vertical_variabel</th>\n",
       "    </tr>\n",
       "  </thead>\n",
       "  <tbody>\n",
       "    <tr>\n",
       "      <td>0</td>\n",
       "      <td>2011</td>\n",
       "      <td>98.99</td>\n",
       "      <td>ACEH</td>\n",
       "    </tr>\n",
       "    <tr>\n",
       "      <td>1</td>\n",
       "      <td>2011</td>\n",
       "      <td>98.34</td>\n",
       "      <td>SUMATERA UTARA</td>\n",
       "    </tr>\n",
       "    <tr>\n",
       "      <td>2</td>\n",
       "      <td>2011</td>\n",
       "      <td>98.09</td>\n",
       "      <td>SUMATERA BARAT</td>\n",
       "    </tr>\n",
       "    <tr>\n",
       "      <td>3</td>\n",
       "      <td>2011</td>\n",
       "      <td>97.68</td>\n",
       "      <td>RIAU</td>\n",
       "    </tr>\n",
       "    <tr>\n",
       "      <td>4</td>\n",
       "      <td>2011</td>\n",
       "      <td>NaN</td>\n",
       "      <td>JAMBI</td>\n",
       "    </tr>\n",
       "  </tbody>\n",
       "</table>\n",
       "</div>"
      ],
      "text/plain": [
       "   nama_tahun data_content nama_item_vertical_variabel\n",
       "0        2011        98.99                        ACEH\n",
       "1        2011        98.34              SUMATERA UTARA\n",
       "2        2011        98.09              SUMATERA BARAT\n",
       "3        2011        97.68                        RIAU\n",
       "4        2011          NaN                       JAMBI"
      ]
     },
     "execution_count": 13,
     "metadata": {},
     "output_type": "execute_result"
    }
   ],
   "source": [
    "df_aps.head()"
   ]
  },
  {
   "cell_type": "markdown",
   "metadata": {
    "colab_type": "text",
    "id": "-YBwp_E5eUeC"
   },
   "source": [
    "### Latihan\n",
    "Hapus tiga kolom (nama_variabel, nama_variabel_turunan, dan nama_turunan_tahun) dalam satu kode sekaligus"
   ]
  },
  {
   "cell_type": "code",
   "execution_count": 14,
   "metadata": {
    "colab": {},
    "colab_type": "code",
    "id": "pv6BHuW7eVSP"
   },
   "outputs": [],
   "source": [
    "df_aps = pd.read_csv(\"data/angka_partisipasi_sekolah.csv\", sep=\";\")"
   ]
  },
  {
   "cell_type": "markdown",
   "metadata": {
    "colab_type": "text",
    "id": "HUUO78mncgnc"
   },
   "source": [
    "#### Hint"
   ]
  },
  {
   "cell_type": "markdown",
   "metadata": {
    "colab_type": "text",
    "id": "mPZPbRo6c59X"
   },
   "source": [
    "Anda bisa lihat di [dokumentasinya](https://pandas.pydata.org/pandas-docs/stable/reference/api/pandas.DataFrame.drop.html) bahwa metode `drop` tidak hanya menerima satu label saja, tapi juga menerima *list*."
   ]
  },
  {
   "cell_type": "markdown",
   "metadata": {
    "colab_type": "text",
    "id": "CATRrw5jgtdq"
   },
   "source": [
    "#### Solusi 1"
   ]
  },
  {
   "cell_type": "code",
   "execution_count": 15,
   "metadata": {
    "colab": {},
    "colab_type": "code",
    "id": "lDuXxUbLgutd"
   },
   "outputs": [],
   "source": [
    "dropped_columns = [\"nama_variabel\", \"nama_variabel_turunan\", \"nama_turunan_tahun\"]\n",
    "df_aps = df_aps.drop(dropped_columns, axis=1)"
   ]
  },
  {
   "cell_type": "code",
   "execution_count": 16,
   "metadata": {
    "colab": {
     "base_uri": "https://localhost:8080/",
     "height": 206
    },
    "colab_type": "code",
    "id": "mmFXESmag4na",
    "outputId": "fd3cda50-9101-4a30-98fd-4eef7155cdd9"
   },
   "outputs": [
    {
     "data": {
      "text/html": [
       "<div>\n",
       "<style scoped>\n",
       "    .dataframe tbody tr th:only-of-type {\n",
       "        vertical-align: middle;\n",
       "    }\n",
       "\n",
       "    .dataframe tbody tr th {\n",
       "        vertical-align: top;\n",
       "    }\n",
       "\n",
       "    .dataframe thead th {\n",
       "        text-align: right;\n",
       "    }\n",
       "</style>\n",
       "<table border=\"1\" class=\"dataframe\">\n",
       "  <thead>\n",
       "    <tr style=\"text-align: right;\">\n",
       "      <th></th>\n",
       "      <th>nama_tahun</th>\n",
       "      <th>data_content</th>\n",
       "      <th>nama_item_vertical_variabel</th>\n",
       "    </tr>\n",
       "  </thead>\n",
       "  <tbody>\n",
       "    <tr>\n",
       "      <td>0</td>\n",
       "      <td>2011</td>\n",
       "      <td>98.99</td>\n",
       "      <td>ACEH</td>\n",
       "    </tr>\n",
       "    <tr>\n",
       "      <td>1</td>\n",
       "      <td>2011</td>\n",
       "      <td>98.34</td>\n",
       "      <td>SUMATERA UTARA</td>\n",
       "    </tr>\n",
       "    <tr>\n",
       "      <td>2</td>\n",
       "      <td>2011</td>\n",
       "      <td>98.09</td>\n",
       "      <td>SUMATERA BARAT</td>\n",
       "    </tr>\n",
       "    <tr>\n",
       "      <td>3</td>\n",
       "      <td>2011</td>\n",
       "      <td>97.68</td>\n",
       "      <td>RIAU</td>\n",
       "    </tr>\n",
       "    <tr>\n",
       "      <td>4</td>\n",
       "      <td>2011</td>\n",
       "      <td>NaN</td>\n",
       "      <td>JAMBI</td>\n",
       "    </tr>\n",
       "  </tbody>\n",
       "</table>\n",
       "</div>"
      ],
      "text/plain": [
       "   nama_tahun data_content nama_item_vertical_variabel\n",
       "0        2011        98.99                        ACEH\n",
       "1        2011        98.34              SUMATERA UTARA\n",
       "2        2011        98.09              SUMATERA BARAT\n",
       "3        2011        97.68                        RIAU\n",
       "4        2011          NaN                       JAMBI"
      ]
     },
     "execution_count": 16,
     "metadata": {},
     "output_type": "execute_result"
    }
   ],
   "source": [
    "df_aps.head()"
   ]
  },
  {
   "cell_type": "markdown",
   "metadata": {
    "colab_type": "text",
    "id": "s9maOiA7dAFF"
   },
   "source": [
    "#### Solusi 2"
   ]
  },
  {
   "cell_type": "code",
   "execution_count": 17,
   "metadata": {
    "colab": {},
    "colab_type": "code",
    "id": "bheoaCkJg8Lu"
   },
   "outputs": [],
   "source": [
    "df_aps = pd.read_csv(\"data/angka_partisipasi_sekolah.csv\", sep=\";\")"
   ]
  },
  {
   "cell_type": "code",
   "execution_count": 18,
   "metadata": {
    "colab": {},
    "colab_type": "code",
    "id": "Q52aSkeKg9yw"
   },
   "outputs": [],
   "source": [
    "df_aps.drop(dropped_columns, axis=1, inplace=True)"
   ]
  },
  {
   "cell_type": "code",
   "execution_count": 19,
   "metadata": {
    "colab": {
     "base_uri": "https://localhost:8080/",
     "height": 206
    },
    "colab_type": "code",
    "id": "n5I9kRf9hAQz",
    "outputId": "a913592c-5fd0-40dd-e788-b80f3caf1ce4"
   },
   "outputs": [
    {
     "data": {
      "text/html": [
       "<div>\n",
       "<style scoped>\n",
       "    .dataframe tbody tr th:only-of-type {\n",
       "        vertical-align: middle;\n",
       "    }\n",
       "\n",
       "    .dataframe tbody tr th {\n",
       "        vertical-align: top;\n",
       "    }\n",
       "\n",
       "    .dataframe thead th {\n",
       "        text-align: right;\n",
       "    }\n",
       "</style>\n",
       "<table border=\"1\" class=\"dataframe\">\n",
       "  <thead>\n",
       "    <tr style=\"text-align: right;\">\n",
       "      <th></th>\n",
       "      <th>nama_tahun</th>\n",
       "      <th>data_content</th>\n",
       "      <th>nama_item_vertical_variabel</th>\n",
       "    </tr>\n",
       "  </thead>\n",
       "  <tbody>\n",
       "    <tr>\n",
       "      <td>0</td>\n",
       "      <td>2011</td>\n",
       "      <td>98.99</td>\n",
       "      <td>ACEH</td>\n",
       "    </tr>\n",
       "    <tr>\n",
       "      <td>1</td>\n",
       "      <td>2011</td>\n",
       "      <td>98.34</td>\n",
       "      <td>SUMATERA UTARA</td>\n",
       "    </tr>\n",
       "    <tr>\n",
       "      <td>2</td>\n",
       "      <td>2011</td>\n",
       "      <td>98.09</td>\n",
       "      <td>SUMATERA BARAT</td>\n",
       "    </tr>\n",
       "    <tr>\n",
       "      <td>3</td>\n",
       "      <td>2011</td>\n",
       "      <td>97.68</td>\n",
       "      <td>RIAU</td>\n",
       "    </tr>\n",
       "    <tr>\n",
       "      <td>4</td>\n",
       "      <td>2011</td>\n",
       "      <td>NaN</td>\n",
       "      <td>JAMBI</td>\n",
       "    </tr>\n",
       "  </tbody>\n",
       "</table>\n",
       "</div>"
      ],
      "text/plain": [
       "   nama_tahun data_content nama_item_vertical_variabel\n",
       "0        2011        98.99                        ACEH\n",
       "1        2011        98.34              SUMATERA UTARA\n",
       "2        2011        98.09              SUMATERA BARAT\n",
       "3        2011        97.68                        RIAU\n",
       "4        2011          NaN                       JAMBI"
      ]
     },
     "execution_count": 19,
     "metadata": {},
     "output_type": "execute_result"
    }
   ],
   "source": [
    "df_aps.head()"
   ]
  },
  {
   "cell_type": "markdown",
   "metadata": {
    "colab_type": "text",
    "id": "g2_h87GWhXPe"
   },
   "source": [
    "## Menghapus baris"
   ]
  },
  {
   "cell_type": "markdown",
   "metadata": {
    "colab_type": "text",
    "id": "yqcOfS9r41Do"
   },
   "source": [
    "### Menghapus baris berdasarkan indeks"
   ]
  },
  {
   "cell_type": "code",
   "execution_count": 20,
   "metadata": {
    "colab": {
     "base_uri": "https://localhost:8080/",
     "height": 614
    },
    "colab_type": "code",
    "id": "BPlmitEqhYHF",
    "outputId": "f38758cb-4159-4ee1-eea2-214f6b81250f"
   },
   "outputs": [
    {
     "data": {
      "text/html": [
       "<div>\n",
       "<style scoped>\n",
       "    .dataframe tbody tr th:only-of-type {\n",
       "        vertical-align: middle;\n",
       "    }\n",
       "\n",
       "    .dataframe tbody tr th {\n",
       "        vertical-align: top;\n",
       "    }\n",
       "\n",
       "    .dataframe thead th {\n",
       "        text-align: right;\n",
       "    }\n",
       "</style>\n",
       "<table border=\"1\" class=\"dataframe\">\n",
       "  <thead>\n",
       "    <tr style=\"text-align: right;\">\n",
       "      <th></th>\n",
       "      <th>nama_tahun</th>\n",
       "      <th>data_content</th>\n",
       "      <th>nama_item_vertical_variabel</th>\n",
       "    </tr>\n",
       "  </thead>\n",
       "  <tbody>\n",
       "    <tr>\n",
       "      <td>2</td>\n",
       "      <td>2011</td>\n",
       "      <td>98.09</td>\n",
       "      <td>SUMATERA BARAT</td>\n",
       "    </tr>\n",
       "    <tr>\n",
       "      <td>3</td>\n",
       "      <td>2011</td>\n",
       "      <td>97.68</td>\n",
       "      <td>RIAU</td>\n",
       "    </tr>\n",
       "    <tr>\n",
       "      <td>4</td>\n",
       "      <td>2011</td>\n",
       "      <td>NaN</td>\n",
       "      <td>JAMBI</td>\n",
       "    </tr>\n",
       "    <tr>\n",
       "      <td>5</td>\n",
       "      <td>2011</td>\n",
       "      <td>97.95</td>\n",
       "      <td>SUMATERA SELATAN</td>\n",
       "    </tr>\n",
       "    <tr>\n",
       "      <td>6</td>\n",
       "      <td>2011</td>\n",
       "      <td>98.41</td>\n",
       "      <td>BENGKULU</td>\n",
       "    </tr>\n",
       "    <tr>\n",
       "      <td>...</td>\n",
       "      <td>...</td>\n",
       "      <td>...</td>\n",
       "      <td>...</td>\n",
       "    </tr>\n",
       "    <tr>\n",
       "      <td>1256</td>\n",
       "      <td>2019</td>\n",
       "      <td>31.232309871373</td>\n",
       "      <td>MALUKU UTARA</td>\n",
       "    </tr>\n",
       "    <tr>\n",
       "      <td>1257</td>\n",
       "      <td>2019</td>\n",
       "      <td>31.476599698978</td>\n",
       "      <td>PAPUA BARAT</td>\n",
       "    </tr>\n",
       "    <tr>\n",
       "      <td>1258</td>\n",
       "      <td>2019</td>\n",
       "      <td>22.912638443325</td>\n",
       "      <td>PAPUA</td>\n",
       "    </tr>\n",
       "    <tr>\n",
       "      <td>1259</td>\n",
       "      <td>2019</td>\n",
       "      <td>25.209832165788</td>\n",
       "      <td>INDONESIA</td>\n",
       "    </tr>\n",
       "    <tr>\n",
       "      <td>1260</td>\n",
       "      <td>2019</td>\n",
       "      <td>25.209832165788</td>\n",
       "      <td>INDONESIA</td>\n",
       "    </tr>\n",
       "  </tbody>\n",
       "</table>\n",
       "<p>1259 rows × 3 columns</p>\n",
       "</div>"
      ],
      "text/plain": [
       "      nama_tahun     data_content nama_item_vertical_variabel\n",
       "2           2011            98.09              SUMATERA BARAT\n",
       "3           2011            97.68                        RIAU\n",
       "4           2011              NaN                       JAMBI\n",
       "5           2011            97.95            SUMATERA SELATAN\n",
       "6           2011            98.41                    BENGKULU\n",
       "...          ...              ...                         ...\n",
       "1256        2019  31.232309871373                MALUKU UTARA\n",
       "1257        2019  31.476599698978                 PAPUA BARAT\n",
       "1258        2019  22.912638443325                       PAPUA\n",
       "1259        2019  25.209832165788                   INDONESIA\n",
       "1260        2019  25.209832165788                   INDONESIA\n",
       "\n",
       "[1259 rows x 3 columns]"
      ]
     },
     "execution_count": 20,
     "metadata": {},
     "output_type": "execute_result"
    }
   ],
   "source": [
    "df_aps.drop([0, 1])"
   ]
  },
  {
   "cell_type": "markdown",
   "metadata": {
    "colab_type": "text",
    "id": "Lzfnvu4e44Cw"
   },
   "source": [
    "### Menghapus baris berdasarkan nilai di sebuah kolom\n",
    "Menghapus baris di mana `turvar` = 'Sekolah Dasar':"
   ]
  },
  {
   "cell_type": "code",
   "execution_count": 21,
   "metadata": {
    "colab": {
     "base_uri": "https://localhost:8080/",
     "height": 520
    },
    "colab_type": "code",
    "id": "qCXBvXYlhw3U",
    "outputId": "62051d46-d04d-42c1-cb1e-6f9d887a98f7"
   },
   "outputs": [
    {
     "data": {
      "text/html": [
       "<div>\n",
       "<style scoped>\n",
       "    .dataframe tbody tr th:only-of-type {\n",
       "        vertical-align: middle;\n",
       "    }\n",
       "\n",
       "    .dataframe tbody tr th {\n",
       "        vertical-align: top;\n",
       "    }\n",
       "\n",
       "    .dataframe thead th {\n",
       "        text-align: right;\n",
       "    }\n",
       "</style>\n",
       "<table border=\"1\" class=\"dataframe\">\n",
       "  <thead>\n",
       "    <tr style=\"text-align: right;\">\n",
       "      <th></th>\n",
       "      <th>nama_tahun</th>\n",
       "      <th>data_content</th>\n",
       "      <th>nama_item_vertical_variabel</th>\n",
       "    </tr>\n",
       "  </thead>\n",
       "  <tbody>\n",
       "    <tr>\n",
       "      <td>0</td>\n",
       "      <td>2011</td>\n",
       "      <td>98.99</td>\n",
       "      <td>ACEH</td>\n",
       "    </tr>\n",
       "    <tr>\n",
       "      <td>1</td>\n",
       "      <td>2011</td>\n",
       "      <td>98.34</td>\n",
       "      <td>SUMATERA UTARA</td>\n",
       "    </tr>\n",
       "    <tr>\n",
       "      <td>3</td>\n",
       "      <td>2011</td>\n",
       "      <td>97.68</td>\n",
       "      <td>RIAU</td>\n",
       "    </tr>\n",
       "    <tr>\n",
       "      <td>4</td>\n",
       "      <td>2011</td>\n",
       "      <td>NaN</td>\n",
       "      <td>JAMBI</td>\n",
       "    </tr>\n",
       "    <tr>\n",
       "      <td>5</td>\n",
       "      <td>2011</td>\n",
       "      <td>97.95</td>\n",
       "      <td>SUMATERA SELATAN</td>\n",
       "    </tr>\n",
       "    <tr>\n",
       "      <td>...</td>\n",
       "      <td>...</td>\n",
       "      <td>...</td>\n",
       "      <td>...</td>\n",
       "    </tr>\n",
       "    <tr>\n",
       "      <td>1256</td>\n",
       "      <td>2019</td>\n",
       "      <td>31.232309871373</td>\n",
       "      <td>MALUKU UTARA</td>\n",
       "    </tr>\n",
       "    <tr>\n",
       "      <td>1257</td>\n",
       "      <td>2019</td>\n",
       "      <td>31.476599698978</td>\n",
       "      <td>PAPUA BARAT</td>\n",
       "    </tr>\n",
       "    <tr>\n",
       "      <td>1258</td>\n",
       "      <td>2019</td>\n",
       "      <td>22.912638443325</td>\n",
       "      <td>PAPUA</td>\n",
       "    </tr>\n",
       "    <tr>\n",
       "      <td>1259</td>\n",
       "      <td>2019</td>\n",
       "      <td>25.209832165788</td>\n",
       "      <td>INDONESIA</td>\n",
       "    </tr>\n",
       "    <tr>\n",
       "      <td>1260</td>\n",
       "      <td>2019</td>\n",
       "      <td>25.209832165788</td>\n",
       "      <td>INDONESIA</td>\n",
       "    </tr>\n",
       "  </tbody>\n",
       "</table>\n",
       "<p>1225 rows × 3 columns</p>\n",
       "</div>"
      ],
      "text/plain": [
       "      nama_tahun     data_content nama_item_vertical_variabel\n",
       "0           2011            98.99                        ACEH\n",
       "1           2011            98.34              SUMATERA UTARA\n",
       "3           2011            97.68                        RIAU\n",
       "4           2011              NaN                       JAMBI\n",
       "5           2011            97.95            SUMATERA SELATAN\n",
       "...          ...              ...                         ...\n",
       "1256        2019  31.232309871373                MALUKU UTARA\n",
       "1257        2019  31.476599698978                 PAPUA BARAT\n",
       "1258        2019  22.912638443325                       PAPUA\n",
       "1259        2019  25.209832165788                   INDONESIA\n",
       "1260        2019  25.209832165788                   INDONESIA\n",
       "\n",
       "[1225 rows x 3 columns]"
      ]
     },
     "execution_count": 21,
     "metadata": {},
     "output_type": "execute_result"
    }
   ],
   "source": [
    "df_aps[df_aps.nama_item_vertical_variabel != 'SUMATERA BARAT']"
   ]
  },
  {
   "cell_type": "markdown",
   "metadata": {
    "colab_type": "text",
    "id": "pgI8tkz44_NY"
   },
   "source": [
    "### Menghapus baris berdasarkan nomor baris"
   ]
  },
  {
   "cell_type": "markdown",
   "metadata": {
    "colab_type": "text",
    "id": "6NYajf3U5Co_"
   },
   "source": [
    "Pada contoh di bawah, kita akan menghapus baris pertama atau baris ke-0:"
   ]
  },
  {
   "cell_type": "code",
   "execution_count": 22,
   "metadata": {
    "colab": {
     "base_uri": "https://localhost:8080/",
     "height": 645
    },
    "colab_type": "code",
    "id": "cTxMU5Mzh4I3",
    "outputId": "7cbeeeef-ead0-48ca-bf98-5b9e3bc7bf6d"
   },
   "outputs": [
    {
     "data": {
      "text/html": [
       "<div>\n",
       "<style scoped>\n",
       "    .dataframe tbody tr th:only-of-type {\n",
       "        vertical-align: middle;\n",
       "    }\n",
       "\n",
       "    .dataframe tbody tr th {\n",
       "        vertical-align: top;\n",
       "    }\n",
       "\n",
       "    .dataframe thead th {\n",
       "        text-align: right;\n",
       "    }\n",
       "</style>\n",
       "<table border=\"1\" class=\"dataframe\">\n",
       "  <thead>\n",
       "    <tr style=\"text-align: right;\">\n",
       "      <th></th>\n",
       "      <th>nama_tahun</th>\n",
       "      <th>data_content</th>\n",
       "      <th>nama_item_vertical_variabel</th>\n",
       "    </tr>\n",
       "  </thead>\n",
       "  <tbody>\n",
       "    <tr>\n",
       "      <td>1</td>\n",
       "      <td>2011</td>\n",
       "      <td>98.34</td>\n",
       "      <td>SUMATERA UTARA</td>\n",
       "    </tr>\n",
       "    <tr>\n",
       "      <td>2</td>\n",
       "      <td>2011</td>\n",
       "      <td>98.09</td>\n",
       "      <td>SUMATERA BARAT</td>\n",
       "    </tr>\n",
       "    <tr>\n",
       "      <td>3</td>\n",
       "      <td>2011</td>\n",
       "      <td>97.68</td>\n",
       "      <td>RIAU</td>\n",
       "    </tr>\n",
       "    <tr>\n",
       "      <td>4</td>\n",
       "      <td>2011</td>\n",
       "      <td>NaN</td>\n",
       "      <td>JAMBI</td>\n",
       "    </tr>\n",
       "    <tr>\n",
       "      <td>5</td>\n",
       "      <td>2011</td>\n",
       "      <td>97.95</td>\n",
       "      <td>SUMATERA SELATAN</td>\n",
       "    </tr>\n",
       "    <tr>\n",
       "      <td>...</td>\n",
       "      <td>...</td>\n",
       "      <td>...</td>\n",
       "      <td>...</td>\n",
       "    </tr>\n",
       "    <tr>\n",
       "      <td>1256</td>\n",
       "      <td>2019</td>\n",
       "      <td>31.232309871373</td>\n",
       "      <td>MALUKU UTARA</td>\n",
       "    </tr>\n",
       "    <tr>\n",
       "      <td>1257</td>\n",
       "      <td>2019</td>\n",
       "      <td>31.476599698978</td>\n",
       "      <td>PAPUA BARAT</td>\n",
       "    </tr>\n",
       "    <tr>\n",
       "      <td>1258</td>\n",
       "      <td>2019</td>\n",
       "      <td>22.912638443325</td>\n",
       "      <td>PAPUA</td>\n",
       "    </tr>\n",
       "    <tr>\n",
       "      <td>1259</td>\n",
       "      <td>2019</td>\n",
       "      <td>25.209832165788</td>\n",
       "      <td>INDONESIA</td>\n",
       "    </tr>\n",
       "    <tr>\n",
       "      <td>1260</td>\n",
       "      <td>2019</td>\n",
       "      <td>25.209832165788</td>\n",
       "      <td>INDONESIA</td>\n",
       "    </tr>\n",
       "  </tbody>\n",
       "</table>\n",
       "<p>1260 rows × 3 columns</p>\n",
       "</div>"
      ],
      "text/plain": [
       "      nama_tahun     data_content nama_item_vertical_variabel\n",
       "1           2011            98.34              SUMATERA UTARA\n",
       "2           2011            98.09              SUMATERA BARAT\n",
       "3           2011            97.68                        RIAU\n",
       "4           2011              NaN                       JAMBI\n",
       "5           2011            97.95            SUMATERA SELATAN\n",
       "...          ...              ...                         ...\n",
       "1256        2019  31.232309871373                MALUKU UTARA\n",
       "1257        2019  31.476599698978                 PAPUA BARAT\n",
       "1258        2019  22.912638443325                       PAPUA\n",
       "1259        2019  25.209832165788                   INDONESIA\n",
       "1260        2019  25.209832165788                   INDONESIA\n",
       "\n",
       "[1260 rows x 3 columns]"
      ]
     },
     "execution_count": 22,
     "metadata": {},
     "output_type": "execute_result"
    }
   ],
   "source": [
    "df_aps.drop(df_aps.index[0])"
   ]
  },
  {
   "cell_type": "markdown",
   "metadata": {
    "colab_type": "text",
    "id": "1dvaSOOa5Glr"
   },
   "source": [
    "Di contoh berikutnya, kita akan menghapus baris ketiga dan keempat.\n",
    "\n",
    "⚠️  Karena pandas mulai menghitung dari 0, maka:\n",
    "- Baris ke-3: 2\n",
    "- Baris ke-4: 3"
   ]
  },
  {
   "cell_type": "code",
   "execution_count": 23,
   "metadata": {
    "colab": {
     "base_uri": "https://localhost:8080/",
     "height": 206
    },
    "colab_type": "code",
    "id": "Iag4oKF4xR1B",
    "outputId": "80adfc5a-c01b-4ae9-eed1-ed3214d36ba6"
   },
   "outputs": [
    {
     "data": {
      "text/html": [
       "<div>\n",
       "<style scoped>\n",
       "    .dataframe tbody tr th:only-of-type {\n",
       "        vertical-align: middle;\n",
       "    }\n",
       "\n",
       "    .dataframe tbody tr th {\n",
       "        vertical-align: top;\n",
       "    }\n",
       "\n",
       "    .dataframe thead th {\n",
       "        text-align: right;\n",
       "    }\n",
       "</style>\n",
       "<table border=\"1\" class=\"dataframe\">\n",
       "  <thead>\n",
       "    <tr style=\"text-align: right;\">\n",
       "      <th></th>\n",
       "      <th>nama_tahun</th>\n",
       "      <th>data_content</th>\n",
       "      <th>nama_item_vertical_variabel</th>\n",
       "    </tr>\n",
       "  </thead>\n",
       "  <tbody>\n",
       "    <tr>\n",
       "      <td>0</td>\n",
       "      <td>2011</td>\n",
       "      <td>98.99</td>\n",
       "      <td>ACEH</td>\n",
       "    </tr>\n",
       "    <tr>\n",
       "      <td>1</td>\n",
       "      <td>2011</td>\n",
       "      <td>98.34</td>\n",
       "      <td>SUMATERA UTARA</td>\n",
       "    </tr>\n",
       "    <tr>\n",
       "      <td>2</td>\n",
       "      <td>2011</td>\n",
       "      <td>98.09</td>\n",
       "      <td>SUMATERA BARAT</td>\n",
       "    </tr>\n",
       "    <tr>\n",
       "      <td>3</td>\n",
       "      <td>2011</td>\n",
       "      <td>97.68</td>\n",
       "      <td>RIAU</td>\n",
       "    </tr>\n",
       "    <tr>\n",
       "      <td>4</td>\n",
       "      <td>2011</td>\n",
       "      <td>NaN</td>\n",
       "      <td>JAMBI</td>\n",
       "    </tr>\n",
       "  </tbody>\n",
       "</table>\n",
       "</div>"
      ],
      "text/plain": [
       "   nama_tahun data_content nama_item_vertical_variabel\n",
       "0        2011        98.99                        ACEH\n",
       "1        2011        98.34              SUMATERA UTARA\n",
       "2        2011        98.09              SUMATERA BARAT\n",
       "3        2011        97.68                        RIAU\n",
       "4        2011          NaN                       JAMBI"
      ]
     },
     "execution_count": 23,
     "metadata": {},
     "output_type": "execute_result"
    }
   ],
   "source": [
    "df_aps.head()"
   ]
  },
  {
   "cell_type": "code",
   "execution_count": 24,
   "metadata": {
    "colab": {
     "base_uri": "https://localhost:8080/",
     "height": 614
    },
    "colab_type": "code",
    "id": "MBicmYPliNt1",
    "outputId": "729b9b5b-231b-4155-b2c8-6235b4436602"
   },
   "outputs": [
    {
     "data": {
      "text/html": [
       "<div>\n",
       "<style scoped>\n",
       "    .dataframe tbody tr th:only-of-type {\n",
       "        vertical-align: middle;\n",
       "    }\n",
       "\n",
       "    .dataframe tbody tr th {\n",
       "        vertical-align: top;\n",
       "    }\n",
       "\n",
       "    .dataframe thead th {\n",
       "        text-align: right;\n",
       "    }\n",
       "</style>\n",
       "<table border=\"1\" class=\"dataframe\">\n",
       "  <thead>\n",
       "    <tr style=\"text-align: right;\">\n",
       "      <th></th>\n",
       "      <th>nama_tahun</th>\n",
       "      <th>data_content</th>\n",
       "      <th>nama_item_vertical_variabel</th>\n",
       "    </tr>\n",
       "  </thead>\n",
       "  <tbody>\n",
       "    <tr>\n",
       "      <td>0</td>\n",
       "      <td>2011</td>\n",
       "      <td>98.99</td>\n",
       "      <td>ACEH</td>\n",
       "    </tr>\n",
       "    <tr>\n",
       "      <td>1</td>\n",
       "      <td>2011</td>\n",
       "      <td>98.34</td>\n",
       "      <td>SUMATERA UTARA</td>\n",
       "    </tr>\n",
       "    <tr>\n",
       "      <td>4</td>\n",
       "      <td>2011</td>\n",
       "      <td>NaN</td>\n",
       "      <td>JAMBI</td>\n",
       "    </tr>\n",
       "    <tr>\n",
       "      <td>5</td>\n",
       "      <td>2011</td>\n",
       "      <td>97.95</td>\n",
       "      <td>SUMATERA SELATAN</td>\n",
       "    </tr>\n",
       "    <tr>\n",
       "      <td>6</td>\n",
       "      <td>2011</td>\n",
       "      <td>98.41</td>\n",
       "      <td>BENGKULU</td>\n",
       "    </tr>\n",
       "    <tr>\n",
       "      <td>...</td>\n",
       "      <td>...</td>\n",
       "      <td>...</td>\n",
       "      <td>...</td>\n",
       "    </tr>\n",
       "    <tr>\n",
       "      <td>1256</td>\n",
       "      <td>2019</td>\n",
       "      <td>31.232309871373</td>\n",
       "      <td>MALUKU UTARA</td>\n",
       "    </tr>\n",
       "    <tr>\n",
       "      <td>1257</td>\n",
       "      <td>2019</td>\n",
       "      <td>31.476599698978</td>\n",
       "      <td>PAPUA BARAT</td>\n",
       "    </tr>\n",
       "    <tr>\n",
       "      <td>1258</td>\n",
       "      <td>2019</td>\n",
       "      <td>22.912638443325</td>\n",
       "      <td>PAPUA</td>\n",
       "    </tr>\n",
       "    <tr>\n",
       "      <td>1259</td>\n",
       "      <td>2019</td>\n",
       "      <td>25.209832165788</td>\n",
       "      <td>INDONESIA</td>\n",
       "    </tr>\n",
       "    <tr>\n",
       "      <td>1260</td>\n",
       "      <td>2019</td>\n",
       "      <td>25.209832165788</td>\n",
       "      <td>INDONESIA</td>\n",
       "    </tr>\n",
       "  </tbody>\n",
       "</table>\n",
       "<p>1259 rows × 3 columns</p>\n",
       "</div>"
      ],
      "text/plain": [
       "      nama_tahun     data_content nama_item_vertical_variabel\n",
       "0           2011            98.99                        ACEH\n",
       "1           2011            98.34              SUMATERA UTARA\n",
       "4           2011              NaN                       JAMBI\n",
       "5           2011            97.95            SUMATERA SELATAN\n",
       "6           2011            98.41                    BENGKULU\n",
       "...          ...              ...                         ...\n",
       "1256        2019  31.232309871373                MALUKU UTARA\n",
       "1257        2019  31.476599698978                 PAPUA BARAT\n",
       "1258        2019  22.912638443325                       PAPUA\n",
       "1259        2019  25.209832165788                   INDONESIA\n",
       "1260        2019  25.209832165788                   INDONESIA\n",
       "\n",
       "[1259 rows x 3 columns]"
      ]
     },
     "execution_count": 24,
     "metadata": {},
     "output_type": "execute_result"
    }
   ],
   "source": [
    "df_aps.drop(df_aps.index[[2, 3]])"
   ]
  },
  {
   "cell_type": "markdown",
   "metadata": {
    "colab_type": "text",
    "id": "U6chSXtv5ciB"
   },
   "source": [
    "### Menghapus baris relatif terhadap urutannya dari baris terakhir"
   ]
  },
  {
   "cell_type": "code",
   "execution_count": 25,
   "metadata": {
    "colab": {
     "base_uri": "https://localhost:8080/",
     "height": 206
    },
    "colab_type": "code",
    "id": "mqlD0fMT4trT",
    "outputId": "6ca61307-1a3e-46d9-e3f4-c2c446b4fc86"
   },
   "outputs": [
    {
     "data": {
      "text/html": [
       "<div>\n",
       "<style scoped>\n",
       "    .dataframe tbody tr th:only-of-type {\n",
       "        vertical-align: middle;\n",
       "    }\n",
       "\n",
       "    .dataframe tbody tr th {\n",
       "        vertical-align: top;\n",
       "    }\n",
       "\n",
       "    .dataframe thead th {\n",
       "        text-align: right;\n",
       "    }\n",
       "</style>\n",
       "<table border=\"1\" class=\"dataframe\">\n",
       "  <thead>\n",
       "    <tr style=\"text-align: right;\">\n",
       "      <th></th>\n",
       "      <th>nama_tahun</th>\n",
       "      <th>data_content</th>\n",
       "      <th>nama_item_vertical_variabel</th>\n",
       "    </tr>\n",
       "  </thead>\n",
       "  <tbody>\n",
       "    <tr>\n",
       "      <td>1256</td>\n",
       "      <td>2019</td>\n",
       "      <td>31.232309871373</td>\n",
       "      <td>MALUKU UTARA</td>\n",
       "    </tr>\n",
       "    <tr>\n",
       "      <td>1257</td>\n",
       "      <td>2019</td>\n",
       "      <td>31.476599698978</td>\n",
       "      <td>PAPUA BARAT</td>\n",
       "    </tr>\n",
       "    <tr>\n",
       "      <td>1258</td>\n",
       "      <td>2019</td>\n",
       "      <td>22.912638443325</td>\n",
       "      <td>PAPUA</td>\n",
       "    </tr>\n",
       "    <tr>\n",
       "      <td>1259</td>\n",
       "      <td>2019</td>\n",
       "      <td>25.209832165788</td>\n",
       "      <td>INDONESIA</td>\n",
       "    </tr>\n",
       "    <tr>\n",
       "      <td>1260</td>\n",
       "      <td>2019</td>\n",
       "      <td>25.209832165788</td>\n",
       "      <td>INDONESIA</td>\n",
       "    </tr>\n",
       "  </tbody>\n",
       "</table>\n",
       "</div>"
      ],
      "text/plain": [
       "      nama_tahun     data_content nama_item_vertical_variabel\n",
       "1256        2019  31.232309871373                MALUKU UTARA\n",
       "1257        2019  31.476599698978                 PAPUA BARAT\n",
       "1258        2019  22.912638443325                       PAPUA\n",
       "1259        2019  25.209832165788                   INDONESIA\n",
       "1260        2019  25.209832165788                   INDONESIA"
      ]
     },
     "execution_count": 25,
     "metadata": {},
     "output_type": "execute_result"
    }
   ],
   "source": [
    "df_aps.tail()"
   ]
  },
  {
   "cell_type": "code",
   "execution_count": 26,
   "metadata": {
    "colab": {
     "base_uri": "https://localhost:8080/",
     "height": 645
    },
    "colab_type": "code",
    "id": "mblRArrriSw9",
    "outputId": "22f6a7b0-798a-40aa-9e06-82ca44b35e5c"
   },
   "outputs": [
    {
     "data": {
      "text/html": [
       "<div>\n",
       "<style scoped>\n",
       "    .dataframe tbody tr th:only-of-type {\n",
       "        vertical-align: middle;\n",
       "    }\n",
       "\n",
       "    .dataframe tbody tr th {\n",
       "        vertical-align: top;\n",
       "    }\n",
       "\n",
       "    .dataframe thead th {\n",
       "        text-align: right;\n",
       "    }\n",
       "</style>\n",
       "<table border=\"1\" class=\"dataframe\">\n",
       "  <thead>\n",
       "    <tr style=\"text-align: right;\">\n",
       "      <th></th>\n",
       "      <th>nama_tahun</th>\n",
       "      <th>data_content</th>\n",
       "      <th>nama_item_vertical_variabel</th>\n",
       "    </tr>\n",
       "  </thead>\n",
       "  <tbody>\n",
       "    <tr>\n",
       "      <td>0</td>\n",
       "      <td>2011</td>\n",
       "      <td>98.99</td>\n",
       "      <td>ACEH</td>\n",
       "    </tr>\n",
       "    <tr>\n",
       "      <td>1</td>\n",
       "      <td>2011</td>\n",
       "      <td>98.34</td>\n",
       "      <td>SUMATERA UTARA</td>\n",
       "    </tr>\n",
       "    <tr>\n",
       "      <td>2</td>\n",
       "      <td>2011</td>\n",
       "      <td>98.09</td>\n",
       "      <td>SUMATERA BARAT</td>\n",
       "    </tr>\n",
       "    <tr>\n",
       "      <td>3</td>\n",
       "      <td>2011</td>\n",
       "      <td>97.68</td>\n",
       "      <td>RIAU</td>\n",
       "    </tr>\n",
       "    <tr>\n",
       "      <td>4</td>\n",
       "      <td>2011</td>\n",
       "      <td>NaN</td>\n",
       "      <td>JAMBI</td>\n",
       "    </tr>\n",
       "    <tr>\n",
       "      <td>...</td>\n",
       "      <td>...</td>\n",
       "      <td>...</td>\n",
       "      <td>...</td>\n",
       "    </tr>\n",
       "    <tr>\n",
       "      <td>1255</td>\n",
       "      <td>2019</td>\n",
       "      <td>38.57931230147</td>\n",
       "      <td>MALUKU</td>\n",
       "    </tr>\n",
       "    <tr>\n",
       "      <td>1256</td>\n",
       "      <td>2019</td>\n",
       "      <td>31.232309871373</td>\n",
       "      <td>MALUKU UTARA</td>\n",
       "    </tr>\n",
       "    <tr>\n",
       "      <td>1257</td>\n",
       "      <td>2019</td>\n",
       "      <td>31.476599698978</td>\n",
       "      <td>PAPUA BARAT</td>\n",
       "    </tr>\n",
       "    <tr>\n",
       "      <td>1258</td>\n",
       "      <td>2019</td>\n",
       "      <td>22.912638443325</td>\n",
       "      <td>PAPUA</td>\n",
       "    </tr>\n",
       "    <tr>\n",
       "      <td>1260</td>\n",
       "      <td>2019</td>\n",
       "      <td>25.209832165788</td>\n",
       "      <td>INDONESIA</td>\n",
       "    </tr>\n",
       "  </tbody>\n",
       "</table>\n",
       "<p>1260 rows × 3 columns</p>\n",
       "</div>"
      ],
      "text/plain": [
       "      nama_tahun     data_content nama_item_vertical_variabel\n",
       "0           2011            98.99                        ACEH\n",
       "1           2011            98.34              SUMATERA UTARA\n",
       "2           2011            98.09              SUMATERA BARAT\n",
       "3           2011            97.68                        RIAU\n",
       "4           2011              NaN                       JAMBI\n",
       "...          ...              ...                         ...\n",
       "1255        2019   38.57931230147                      MALUKU\n",
       "1256        2019  31.232309871373                MALUKU UTARA\n",
       "1257        2019  31.476599698978                 PAPUA BARAT\n",
       "1258        2019  22.912638443325                       PAPUA\n",
       "1260        2019  25.209832165788                   INDONESIA\n",
       "\n",
       "[1260 rows x 3 columns]"
      ]
     },
     "execution_count": 26,
     "metadata": {},
     "output_type": "execute_result"
    }
   ],
   "source": [
    "df_aps.drop(df_aps.index[-2])"
   ]
  },
  {
   "cell_type": "markdown",
   "metadata": {
    "colab_type": "text",
    "id": "WQo5M4MkIUpz"
   },
   "source": [
    "##  Mengubah nama kolom"
   ]
  },
  {
   "cell_type": "markdown",
   "metadata": {
    "colab_type": "text",
    "id": "4-oo6mk15zl0"
   },
   "source": [
    "📖  Dokumentasi `pandas.DataFrame.rename`: [tautan](https://pandas.pydata.org/pandas-docs/stable/reference/api/pandas.DataFrame.rename.html)"
   ]
  },
  {
   "cell_type": "code",
   "execution_count": 27,
   "metadata": {
    "colab": {},
    "colab_type": "code",
    "id": "VBY4ZUENIis7"
   },
   "outputs": [],
   "source": [
    "df_aps = df_aps.rename(columns = {\"data_content\": \"nilai\",\n",
    "                                  \"nama_item_vertical_variabel\": \"provinsi\"})"
   ]
  },
  {
   "cell_type": "code",
   "execution_count": 28,
   "metadata": {
    "colab": {
     "base_uri": "https://localhost:8080/",
     "height": 206
    },
    "colab_type": "code",
    "id": "erPo4SApIsiO",
    "outputId": "d9385c30-7088-42f4-aa4f-42a79804fea8"
   },
   "outputs": [
    {
     "data": {
      "text/html": [
       "<div>\n",
       "<style scoped>\n",
       "    .dataframe tbody tr th:only-of-type {\n",
       "        vertical-align: middle;\n",
       "    }\n",
       "\n",
       "    .dataframe tbody tr th {\n",
       "        vertical-align: top;\n",
       "    }\n",
       "\n",
       "    .dataframe thead th {\n",
       "        text-align: right;\n",
       "    }\n",
       "</style>\n",
       "<table border=\"1\" class=\"dataframe\">\n",
       "  <thead>\n",
       "    <tr style=\"text-align: right;\">\n",
       "      <th></th>\n",
       "      <th>nama_tahun</th>\n",
       "      <th>nilai</th>\n",
       "      <th>provinsi</th>\n",
       "    </tr>\n",
       "  </thead>\n",
       "  <tbody>\n",
       "    <tr>\n",
       "      <td>0</td>\n",
       "      <td>2011</td>\n",
       "      <td>98.99</td>\n",
       "      <td>ACEH</td>\n",
       "    </tr>\n",
       "    <tr>\n",
       "      <td>1</td>\n",
       "      <td>2011</td>\n",
       "      <td>98.34</td>\n",
       "      <td>SUMATERA UTARA</td>\n",
       "    </tr>\n",
       "    <tr>\n",
       "      <td>2</td>\n",
       "      <td>2011</td>\n",
       "      <td>98.09</td>\n",
       "      <td>SUMATERA BARAT</td>\n",
       "    </tr>\n",
       "    <tr>\n",
       "      <td>3</td>\n",
       "      <td>2011</td>\n",
       "      <td>97.68</td>\n",
       "      <td>RIAU</td>\n",
       "    </tr>\n",
       "    <tr>\n",
       "      <td>4</td>\n",
       "      <td>2011</td>\n",
       "      <td>NaN</td>\n",
       "      <td>JAMBI</td>\n",
       "    </tr>\n",
       "  </tbody>\n",
       "</table>\n",
       "</div>"
      ],
      "text/plain": [
       "   nama_tahun  nilai        provinsi\n",
       "0        2011  98.99            ACEH\n",
       "1        2011  98.34  SUMATERA UTARA\n",
       "2        2011  98.09  SUMATERA BARAT\n",
       "3        2011  97.68            RIAU\n",
       "4        2011    NaN           JAMBI"
      ]
     },
     "execution_count": 28,
     "metadata": {},
     "output_type": "execute_result"
    }
   ],
   "source": [
    "df_aps.head()"
   ]
  },
  {
   "cell_type": "code",
   "execution_count": 29,
   "metadata": {
    "colab": {
     "base_uri": "https://localhost:8080/",
     "height": 34
    },
    "colab_type": "code",
    "id": "jwW2xG80x-xE",
    "outputId": "6f7cc8d2-6ce3-4b2a-f31c-4f1c38d9e354"
   },
   "outputs": [
    {
     "data": {
      "text/plain": [
       "Index(['nama_tahun', 'nilai', 'provinsi'], dtype='object')"
      ]
     },
     "execution_count": 29,
     "metadata": {},
     "output_type": "execute_result"
    }
   ],
   "source": [
    "df_aps.columns"
   ]
  },
  {
   "cell_type": "markdown",
   "metadata": {
    "colab_type": "text",
    "id": "jXYLS4cbidur"
   },
   "source": [
    "# Menangani baris duplikat"
   ]
  },
  {
   "cell_type": "markdown",
   "metadata": {
    "colab_type": "text",
    "id": "BN01RFtCgrmk"
   },
   "source": [
    "### Mengidentifikasi baris duplikat dengan `pandas.DataFrame.duplicated`"
   ]
  },
  {
   "cell_type": "markdown",
   "metadata": {
    "colab_type": "text",
    "id": "GH81gJTSdY6d"
   },
   "source": [
    "Untuk menangani baris-baris yang merupakan duplikat, tentu kita perlu untuk mencari tahu apakah terdapat baris duplikat di data kita atau tidak.\n",
    "\n",
    "📖  Dokumentasi `pandas.DataFrame.duplicated`: [tautan](https://pandas.pydata.org/pandas-docs/stable/reference/api/pandas.DataFrame.duplicated.html)"
   ]
  },
  {
   "cell_type": "code",
   "execution_count": 30,
   "metadata": {
    "colab": {},
    "colab_type": "code",
    "id": "pNtyU_cLifbF"
   },
   "outputs": [],
   "source": [
    "df_aps = pd.read_csv(\"data/angka_partisipasi_sekolah.csv\", sep=\";\")"
   ]
  },
  {
   "cell_type": "markdown",
   "metadata": {},
   "source": [
    "Metode `duplicated()` akan mengembalikan data bertipe *series* yang menunjukkan apakah baris tersebut benar merupakan sebuah duplikat atau bukan."
   ]
  },
  {
   "cell_type": "code",
   "execution_count": 31,
   "metadata": {
    "colab": {
     "base_uri": "https://localhost:8080/",
     "height": 399
    },
    "colab_type": "code",
    "id": "CgZs5sQ47bIL",
    "outputId": "671acccb-af59-4654-bcf0-b9d51689ec2a"
   },
   "outputs": [
    {
     "data": {
      "text/plain": [
       "0       False\n",
       "1       False\n",
       "2       False\n",
       "3       False\n",
       "4       False\n",
       "        ...  \n",
       "1256    False\n",
       "1257    False\n",
       "1258    False\n",
       "1259    False\n",
       "1260     True\n",
       "Length: 1261, dtype: bool"
      ]
     },
     "execution_count": 31,
     "metadata": {},
     "output_type": "execute_result"
    }
   ],
   "source": [
    "df_aps.duplicated()"
   ]
  },
  {
   "cell_type": "markdown",
   "metadata": {},
   "source": [
    "Pada contoh di atas, terlihat bahwa baris terakhir merupakan sebuah duplikat. Artinya, ada baris yang sama persis dengan baris tersebut muncul di baris-baris sebelumnya.\n",
    "\n",
    "Untuk mencari tahu baris apakah yang merupakan sebuah duplikat, masukkan *series* tersebut ke operator `[]` untuk memilih baris-baris di mana `duplicated()` = `True`."
   ]
  },
  {
   "cell_type": "code",
   "execution_count": 32,
   "metadata": {
    "colab": {
     "base_uri": "https://localhost:8080/",
     "height": 98
    },
    "colab_type": "code",
    "id": "-zXZ1vuV7hmA",
    "outputId": "e034e3b2-6e40-4adb-ea7e-433b6407f9f5"
   },
   "outputs": [
    {
     "data": {
      "text/html": [
       "<div>\n",
       "<style scoped>\n",
       "    .dataframe tbody tr th:only-of-type {\n",
       "        vertical-align: middle;\n",
       "    }\n",
       "\n",
       "    .dataframe tbody tr th {\n",
       "        vertical-align: top;\n",
       "    }\n",
       "\n",
       "    .dataframe thead th {\n",
       "        text-align: right;\n",
       "    }\n",
       "</style>\n",
       "<table border=\"1\" class=\"dataframe\">\n",
       "  <thead>\n",
       "    <tr style=\"text-align: right;\">\n",
       "      <th></th>\n",
       "      <th>nama_variabel</th>\n",
       "      <th>nama_variabel_turunan</th>\n",
       "      <th>nama_tahun</th>\n",
       "      <th>nama_turunan_tahun</th>\n",
       "      <th>data_content</th>\n",
       "      <th>nama_item_vertical_variabel</th>\n",
       "    </tr>\n",
       "  </thead>\n",
       "  <tbody>\n",
       "    <tr>\n",
       "      <td>1260</td>\n",
       "      <td>Angka Partisipasi Sekolah ( A P S )</td>\n",
       "      <td>19-24</td>\n",
       "      <td>2019</td>\n",
       "      <td>Tahun</td>\n",
       "      <td>25.209832165788</td>\n",
       "      <td>INDONESIA</td>\n",
       "    </tr>\n",
       "  </tbody>\n",
       "</table>\n",
       "</div>"
      ],
      "text/plain": [
       "                            nama_variabel nama_variabel_turunan  nama_tahun  \\\n",
       "1260  Angka Partisipasi Sekolah ( A P S )                 19-24        2019   \n",
       "\n",
       "     nama_turunan_tahun     data_content nama_item_vertical_variabel  \n",
       "1260              Tahun  25.209832165788                   INDONESIA  "
      ]
     },
     "execution_count": 32,
     "metadata": {},
     "output_type": "execute_result"
    }
   ],
   "source": [
    "df_aps[df_aps.duplicated()]"
   ]
  },
  {
   "cell_type": "markdown",
   "metadata": {},
   "source": [
    "Untuk melihat semua baris yang duplikat (termasuk baris yang muncul pertama kali), gunakan `keep`. `keep` menunjukkan baris-baris mana sajakah yang harus ditandai sebagai duplikat. `keep` dapat bernilai \"first\", \"last\", atau `False`.\n",
    "- `keep` = \"first\": seluruh duplikat, kecuali baris yang muncul pertama, akan ditandai sebagai duplikat\n",
    "- `keep` = \"last\": seluruh duplikat, kecuali baris yang muncul terakhir, akan ditandai sebagai duplikat\n",
    "- `keep` = False: seluruh duplikat akan ditandai sebagai duplikat"
   ]
  },
  {
   "cell_type": "code",
   "execution_count": 33,
   "metadata": {
    "colab": {
     "base_uri": "https://localhost:8080/",
     "height": 537
    },
    "colab_type": "code",
    "id": "AV7IkFo3du4e",
    "outputId": "c05a5694-32ec-4378-fcae-fb03351ced06"
   },
   "outputs": [
    {
     "data": {
      "text/html": [
       "<div>\n",
       "<style scoped>\n",
       "    .dataframe tbody tr th:only-of-type {\n",
       "        vertical-align: middle;\n",
       "    }\n",
       "\n",
       "    .dataframe tbody tr th {\n",
       "        vertical-align: top;\n",
       "    }\n",
       "\n",
       "    .dataframe thead th {\n",
       "        text-align: right;\n",
       "    }\n",
       "</style>\n",
       "<table border=\"1\" class=\"dataframe\">\n",
       "  <thead>\n",
       "    <tr style=\"text-align: right;\">\n",
       "      <th></th>\n",
       "      <th>nama_variabel</th>\n",
       "      <th>nama_variabel_turunan</th>\n",
       "      <th>nama_tahun</th>\n",
       "      <th>nama_turunan_tahun</th>\n",
       "      <th>data_content</th>\n",
       "      <th>nama_item_vertical_variabel</th>\n",
       "    </tr>\n",
       "  </thead>\n",
       "  <tbody>\n",
       "    <tr>\n",
       "      <td>1259</td>\n",
       "      <td>Angka Partisipasi Sekolah ( A P S )</td>\n",
       "      <td>19-24</td>\n",
       "      <td>2019</td>\n",
       "      <td>Tahun</td>\n",
       "      <td>25.209832165788</td>\n",
       "      <td>INDONESIA</td>\n",
       "    </tr>\n",
       "    <tr>\n",
       "      <td>1260</td>\n",
       "      <td>Angka Partisipasi Sekolah ( A P S )</td>\n",
       "      <td>19-24</td>\n",
       "      <td>2019</td>\n",
       "      <td>Tahun</td>\n",
       "      <td>25.209832165788</td>\n",
       "      <td>INDONESIA</td>\n",
       "    </tr>\n",
       "  </tbody>\n",
       "</table>\n",
       "</div>"
      ],
      "text/plain": [
       "                            nama_variabel nama_variabel_turunan  nama_tahun  \\\n",
       "1259  Angka Partisipasi Sekolah ( A P S )                 19-24        2019   \n",
       "1260  Angka Partisipasi Sekolah ( A P S )                 19-24        2019   \n",
       "\n",
       "     nama_turunan_tahun     data_content nama_item_vertical_variabel  \n",
       "1259              Tahun  25.209832165788                   INDONESIA  \n",
       "1260              Tahun  25.209832165788                   INDONESIA  "
      ]
     },
     "execution_count": 33,
     "metadata": {},
     "output_type": "execute_result"
    }
   ],
   "source": [
    "df_aps[df_aps.duplicated(keep=False)]"
   ]
  },
  {
   "cell_type": "markdown",
   "metadata": {},
   "source": [
    "Seringkali, kita tidak membutuhkan semua kolom untuk menentukan apakah sebuah baris merupakan duplikat atau bukan. Sebagai contoh, pada dataset yang kita gunakan, mungkin tidak masuk akal apabila terdapat lebih dari satu data untuk kabupaten dan tingkat sekolah serta tahun yang sama, meksipun nilainya berbeda. Bisa jadi kita akan menganggap bahwa hanya salah satu nilai yang benar--misalnya, nilai di baris terakhir, dengan anggapan bahwa nilai di baris terakhir adalah nilai yang paling *up-to-date*."
   ]
  },
  {
   "cell_type": "code",
   "execution_count": 34,
   "metadata": {
    "colab": {
     "base_uri": "https://localhost:8080/",
     "height": 196
    },
    "colab_type": "code",
    "id": "7XciRGUq8a1E",
    "outputId": "0a4d71a8-4422-4133-a05d-0b0e37c41925"
   },
   "outputs": [
    {
     "data": {
      "text/html": [
       "<div>\n",
       "<style scoped>\n",
       "    .dataframe tbody tr th:only-of-type {\n",
       "        vertical-align: middle;\n",
       "    }\n",
       "\n",
       "    .dataframe tbody tr th {\n",
       "        vertical-align: top;\n",
       "    }\n",
       "\n",
       "    .dataframe thead th {\n",
       "        text-align: right;\n",
       "    }\n",
       "</style>\n",
       "<table border=\"1\" class=\"dataframe\">\n",
       "  <thead>\n",
       "    <tr style=\"text-align: right;\">\n",
       "      <th></th>\n",
       "      <th>nama_variabel</th>\n",
       "      <th>nama_variabel_turunan</th>\n",
       "      <th>nama_tahun</th>\n",
       "      <th>nama_turunan_tahun</th>\n",
       "      <th>data_content</th>\n",
       "      <th>nama_item_vertical_variabel</th>\n",
       "    </tr>\n",
       "  </thead>\n",
       "  <tbody>\n",
       "    <tr>\n",
       "      <td>1259</td>\n",
       "      <td>Angka Partisipasi Sekolah ( A P S )</td>\n",
       "      <td>19-24</td>\n",
       "      <td>2019</td>\n",
       "      <td>Tahun</td>\n",
       "      <td>25.209832165788</td>\n",
       "      <td>INDONESIA</td>\n",
       "    </tr>\n",
       "    <tr>\n",
       "      <td>1260</td>\n",
       "      <td>Angka Partisipasi Sekolah ( A P S )</td>\n",
       "      <td>19-24</td>\n",
       "      <td>2019</td>\n",
       "      <td>Tahun</td>\n",
       "      <td>25.209832165788</td>\n",
       "      <td>INDONESIA</td>\n",
       "    </tr>\n",
       "  </tbody>\n",
       "</table>\n",
       "</div>"
      ],
      "text/plain": [
       "                            nama_variabel nama_variabel_turunan  nama_tahun  \\\n",
       "1259  Angka Partisipasi Sekolah ( A P S )                 19-24        2019   \n",
       "1260  Angka Partisipasi Sekolah ( A P S )                 19-24        2019   \n",
       "\n",
       "     nama_turunan_tahun     data_content nama_item_vertical_variabel  \n",
       "1259              Tahun  25.209832165788                   INDONESIA  \n",
       "1260              Tahun  25.209832165788                   INDONESIA  "
      ]
     },
     "execution_count": 34,
     "metadata": {},
     "output_type": "execute_result"
    }
   ],
   "source": [
    "df_aps[df_aps.duplicated(subset=[\"nama_variabel_turunan\", \"nama_tahun\", \"nama_item_vertical_variabel\"], keep=False)]"
   ]
  },
  {
   "cell_type": "markdown",
   "metadata": {},
   "source": [
    "Pada contoh di atas, dengan bantuan `duplicated()` dan `keep=False`, kita dapat menemukan bahwa terdapat dua nilai yang berbeda untuk kabupaten, tingkat sekolah, dan tahun yang sama."
   ]
  },
  {
   "cell_type": "markdown",
   "metadata": {
    "colab_type": "text",
    "id": "wrvKALsshKyb"
   },
   "source": [
    "📖  Dokumentasi `pandas.DataFrame.drop_duplicates`: [tautan](https://pandas.pydata.org/pandas-docs/stable/reference/api/pandas.DataFrame.duplicated.html)"
   ]
  },
  {
   "cell_type": "markdown",
   "metadata": {},
   "source": [
    "Secara *default*, `drop_duplicates()` menghapus baris-baris duplikat berdasarkan seluruh kolom, dengan parameter *default* `keep=First`. Jadi, seluruh baris duplikat akan dihapus kecuali baris yang muncul pertama kali."
   ]
  },
  {
   "cell_type": "code",
   "execution_count": 35,
   "metadata": {
    "colab": {},
    "colab_type": "code",
    "id": "t5WP6niF8gqo"
   },
   "outputs": [],
   "source": [
    "df_aps_no_dup = df_aps.drop_duplicates()"
   ]
  },
  {
   "cell_type": "markdown",
   "metadata": {},
   "source": [
    "Kita dapat menggunakan `duplicated()` untuk mengecek apakah masih ada baris-baris duplikat yang tersisa atau tidak."
   ]
  },
  {
   "cell_type": "code",
   "execution_count": 36,
   "metadata": {
    "colab": {
     "base_uri": "https://localhost:8080/",
     "height": 382
    },
    "colab_type": "code",
    "id": "YyJoshMig-AS",
    "outputId": "0a22cacd-061d-42ab-bb6f-fa8a1fd5cab7"
   },
   "outputs": [
    {
     "data": {
      "text/plain": [
       "0       False\n",
       "1       False\n",
       "2       False\n",
       "3       False\n",
       "4       False\n",
       "        ...  \n",
       "1255    False\n",
       "1256    False\n",
       "1257    False\n",
       "1258    False\n",
       "1259    False\n",
       "Length: 1260, dtype: bool"
      ]
     },
     "execution_count": 36,
     "metadata": {},
     "output_type": "execute_result"
    }
   ],
   "source": [
    "df_aps_no_dup.duplicated()"
   ]
  },
  {
   "cell_type": "code",
   "execution_count": 37,
   "metadata": {
    "colab": {
     "base_uri": "https://localhost:8080/",
     "height": 49
    },
    "colab_type": "code",
    "id": "Rk-QJ_in8q4u",
    "outputId": "09182519-050d-448e-d3ed-ddbcab79d47f"
   },
   "outputs": [
    {
     "data": {
      "text/html": [
       "<div>\n",
       "<style scoped>\n",
       "    .dataframe tbody tr th:only-of-type {\n",
       "        vertical-align: middle;\n",
       "    }\n",
       "\n",
       "    .dataframe tbody tr th {\n",
       "        vertical-align: top;\n",
       "    }\n",
       "\n",
       "    .dataframe thead th {\n",
       "        text-align: right;\n",
       "    }\n",
       "</style>\n",
       "<table border=\"1\" class=\"dataframe\">\n",
       "  <thead>\n",
       "    <tr style=\"text-align: right;\">\n",
       "      <th></th>\n",
       "      <th>nama_variabel</th>\n",
       "      <th>nama_variabel_turunan</th>\n",
       "      <th>nama_tahun</th>\n",
       "      <th>nama_turunan_tahun</th>\n",
       "      <th>data_content</th>\n",
       "      <th>nama_item_vertical_variabel</th>\n",
       "    </tr>\n",
       "  </thead>\n",
       "  <tbody>\n",
       "  </tbody>\n",
       "</table>\n",
       "</div>"
      ],
      "text/plain": [
       "Empty DataFrame\n",
       "Columns: [nama_variabel, nama_variabel_turunan, nama_tahun, nama_turunan_tahun, data_content, nama_item_vertical_variabel]\n",
       "Index: []"
      ]
     },
     "execution_count": 37,
     "metadata": {},
     "output_type": "execute_result"
    }
   ],
   "source": [
    "df_aps_no_dup[df_aps_no_dup.duplicated()]"
   ]
  },
  {
   "cell_type": "markdown",
   "metadata": {
    "colab_type": "text",
    "id": "ZsX6c8BFY2wC"
   },
   "source": [
    "# Meng-*handle missing values*\n",
    "*Missing values* bisa terjadi karena:\n",
    "- Pengguna lupa untuk mengisi *field*.\n",
    "- Data hilang ketika melakukan integrasi/transfer.\n",
    "- Ada *error* dalam kode.\n",
    "\n",
    "Penting untuk mengetahui alasan mengapa sebuah data dapat hilang, karena ini dapat memengaruhi metode pengisian *missing data*. \n",
    "\n",
    "Lebih lanjut tentang ini: [tautan](https://github.com/matthewbrems/ODSC-missing-data-may-18/blob/master/Analysis%20with%20Missing%20Data.pdf?source=post_page---------------------------)"
   ]
  },
  {
   "cell_type": "code",
   "execution_count": 38,
   "metadata": {},
   "outputs": [],
   "source": [
    "df_aps = pd.read_csv(\"data/angka_partisipasi_sekolah.csv\", sep=\";\")"
   ]
  },
  {
   "cell_type": "markdown",
   "metadata": {
    "colab_type": "text",
    "id": "GOY-CvyaaF-s"
   },
   "source": [
    "### *Missing value* dengan bentuk standar"
   ]
  },
  {
   "cell_type": "markdown",
   "metadata": {
    "colab_type": "text",
    "id": "edXNSLEq2GDr"
   },
   "source": [
    "Pandas menganggap cell yang kosong maupun cell berisi \"NA\" sebagai cell yang kosong. Anda bisa melihat di *file* `data/angka_partisipasi_sekolah.csv` bahwa data nilai di Kabupaten Polewali Mandar untuk tingkat Sekolah Menengah Umum di tahun 2013 tertulis \"NA\". Apabila Anda lihat pada tabel di bawah, pandas dapat langsung membacanya sebagai sebuah *missing value* (NaN)."
   ]
  },
  {
   "cell_type": "code",
   "execution_count": 39,
   "metadata": {
    "colab": {
     "base_uri": "https://localhost:8080/",
     "height": 1000
    },
    "colab_type": "code",
    "id": "PQLJ36qu2BTh",
    "outputId": "434bfa4c-4a60-4149-dab5-e1598b1cbe3d"
   },
   "outputs": [
    {
     "data": {
      "text/html": [
       "<div>\n",
       "<style scoped>\n",
       "    .dataframe tbody tr th:only-of-type {\n",
       "        vertical-align: middle;\n",
       "    }\n",
       "\n",
       "    .dataframe tbody tr th {\n",
       "        vertical-align: top;\n",
       "    }\n",
       "\n",
       "    .dataframe thead th {\n",
       "        text-align: right;\n",
       "    }\n",
       "</style>\n",
       "<table border=\"1\" class=\"dataframe\">\n",
       "  <thead>\n",
       "    <tr style=\"text-align: right;\">\n",
       "      <th></th>\n",
       "      <th>nama_variabel</th>\n",
       "      <th>nama_variabel_turunan</th>\n",
       "      <th>nama_tahun</th>\n",
       "      <th>nama_turunan_tahun</th>\n",
       "      <th>data_content</th>\n",
       "      <th>nama_item_vertical_variabel</th>\n",
       "    </tr>\n",
       "  </thead>\n",
       "  <tbody>\n",
       "    <tr>\n",
       "      <td>0</td>\n",
       "      <td>Angka Partisipasi Sekolah ( A P S )</td>\n",
       "      <td>7-12</td>\n",
       "      <td>2011</td>\n",
       "      <td>Tahun</td>\n",
       "      <td>98.99</td>\n",
       "      <td>ACEH</td>\n",
       "    </tr>\n",
       "    <tr>\n",
       "      <td>1</td>\n",
       "      <td>Angka Partisipasi Sekolah ( A P S )</td>\n",
       "      <td>7-12</td>\n",
       "      <td>2011</td>\n",
       "      <td>Tahun</td>\n",
       "      <td>98.34</td>\n",
       "      <td>SUMATERA UTARA</td>\n",
       "    </tr>\n",
       "    <tr>\n",
       "      <td>2</td>\n",
       "      <td>Angka Partisipasi Sekolah ( A P S )</td>\n",
       "      <td>7-12</td>\n",
       "      <td>2011</td>\n",
       "      <td>Tahun</td>\n",
       "      <td>98.09</td>\n",
       "      <td>SUMATERA BARAT</td>\n",
       "    </tr>\n",
       "    <tr>\n",
       "      <td>3</td>\n",
       "      <td>Angka Partisipasi Sekolah ( A P S )</td>\n",
       "      <td>7-12</td>\n",
       "      <td>2011</td>\n",
       "      <td>Tahun</td>\n",
       "      <td>97.68</td>\n",
       "      <td>RIAU</td>\n",
       "    </tr>\n",
       "    <tr>\n",
       "      <td>4</td>\n",
       "      <td>Angka Partisipasi Sekolah ( A P S )</td>\n",
       "      <td>7-12</td>\n",
       "      <td>2011</td>\n",
       "      <td>Tahun</td>\n",
       "      <td>NaN</td>\n",
       "      <td>JAMBI</td>\n",
       "    </tr>\n",
       "    <tr>\n",
       "      <td>...</td>\n",
       "      <td>...</td>\n",
       "      <td>...</td>\n",
       "      <td>...</td>\n",
       "      <td>...</td>\n",
       "      <td>...</td>\n",
       "      <td>...</td>\n",
       "    </tr>\n",
       "    <tr>\n",
       "      <td>1256</td>\n",
       "      <td>Angka Partisipasi Sekolah ( A P S )</td>\n",
       "      <td>19-24</td>\n",
       "      <td>2019</td>\n",
       "      <td>Tahun</td>\n",
       "      <td>31.232309871373</td>\n",
       "      <td>MALUKU UTARA</td>\n",
       "    </tr>\n",
       "    <tr>\n",
       "      <td>1257</td>\n",
       "      <td>Angka Partisipasi Sekolah ( A P S )</td>\n",
       "      <td>19-24</td>\n",
       "      <td>2019</td>\n",
       "      <td>Tahun</td>\n",
       "      <td>31.476599698978</td>\n",
       "      <td>PAPUA BARAT</td>\n",
       "    </tr>\n",
       "    <tr>\n",
       "      <td>1258</td>\n",
       "      <td>Angka Partisipasi Sekolah ( A P S )</td>\n",
       "      <td>19-24</td>\n",
       "      <td>2019</td>\n",
       "      <td>Tahun</td>\n",
       "      <td>22.912638443325</td>\n",
       "      <td>PAPUA</td>\n",
       "    </tr>\n",
       "    <tr>\n",
       "      <td>1259</td>\n",
       "      <td>Angka Partisipasi Sekolah ( A P S )</td>\n",
       "      <td>19-24</td>\n",
       "      <td>2019</td>\n",
       "      <td>Tahun</td>\n",
       "      <td>25.209832165788</td>\n",
       "      <td>INDONESIA</td>\n",
       "    </tr>\n",
       "    <tr>\n",
       "      <td>1260</td>\n",
       "      <td>Angka Partisipasi Sekolah ( A P S )</td>\n",
       "      <td>19-24</td>\n",
       "      <td>2019</td>\n",
       "      <td>Tahun</td>\n",
       "      <td>25.209832165788</td>\n",
       "      <td>INDONESIA</td>\n",
       "    </tr>\n",
       "  </tbody>\n",
       "</table>\n",
       "<p>1261 rows × 6 columns</p>\n",
       "</div>"
      ],
      "text/plain": [
       "                            nama_variabel nama_variabel_turunan  nama_tahun  \\\n",
       "0     Angka Partisipasi Sekolah ( A P S )                  7-12        2011   \n",
       "1     Angka Partisipasi Sekolah ( A P S )                  7-12        2011   \n",
       "2     Angka Partisipasi Sekolah ( A P S )                  7-12        2011   \n",
       "3     Angka Partisipasi Sekolah ( A P S )                  7-12        2011   \n",
       "4     Angka Partisipasi Sekolah ( A P S )                  7-12        2011   \n",
       "...                                   ...                   ...         ...   \n",
       "1256  Angka Partisipasi Sekolah ( A P S )                 19-24        2019   \n",
       "1257  Angka Partisipasi Sekolah ( A P S )                 19-24        2019   \n",
       "1258  Angka Partisipasi Sekolah ( A P S )                 19-24        2019   \n",
       "1259  Angka Partisipasi Sekolah ( A P S )                 19-24        2019   \n",
       "1260  Angka Partisipasi Sekolah ( A P S )                 19-24        2019   \n",
       "\n",
       "     nama_turunan_tahun     data_content nama_item_vertical_variabel  \n",
       "0                 Tahun            98.99                        ACEH  \n",
       "1                 Tahun            98.34              SUMATERA UTARA  \n",
       "2                 Tahun            98.09              SUMATERA BARAT  \n",
       "3                 Tahun            97.68                        RIAU  \n",
       "4                 Tahun              NaN                       JAMBI  \n",
       "...                 ...              ...                         ...  \n",
       "1256              Tahun  31.232309871373                MALUKU UTARA  \n",
       "1257              Tahun  31.476599698978                 PAPUA BARAT  \n",
       "1258              Tahun  22.912638443325                       PAPUA  \n",
       "1259              Tahun  25.209832165788                   INDONESIA  \n",
       "1260              Tahun  25.209832165788                   INDONESIA  \n",
       "\n",
       "[1261 rows x 6 columns]"
      ]
     },
     "execution_count": 39,
     "metadata": {},
     "output_type": "execute_result"
    }
   ],
   "source": [
    "df_aps"
   ]
  },
  {
   "cell_type": "code",
   "execution_count": 40,
   "metadata": {
    "colab": {
     "base_uri": "https://localhost:8080/",
     "height": 244
    },
    "colab_type": "code",
    "id": "dkVBbs0UY52B",
    "outputId": "106c00b3-7b92-414a-a6d1-c8a50a15fdae"
   },
   "outputs": [
    {
     "data": {
      "text/html": [
       "<div>\n",
       "<style scoped>\n",
       "    .dataframe tbody tr th:only-of-type {\n",
       "        vertical-align: middle;\n",
       "    }\n",
       "\n",
       "    .dataframe tbody tr th {\n",
       "        vertical-align: top;\n",
       "    }\n",
       "\n",
       "    .dataframe thead th {\n",
       "        text-align: right;\n",
       "    }\n",
       "</style>\n",
       "<table border=\"1\" class=\"dataframe\">\n",
       "  <thead>\n",
       "    <tr style=\"text-align: right;\">\n",
       "      <th></th>\n",
       "      <th>nama_variabel</th>\n",
       "      <th>nama_variabel_turunan</th>\n",
       "      <th>nama_tahun</th>\n",
       "      <th>nama_turunan_tahun</th>\n",
       "      <th>data_content</th>\n",
       "      <th>nama_item_vertical_variabel</th>\n",
       "    </tr>\n",
       "  </thead>\n",
       "  <tbody>\n",
       "    <tr>\n",
       "      <td>4</td>\n",
       "      <td>Angka Partisipasi Sekolah ( A P S )</td>\n",
       "      <td>7-12</td>\n",
       "      <td>2011</td>\n",
       "      <td>Tahun</td>\n",
       "      <td>NaN</td>\n",
       "      <td>JAMBI</td>\n",
       "    </tr>\n",
       "    <tr>\n",
       "      <td>23</td>\n",
       "      <td>Angka Partisipasi Sekolah ( A P S )</td>\n",
       "      <td>7-12</td>\n",
       "      <td>2011</td>\n",
       "      <td>Tahun</td>\n",
       "      <td>NaN</td>\n",
       "      <td>KALIMANTAN UTARA</td>\n",
       "    </tr>\n",
       "  </tbody>\n",
       "</table>\n",
       "</div>"
      ],
      "text/plain": [
       "                          nama_variabel nama_variabel_turunan  nama_tahun  \\\n",
       "4   Angka Partisipasi Sekolah ( A P S )                  7-12        2011   \n",
       "23  Angka Partisipasi Sekolah ( A P S )                  7-12        2011   \n",
       "\n",
       "   nama_turunan_tahun data_content nama_item_vertical_variabel  \n",
       "4               Tahun          NaN                       JAMBI  \n",
       "23              Tahun          NaN            KALIMANTAN UTARA  "
      ]
     },
     "execution_count": 40,
     "metadata": {},
     "output_type": "execute_result"
    }
   ],
   "source": [
    "df_aps[df_aps[\"data_content\"].isnull()]"
   ]
  },
  {
   "cell_type": "markdown",
   "metadata": {},
   "source": [
    "Terkadang, pada data yang kita miliki, *missing value* tidak ditandai dengan \"NA\" atau tidak dibiarkan kosong, melainkan ditandai dengan tanda \"-\". Kita dapat memberitahu pandas untuk membaca *cell* berisi karakter \"-\" sebagai *missing value* dengan mendefinisikan `na_values` pada `read_csv()`.\n",
    "\n",
    "Pada contoh di bawah, kita memberitahu pandas untuk membaca *cell* berisi karakter \"-\" dan \"--\" sebagai *missing value*."
   ]
  },
  {
   "cell_type": "code",
   "execution_count": 41,
   "metadata": {
    "colab": {},
    "colab_type": "code",
    "id": "-upR_c08aKi4"
   },
   "outputs": [],
   "source": [
    "missing_values = [\"-\", \"--\"]\n",
    "df_aps = pd.read_csv(\"data/angka_partisipasi_sekolah.csv\", sep=\";\", na_values=missing_values)"
   ]
  },
  {
   "cell_type": "code",
   "execution_count": 42,
   "metadata": {
    "colab": {
     "base_uri": "https://localhost:8080/",
     "height": 342
    },
    "colab_type": "code",
    "id": "34lJXw122-mn",
    "outputId": "34b23dab-94e3-448d-f846-2a048653e0ec"
   },
   "outputs": [
    {
     "data": {
      "text/html": [
       "<div>\n",
       "<style scoped>\n",
       "    .dataframe tbody tr th:only-of-type {\n",
       "        vertical-align: middle;\n",
       "    }\n",
       "\n",
       "    .dataframe tbody tr th {\n",
       "        vertical-align: top;\n",
       "    }\n",
       "\n",
       "    .dataframe thead th {\n",
       "        text-align: right;\n",
       "    }\n",
       "</style>\n",
       "<table border=\"1\" class=\"dataframe\">\n",
       "  <thead>\n",
       "    <tr style=\"text-align: right;\">\n",
       "      <th></th>\n",
       "      <th>nama_variabel</th>\n",
       "      <th>nama_variabel_turunan</th>\n",
       "      <th>nama_tahun</th>\n",
       "      <th>nama_turunan_tahun</th>\n",
       "      <th>data_content</th>\n",
       "      <th>nama_item_vertical_variabel</th>\n",
       "    </tr>\n",
       "  </thead>\n",
       "  <tbody>\n",
       "    <tr>\n",
       "      <td>4</td>\n",
       "      <td>Angka Partisipasi Sekolah ( A P S )</td>\n",
       "      <td>7-12</td>\n",
       "      <td>2011</td>\n",
       "      <td>Tahun</td>\n",
       "      <td>NaN</td>\n",
       "      <td>JAMBI</td>\n",
       "    </tr>\n",
       "    <tr>\n",
       "      <td>7</td>\n",
       "      <td>Angka Partisipasi Sekolah ( A P S )</td>\n",
       "      <td>7-12</td>\n",
       "      <td>2011</td>\n",
       "      <td>Tahun</td>\n",
       "      <td>NaN</td>\n",
       "      <td>LAMPUNG</td>\n",
       "    </tr>\n",
       "    <tr>\n",
       "      <td>23</td>\n",
       "      <td>Angka Partisipasi Sekolah ( A P S )</td>\n",
       "      <td>7-12</td>\n",
       "      <td>2011</td>\n",
       "      <td>Tahun</td>\n",
       "      <td>NaN</td>\n",
       "      <td>KALIMANTAN UTARA</td>\n",
       "    </tr>\n",
       "    <tr>\n",
       "      <td>58</td>\n",
       "      <td>Angka Partisipasi Sekolah ( A P S )</td>\n",
       "      <td>13-15</td>\n",
       "      <td>2011</td>\n",
       "      <td>Tahun</td>\n",
       "      <td>NaN</td>\n",
       "      <td>KALIMANTAN UTARA</td>\n",
       "    </tr>\n",
       "    <tr>\n",
       "      <td>93</td>\n",
       "      <td>Angka Partisipasi Sekolah ( A P S )</td>\n",
       "      <td>16-18</td>\n",
       "      <td>2011</td>\n",
       "      <td>Tahun</td>\n",
       "      <td>NaN</td>\n",
       "      <td>KALIMANTAN UTARA</td>\n",
       "    </tr>\n",
       "    <tr>\n",
       "      <td>128</td>\n",
       "      <td>Angka Partisipasi Sekolah ( A P S )</td>\n",
       "      <td>19-24</td>\n",
       "      <td>2011</td>\n",
       "      <td>Tahun</td>\n",
       "      <td>NaN</td>\n",
       "      <td>KALIMANTAN UTARA</td>\n",
       "    </tr>\n",
       "    <tr>\n",
       "      <td>163</td>\n",
       "      <td>Angka Partisipasi Sekolah ( A P S )</td>\n",
       "      <td>7-12</td>\n",
       "      <td>2012</td>\n",
       "      <td>Tahun</td>\n",
       "      <td>NaN</td>\n",
       "      <td>KALIMANTAN UTARA</td>\n",
       "    </tr>\n",
       "    <tr>\n",
       "      <td>198</td>\n",
       "      <td>Angka Partisipasi Sekolah ( A P S )</td>\n",
       "      <td>13-15</td>\n",
       "      <td>2012</td>\n",
       "      <td>Tahun</td>\n",
       "      <td>NaN</td>\n",
       "      <td>KALIMANTAN UTARA</td>\n",
       "    </tr>\n",
       "    <tr>\n",
       "      <td>233</td>\n",
       "      <td>Angka Partisipasi Sekolah ( A P S )</td>\n",
       "      <td>16-18</td>\n",
       "      <td>2012</td>\n",
       "      <td>Tahun</td>\n",
       "      <td>NaN</td>\n",
       "      <td>KALIMANTAN UTARA</td>\n",
       "    </tr>\n",
       "    <tr>\n",
       "      <td>268</td>\n",
       "      <td>Angka Partisipasi Sekolah ( A P S )</td>\n",
       "      <td>19-24</td>\n",
       "      <td>2012</td>\n",
       "      <td>Tahun</td>\n",
       "      <td>NaN</td>\n",
       "      <td>KALIMANTAN UTARA</td>\n",
       "    </tr>\n",
       "    <tr>\n",
       "      <td>303</td>\n",
       "      <td>Angka Partisipasi Sekolah ( A P S )</td>\n",
       "      <td>7-12</td>\n",
       "      <td>2013</td>\n",
       "      <td>Tahun</td>\n",
       "      <td>NaN</td>\n",
       "      <td>KALIMANTAN UTARA</td>\n",
       "    </tr>\n",
       "    <tr>\n",
       "      <td>338</td>\n",
       "      <td>Angka Partisipasi Sekolah ( A P S )</td>\n",
       "      <td>13-15</td>\n",
       "      <td>2013</td>\n",
       "      <td>Tahun</td>\n",
       "      <td>NaN</td>\n",
       "      <td>KALIMANTAN UTARA</td>\n",
       "    </tr>\n",
       "    <tr>\n",
       "      <td>373</td>\n",
       "      <td>Angka Partisipasi Sekolah ( A P S )</td>\n",
       "      <td>16-18</td>\n",
       "      <td>2013</td>\n",
       "      <td>Tahun</td>\n",
       "      <td>NaN</td>\n",
       "      <td>KALIMANTAN UTARA</td>\n",
       "    </tr>\n",
       "    <tr>\n",
       "      <td>408</td>\n",
       "      <td>Angka Partisipasi Sekolah ( A P S )</td>\n",
       "      <td>19-24</td>\n",
       "      <td>2013</td>\n",
       "      <td>Tahun</td>\n",
       "      <td>NaN</td>\n",
       "      <td>KALIMANTAN UTARA</td>\n",
       "    </tr>\n",
       "    <tr>\n",
       "      <td>443</td>\n",
       "      <td>Angka Partisipasi Sekolah ( A P S )</td>\n",
       "      <td>7-12</td>\n",
       "      <td>2014</td>\n",
       "      <td>Tahun</td>\n",
       "      <td>NaN</td>\n",
       "      <td>KALIMANTAN UTARA</td>\n",
       "    </tr>\n",
       "    <tr>\n",
       "      <td>478</td>\n",
       "      <td>Angka Partisipasi Sekolah ( A P S )</td>\n",
       "      <td>13-15</td>\n",
       "      <td>2014</td>\n",
       "      <td>Tahun</td>\n",
       "      <td>NaN</td>\n",
       "      <td>KALIMANTAN UTARA</td>\n",
       "    </tr>\n",
       "    <tr>\n",
       "      <td>513</td>\n",
       "      <td>Angka Partisipasi Sekolah ( A P S )</td>\n",
       "      <td>16-18</td>\n",
       "      <td>2014</td>\n",
       "      <td>Tahun</td>\n",
       "      <td>NaN</td>\n",
       "      <td>KALIMANTAN UTARA</td>\n",
       "    </tr>\n",
       "    <tr>\n",
       "      <td>548</td>\n",
       "      <td>Angka Partisipasi Sekolah ( A P S )</td>\n",
       "      <td>19-24</td>\n",
       "      <td>2014</td>\n",
       "      <td>Tahun</td>\n",
       "      <td>NaN</td>\n",
       "      <td>KALIMANTAN UTARA</td>\n",
       "    </tr>\n",
       "  </tbody>\n",
       "</table>\n",
       "</div>"
      ],
      "text/plain": [
       "                           nama_variabel nama_variabel_turunan  nama_tahun  \\\n",
       "4    Angka Partisipasi Sekolah ( A P S )                  7-12        2011   \n",
       "7    Angka Partisipasi Sekolah ( A P S )                  7-12        2011   \n",
       "23   Angka Partisipasi Sekolah ( A P S )                  7-12        2011   \n",
       "58   Angka Partisipasi Sekolah ( A P S )                 13-15        2011   \n",
       "93   Angka Partisipasi Sekolah ( A P S )                 16-18        2011   \n",
       "128  Angka Partisipasi Sekolah ( A P S )                 19-24        2011   \n",
       "163  Angka Partisipasi Sekolah ( A P S )                  7-12        2012   \n",
       "198  Angka Partisipasi Sekolah ( A P S )                 13-15        2012   \n",
       "233  Angka Partisipasi Sekolah ( A P S )                 16-18        2012   \n",
       "268  Angka Partisipasi Sekolah ( A P S )                 19-24        2012   \n",
       "303  Angka Partisipasi Sekolah ( A P S )                  7-12        2013   \n",
       "338  Angka Partisipasi Sekolah ( A P S )                 13-15        2013   \n",
       "373  Angka Partisipasi Sekolah ( A P S )                 16-18        2013   \n",
       "408  Angka Partisipasi Sekolah ( A P S )                 19-24        2013   \n",
       "443  Angka Partisipasi Sekolah ( A P S )                  7-12        2014   \n",
       "478  Angka Partisipasi Sekolah ( A P S )                 13-15        2014   \n",
       "513  Angka Partisipasi Sekolah ( A P S )                 16-18        2014   \n",
       "548  Angka Partisipasi Sekolah ( A P S )                 19-24        2014   \n",
       "\n",
       "    nama_turunan_tahun data_content nama_item_vertical_variabel  \n",
       "4                Tahun          NaN                       JAMBI  \n",
       "7                Tahun          NaN                     LAMPUNG  \n",
       "23               Tahun          NaN            KALIMANTAN UTARA  \n",
       "58               Tahun          NaN            KALIMANTAN UTARA  \n",
       "93               Tahun          NaN            KALIMANTAN UTARA  \n",
       "128              Tahun          NaN            KALIMANTAN UTARA  \n",
       "163              Tahun          NaN            KALIMANTAN UTARA  \n",
       "198              Tahun          NaN            KALIMANTAN UTARA  \n",
       "233              Tahun          NaN            KALIMANTAN UTARA  \n",
       "268              Tahun          NaN            KALIMANTAN UTARA  \n",
       "303              Tahun          NaN            KALIMANTAN UTARA  \n",
       "338              Tahun          NaN            KALIMANTAN UTARA  \n",
       "373              Tahun          NaN            KALIMANTAN UTARA  \n",
       "408              Tahun          NaN            KALIMANTAN UTARA  \n",
       "443              Tahun          NaN            KALIMANTAN UTARA  \n",
       "478              Tahun          NaN            KALIMANTAN UTARA  \n",
       "513              Tahun          NaN            KALIMANTAN UTARA  \n",
       "548              Tahun          NaN            KALIMANTAN UTARA  "
      ]
     },
     "execution_count": 42,
     "metadata": {},
     "output_type": "execute_result"
    }
   ],
   "source": [
    "df_aps[df_aps[\"data_content\"].isnull()]"
   ]
  },
  {
   "cell_type": "markdown",
   "metadata": {},
   "source": [
    "Menghitung berapa jumlah *missing value* di masing-masing kolom:"
   ]
  },
  {
   "cell_type": "code",
   "execution_count": 43,
   "metadata": {
    "colab": {
     "base_uri": "https://localhost:8080/",
     "height": 156
    },
    "colab_type": "code",
    "id": "gH-Rlbny2_Xm",
    "outputId": "0a12b6d9-605c-487d-9a73-79735becd8a0"
   },
   "outputs": [
    {
     "data": {
      "text/plain": [
       "nama_variabel                   0\n",
       "nama_variabel_turunan           0\n",
       "nama_tahun                      0\n",
       "nama_turunan_tahun              0\n",
       "data_content                   18\n",
       "nama_item_vertical_variabel     1\n",
       "dtype: int64"
      ]
     },
     "execution_count": 43,
     "metadata": {},
     "output_type": "execute_result"
    }
   ],
   "source": [
    "df_aps.isnull().sum()"
   ]
  },
  {
   "cell_type": "markdown",
   "metadata": {},
   "source": [
    "Mencari tahu apakah ada *missing value* di antara semua kolom yang ada pada data:"
   ]
  },
  {
   "cell_type": "code",
   "execution_count": 44,
   "metadata": {
    "colab": {
     "base_uri": "https://localhost:8080/",
     "height": 34
    },
    "colab_type": "code",
    "id": "-NvIL4bI3HNO",
    "outputId": "eff4d8ef-639a-41b0-e851-c8126c4b1d6e"
   },
   "outputs": [
    {
     "data": {
      "text/plain": [
       "True"
      ]
     },
     "execution_count": 44,
     "metadata": {},
     "output_type": "execute_result"
    }
   ],
   "source": [
    "df_aps.isnull().values.any()"
   ]
  },
  {
   "cell_type": "markdown",
   "metadata": {},
   "source": [
    "Mencari tahu berapakah *missing value* yang terdapat di antara semua kolom yang ada pada data:"
   ]
  },
  {
   "cell_type": "code",
   "execution_count": 45,
   "metadata": {
    "colab": {
     "base_uri": "https://localhost:8080/",
     "height": 34
    },
    "colab_type": "code",
    "id": "Q9F65QTh3KkZ",
    "outputId": "afad1147-3236-449c-e98f-5c690b5a13ce"
   },
   "outputs": [
    {
     "data": {
      "text/plain": [
       "19"
      ]
     },
     "execution_count": 45,
     "metadata": {},
     "output_type": "execute_result"
    }
   ],
   "source": [
    "df_aps.isnull().sum().sum()"
   ]
  },
  {
   "cell_type": "markdown",
   "metadata": {},
   "source": [
    "Selanjutnya, kita akan membahas berbagai metode untuk pengisian *missing value* dan bagaimana kita dapat mengimplementasikannya menggunakan pandas.\n",
    "\n",
    "⚠️ Metode pengisian *missing value* yang sebaiknya digunakan bergantung pada data Anda serta konteks analisis yang ingin Anda lakukan. Pembahasan tentang hal tersebut berada di luar *scope* dari *notebook* ini, namun Anda dapat merujuk ke [tautan ini](https://github.com/matthewbrems/ODSC-missing-data-may-18/blob/master/Analysis%20with%20Missing%20Data.pdf?source=post_page---------------------------) untuk mencari tahu lebih lanjut."
   ]
  },
  {
   "cell_type": "markdown",
   "metadata": {
    "colab_type": "text",
    "id": "XgICMNl-3THb"
   },
   "source": [
    "### Mengganti *missing value* dengan sebuah nilai"
   ]
  },
  {
   "cell_type": "code",
   "execution_count": 46,
   "metadata": {},
   "outputs": [],
   "source": [
    "missing_values = [\"-\", \"--\"]\n",
    "df_aps = pd.read_csv(\"data/angka_partisipasi_sekolah.csv\", sep=\";\", na_values=missing_values)"
   ]
  },
  {
   "cell_type": "code",
   "execution_count": 47,
   "metadata": {
    "colab": {
     "base_uri": "https://localhost:8080/",
     "height": 293
    },
    "colab_type": "code",
    "id": "qEph8ClVmJbT",
    "outputId": "432c6339-b01f-48df-a9c8-18cea00e4aaa"
   },
   "outputs": [
    {
     "data": {
      "text/html": [
       "<div>\n",
       "<style scoped>\n",
       "    .dataframe tbody tr th:only-of-type {\n",
       "        vertical-align: middle;\n",
       "    }\n",
       "\n",
       "    .dataframe tbody tr th {\n",
       "        vertical-align: top;\n",
       "    }\n",
       "\n",
       "    .dataframe thead th {\n",
       "        text-align: right;\n",
       "    }\n",
       "</style>\n",
       "<table border=\"1\" class=\"dataframe\">\n",
       "  <thead>\n",
       "    <tr style=\"text-align: right;\">\n",
       "      <th></th>\n",
       "      <th>nama_variabel</th>\n",
       "      <th>nama_variabel_turunan</th>\n",
       "      <th>nama_tahun</th>\n",
       "      <th>nama_turunan_tahun</th>\n",
       "      <th>data_content</th>\n",
       "      <th>nama_item_vertical_variabel</th>\n",
       "    </tr>\n",
       "  </thead>\n",
       "  <tbody>\n",
       "    <tr>\n",
       "      <td>0</td>\n",
       "      <td>Angka Partisipasi Sekolah ( A P S )</td>\n",
       "      <td>7-12</td>\n",
       "      <td>2011</td>\n",
       "      <td>Tahun</td>\n",
       "      <td>98.99</td>\n",
       "      <td>ACEH</td>\n",
       "    </tr>\n",
       "    <tr>\n",
       "      <td>1</td>\n",
       "      <td>Angka Partisipasi Sekolah ( A P S )</td>\n",
       "      <td>7-12</td>\n",
       "      <td>2011</td>\n",
       "      <td>Tahun</td>\n",
       "      <td>98.34</td>\n",
       "      <td>SUMATERA UTARA</td>\n",
       "    </tr>\n",
       "    <tr>\n",
       "      <td>2</td>\n",
       "      <td>Angka Partisipasi Sekolah ( A P S )</td>\n",
       "      <td>7-12</td>\n",
       "      <td>2011</td>\n",
       "      <td>Tahun</td>\n",
       "      <td>98.09</td>\n",
       "      <td>SUMATERA BARAT</td>\n",
       "    </tr>\n",
       "    <tr>\n",
       "      <td>3</td>\n",
       "      <td>Angka Partisipasi Sekolah ( A P S )</td>\n",
       "      <td>7-12</td>\n",
       "      <td>2011</td>\n",
       "      <td>Tahun</td>\n",
       "      <td>97.68</td>\n",
       "      <td>RIAU</td>\n",
       "    </tr>\n",
       "    <tr>\n",
       "      <td>4</td>\n",
       "      <td>Angka Partisipasi Sekolah ( A P S )</td>\n",
       "      <td>7-12</td>\n",
       "      <td>2011</td>\n",
       "      <td>Tahun</td>\n",
       "      <td>NaN</td>\n",
       "      <td>JAMBI</td>\n",
       "    </tr>\n",
       "  </tbody>\n",
       "</table>\n",
       "</div>"
      ],
      "text/plain": [
       "                         nama_variabel nama_variabel_turunan  nama_tahun  \\\n",
       "0  Angka Partisipasi Sekolah ( A P S )                  7-12        2011   \n",
       "1  Angka Partisipasi Sekolah ( A P S )                  7-12        2011   \n",
       "2  Angka Partisipasi Sekolah ( A P S )                  7-12        2011   \n",
       "3  Angka Partisipasi Sekolah ( A P S )                  7-12        2011   \n",
       "4  Angka Partisipasi Sekolah ( A P S )                  7-12        2011   \n",
       "\n",
       "  nama_turunan_tahun data_content nama_item_vertical_variabel  \n",
       "0              Tahun        98.99                        ACEH  \n",
       "1              Tahun        98.34              SUMATERA UTARA  \n",
       "2              Tahun        98.09              SUMATERA BARAT  \n",
       "3              Tahun        97.68                        RIAU  \n",
       "4              Tahun          NaN                       JAMBI  "
      ]
     },
     "execution_count": 47,
     "metadata": {},
     "output_type": "execute_result"
    }
   ],
   "source": [
    "df_aps.head()"
   ]
  },
  {
   "cell_type": "markdown",
   "metadata": {},
   "source": [
    "Mengganti semua *missing value* dengan nilai 125:"
   ]
  },
  {
   "cell_type": "code",
   "execution_count": 48,
   "metadata": {
    "colab": {},
    "colab_type": "code",
    "id": "y9pT0uZG3ZhE"
   },
   "outputs": [
    {
     "data": {
      "text/html": [
       "<div>\n",
       "<style scoped>\n",
       "    .dataframe tbody tr th:only-of-type {\n",
       "        vertical-align: middle;\n",
       "    }\n",
       "\n",
       "    .dataframe tbody tr th {\n",
       "        vertical-align: top;\n",
       "    }\n",
       "\n",
       "    .dataframe thead th {\n",
       "        text-align: right;\n",
       "    }\n",
       "</style>\n",
       "<table border=\"1\" class=\"dataframe\">\n",
       "  <thead>\n",
       "    <tr style=\"text-align: right;\">\n",
       "      <th></th>\n",
       "      <th>nama_variabel</th>\n",
       "      <th>nama_variabel_turunan</th>\n",
       "      <th>nama_tahun</th>\n",
       "      <th>nama_turunan_tahun</th>\n",
       "      <th>data_content</th>\n",
       "      <th>nama_item_vertical_variabel</th>\n",
       "    </tr>\n",
       "  </thead>\n",
       "  <tbody>\n",
       "    <tr>\n",
       "      <td>0</td>\n",
       "      <td>Angka Partisipasi Sekolah ( A P S )</td>\n",
       "      <td>7-12</td>\n",
       "      <td>2011</td>\n",
       "      <td>Tahun</td>\n",
       "      <td>98.99</td>\n",
       "      <td>ACEH</td>\n",
       "    </tr>\n",
       "    <tr>\n",
       "      <td>1</td>\n",
       "      <td>Angka Partisipasi Sekolah ( A P S )</td>\n",
       "      <td>7-12</td>\n",
       "      <td>2011</td>\n",
       "      <td>Tahun</td>\n",
       "      <td>98.34</td>\n",
       "      <td>SUMATERA UTARA</td>\n",
       "    </tr>\n",
       "    <tr>\n",
       "      <td>2</td>\n",
       "      <td>Angka Partisipasi Sekolah ( A P S )</td>\n",
       "      <td>7-12</td>\n",
       "      <td>2011</td>\n",
       "      <td>Tahun</td>\n",
       "      <td>98.09</td>\n",
       "      <td>SUMATERA BARAT</td>\n",
       "    </tr>\n",
       "    <tr>\n",
       "      <td>3</td>\n",
       "      <td>Angka Partisipasi Sekolah ( A P S )</td>\n",
       "      <td>7-12</td>\n",
       "      <td>2011</td>\n",
       "      <td>Tahun</td>\n",
       "      <td>97.68</td>\n",
       "      <td>RIAU</td>\n",
       "    </tr>\n",
       "    <tr>\n",
       "      <td>4</td>\n",
       "      <td>Angka Partisipasi Sekolah ( A P S )</td>\n",
       "      <td>7-12</td>\n",
       "      <td>2011</td>\n",
       "      <td>Tahun</td>\n",
       "      <td>125</td>\n",
       "      <td>JAMBI</td>\n",
       "    </tr>\n",
       "    <tr>\n",
       "      <td>...</td>\n",
       "      <td>...</td>\n",
       "      <td>...</td>\n",
       "      <td>...</td>\n",
       "      <td>...</td>\n",
       "      <td>...</td>\n",
       "      <td>...</td>\n",
       "    </tr>\n",
       "    <tr>\n",
       "      <td>1256</td>\n",
       "      <td>Angka Partisipasi Sekolah ( A P S )</td>\n",
       "      <td>19-24</td>\n",
       "      <td>2019</td>\n",
       "      <td>Tahun</td>\n",
       "      <td>31.232309871373</td>\n",
       "      <td>MALUKU UTARA</td>\n",
       "    </tr>\n",
       "    <tr>\n",
       "      <td>1257</td>\n",
       "      <td>Angka Partisipasi Sekolah ( A P S )</td>\n",
       "      <td>19-24</td>\n",
       "      <td>2019</td>\n",
       "      <td>Tahun</td>\n",
       "      <td>31.476599698978</td>\n",
       "      <td>PAPUA BARAT</td>\n",
       "    </tr>\n",
       "    <tr>\n",
       "      <td>1258</td>\n",
       "      <td>Angka Partisipasi Sekolah ( A P S )</td>\n",
       "      <td>19-24</td>\n",
       "      <td>2019</td>\n",
       "      <td>Tahun</td>\n",
       "      <td>22.912638443325</td>\n",
       "      <td>PAPUA</td>\n",
       "    </tr>\n",
       "    <tr>\n",
       "      <td>1259</td>\n",
       "      <td>Angka Partisipasi Sekolah ( A P S )</td>\n",
       "      <td>19-24</td>\n",
       "      <td>2019</td>\n",
       "      <td>Tahun</td>\n",
       "      <td>25.209832165788</td>\n",
       "      <td>INDONESIA</td>\n",
       "    </tr>\n",
       "    <tr>\n",
       "      <td>1260</td>\n",
       "      <td>Angka Partisipasi Sekolah ( A P S )</td>\n",
       "      <td>19-24</td>\n",
       "      <td>2019</td>\n",
       "      <td>Tahun</td>\n",
       "      <td>25.209832165788</td>\n",
       "      <td>INDONESIA</td>\n",
       "    </tr>\n",
       "  </tbody>\n",
       "</table>\n",
       "<p>1261 rows × 6 columns</p>\n",
       "</div>"
      ],
      "text/plain": [
       "                            nama_variabel nama_variabel_turunan  nama_tahun  \\\n",
       "0     Angka Partisipasi Sekolah ( A P S )                  7-12        2011   \n",
       "1     Angka Partisipasi Sekolah ( A P S )                  7-12        2011   \n",
       "2     Angka Partisipasi Sekolah ( A P S )                  7-12        2011   \n",
       "3     Angka Partisipasi Sekolah ( A P S )                  7-12        2011   \n",
       "4     Angka Partisipasi Sekolah ( A P S )                  7-12        2011   \n",
       "...                                   ...                   ...         ...   \n",
       "1256  Angka Partisipasi Sekolah ( A P S )                 19-24        2019   \n",
       "1257  Angka Partisipasi Sekolah ( A P S )                 19-24        2019   \n",
       "1258  Angka Partisipasi Sekolah ( A P S )                 19-24        2019   \n",
       "1259  Angka Partisipasi Sekolah ( A P S )                 19-24        2019   \n",
       "1260  Angka Partisipasi Sekolah ( A P S )                 19-24        2019   \n",
       "\n",
       "     nama_turunan_tahun     data_content nama_item_vertical_variabel  \n",
       "0                 Tahun            98.99                        ACEH  \n",
       "1                 Tahun            98.34              SUMATERA UTARA  \n",
       "2                 Tahun            98.09              SUMATERA BARAT  \n",
       "3                 Tahun            97.68                        RIAU  \n",
       "4                 Tahun              125                       JAMBI  \n",
       "...                 ...              ...                         ...  \n",
       "1256              Tahun  31.232309871373                MALUKU UTARA  \n",
       "1257              Tahun  31.476599698978                 PAPUA BARAT  \n",
       "1258              Tahun  22.912638443325                       PAPUA  \n",
       "1259              Tahun  25.209832165788                   INDONESIA  \n",
       "1260              Tahun  25.209832165788                   INDONESIA  \n",
       "\n",
       "[1261 rows x 6 columns]"
      ]
     },
     "execution_count": 48,
     "metadata": {},
     "output_type": "execute_result"
    }
   ],
   "source": [
    "df_aps.fillna(125)"
   ]
  },
  {
   "cell_type": "markdown",
   "metadata": {
    "colab_type": "text",
    "id": "Lb8ywdgm30F3"
   },
   "source": [
    "### Mengganti *missing value* dengan sebuah nilai pada lokasi tertentu"
   ]
  },
  {
   "cell_type": "code",
   "execution_count": 49,
   "metadata": {},
   "outputs": [],
   "source": [
    "missing_values = [\"-\", \"--\"]\n",
    "df_aps = pd.read_csv(\"data/angka_partisipasi_sekolah.csv\", sep=\";\", na_values=missing_values)"
   ]
  },
  {
   "cell_type": "markdown",
   "metadata": {},
   "source": [
    "Mengganti *missing value* dengan indeks `3` menjadi 129:"
   ]
  },
  {
   "cell_type": "code",
   "execution_count": 50,
   "metadata": {
    "colab": {},
    "colab_type": "code",
    "id": "9jKJYWlP34Fo"
   },
   "outputs": [],
   "source": [
    "df_aps.loc[3, \"data_content\"] = 129"
   ]
  },
  {
   "cell_type": "code",
   "execution_count": 51,
   "metadata": {
    "colab": {
     "base_uri": "https://localhost:8080/",
     "height": 1000
    },
    "colab_type": "code",
    "id": "MTbBJ2Ya4edV",
    "outputId": "c8a6023a-c442-4aaa-e286-ace5cf97741d"
   },
   "outputs": [
    {
     "data": {
      "text/html": [
       "<div>\n",
       "<style scoped>\n",
       "    .dataframe tbody tr th:only-of-type {\n",
       "        vertical-align: middle;\n",
       "    }\n",
       "\n",
       "    .dataframe tbody tr th {\n",
       "        vertical-align: top;\n",
       "    }\n",
       "\n",
       "    .dataframe thead th {\n",
       "        text-align: right;\n",
       "    }\n",
       "</style>\n",
       "<table border=\"1\" class=\"dataframe\">\n",
       "  <thead>\n",
       "    <tr style=\"text-align: right;\">\n",
       "      <th></th>\n",
       "      <th>nama_variabel</th>\n",
       "      <th>nama_variabel_turunan</th>\n",
       "      <th>nama_tahun</th>\n",
       "      <th>nama_turunan_tahun</th>\n",
       "      <th>data_content</th>\n",
       "      <th>nama_item_vertical_variabel</th>\n",
       "    </tr>\n",
       "  </thead>\n",
       "  <tbody>\n",
       "    <tr>\n",
       "      <td>0</td>\n",
       "      <td>Angka Partisipasi Sekolah ( A P S )</td>\n",
       "      <td>7-12</td>\n",
       "      <td>2011</td>\n",
       "      <td>Tahun</td>\n",
       "      <td>98.99</td>\n",
       "      <td>ACEH</td>\n",
       "    </tr>\n",
       "    <tr>\n",
       "      <td>1</td>\n",
       "      <td>Angka Partisipasi Sekolah ( A P S )</td>\n",
       "      <td>7-12</td>\n",
       "      <td>2011</td>\n",
       "      <td>Tahun</td>\n",
       "      <td>98.34</td>\n",
       "      <td>SUMATERA UTARA</td>\n",
       "    </tr>\n",
       "    <tr>\n",
       "      <td>2</td>\n",
       "      <td>Angka Partisipasi Sekolah ( A P S )</td>\n",
       "      <td>7-12</td>\n",
       "      <td>2011</td>\n",
       "      <td>Tahun</td>\n",
       "      <td>98.09</td>\n",
       "      <td>SUMATERA BARAT</td>\n",
       "    </tr>\n",
       "    <tr>\n",
       "      <td>3</td>\n",
       "      <td>Angka Partisipasi Sekolah ( A P S )</td>\n",
       "      <td>7-12</td>\n",
       "      <td>2011</td>\n",
       "      <td>Tahun</td>\n",
       "      <td>129</td>\n",
       "      <td>RIAU</td>\n",
       "    </tr>\n",
       "    <tr>\n",
       "      <td>4</td>\n",
       "      <td>Angka Partisipasi Sekolah ( A P S )</td>\n",
       "      <td>7-12</td>\n",
       "      <td>2011</td>\n",
       "      <td>Tahun</td>\n",
       "      <td>NaN</td>\n",
       "      <td>JAMBI</td>\n",
       "    </tr>\n",
       "    <tr>\n",
       "      <td>...</td>\n",
       "      <td>...</td>\n",
       "      <td>...</td>\n",
       "      <td>...</td>\n",
       "      <td>...</td>\n",
       "      <td>...</td>\n",
       "      <td>...</td>\n",
       "    </tr>\n",
       "    <tr>\n",
       "      <td>1256</td>\n",
       "      <td>Angka Partisipasi Sekolah ( A P S )</td>\n",
       "      <td>19-24</td>\n",
       "      <td>2019</td>\n",
       "      <td>Tahun</td>\n",
       "      <td>31.232309871373</td>\n",
       "      <td>MALUKU UTARA</td>\n",
       "    </tr>\n",
       "    <tr>\n",
       "      <td>1257</td>\n",
       "      <td>Angka Partisipasi Sekolah ( A P S )</td>\n",
       "      <td>19-24</td>\n",
       "      <td>2019</td>\n",
       "      <td>Tahun</td>\n",
       "      <td>31.476599698978</td>\n",
       "      <td>PAPUA BARAT</td>\n",
       "    </tr>\n",
       "    <tr>\n",
       "      <td>1258</td>\n",
       "      <td>Angka Partisipasi Sekolah ( A P S )</td>\n",
       "      <td>19-24</td>\n",
       "      <td>2019</td>\n",
       "      <td>Tahun</td>\n",
       "      <td>22.912638443325</td>\n",
       "      <td>PAPUA</td>\n",
       "    </tr>\n",
       "    <tr>\n",
       "      <td>1259</td>\n",
       "      <td>Angka Partisipasi Sekolah ( A P S )</td>\n",
       "      <td>19-24</td>\n",
       "      <td>2019</td>\n",
       "      <td>Tahun</td>\n",
       "      <td>25.209832165788</td>\n",
       "      <td>INDONESIA</td>\n",
       "    </tr>\n",
       "    <tr>\n",
       "      <td>1260</td>\n",
       "      <td>Angka Partisipasi Sekolah ( A P S )</td>\n",
       "      <td>19-24</td>\n",
       "      <td>2019</td>\n",
       "      <td>Tahun</td>\n",
       "      <td>25.209832165788</td>\n",
       "      <td>INDONESIA</td>\n",
       "    </tr>\n",
       "  </tbody>\n",
       "</table>\n",
       "<p>1261 rows × 6 columns</p>\n",
       "</div>"
      ],
      "text/plain": [
       "                            nama_variabel nama_variabel_turunan  nama_tahun  \\\n",
       "0     Angka Partisipasi Sekolah ( A P S )                  7-12        2011   \n",
       "1     Angka Partisipasi Sekolah ( A P S )                  7-12        2011   \n",
       "2     Angka Partisipasi Sekolah ( A P S )                  7-12        2011   \n",
       "3     Angka Partisipasi Sekolah ( A P S )                  7-12        2011   \n",
       "4     Angka Partisipasi Sekolah ( A P S )                  7-12        2011   \n",
       "...                                   ...                   ...         ...   \n",
       "1256  Angka Partisipasi Sekolah ( A P S )                 19-24        2019   \n",
       "1257  Angka Partisipasi Sekolah ( A P S )                 19-24        2019   \n",
       "1258  Angka Partisipasi Sekolah ( A P S )                 19-24        2019   \n",
       "1259  Angka Partisipasi Sekolah ( A P S )                 19-24        2019   \n",
       "1260  Angka Partisipasi Sekolah ( A P S )                 19-24        2019   \n",
       "\n",
       "     nama_turunan_tahun     data_content nama_item_vertical_variabel  \n",
       "0                 Tahun            98.99                        ACEH  \n",
       "1                 Tahun            98.34              SUMATERA UTARA  \n",
       "2                 Tahun            98.09              SUMATERA BARAT  \n",
       "3                 Tahun              129                        RIAU  \n",
       "4                 Tahun              NaN                       JAMBI  \n",
       "...                 ...              ...                         ...  \n",
       "1256              Tahun  31.232309871373                MALUKU UTARA  \n",
       "1257              Tahun  31.476599698978                 PAPUA BARAT  \n",
       "1258              Tahun  22.912638443325                       PAPUA  \n",
       "1259              Tahun  25.209832165788                   INDONESIA  \n",
       "1260              Tahun  25.209832165788                   INDONESIA  \n",
       "\n",
       "[1261 rows x 6 columns]"
      ]
     },
     "execution_count": 51,
     "metadata": {},
     "output_type": "execute_result"
    }
   ],
   "source": [
    "df_aps"
   ]
  },
  {
   "cell_type": "markdown",
   "metadata": {
    "colab_type": "text",
    "id": "n-Tr4sjt5dyv"
   },
   "source": [
    "### Mengganti *missing value* dengan nilai di baris berikutnya"
   ]
  },
  {
   "cell_type": "code",
   "execution_count": 52,
   "metadata": {
    "colab": {},
    "colab_type": "code",
    "id": "GpnLUQBV5Ndj"
   },
   "outputs": [],
   "source": [
    "missing_values = [\"-\", \"--\"]\n",
    "df_aps = pd.read_csv(\"data/angka_partisipasi_sekolah.csv\", sep=\";\", na_values=missing_values)"
   ]
  },
  {
   "cell_type": "markdown",
   "metadata": {},
   "source": [
    "Kita dapat mengganti *missing value* dengan nilai di baris berikutnya. Sebagai contoh, pada tabel di bawah ini, kolom nilai di baris ke-4 (indeks `3`) akan diisi dengan nilai yang ada di baris berikutnya, yaitu 98.22."
   ]
  },
  {
   "cell_type": "code",
   "execution_count": 53,
   "metadata": {},
   "outputs": [
    {
     "data": {
      "text/html": [
       "<div>\n",
       "<style scoped>\n",
       "    .dataframe tbody tr th:only-of-type {\n",
       "        vertical-align: middle;\n",
       "    }\n",
       "\n",
       "    .dataframe tbody tr th {\n",
       "        vertical-align: top;\n",
       "    }\n",
       "\n",
       "    .dataframe thead th {\n",
       "        text-align: right;\n",
       "    }\n",
       "</style>\n",
       "<table border=\"1\" class=\"dataframe\">\n",
       "  <thead>\n",
       "    <tr style=\"text-align: right;\">\n",
       "      <th></th>\n",
       "      <th>nama_variabel</th>\n",
       "      <th>nama_variabel_turunan</th>\n",
       "      <th>nama_tahun</th>\n",
       "      <th>nama_turunan_tahun</th>\n",
       "      <th>data_content</th>\n",
       "      <th>nama_item_vertical_variabel</th>\n",
       "    </tr>\n",
       "  </thead>\n",
       "  <tbody>\n",
       "    <tr>\n",
       "      <td>0</td>\n",
       "      <td>Angka Partisipasi Sekolah ( A P S )</td>\n",
       "      <td>7-12</td>\n",
       "      <td>2011</td>\n",
       "      <td>Tahun</td>\n",
       "      <td>98.99</td>\n",
       "      <td>ACEH</td>\n",
       "    </tr>\n",
       "    <tr>\n",
       "      <td>1</td>\n",
       "      <td>Angka Partisipasi Sekolah ( A P S )</td>\n",
       "      <td>7-12</td>\n",
       "      <td>2011</td>\n",
       "      <td>Tahun</td>\n",
       "      <td>98.34</td>\n",
       "      <td>SUMATERA UTARA</td>\n",
       "    </tr>\n",
       "    <tr>\n",
       "      <td>2</td>\n",
       "      <td>Angka Partisipasi Sekolah ( A P S )</td>\n",
       "      <td>7-12</td>\n",
       "      <td>2011</td>\n",
       "      <td>Tahun</td>\n",
       "      <td>98.09</td>\n",
       "      <td>SUMATERA BARAT</td>\n",
       "    </tr>\n",
       "    <tr>\n",
       "      <td>3</td>\n",
       "      <td>Angka Partisipasi Sekolah ( A P S )</td>\n",
       "      <td>7-12</td>\n",
       "      <td>2011</td>\n",
       "      <td>Tahun</td>\n",
       "      <td>97.68</td>\n",
       "      <td>RIAU</td>\n",
       "    </tr>\n",
       "    <tr>\n",
       "      <td>4</td>\n",
       "      <td>Angka Partisipasi Sekolah ( A P S )</td>\n",
       "      <td>7-12</td>\n",
       "      <td>2011</td>\n",
       "      <td>Tahun</td>\n",
       "      <td>NaN</td>\n",
       "      <td>JAMBI</td>\n",
       "    </tr>\n",
       "    <tr>\n",
       "      <td>...</td>\n",
       "      <td>...</td>\n",
       "      <td>...</td>\n",
       "      <td>...</td>\n",
       "      <td>...</td>\n",
       "      <td>...</td>\n",
       "      <td>...</td>\n",
       "    </tr>\n",
       "    <tr>\n",
       "      <td>1256</td>\n",
       "      <td>Angka Partisipasi Sekolah ( A P S )</td>\n",
       "      <td>19-24</td>\n",
       "      <td>2019</td>\n",
       "      <td>Tahun</td>\n",
       "      <td>31.232309871373</td>\n",
       "      <td>MALUKU UTARA</td>\n",
       "    </tr>\n",
       "    <tr>\n",
       "      <td>1257</td>\n",
       "      <td>Angka Partisipasi Sekolah ( A P S )</td>\n",
       "      <td>19-24</td>\n",
       "      <td>2019</td>\n",
       "      <td>Tahun</td>\n",
       "      <td>31.476599698978</td>\n",
       "      <td>PAPUA BARAT</td>\n",
       "    </tr>\n",
       "    <tr>\n",
       "      <td>1258</td>\n",
       "      <td>Angka Partisipasi Sekolah ( A P S )</td>\n",
       "      <td>19-24</td>\n",
       "      <td>2019</td>\n",
       "      <td>Tahun</td>\n",
       "      <td>22.912638443325</td>\n",
       "      <td>PAPUA</td>\n",
       "    </tr>\n",
       "    <tr>\n",
       "      <td>1259</td>\n",
       "      <td>Angka Partisipasi Sekolah ( A P S )</td>\n",
       "      <td>19-24</td>\n",
       "      <td>2019</td>\n",
       "      <td>Tahun</td>\n",
       "      <td>25.209832165788</td>\n",
       "      <td>INDONESIA</td>\n",
       "    </tr>\n",
       "    <tr>\n",
       "      <td>1260</td>\n",
       "      <td>Angka Partisipasi Sekolah ( A P S )</td>\n",
       "      <td>19-24</td>\n",
       "      <td>2019</td>\n",
       "      <td>Tahun</td>\n",
       "      <td>25.209832165788</td>\n",
       "      <td>INDONESIA</td>\n",
       "    </tr>\n",
       "  </tbody>\n",
       "</table>\n",
       "<p>1261 rows × 6 columns</p>\n",
       "</div>"
      ],
      "text/plain": [
       "                            nama_variabel nama_variabel_turunan  nama_tahun  \\\n",
       "0     Angka Partisipasi Sekolah ( A P S )                  7-12        2011   \n",
       "1     Angka Partisipasi Sekolah ( A P S )                  7-12        2011   \n",
       "2     Angka Partisipasi Sekolah ( A P S )                  7-12        2011   \n",
       "3     Angka Partisipasi Sekolah ( A P S )                  7-12        2011   \n",
       "4     Angka Partisipasi Sekolah ( A P S )                  7-12        2011   \n",
       "...                                   ...                   ...         ...   \n",
       "1256  Angka Partisipasi Sekolah ( A P S )                 19-24        2019   \n",
       "1257  Angka Partisipasi Sekolah ( A P S )                 19-24        2019   \n",
       "1258  Angka Partisipasi Sekolah ( A P S )                 19-24        2019   \n",
       "1259  Angka Partisipasi Sekolah ( A P S )                 19-24        2019   \n",
       "1260  Angka Partisipasi Sekolah ( A P S )                 19-24        2019   \n",
       "\n",
       "     nama_turunan_tahun     data_content nama_item_vertical_variabel  \n",
       "0                 Tahun            98.99                        ACEH  \n",
       "1                 Tahun            98.34              SUMATERA UTARA  \n",
       "2                 Tahun            98.09              SUMATERA BARAT  \n",
       "3                 Tahun            97.68                        RIAU  \n",
       "4                 Tahun              NaN                       JAMBI  \n",
       "...                 ...              ...                         ...  \n",
       "1256              Tahun  31.232309871373                MALUKU UTARA  \n",
       "1257              Tahun  31.476599698978                 PAPUA BARAT  \n",
       "1258              Tahun  22.912638443325                       PAPUA  \n",
       "1259              Tahun  25.209832165788                   INDONESIA  \n",
       "1260              Tahun  25.209832165788                   INDONESIA  \n",
       "\n",
       "[1261 rows x 6 columns]"
      ]
     },
     "execution_count": 53,
     "metadata": {},
     "output_type": "execute_result"
    }
   ],
   "source": [
    "df_aps"
   ]
  },
  {
   "cell_type": "code",
   "execution_count": 54,
   "metadata": {
    "colab": {
     "base_uri": "https://localhost:8080/",
     "height": 1000
    },
    "colab_type": "code",
    "id": "btaHiJjk6azI",
    "outputId": "85fc1ba5-a642-4ed1-fc66-b722666b9063"
   },
   "outputs": [
    {
     "data": {
      "text/html": [
       "<div>\n",
       "<style scoped>\n",
       "    .dataframe tbody tr th:only-of-type {\n",
       "        vertical-align: middle;\n",
       "    }\n",
       "\n",
       "    .dataframe tbody tr th {\n",
       "        vertical-align: top;\n",
       "    }\n",
       "\n",
       "    .dataframe thead th {\n",
       "        text-align: right;\n",
       "    }\n",
       "</style>\n",
       "<table border=\"1\" class=\"dataframe\">\n",
       "  <thead>\n",
       "    <tr style=\"text-align: right;\">\n",
       "      <th></th>\n",
       "      <th>nama_variabel</th>\n",
       "      <th>nama_variabel_turunan</th>\n",
       "      <th>nama_tahun</th>\n",
       "      <th>nama_turunan_tahun</th>\n",
       "      <th>data_content</th>\n",
       "      <th>nama_item_vertical_variabel</th>\n",
       "    </tr>\n",
       "  </thead>\n",
       "  <tbody>\n",
       "    <tr>\n",
       "      <td>0</td>\n",
       "      <td>Angka Partisipasi Sekolah ( A P S )</td>\n",
       "      <td>7-12</td>\n",
       "      <td>2011</td>\n",
       "      <td>Tahun</td>\n",
       "      <td>98.99</td>\n",
       "      <td>ACEH</td>\n",
       "    </tr>\n",
       "    <tr>\n",
       "      <td>1</td>\n",
       "      <td>Angka Partisipasi Sekolah ( A P S )</td>\n",
       "      <td>7-12</td>\n",
       "      <td>2011</td>\n",
       "      <td>Tahun</td>\n",
       "      <td>98.34</td>\n",
       "      <td>SUMATERA UTARA</td>\n",
       "    </tr>\n",
       "    <tr>\n",
       "      <td>2</td>\n",
       "      <td>Angka Partisipasi Sekolah ( A P S )</td>\n",
       "      <td>7-12</td>\n",
       "      <td>2011</td>\n",
       "      <td>Tahun</td>\n",
       "      <td>98.09</td>\n",
       "      <td>SUMATERA BARAT</td>\n",
       "    </tr>\n",
       "    <tr>\n",
       "      <td>3</td>\n",
       "      <td>Angka Partisipasi Sekolah ( A P S )</td>\n",
       "      <td>7-12</td>\n",
       "      <td>2011</td>\n",
       "      <td>Tahun</td>\n",
       "      <td>97.68</td>\n",
       "      <td>RIAU</td>\n",
       "    </tr>\n",
       "    <tr>\n",
       "      <td>4</td>\n",
       "      <td>Angka Partisipasi Sekolah ( A P S )</td>\n",
       "      <td>7-12</td>\n",
       "      <td>2011</td>\n",
       "      <td>Tahun</td>\n",
       "      <td>97.95</td>\n",
       "      <td>JAMBI</td>\n",
       "    </tr>\n",
       "    <tr>\n",
       "      <td>...</td>\n",
       "      <td>...</td>\n",
       "      <td>...</td>\n",
       "      <td>...</td>\n",
       "      <td>...</td>\n",
       "      <td>...</td>\n",
       "      <td>...</td>\n",
       "    </tr>\n",
       "    <tr>\n",
       "      <td>1256</td>\n",
       "      <td>Angka Partisipasi Sekolah ( A P S )</td>\n",
       "      <td>19-24</td>\n",
       "      <td>2019</td>\n",
       "      <td>Tahun</td>\n",
       "      <td>31.232309871373</td>\n",
       "      <td>MALUKU UTARA</td>\n",
       "    </tr>\n",
       "    <tr>\n",
       "      <td>1257</td>\n",
       "      <td>Angka Partisipasi Sekolah ( A P S )</td>\n",
       "      <td>19-24</td>\n",
       "      <td>2019</td>\n",
       "      <td>Tahun</td>\n",
       "      <td>31.476599698978</td>\n",
       "      <td>PAPUA BARAT</td>\n",
       "    </tr>\n",
       "    <tr>\n",
       "      <td>1258</td>\n",
       "      <td>Angka Partisipasi Sekolah ( A P S )</td>\n",
       "      <td>19-24</td>\n",
       "      <td>2019</td>\n",
       "      <td>Tahun</td>\n",
       "      <td>22.912638443325</td>\n",
       "      <td>PAPUA</td>\n",
       "    </tr>\n",
       "    <tr>\n",
       "      <td>1259</td>\n",
       "      <td>Angka Partisipasi Sekolah ( A P S )</td>\n",
       "      <td>19-24</td>\n",
       "      <td>2019</td>\n",
       "      <td>Tahun</td>\n",
       "      <td>25.209832165788</td>\n",
       "      <td>INDONESIA</td>\n",
       "    </tr>\n",
       "    <tr>\n",
       "      <td>1260</td>\n",
       "      <td>Angka Partisipasi Sekolah ( A P S )</td>\n",
       "      <td>19-24</td>\n",
       "      <td>2019</td>\n",
       "      <td>Tahun</td>\n",
       "      <td>25.209832165788</td>\n",
       "      <td>INDONESIA</td>\n",
       "    </tr>\n",
       "  </tbody>\n",
       "</table>\n",
       "<p>1261 rows × 6 columns</p>\n",
       "</div>"
      ],
      "text/plain": [
       "                            nama_variabel nama_variabel_turunan  nama_tahun  \\\n",
       "0     Angka Partisipasi Sekolah ( A P S )                  7-12        2011   \n",
       "1     Angka Partisipasi Sekolah ( A P S )                  7-12        2011   \n",
       "2     Angka Partisipasi Sekolah ( A P S )                  7-12        2011   \n",
       "3     Angka Partisipasi Sekolah ( A P S )                  7-12        2011   \n",
       "4     Angka Partisipasi Sekolah ( A P S )                  7-12        2011   \n",
       "...                                   ...                   ...         ...   \n",
       "1256  Angka Partisipasi Sekolah ( A P S )                 19-24        2019   \n",
       "1257  Angka Partisipasi Sekolah ( A P S )                 19-24        2019   \n",
       "1258  Angka Partisipasi Sekolah ( A P S )                 19-24        2019   \n",
       "1259  Angka Partisipasi Sekolah ( A P S )                 19-24        2019   \n",
       "1260  Angka Partisipasi Sekolah ( A P S )                 19-24        2019   \n",
       "\n",
       "     nama_turunan_tahun     data_content nama_item_vertical_variabel  \n",
       "0                 Tahun            98.99                        ACEH  \n",
       "1                 Tahun            98.34              SUMATERA UTARA  \n",
       "2                 Tahun            98.09              SUMATERA BARAT  \n",
       "3                 Tahun            97.68                        RIAU  \n",
       "4                 Tahun            97.95                       JAMBI  \n",
       "...                 ...              ...                         ...  \n",
       "1256              Tahun  31.232309871373                MALUKU UTARA  \n",
       "1257              Tahun  31.476599698978                 PAPUA BARAT  \n",
       "1258              Tahun  22.912638443325                       PAPUA  \n",
       "1259              Tahun  25.209832165788                   INDONESIA  \n",
       "1260              Tahun  25.209832165788                   INDONESIA  \n",
       "\n",
       "[1261 rows x 6 columns]"
      ]
     },
     "execution_count": 54,
     "metadata": {},
     "output_type": "execute_result"
    }
   ],
   "source": [
    "df_aps.fillna(method ='bfill') "
   ]
  },
  {
   "cell_type": "markdown",
   "metadata": {},
   "source": [
    "Di awal, terdapat *missing value* di baris ke-7 (indeks `6`) dan baris ke-8 (indeks `7`). Ketika kita menggunakan `method ='bfill'`, baris ke-8 akan diisi terlebih dahulu mengikuti nilai di baris ke-9 (indeks `8`), dan kemudian baris ke-7 akan mengikuti nilai baru di baris ke-8."
   ]
  },
  {
   "cell_type": "markdown",
   "metadata": {
    "colab_type": "text",
    "id": "-cjt6G11nFLW"
   },
   "source": [
    "# *Checkpoint*\n",
    "- Menghapus kolom (del, drop)\n",
    "- Menghapus baris (berdasarkan indeks, nilai di kolom, nomor baris...)\n",
    "- Mengubah nama kolom\n",
    "- Menangani baris duplikat (identifikasi dan penghapusan)\n",
    "- Meng-handle *missing values* (membaca berbagai jenis *missing value*, mengubah *missing value* menjadi sebuah nilai, dll.)\n",
    "\n",
    "![alt text](https://media3.giphy.com/media/12XDYvMJNcmLgQ/giphy.gif?cid=790b76115d4482dd58414a5049302fa6&rid=giphy.gif)"
   ]
  }
 ],
 "metadata": {
  "colab": {
   "collapsed_sections": [],
   "name": "Data Preparation with Python - Part 2.ipynb",
   "provenance": [],
   "toc_visible": true,
   "version": "0.3.2"
  },
  "kernelspec": {
   "display_name": "Python 3",
   "language": "python",
   "name": "python3"
  },
  "language_info": {
   "codemirror_mode": {
    "name": "ipython",
    "version": 3
   },
   "file_extension": ".py",
   "mimetype": "text/x-python",
   "name": "python",
   "nbconvert_exporter": "python",
   "pygments_lexer": "ipython3",
   "version": "3.7.4"
  }
 },
 "nbformat": 4,
 "nbformat_minor": 1
}
