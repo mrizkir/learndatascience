{
 "cells": [
  {
   "cell_type": "markdown",
   "metadata": {},
   "source": [
    "# *Data Preparation with Python* - Bagian 1\n",
    "Pertanyaan, koreksi, maupun saran dapat disampaikan ke galuh.tunggadewi[at]gmail.com atau disampaikan dengan cara membuka [isu baru di GitHub](https://github.com/galuhsahid/data-preparation-with-python). Lisensi dapat dilihat [di sini](https://creativecommons.org/licenses/by-nc-sa/4.0/)."
   ]
  },
  {
   "cell_type": "code",
   "execution_count": 18,
   "metadata": {
    "colab": {},
    "colab_type": "code",
    "id": "Ts7rPp6_QH1P"
   },
   "outputs": [],
   "source": [
    "import pandas as pd"
   ]
  },
  {
   "cell_type": "markdown",
   "metadata": {
    "colab_type": "text",
    "id": "5osokdPvTTN0"
   },
   "source": [
    "# Membaca data"
   ]
  },
  {
   "cell_type": "code",
   "execution_count": 19,
   "metadata": {
    "colab": {},
    "colab_type": "code",
    "id": "Q8h_t6rrPJbg"
   },
   "outputs": [],
   "source": [
    "df = pd.read_csv(\"data/penduduk_telepon_seluler_pedesaan.csv\")"
   ]
  },
  {
   "cell_type": "markdown",
   "metadata": {
    "colab_type": "text",
    "id": "DicvCsXYJLV_"
   },
   "source": [
    "📖  Dokumentasi `pandas.read_csv`: [tautan](https://pandas.pydata.org/pandas-docs/stable/reference/api/pandas.read_csv.html)\n",
    "\n",
    "- Untuk membaca file `json`:  [tautan](https://pandas.pydata.org/pandas-docs/stable/reference/api/pandas.read_json.html)"
   ]
  },
  {
   "cell_type": "code",
   "execution_count": 20,
   "metadata": {
    "colab": {
     "base_uri": "https://localhost:8080/",
     "height": 1000
    },
    "colab_type": "code",
    "id": "x-T-9OjKQGDj",
    "outputId": "74da1592-ad5c-42b7-90cc-0b61ffd3cf6d"
   },
   "outputs": [
    {
     "data": {
      "text/html": [
       "<div>\n",
       "<style scoped>\n",
       "    .dataframe tbody tr th:only-of-type {\n",
       "        vertical-align: middle;\n",
       "    }\n",
       "\n",
       "    .dataframe tbody tr th {\n",
       "        vertical-align: top;\n",
       "    }\n",
       "\n",
       "    .dataframe thead th {\n",
       "        text-align: right;\n",
       "    }\n",
       "</style>\n",
       "<table border=\"1\" class=\"dataframe\">\n",
       "  <thead>\n",
       "    <tr style=\"text-align: right;\">\n",
       "      <th></th>\n",
       "      <th>nama_series;kode_wilayah;wilayah;tahun;nilai;target</th>\n",
       "    </tr>\n",
       "  </thead>\n",
       "  <tbody>\n",
       "    <tr>\n",
       "      <th>0</th>\n",
       "      <td>Proporsi Penduduk yang Memiliki Telepon Selule...</td>\n",
       "    </tr>\n",
       "    <tr>\n",
       "      <th>1</th>\n",
       "      <td>Proporsi Penduduk yang Memiliki Telepon Selule...</td>\n",
       "    </tr>\n",
       "    <tr>\n",
       "      <th>2</th>\n",
       "      <td>Proporsi Penduduk yang Memiliki Telepon Selule...</td>\n",
       "    </tr>\n",
       "    <tr>\n",
       "      <th>3</th>\n",
       "      <td>Proporsi Penduduk yang Memiliki Telepon Selule...</td>\n",
       "    </tr>\n",
       "    <tr>\n",
       "      <th>4</th>\n",
       "      <td>Proporsi Penduduk yang Memiliki Telepon Selule...</td>\n",
       "    </tr>\n",
       "    <tr>\n",
       "      <th>5</th>\n",
       "      <td>Proporsi Penduduk yang Memiliki Telepon Selule...</td>\n",
       "    </tr>\n",
       "    <tr>\n",
       "      <th>6</th>\n",
       "      <td>Proporsi Penduduk yang Memiliki Telepon Selule...</td>\n",
       "    </tr>\n",
       "    <tr>\n",
       "      <th>7</th>\n",
       "      <td>Proporsi Penduduk yang Memiliki Telepon Selule...</td>\n",
       "    </tr>\n",
       "    <tr>\n",
       "      <th>8</th>\n",
       "      <td>Proporsi Penduduk yang Memiliki Telepon Selule...</td>\n",
       "    </tr>\n",
       "    <tr>\n",
       "      <th>9</th>\n",
       "      <td>Proporsi Penduduk yang Memiliki Telepon Selule...</td>\n",
       "    </tr>\n",
       "    <tr>\n",
       "      <th>10</th>\n",
       "      <td>Proporsi Penduduk yang Memiliki Telepon Selule...</td>\n",
       "    </tr>\n",
       "    <tr>\n",
       "      <th>11</th>\n",
       "      <td>Proporsi Penduduk yang Memiliki Telepon Selule...</td>\n",
       "    </tr>\n",
       "    <tr>\n",
       "      <th>12</th>\n",
       "      <td>Proporsi Penduduk yang Memiliki Telepon Selule...</td>\n",
       "    </tr>\n",
       "    <tr>\n",
       "      <th>13</th>\n",
       "      <td>Proporsi Penduduk yang Memiliki Telepon Selule...</td>\n",
       "    </tr>\n",
       "    <tr>\n",
       "      <th>14</th>\n",
       "      <td>Proporsi Penduduk yang Memiliki Telepon Selule...</td>\n",
       "    </tr>\n",
       "    <tr>\n",
       "      <th>15</th>\n",
       "      <td>Proporsi Penduduk yang Memiliki Telepon Selule...</td>\n",
       "    </tr>\n",
       "    <tr>\n",
       "      <th>16</th>\n",
       "      <td>Proporsi Penduduk yang Memiliki Telepon Selule...</td>\n",
       "    </tr>\n",
       "    <tr>\n",
       "      <th>17</th>\n",
       "      <td>Proporsi Penduduk yang Memiliki Telepon Selule...</td>\n",
       "    </tr>\n",
       "    <tr>\n",
       "      <th>18</th>\n",
       "      <td>Proporsi Penduduk yang Memiliki Telepon Selule...</td>\n",
       "    </tr>\n",
       "    <tr>\n",
       "      <th>19</th>\n",
       "      <td>Proporsi Penduduk yang Memiliki Telepon Selule...</td>\n",
       "    </tr>\n",
       "    <tr>\n",
       "      <th>20</th>\n",
       "      <td>Proporsi Penduduk yang Memiliki Telepon Selule...</td>\n",
       "    </tr>\n",
       "    <tr>\n",
       "      <th>21</th>\n",
       "      <td>Proporsi Penduduk yang Memiliki Telepon Selule...</td>\n",
       "    </tr>\n",
       "    <tr>\n",
       "      <th>22</th>\n",
       "      <td>Proporsi Penduduk yang Memiliki Telepon Selule...</td>\n",
       "    </tr>\n",
       "    <tr>\n",
       "      <th>23</th>\n",
       "      <td>Proporsi Penduduk yang Memiliki Telepon Selule...</td>\n",
       "    </tr>\n",
       "    <tr>\n",
       "      <th>24</th>\n",
       "      <td>Proporsi Penduduk yang Memiliki Telepon Selule...</td>\n",
       "    </tr>\n",
       "    <tr>\n",
       "      <th>25</th>\n",
       "      <td>Proporsi Penduduk yang Memiliki Telepon Selule...</td>\n",
       "    </tr>\n",
       "    <tr>\n",
       "      <th>26</th>\n",
       "      <td>Proporsi Penduduk yang Memiliki Telepon Selule...</td>\n",
       "    </tr>\n",
       "    <tr>\n",
       "      <th>27</th>\n",
       "      <td>Proporsi Penduduk yang Memiliki Telepon Selule...</td>\n",
       "    </tr>\n",
       "    <tr>\n",
       "      <th>28</th>\n",
       "      <td>Proporsi Penduduk yang Memiliki Telepon Selule...</td>\n",
       "    </tr>\n",
       "    <tr>\n",
       "      <th>29</th>\n",
       "      <td>Proporsi Penduduk yang Memiliki Telepon Selule...</td>\n",
       "    </tr>\n",
       "    <tr>\n",
       "      <th>...</th>\n",
       "      <td>...</td>\n",
       "    </tr>\n",
       "    <tr>\n",
       "      <th>495</th>\n",
       "      <td>Proporsi Penduduk yang Memiliki Telepon Selule...</td>\n",
       "    </tr>\n",
       "    <tr>\n",
       "      <th>496</th>\n",
       "      <td>Proporsi Penduduk yang Memiliki Telepon Selule...</td>\n",
       "    </tr>\n",
       "    <tr>\n",
       "      <th>497</th>\n",
       "      <td>Proporsi Penduduk yang Memiliki Telepon Selule...</td>\n",
       "    </tr>\n",
       "    <tr>\n",
       "      <th>498</th>\n",
       "      <td>Proporsi Penduduk yang Memiliki Telepon Selule...</td>\n",
       "    </tr>\n",
       "    <tr>\n",
       "      <th>499</th>\n",
       "      <td>Proporsi Penduduk yang Memiliki Telepon Selule...</td>\n",
       "    </tr>\n",
       "    <tr>\n",
       "      <th>500</th>\n",
       "      <td>Proporsi Penduduk yang Memiliki Telepon Selule...</td>\n",
       "    </tr>\n",
       "    <tr>\n",
       "      <th>501</th>\n",
       "      <td>Proporsi Penduduk yang Memiliki Telepon Selule...</td>\n",
       "    </tr>\n",
       "    <tr>\n",
       "      <th>502</th>\n",
       "      <td>Proporsi Penduduk yang Memiliki Telepon Selule...</td>\n",
       "    </tr>\n",
       "    <tr>\n",
       "      <th>503</th>\n",
       "      <td>Proporsi Penduduk yang Memiliki Telepon Selule...</td>\n",
       "    </tr>\n",
       "    <tr>\n",
       "      <th>504</th>\n",
       "      <td>Proporsi Penduduk yang Memiliki Telepon Selule...</td>\n",
       "    </tr>\n",
       "    <tr>\n",
       "      <th>505</th>\n",
       "      <td>Proporsi Penduduk yang Memiliki Telepon Selule...</td>\n",
       "    </tr>\n",
       "    <tr>\n",
       "      <th>506</th>\n",
       "      <td>Proporsi Penduduk yang Memiliki Telepon Selule...</td>\n",
       "    </tr>\n",
       "    <tr>\n",
       "      <th>507</th>\n",
       "      <td>Proporsi Penduduk yang Memiliki Telepon Selule...</td>\n",
       "    </tr>\n",
       "    <tr>\n",
       "      <th>508</th>\n",
       "      <td>Proporsi Penduduk yang Memiliki Telepon Selule...</td>\n",
       "    </tr>\n",
       "    <tr>\n",
       "      <th>509</th>\n",
       "      <td>Proporsi Penduduk yang Memiliki Telepon Selule...</td>\n",
       "    </tr>\n",
       "    <tr>\n",
       "      <th>510</th>\n",
       "      <td>Proporsi Penduduk yang Memiliki Telepon Selule...</td>\n",
       "    </tr>\n",
       "    <tr>\n",
       "      <th>511</th>\n",
       "      <td>Proporsi Penduduk yang Memiliki Telepon Selule...</td>\n",
       "    </tr>\n",
       "    <tr>\n",
       "      <th>512</th>\n",
       "      <td>Proporsi Penduduk yang Memiliki Telepon Selule...</td>\n",
       "    </tr>\n",
       "    <tr>\n",
       "      <th>513</th>\n",
       "      <td>Proporsi Penduduk yang Memiliki Telepon Selule...</td>\n",
       "    </tr>\n",
       "    <tr>\n",
       "      <th>514</th>\n",
       "      <td>Proporsi Penduduk yang Memiliki Telepon Selule...</td>\n",
       "    </tr>\n",
       "    <tr>\n",
       "      <th>515</th>\n",
       "      <td>Proporsi Penduduk yang Memiliki Telepon Selule...</td>\n",
       "    </tr>\n",
       "    <tr>\n",
       "      <th>516</th>\n",
       "      <td>Proporsi Penduduk yang Memiliki Telepon Selule...</td>\n",
       "    </tr>\n",
       "    <tr>\n",
       "      <th>517</th>\n",
       "      <td>Proporsi Penduduk yang Memiliki Telepon Selule...</td>\n",
       "    </tr>\n",
       "    <tr>\n",
       "      <th>518</th>\n",
       "      <td>Proporsi Penduduk yang Memiliki Telepon Selule...</td>\n",
       "    </tr>\n",
       "    <tr>\n",
       "      <th>519</th>\n",
       "      <td>Proporsi Penduduk yang Memiliki Telepon Selule...</td>\n",
       "    </tr>\n",
       "    <tr>\n",
       "      <th>520</th>\n",
       "      <td>Proporsi Penduduk yang Memiliki Telepon Selule...</td>\n",
       "    </tr>\n",
       "    <tr>\n",
       "      <th>521</th>\n",
       "      <td>Proporsi Penduduk yang Memiliki Telepon Selule...</td>\n",
       "    </tr>\n",
       "    <tr>\n",
       "      <th>522</th>\n",
       "      <td>Proporsi Penduduk yang Memiliki Telepon Selule...</td>\n",
       "    </tr>\n",
       "    <tr>\n",
       "      <th>523</th>\n",
       "      <td>Proporsi Penduduk yang Memiliki Telepon Selule...</td>\n",
       "    </tr>\n",
       "    <tr>\n",
       "      <th>524</th>\n",
       "      <td>Proporsi Penduduk yang Memiliki Telepon Selule...</td>\n",
       "    </tr>\n",
       "  </tbody>\n",
       "</table>\n",
       "<p>525 rows × 1 columns</p>\n",
       "</div>"
      ],
      "text/plain": [
       "    nama_series;kode_wilayah;wilayah;tahun;nilai;target\n",
       "0    Proporsi Penduduk yang Memiliki Telepon Selule... \n",
       "1    Proporsi Penduduk yang Memiliki Telepon Selule... \n",
       "2    Proporsi Penduduk yang Memiliki Telepon Selule... \n",
       "3    Proporsi Penduduk yang Memiliki Telepon Selule... \n",
       "4    Proporsi Penduduk yang Memiliki Telepon Selule... \n",
       "5    Proporsi Penduduk yang Memiliki Telepon Selule... \n",
       "6    Proporsi Penduduk yang Memiliki Telepon Selule... \n",
       "7    Proporsi Penduduk yang Memiliki Telepon Selule... \n",
       "8    Proporsi Penduduk yang Memiliki Telepon Selule... \n",
       "9    Proporsi Penduduk yang Memiliki Telepon Selule... \n",
       "10   Proporsi Penduduk yang Memiliki Telepon Selule... \n",
       "11   Proporsi Penduduk yang Memiliki Telepon Selule... \n",
       "12   Proporsi Penduduk yang Memiliki Telepon Selule... \n",
       "13   Proporsi Penduduk yang Memiliki Telepon Selule... \n",
       "14   Proporsi Penduduk yang Memiliki Telepon Selule... \n",
       "15   Proporsi Penduduk yang Memiliki Telepon Selule... \n",
       "16   Proporsi Penduduk yang Memiliki Telepon Selule... \n",
       "17   Proporsi Penduduk yang Memiliki Telepon Selule... \n",
       "18   Proporsi Penduduk yang Memiliki Telepon Selule... \n",
       "19   Proporsi Penduduk yang Memiliki Telepon Selule... \n",
       "20   Proporsi Penduduk yang Memiliki Telepon Selule... \n",
       "21   Proporsi Penduduk yang Memiliki Telepon Selule... \n",
       "22   Proporsi Penduduk yang Memiliki Telepon Selule... \n",
       "23   Proporsi Penduduk yang Memiliki Telepon Selule... \n",
       "24   Proporsi Penduduk yang Memiliki Telepon Selule... \n",
       "25   Proporsi Penduduk yang Memiliki Telepon Selule... \n",
       "26   Proporsi Penduduk yang Memiliki Telepon Selule... \n",
       "27   Proporsi Penduduk yang Memiliki Telepon Selule... \n",
       "28   Proporsi Penduduk yang Memiliki Telepon Selule... \n",
       "29   Proporsi Penduduk yang Memiliki Telepon Selule... \n",
       "..                                                 ... \n",
       "495  Proporsi Penduduk yang Memiliki Telepon Selule... \n",
       "496  Proporsi Penduduk yang Memiliki Telepon Selule... \n",
       "497  Proporsi Penduduk yang Memiliki Telepon Selule... \n",
       "498  Proporsi Penduduk yang Memiliki Telepon Selule... \n",
       "499  Proporsi Penduduk yang Memiliki Telepon Selule... \n",
       "500  Proporsi Penduduk yang Memiliki Telepon Selule... \n",
       "501  Proporsi Penduduk yang Memiliki Telepon Selule... \n",
       "502  Proporsi Penduduk yang Memiliki Telepon Selule... \n",
       "503  Proporsi Penduduk yang Memiliki Telepon Selule... \n",
       "504  Proporsi Penduduk yang Memiliki Telepon Selule... \n",
       "505  Proporsi Penduduk yang Memiliki Telepon Selule... \n",
       "506  Proporsi Penduduk yang Memiliki Telepon Selule... \n",
       "507  Proporsi Penduduk yang Memiliki Telepon Selule... \n",
       "508  Proporsi Penduduk yang Memiliki Telepon Selule... \n",
       "509  Proporsi Penduduk yang Memiliki Telepon Selule... \n",
       "510  Proporsi Penduduk yang Memiliki Telepon Selule... \n",
       "511  Proporsi Penduduk yang Memiliki Telepon Selule... \n",
       "512  Proporsi Penduduk yang Memiliki Telepon Selule... \n",
       "513  Proporsi Penduduk yang Memiliki Telepon Selule... \n",
       "514  Proporsi Penduduk yang Memiliki Telepon Selule... \n",
       "515  Proporsi Penduduk yang Memiliki Telepon Selule... \n",
       "516  Proporsi Penduduk yang Memiliki Telepon Selule... \n",
       "517  Proporsi Penduduk yang Memiliki Telepon Selule... \n",
       "518  Proporsi Penduduk yang Memiliki Telepon Selule... \n",
       "519  Proporsi Penduduk yang Memiliki Telepon Selule... \n",
       "520  Proporsi Penduduk yang Memiliki Telepon Selule... \n",
       "521  Proporsi Penduduk yang Memiliki Telepon Selule... \n",
       "522  Proporsi Penduduk yang Memiliki Telepon Selule... \n",
       "523  Proporsi Penduduk yang Memiliki Telepon Selule... \n",
       "524  Proporsi Penduduk yang Memiliki Telepon Selule... \n",
       "\n",
       "[525 rows x 1 columns]"
      ]
     },
     "execution_count": 20,
     "metadata": {},
     "output_type": "execute_result"
    }
   ],
   "source": [
    "df"
   ]
  },
  {
   "cell_type": "markdown",
   "metadata": {
    "colab_type": "text",
    "id": "_IFNZTWnKFdI"
   },
   "source": [
    "Dalam sebuah *file* CSV, masing-masing *field* tidak harus dipisahkan oleh tanda `,` (koma), melainkan bisa dengan pemisah-pemisah seperti:\n",
    "- `;` (titik koma)\n",
    "- `\\t` (*tab*)\n",
    "- `|` (*pipe*)\n",
    "\n",
    "Pada contoh di atas, pandas tidak membaca data kita dengan benar. Hal ini karena tanda baca yang memisahkan kolom-kolom di *file* yang dibaca adalah tanda titik koma. Apabila kita tidak mendefinisikan secara eksplisit separator apa yang harus digunakan, maka secara *default* pandas akan menganggap bahwa separator yang digunakan adalah tanda koma."
   ]
  },
  {
   "cell_type": "code",
   "execution_count": 86,
   "metadata": {
    "colab": {},
    "colab_type": "code",
    "id": "CVqBoR66QMvi"
   },
   "outputs": [],
   "source": [
    "df = pd.read_csv(\"data/penduduk_telepon_seluler_pedesaan.csv\", sep=\";\")"
   ]
  },
  {
   "cell_type": "markdown",
   "metadata": {
    "colab_type": "text",
    "id": "l3PYYWp5QVEg"
   },
   "source": [
    "Apabila kita ingin melihat data yang telah kita *load*, namun kita tidak perlu melihat semua datanya, kita dapat menggunakan `head()` yang akan memunculkan lima baris pertama:"
   ]
  },
  {
   "cell_type": "code",
   "execution_count": 87,
   "metadata": {
    "colab": {
     "base_uri": "https://localhost:8080/",
     "height": 293
    },
    "colab_type": "code",
    "id": "Tw2zZuzIQRte",
    "outputId": "2046dce0-707f-48f6-d38c-d5fa07318f28"
   },
   "outputs": [
    {
     "data": {
      "text/html": [
       "<div>\n",
       "<style scoped>\n",
       "    .dataframe tbody tr th:only-of-type {\n",
       "        vertical-align: middle;\n",
       "    }\n",
       "\n",
       "    .dataframe tbody tr th {\n",
       "        vertical-align: top;\n",
       "    }\n",
       "\n",
       "    .dataframe thead th {\n",
       "        text-align: right;\n",
       "    }\n",
       "</style>\n",
       "<table border=\"1\" class=\"dataframe\">\n",
       "  <thead>\n",
       "    <tr style=\"text-align: right;\">\n",
       "      <th></th>\n",
       "      <th>nama_series</th>\n",
       "      <th>kode_wilayah</th>\n",
       "      <th>wilayah</th>\n",
       "      <th>tahun</th>\n",
       "      <th>nilai</th>\n",
       "      <th>target</th>\n",
       "    </tr>\n",
       "  </thead>\n",
       "  <tbody>\n",
       "    <tr>\n",
       "      <th>0</th>\n",
       "      <td>Proporsi Penduduk yang Memiliki Telepon Selule...</td>\n",
       "      <td>1</td>\n",
       "      <td>Indonesia</td>\n",
       "      <td>2001</td>\n",
       "      <td>NaN</td>\n",
       "      <td>100.0</td>\n",
       "    </tr>\n",
       "    <tr>\n",
       "      <th>1</th>\n",
       "      <td>Proporsi Penduduk yang Memiliki Telepon Selule...</td>\n",
       "      <td>1</td>\n",
       "      <td>Indonesia</td>\n",
       "      <td>2002</td>\n",
       "      <td>NaN</td>\n",
       "      <td>100.0</td>\n",
       "    </tr>\n",
       "    <tr>\n",
       "      <th>2</th>\n",
       "      <td>Proporsi Penduduk yang Memiliki Telepon Selule...</td>\n",
       "      <td>1</td>\n",
       "      <td>Indonesia</td>\n",
       "      <td>2003</td>\n",
       "      <td>NaN</td>\n",
       "      <td>100.0</td>\n",
       "    </tr>\n",
       "    <tr>\n",
       "      <th>3</th>\n",
       "      <td>Proporsi Penduduk yang Memiliki Telepon Selule...</td>\n",
       "      <td>1</td>\n",
       "      <td>Indonesia</td>\n",
       "      <td>2004</td>\n",
       "      <td>NaN</td>\n",
       "      <td>100.0</td>\n",
       "    </tr>\n",
       "    <tr>\n",
       "      <th>4</th>\n",
       "      <td>Proporsi Penduduk yang Memiliki Telepon Selule...</td>\n",
       "      <td>1</td>\n",
       "      <td>Indonesia</td>\n",
       "      <td>2005</td>\n",
       "      <td>8.19</td>\n",
       "      <td>100.0</td>\n",
       "    </tr>\n",
       "  </tbody>\n",
       "</table>\n",
       "</div>"
      ],
      "text/plain": [
       "                                         nama_series  kode_wilayah    wilayah  \\\n",
       "0  Proporsi Penduduk yang Memiliki Telepon Selule...             1  Indonesia   \n",
       "1  Proporsi Penduduk yang Memiliki Telepon Selule...             1  Indonesia   \n",
       "2  Proporsi Penduduk yang Memiliki Telepon Selule...             1  Indonesia   \n",
       "3  Proporsi Penduduk yang Memiliki Telepon Selule...             1  Indonesia   \n",
       "4  Proporsi Penduduk yang Memiliki Telepon Selule...             1  Indonesia   \n",
       "\n",
       "   tahun  nilai  target  \n",
       "0   2001    NaN   100.0  \n",
       "1   2002    NaN   100.0  \n",
       "2   2003    NaN   100.0  \n",
       "3   2004    NaN   100.0  \n",
       "4   2005   8.19   100.0  "
      ]
     },
     "execution_count": 87,
     "metadata": {},
     "output_type": "execute_result"
    }
   ],
   "source": [
    "df.head()"
   ]
  },
  {
   "cell_type": "markdown",
   "metadata": {},
   "source": [
    "Apabila kita butuh untuk melihat lebih dari lima baris, atau bahkan kurang dari lima baris, kita dapat memasukkan angka jumlah baris yang ingin kita lihat:"
   ]
  },
  {
   "cell_type": "code",
   "execution_count": 88,
   "metadata": {
    "colab": {
     "base_uri": "https://localhost:8080/",
     "height": 537
    },
    "colab_type": "code",
    "id": "Arh7hWhUQf7X",
    "outputId": "7ac65541-12a8-4caf-fcc9-80d46675ba74"
   },
   "outputs": [
    {
     "data": {
      "text/html": [
       "<div>\n",
       "<style scoped>\n",
       "    .dataframe tbody tr th:only-of-type {\n",
       "        vertical-align: middle;\n",
       "    }\n",
       "\n",
       "    .dataframe tbody tr th {\n",
       "        vertical-align: top;\n",
       "    }\n",
       "\n",
       "    .dataframe thead th {\n",
       "        text-align: right;\n",
       "    }\n",
       "</style>\n",
       "<table border=\"1\" class=\"dataframe\">\n",
       "  <thead>\n",
       "    <tr style=\"text-align: right;\">\n",
       "      <th></th>\n",
       "      <th>nama_series</th>\n",
       "      <th>kode_wilayah</th>\n",
       "      <th>wilayah</th>\n",
       "      <th>tahun</th>\n",
       "      <th>nilai</th>\n",
       "      <th>target</th>\n",
       "    </tr>\n",
       "  </thead>\n",
       "  <tbody>\n",
       "    <tr>\n",
       "      <th>0</th>\n",
       "      <td>Proporsi Penduduk yang Memiliki Telepon Selule...</td>\n",
       "      <td>1</td>\n",
       "      <td>Indonesia</td>\n",
       "      <td>2001</td>\n",
       "      <td>NaN</td>\n",
       "      <td>100.0</td>\n",
       "    </tr>\n",
       "    <tr>\n",
       "      <th>1</th>\n",
       "      <td>Proporsi Penduduk yang Memiliki Telepon Selule...</td>\n",
       "      <td>1</td>\n",
       "      <td>Indonesia</td>\n",
       "      <td>2002</td>\n",
       "      <td>NaN</td>\n",
       "      <td>100.0</td>\n",
       "    </tr>\n",
       "    <tr>\n",
       "      <th>2</th>\n",
       "      <td>Proporsi Penduduk yang Memiliki Telepon Selule...</td>\n",
       "      <td>1</td>\n",
       "      <td>Indonesia</td>\n",
       "      <td>2003</td>\n",
       "      <td>NaN</td>\n",
       "      <td>100.0</td>\n",
       "    </tr>\n",
       "    <tr>\n",
       "      <th>3</th>\n",
       "      <td>Proporsi Penduduk yang Memiliki Telepon Selule...</td>\n",
       "      <td>1</td>\n",
       "      <td>Indonesia</td>\n",
       "      <td>2004</td>\n",
       "      <td>NaN</td>\n",
       "      <td>100.0</td>\n",
       "    </tr>\n",
       "    <tr>\n",
       "      <th>4</th>\n",
       "      <td>Proporsi Penduduk yang Memiliki Telepon Selule...</td>\n",
       "      <td>1</td>\n",
       "      <td>Indonesia</td>\n",
       "      <td>2005</td>\n",
       "      <td>8.19</td>\n",
       "      <td>100.0</td>\n",
       "    </tr>\n",
       "    <tr>\n",
       "      <th>5</th>\n",
       "      <td>Proporsi Penduduk yang Memiliki Telepon Selule...</td>\n",
       "      <td>1</td>\n",
       "      <td>Indonesia</td>\n",
       "      <td>2006</td>\n",
       "      <td>12.27</td>\n",
       "      <td>100.0</td>\n",
       "    </tr>\n",
       "    <tr>\n",
       "      <th>6</th>\n",
       "      <td>Proporsi Penduduk yang Memiliki Telepon Selule...</td>\n",
       "      <td>1</td>\n",
       "      <td>Indonesia</td>\n",
       "      <td>2007</td>\n",
       "      <td>24.33</td>\n",
       "      <td>100.0</td>\n",
       "    </tr>\n",
       "    <tr>\n",
       "      <th>7</th>\n",
       "      <td>Proporsi Penduduk yang Memiliki Telepon Selule...</td>\n",
       "      <td>1</td>\n",
       "      <td>Indonesia</td>\n",
       "      <td>2008</td>\n",
       "      <td>38.15</td>\n",
       "      <td>100.0</td>\n",
       "    </tr>\n",
       "    <tr>\n",
       "      <th>8</th>\n",
       "      <td>Proporsi Penduduk yang Memiliki Telepon Selule...</td>\n",
       "      <td>1</td>\n",
       "      <td>Indonesia</td>\n",
       "      <td>2009</td>\n",
       "      <td>49.21</td>\n",
       "      <td>100.0</td>\n",
       "    </tr>\n",
       "    <tr>\n",
       "      <th>9</th>\n",
       "      <td>Proporsi Penduduk yang Memiliki Telepon Selule...</td>\n",
       "      <td>1</td>\n",
       "      <td>Indonesia</td>\n",
       "      <td>2010</td>\n",
       "      <td>61.01</td>\n",
       "      <td>100.0</td>\n",
       "    </tr>\n",
       "  </tbody>\n",
       "</table>\n",
       "</div>"
      ],
      "text/plain": [
       "                                         nama_series  kode_wilayah    wilayah  \\\n",
       "0  Proporsi Penduduk yang Memiliki Telepon Selule...             1  Indonesia   \n",
       "1  Proporsi Penduduk yang Memiliki Telepon Selule...             1  Indonesia   \n",
       "2  Proporsi Penduduk yang Memiliki Telepon Selule...             1  Indonesia   \n",
       "3  Proporsi Penduduk yang Memiliki Telepon Selule...             1  Indonesia   \n",
       "4  Proporsi Penduduk yang Memiliki Telepon Selule...             1  Indonesia   \n",
       "5  Proporsi Penduduk yang Memiliki Telepon Selule...             1  Indonesia   \n",
       "6  Proporsi Penduduk yang Memiliki Telepon Selule...             1  Indonesia   \n",
       "7  Proporsi Penduduk yang Memiliki Telepon Selule...             1  Indonesia   \n",
       "8  Proporsi Penduduk yang Memiliki Telepon Selule...             1  Indonesia   \n",
       "9  Proporsi Penduduk yang Memiliki Telepon Selule...             1  Indonesia   \n",
       "\n",
       "   tahun  nilai  target  \n",
       "0   2001    NaN   100.0  \n",
       "1   2002    NaN   100.0  \n",
       "2   2003    NaN   100.0  \n",
       "3   2004    NaN   100.0  \n",
       "4   2005   8.19   100.0  \n",
       "5   2006  12.27   100.0  \n",
       "6   2007  24.33   100.0  \n",
       "7   2008  38.15   100.0  \n",
       "8   2009  49.21   100.0  \n",
       "9   2010  61.01   100.0  "
      ]
     },
     "execution_count": 88,
     "metadata": {},
     "output_type": "execute_result"
    }
   ],
   "source": [
    "df.head(10)"
   ]
  },
  {
   "cell_type": "markdown",
   "metadata": {},
   "source": [
    "Kita juga dapat menggunakan `tail()` apabila ingin melihat baris-baris yang ada di urutan bawah."
   ]
  },
  {
   "cell_type": "code",
   "execution_count": 89,
   "metadata": {
    "colab": {
     "base_uri": "https://localhost:8080/",
     "height": 293
    },
    "colab_type": "code",
    "id": "2WQ4n8bmQTC_",
    "outputId": "716e664e-a1d6-4819-9d0a-6e59dc55ea71"
   },
   "outputs": [
    {
     "data": {
      "text/html": [
       "<div>\n",
       "<style scoped>\n",
       "    .dataframe tbody tr th:only-of-type {\n",
       "        vertical-align: middle;\n",
       "    }\n",
       "\n",
       "    .dataframe tbody tr th {\n",
       "        vertical-align: top;\n",
       "    }\n",
       "\n",
       "    .dataframe thead th {\n",
       "        text-align: right;\n",
       "    }\n",
       "</style>\n",
       "<table border=\"1\" class=\"dataframe\">\n",
       "  <thead>\n",
       "    <tr style=\"text-align: right;\">\n",
       "      <th></th>\n",
       "      <th>nama_series</th>\n",
       "      <th>kode_wilayah</th>\n",
       "      <th>wilayah</th>\n",
       "      <th>tahun</th>\n",
       "      <th>nilai</th>\n",
       "      <th>target</th>\n",
       "    </tr>\n",
       "  </thead>\n",
       "  <tbody>\n",
       "    <tr>\n",
       "      <th>520</th>\n",
       "      <td>Proporsi Penduduk yang Memiliki Telepon Selule...</td>\n",
       "      <td>94</td>\n",
       "      <td>Papua</td>\n",
       "      <td>2011</td>\n",
       "      <td>17.26</td>\n",
       "      <td>NaN</td>\n",
       "    </tr>\n",
       "    <tr>\n",
       "      <th>521</th>\n",
       "      <td>Proporsi Penduduk yang Memiliki Telepon Selule...</td>\n",
       "      <td>94</td>\n",
       "      <td>Papua</td>\n",
       "      <td>2012</td>\n",
       "      <td>20.50</td>\n",
       "      <td>NaN</td>\n",
       "    </tr>\n",
       "    <tr>\n",
       "      <th>522</th>\n",
       "      <td>Proporsi Penduduk yang Memiliki Telepon Selule...</td>\n",
       "      <td>94</td>\n",
       "      <td>Papua</td>\n",
       "      <td>2013</td>\n",
       "      <td>25.08</td>\n",
       "      <td>NaN</td>\n",
       "    </tr>\n",
       "    <tr>\n",
       "      <th>523</th>\n",
       "      <td>Proporsi Penduduk yang Memiliki Telepon Selule...</td>\n",
       "      <td>94</td>\n",
       "      <td>Papua</td>\n",
       "      <td>2014</td>\n",
       "      <td>26.31</td>\n",
       "      <td>NaN</td>\n",
       "    </tr>\n",
       "    <tr>\n",
       "      <th>524</th>\n",
       "      <td>Proporsi Penduduk yang Memiliki Telepon Selule...</td>\n",
       "      <td>94</td>\n",
       "      <td>Papua</td>\n",
       "      <td>2015</td>\n",
       "      <td>32.51</td>\n",
       "      <td>NaN</td>\n",
       "    </tr>\n",
       "  </tbody>\n",
       "</table>\n",
       "</div>"
      ],
      "text/plain": [
       "                                           nama_series  kode_wilayah wilayah  \\\n",
       "520  Proporsi Penduduk yang Memiliki Telepon Selule...            94   Papua   \n",
       "521  Proporsi Penduduk yang Memiliki Telepon Selule...            94   Papua   \n",
       "522  Proporsi Penduduk yang Memiliki Telepon Selule...            94   Papua   \n",
       "523  Proporsi Penduduk yang Memiliki Telepon Selule...            94   Papua   \n",
       "524  Proporsi Penduduk yang Memiliki Telepon Selule...            94   Papua   \n",
       "\n",
       "     tahun  nilai  target  \n",
       "520   2011  17.26     NaN  \n",
       "521   2012  20.50     NaN  \n",
       "522   2013  25.08     NaN  \n",
       "523   2014  26.31     NaN  \n",
       "524   2015  32.51     NaN  "
      ]
     },
     "execution_count": 89,
     "metadata": {},
     "output_type": "execute_result"
    }
   ],
   "source": [
    "df.tail()"
   ]
  },
  {
   "cell_type": "markdown",
   "metadata": {
    "colab_type": "text",
    "id": "GZv3aG7nQm_-"
   },
   "source": [
    "Struktur data di pandas secara garis besar diimplementasikan sebagai salah satu dari dua kelas berikut:\n",
    "- `DataFrame`: bisa dianggap sebagai sebuah tabel data relasional dengan baris-baris (*rows*) dan kolom-kolom (*columns*)\n",
    "- `Series`: sebuah kolom. Sebuah DataFrame memiliki satu atau lebih `Series`.\n",
    "\n",
    "![Series vs DataFrame](https://storage.googleapis.com/lds-media/images/series-and-dataframe.width-1200.png)\n",
    "[*Source*](https://www.learndatasci.com/tutorials/python-pandas-tutorial-complete-introduction-for-beginners/)"
   ]
  },
  {
   "cell_type": "markdown",
   "metadata": {},
   "source": [
    "Dengan menggunakan `type()`, fungsi dari Python yang dapat digunakan untuk mengecek tipe dari sebuah variabel, kita dapat melihat bahwa tipe dari variabel `df` adalah DataFrame."
   ]
  },
  {
   "cell_type": "code",
   "execution_count": 90,
   "metadata": {
    "colab": {
     "base_uri": "https://localhost:8080/",
     "height": 34
    },
    "colab_type": "code",
    "id": "r0bcu-GXVf15",
    "outputId": "342dfc66-15ef-4913-c558-af9e7d557b9e"
   },
   "outputs": [
    {
     "data": {
      "text/plain": [
       "pandas.core.frame.DataFrame"
      ]
     },
     "execution_count": 90,
     "metadata": {},
     "output_type": "execute_result"
    }
   ],
   "source": [
    "type(df)"
   ]
  },
  {
   "cell_type": "markdown",
   "metadata": {
    "colab_type": "text",
    "id": "W_hZQoOYWUY_"
   },
   "source": [
    "# Mengakses data"
   ]
  },
  {
   "cell_type": "markdown",
   "metadata": {
    "colab_type": "text",
    "id": "mp4NRT2WFt-b"
   },
   "source": [
    "## Mengakses kolom"
   ]
  },
  {
   "cell_type": "code",
   "execution_count": 91,
   "metadata": {
    "colab": {
     "base_uri": "https://localhost:8080/",
     "height": 1000
    },
    "colab_type": "code",
    "id": "K55XEVoRV7ct",
    "outputId": "9c91df8b-cee3-44f5-9294-e08d9d599c3a"
   },
   "outputs": [
    {
     "data": {
      "text/plain": [
       "0        Indonesia\n",
       "1        Indonesia\n",
       "2        Indonesia\n",
       "3        Indonesia\n",
       "4        Indonesia\n",
       "5        Indonesia\n",
       "6        Indonesia\n",
       "7        Indonesia\n",
       "8        Indonesia\n",
       "9        Indonesia\n",
       "10       Indonesia\n",
       "11       Indonesia\n",
       "12       Indonesia\n",
       "13       Indonesia\n",
       "14       Indonesia\n",
       "15            Aceh\n",
       "16            Aceh\n",
       "17            Aceh\n",
       "18            Aceh\n",
       "19            Aceh\n",
       "20            Aceh\n",
       "21            Aceh\n",
       "22            Aceh\n",
       "23            Aceh\n",
       "24            Aceh\n",
       "25            Aceh\n",
       "26            Aceh\n",
       "27            Aceh\n",
       "28            Aceh\n",
       "29            Aceh\n",
       "          ...     \n",
       "495    Papua Barat\n",
       "496    Papua Barat\n",
       "497    Papua Barat\n",
       "498    Papua Barat\n",
       "499    Papua Barat\n",
       "500    Papua Barat\n",
       "501    Papua Barat\n",
       "502    Papua Barat\n",
       "503    Papua Barat\n",
       "504    Papua Barat\n",
       "505    Papua Barat\n",
       "506    Papua Barat\n",
       "507    Papua Barat\n",
       "508    Papua Barat\n",
       "509    Papua Barat\n",
       "510          Papua\n",
       "511          Papua\n",
       "512          Papua\n",
       "513          Papua\n",
       "514          Papua\n",
       "515          Papua\n",
       "516          Papua\n",
       "517          Papua\n",
       "518          Papua\n",
       "519          Papua\n",
       "520          Papua\n",
       "521          Papua\n",
       "522          Papua\n",
       "523          Papua\n",
       "524          Papua\n",
       "Name: wilayah, Length: 525, dtype: object"
      ]
     },
     "execution_count": 91,
     "metadata": {},
     "output_type": "execute_result"
    }
   ],
   "source": [
    "df[\"wilayah\"]"
   ]
  },
  {
   "cell_type": "markdown",
   "metadata": {},
   "source": [
    "Dengan menggunakan `type()`, kita dapat melihat bahwa tipe dari kolom `df[\"wilayah\"]` adalah Series."
   ]
  },
  {
   "cell_type": "code",
   "execution_count": 27,
   "metadata": {
    "colab": {
     "base_uri": "https://localhost:8080/",
     "height": 34
    },
    "colab_type": "code",
    "id": "sdogupPNViWp",
    "outputId": "700878aa-6134-4a55-e4bc-747df20604f0"
   },
   "outputs": [
    {
     "data": {
      "text/plain": [
       "pandas.core.series.Series"
      ]
     },
     "execution_count": 27,
     "metadata": {},
     "output_type": "execute_result"
    }
   ],
   "source": [
    "type(df[\"wilayah\"])"
   ]
  },
  {
   "cell_type": "markdown",
   "metadata": {},
   "source": [
    "Melihat nilai-nilai unik dari kolom **wilayah**:"
   ]
  },
  {
   "cell_type": "code",
   "execution_count": 92,
   "metadata": {
    "colab": {
     "base_uri": "https://localhost:8080/",
     "height": 191
    },
    "colab_type": "code",
    "id": "8lNmzpRhb5Nt",
    "outputId": "007944eb-9937-43d9-8953-22cc374c65e0"
   },
   "outputs": [
    {
     "data": {
      "text/plain": [
       "array(['Indonesia', 'Aceh', 'Sumatera Utara', 'Sumatera Barat', 'Riau',\n",
       "       'Jambi', 'Sumatera Selatan', 'Bengkulu', 'Lampung',\n",
       "       'Kepulauan Bangka Belitung', 'Kepulauan Riau', 'DKI Jakarta',\n",
       "       'Jawa Barat', 'Jawa Tengah', 'DI Yogyakarta', 'Jawa Timur',\n",
       "       'Banten', 'Bali', 'Nusa Tenggara Barat', 'Nusa Tenggara Timur',\n",
       "       'Kalimantan Barat', 'Kalimantan Tengah', 'Kalimantan Selatan',\n",
       "       'Kalimantan Timur', 'Kalimantan Utara', 'Sulawesi Utara',\n",
       "       'Sulawesi Tengah', 'Sulawesi Selatan', 'Sulawesi Tenggara',\n",
       "       'Gorontalo', 'Sulawesi Barat', 'Maluku', 'Maluku Utara',\n",
       "       'Papua Barat', 'Papua'], dtype=object)"
      ]
     },
     "execution_count": 92,
     "metadata": {},
     "output_type": "execute_result"
    }
   ],
   "source": [
    "df[\"wilayah\"].unique()"
   ]
  },
  {
   "cell_type": "markdown",
   "metadata": {
    "colab_type": "text",
    "id": "VX3PydH7R-Uf"
   },
   "source": [
    "Apabila kita ingin mengecek kolom apa saja yang ada di DataFrame kita:"
   ]
  },
  {
   "cell_type": "code",
   "execution_count": 93,
   "metadata": {
    "colab": {
     "base_uri": "https://localhost:8080/",
     "height": 54
    },
    "colab_type": "code",
    "id": "dPpgDG-4Vn5L",
    "outputId": "0a8acb02-ffa0-43d8-8db4-6905d7a5a195"
   },
   "outputs": [
    {
     "data": {
      "text/plain": [
       "Index(['nama_series', 'kode_wilayah', 'wilayah', 'tahun', 'nilai', 'target'], dtype='object')"
      ]
     },
     "execution_count": 93,
     "metadata": {},
     "output_type": "execute_result"
    }
   ],
   "source": [
    "df.columns"
   ]
  },
  {
   "cell_type": "markdown",
   "metadata": {
    "colab_type": "text",
    "id": "CcisytDQWZF6"
   },
   "source": [
    "## Mengakses baris"
   ]
  },
  {
   "cell_type": "markdown",
   "metadata": {
    "colab_type": "text",
    "id": "fPwuxuMQmtzB"
   },
   "source": [
    "- `iloc` - *input* berupa posisi (hanya menerima integer)\n",
    "- `loc` -  *input* berupa label (tidak harus integer, bisa saja string apabila label-nya merupakan sebuah string)\n",
    "- `ix` - *deprecated*"
   ]
  },
  {
   "cell_type": "markdown",
   "metadata": {
    "colab_type": "text",
    "id": "N7Pjr5ZVnrfx"
   },
   "source": [
    "### iloc"
   ]
  },
  {
   "cell_type": "markdown",
   "metadata": {},
   "source": [
    "Untuk mendemonstrasikan perbedaan antara `loc` dan `iloc`, kita akan membuat satu DataFrame baru di variabel `df_shuffled` yang merupakan DataFrame `df` yang urutannya diacak:"
   ]
  },
  {
   "cell_type": "code",
   "execution_count": 96,
   "metadata": {
    "colab": {},
    "colab_type": "code",
    "id": "ENLwsKqMoBya"
   },
   "outputs": [],
   "source": [
    "import numpy as np\n",
    "\n",
    "df_shuffled = df.reindex(np.random.permutation(df.index))"
   ]
  },
  {
   "cell_type": "code",
   "execution_count": 97,
   "metadata": {
    "colab": {
     "base_uri": "https://localhost:8080/",
     "height": 196
    },
    "colab_type": "code",
    "id": "LzveoxsvnuGZ",
    "outputId": "ab235cbd-c097-4774-da18-33272fb76b61"
   },
   "outputs": [
    {
     "data": {
      "text/html": [
       "<div>\n",
       "<style scoped>\n",
       "    .dataframe tbody tr th:only-of-type {\n",
       "        vertical-align: middle;\n",
       "    }\n",
       "\n",
       "    .dataframe tbody tr th {\n",
       "        vertical-align: top;\n",
       "    }\n",
       "\n",
       "    .dataframe thead th {\n",
       "        text-align: right;\n",
       "    }\n",
       "</style>\n",
       "<table border=\"1\" class=\"dataframe\">\n",
       "  <thead>\n",
       "    <tr style=\"text-align: right;\">\n",
       "      <th></th>\n",
       "      <th>nama_series</th>\n",
       "      <th>kode_wilayah</th>\n",
       "      <th>wilayah</th>\n",
       "      <th>tahun</th>\n",
       "      <th>nilai</th>\n",
       "      <th>target</th>\n",
       "    </tr>\n",
       "  </thead>\n",
       "  <tbody>\n",
       "    <tr>\n",
       "      <th>0</th>\n",
       "      <td>Proporsi Penduduk yang Memiliki Telepon Selule...</td>\n",
       "      <td>1</td>\n",
       "      <td>Indonesia</td>\n",
       "      <td>2001</td>\n",
       "      <td>NaN</td>\n",
       "      <td>100.0</td>\n",
       "    </tr>\n",
       "    <tr>\n",
       "      <th>1</th>\n",
       "      <td>Proporsi Penduduk yang Memiliki Telepon Selule...</td>\n",
       "      <td>1</td>\n",
       "      <td>Indonesia</td>\n",
       "      <td>2002</td>\n",
       "      <td>NaN</td>\n",
       "      <td>100.0</td>\n",
       "    </tr>\n",
       "    <tr>\n",
       "      <th>2</th>\n",
       "      <td>Proporsi Penduduk yang Memiliki Telepon Selule...</td>\n",
       "      <td>1</td>\n",
       "      <td>Indonesia</td>\n",
       "      <td>2003</td>\n",
       "      <td>NaN</td>\n",
       "      <td>100.0</td>\n",
       "    </tr>\n",
       "  </tbody>\n",
       "</table>\n",
       "</div>"
      ],
      "text/plain": [
       "                                         nama_series  kode_wilayah    wilayah  \\\n",
       "0  Proporsi Penduduk yang Memiliki Telepon Selule...             1  Indonesia   \n",
       "1  Proporsi Penduduk yang Memiliki Telepon Selule...             1  Indonesia   \n",
       "2  Proporsi Penduduk yang Memiliki Telepon Selule...             1  Indonesia   \n",
       "\n",
       "   tahun  nilai  target  \n",
       "0   2001    NaN   100.0  \n",
       "1   2002    NaN   100.0  \n",
       "2   2003    NaN   100.0  "
      ]
     },
     "execution_count": 97,
     "metadata": {},
     "output_type": "execute_result"
    }
   ],
   "source": [
    "df.head(3)"
   ]
  },
  {
   "cell_type": "code",
   "execution_count": 98,
   "metadata": {
    "colab": {
     "base_uri": "https://localhost:8080/",
     "height": 196
    },
    "colab_type": "code",
    "id": "47_DO6jsoFRD",
    "outputId": "e6748541-9841-48c2-884b-73ef079ab103"
   },
   "outputs": [
    {
     "data": {
      "text/html": [
       "<div>\n",
       "<style scoped>\n",
       "    .dataframe tbody tr th:only-of-type {\n",
       "        vertical-align: middle;\n",
       "    }\n",
       "\n",
       "    .dataframe tbody tr th {\n",
       "        vertical-align: top;\n",
       "    }\n",
       "\n",
       "    .dataframe thead th {\n",
       "        text-align: right;\n",
       "    }\n",
       "</style>\n",
       "<table border=\"1\" class=\"dataframe\">\n",
       "  <thead>\n",
       "    <tr style=\"text-align: right;\">\n",
       "      <th></th>\n",
       "      <th>nama_series</th>\n",
       "      <th>kode_wilayah</th>\n",
       "      <th>wilayah</th>\n",
       "      <th>tahun</th>\n",
       "      <th>nilai</th>\n",
       "      <th>target</th>\n",
       "    </tr>\n",
       "  </thead>\n",
       "  <tbody>\n",
       "    <tr>\n",
       "      <th>261</th>\n",
       "      <td>Proporsi Penduduk yang Memiliki Telepon Selule...</td>\n",
       "      <td>51</td>\n",
       "      <td>Bali</td>\n",
       "      <td>2007</td>\n",
       "      <td>38.60</td>\n",
       "      <td>NaN</td>\n",
       "    </tr>\n",
       "    <tr>\n",
       "      <th>310</th>\n",
       "      <td>Proporsi Penduduk yang Memiliki Telepon Selule...</td>\n",
       "      <td>61</td>\n",
       "      <td>Kalimantan Barat</td>\n",
       "      <td>2011</td>\n",
       "      <td>72.65</td>\n",
       "      <td>NaN</td>\n",
       "    </tr>\n",
       "    <tr>\n",
       "      <th>414</th>\n",
       "      <td>Proporsi Penduduk yang Memiliki Telepon Selule...</td>\n",
       "      <td>73</td>\n",
       "      <td>Sulawesi Selatan</td>\n",
       "      <td>2010</td>\n",
       "      <td>70.20</td>\n",
       "      <td>NaN</td>\n",
       "    </tr>\n",
       "  </tbody>\n",
       "</table>\n",
       "</div>"
      ],
      "text/plain": [
       "                                           nama_series  kode_wilayah  \\\n",
       "261  Proporsi Penduduk yang Memiliki Telepon Selule...            51   \n",
       "310  Proporsi Penduduk yang Memiliki Telepon Selule...            61   \n",
       "414  Proporsi Penduduk yang Memiliki Telepon Selule...            73   \n",
       "\n",
       "              wilayah  tahun  nilai  target  \n",
       "261              Bali   2007  38.60     NaN  \n",
       "310  Kalimantan Barat   2011  72.65     NaN  \n",
       "414  Sulawesi Selatan   2010  70.20     NaN  "
      ]
     },
     "execution_count": 98,
     "metadata": {},
     "output_type": "execute_result"
    }
   ],
   "source": [
    "df_shuffled.head(3)"
   ]
  },
  {
   "cell_type": "markdown",
   "metadata": {},
   "source": [
    "Dengan kode di bawah ini, kita akan mengambil data baris pertama dari DataFrame `df_shuffled`:"
   ]
  },
  {
   "cell_type": "code",
   "execution_count": 99,
   "metadata": {
    "colab": {
     "base_uri": "https://localhost:8080/",
     "height": 139
    },
    "colab_type": "code",
    "id": "o-5LGoeO6tBH",
    "outputId": "cbe15c37-b3ef-4ce4-d569-a3a09750bb18"
   },
   "outputs": [
    {
     "data": {
      "text/plain": [
       "nama_series     Proporsi Penduduk yang Memiliki Telepon Selule...\n",
       "kode_wilayah                                                   51\n",
       "wilayah                                                      Bali\n",
       "tahun                                                        2007\n",
       "nilai                                                        38.6\n",
       "target                                                        NaN\n",
       "Name: 261, dtype: object"
      ]
     },
     "execution_count": 99,
     "metadata": {},
     "output_type": "execute_result"
    }
   ],
   "source": [
    "df_shuffled.iloc[0]"
   ]
  },
  {
   "cell_type": "markdown",
   "metadata": {},
   "source": [
    "⚠️ Python menghitung dari 0, sehingga apabila kita ingin mengambil data di baris pertama, maka posisinya adalah posisi ke-0."
   ]
  },
  {
   "cell_type": "markdown",
   "metadata": {},
   "source": [
    "Meskipun indeks-nya adalah 261, namun data tersebut tetap terambil karena **posisi**-nya ada di baris pertama DataFrame. Apabila kita mencoba untuk mengambil data di baris ke-261 (posisi ke-260), yang muncul adalah baris di posisi tersebut, bukan baris dengan indeks 261."
   ]
  },
  {
   "cell_type": "code",
   "execution_count": 100,
   "metadata": {
    "colab": {
     "base_uri": "https://localhost:8080/",
     "height": 139
    },
    "colab_type": "code",
    "id": "Ma9B4_DAoIyD",
    "outputId": "ed4a87cd-f464-42f0-e5e0-676fc0c777ce"
   },
   "outputs": [
    {
     "data": {
      "text/plain": [
       "nama_series     Proporsi Penduduk yang Memiliki Telepon Selule...\n",
       "kode_wilayah                                                   94\n",
       "wilayah                                                     Papua\n",
       "tahun                                                        2005\n",
       "nilai                                                        4.61\n",
       "target                                                        NaN\n",
       "Name: 514, dtype: object"
      ]
     },
     "execution_count": 100,
     "metadata": {},
     "output_type": "execute_result"
    }
   ],
   "source": [
    "df_shuffled.iloc[260]"
   ]
  },
  {
   "cell_type": "markdown",
   "metadata": {},
   "source": [
    "Pada contoh di atas, baris yang muncul adalah baris dengan indeks 514. Ternyata, setelah diacak, baris dengan indeks 514 menempati baris ke-261."
   ]
  },
  {
   "cell_type": "markdown",
   "metadata": {
    "colab_type": "text",
    "id": "qHsNs_Al62rE"
   },
   "source": [
    "### loc"
   ]
  },
  {
   "cell_type": "markdown",
   "metadata": {},
   "source": [
    "`loc` mengambil baris berdasarkan indeks."
   ]
  },
  {
   "cell_type": "code",
   "execution_count": 104,
   "metadata": {
    "colab": {
     "base_uri": "https://localhost:8080/",
     "height": 196
    },
    "colab_type": "code",
    "id": "2e1wefTo63to",
    "outputId": "27bc2c5a-1079-46f5-cdce-4741f49c17dd"
   },
   "outputs": [
    {
     "data": {
      "text/html": [
       "<div>\n",
       "<style scoped>\n",
       "    .dataframe tbody tr th:only-of-type {\n",
       "        vertical-align: middle;\n",
       "    }\n",
       "\n",
       "    .dataframe tbody tr th {\n",
       "        vertical-align: top;\n",
       "    }\n",
       "\n",
       "    .dataframe thead th {\n",
       "        text-align: right;\n",
       "    }\n",
       "</style>\n",
       "<table border=\"1\" class=\"dataframe\">\n",
       "  <thead>\n",
       "    <tr style=\"text-align: right;\">\n",
       "      <th></th>\n",
       "      <th>nama_series</th>\n",
       "      <th>kode_wilayah</th>\n",
       "      <th>wilayah</th>\n",
       "      <th>tahun</th>\n",
       "      <th>nilai</th>\n",
       "      <th>target</th>\n",
       "    </tr>\n",
       "  </thead>\n",
       "  <tbody>\n",
       "    <tr>\n",
       "      <th>261</th>\n",
       "      <td>Proporsi Penduduk yang Memiliki Telepon Selule...</td>\n",
       "      <td>51</td>\n",
       "      <td>Bali</td>\n",
       "      <td>2007</td>\n",
       "      <td>38.60</td>\n",
       "      <td>NaN</td>\n",
       "    </tr>\n",
       "    <tr>\n",
       "      <th>310</th>\n",
       "      <td>Proporsi Penduduk yang Memiliki Telepon Selule...</td>\n",
       "      <td>61</td>\n",
       "      <td>Kalimantan Barat</td>\n",
       "      <td>2011</td>\n",
       "      <td>72.65</td>\n",
       "      <td>NaN</td>\n",
       "    </tr>\n",
       "    <tr>\n",
       "      <th>414</th>\n",
       "      <td>Proporsi Penduduk yang Memiliki Telepon Selule...</td>\n",
       "      <td>73</td>\n",
       "      <td>Sulawesi Selatan</td>\n",
       "      <td>2010</td>\n",
       "      <td>70.20</td>\n",
       "      <td>NaN</td>\n",
       "    </tr>\n",
       "  </tbody>\n",
       "</table>\n",
       "</div>"
      ],
      "text/plain": [
       "                                           nama_series  kode_wilayah  \\\n",
       "261  Proporsi Penduduk yang Memiliki Telepon Selule...            51   \n",
       "310  Proporsi Penduduk yang Memiliki Telepon Selule...            61   \n",
       "414  Proporsi Penduduk yang Memiliki Telepon Selule...            73   \n",
       "\n",
       "              wilayah  tahun  nilai  target  \n",
       "261              Bali   2007  38.60     NaN  \n",
       "310  Kalimantan Barat   2011  72.65     NaN  \n",
       "414  Sulawesi Selatan   2010  70.20     NaN  "
      ]
     },
     "execution_count": 104,
     "metadata": {},
     "output_type": "execute_result"
    }
   ],
   "source": [
    "df_shuffled.head(3)"
   ]
  },
  {
   "cell_type": "code",
   "execution_count": 105,
   "metadata": {
    "colab": {
     "base_uri": "https://localhost:8080/",
     "height": 139
    },
    "colab_type": "code",
    "id": "CJOpk8ew6-Lq",
    "outputId": "0864da34-9490-44f4-a5ab-ce08b31d119b"
   },
   "outputs": [
    {
     "data": {
      "text/plain": [
       "nama_series     Proporsi Penduduk yang Memiliki Telepon Selule...\n",
       "kode_wilayah                                                    1\n",
       "wilayah                                                 Indonesia\n",
       "tahun                                                        2001\n",
       "nilai                                                         NaN\n",
       "target                                                        100\n",
       "Name: 0, dtype: object"
      ]
     },
     "execution_count": 105,
     "metadata": {},
     "output_type": "execute_result"
    }
   ],
   "source": [
    "df_shuffled.loc[0]"
   ]
  },
  {
   "cell_type": "markdown",
   "metadata": {},
   "source": [
    "Pada contoh di atas, kita tidak mendapatkan data di baris ke-0, melainkan baris dengan indeks 0.\n",
    "\n",
    "Apabila kita ingin mendapatkan baris dengan indeks 261:"
   ]
  },
  {
   "cell_type": "code",
   "execution_count": 108,
   "metadata": {
    "colab": {
     "base_uri": "https://localhost:8080/",
     "height": 139
    },
    "colab_type": "code",
    "id": "DqUSVghv66Lw",
    "outputId": "791a6c00-f8f4-4e88-c1de-70b6686cb356"
   },
   "outputs": [
    {
     "data": {
      "text/plain": [
       "nama_series     Proporsi Penduduk yang Memiliki Telepon Selule...\n",
       "kode_wilayah                                                   51\n",
       "wilayah                                                      Bali\n",
       "tahun                                                        2007\n",
       "nilai                                                        38.6\n",
       "target                                                        NaN\n",
       "Name: 261, dtype: object"
      ]
     },
     "execution_count": 108,
     "metadata": {},
     "output_type": "execute_result"
    }
   ],
   "source": [
    "df_shuffled.loc[261]"
   ]
  },
  {
   "cell_type": "markdown",
   "metadata": {},
   "source": [
    "⚠️ Indeks bukan merupakan posisi. Baris dengan indeks 261 akan benar-benar memiliki indeks 261, sehingga tidak perlu dikurangi lagi. Apabila kita coba kode berikut:"
   ]
  },
  {
   "cell_type": "code",
   "execution_count": 109,
   "metadata": {},
   "outputs": [
    {
     "data": {
      "text/plain": [
       "nama_series     Proporsi Penduduk yang Memiliki Telepon Selule...\n",
       "kode_wilayah                                                   51\n",
       "wilayah                                                      Bali\n",
       "tahun                                                        2006\n",
       "nilai                                                       27.22\n",
       "target                                                        NaN\n",
       "Name: 260, dtype: object"
      ]
     },
     "execution_count": 109,
     "metadata": {},
     "output_type": "execute_result"
    }
   ],
   "source": [
    "df_shuffled.loc[260]"
   ]
  },
  {
   "cell_type": "markdown",
   "metadata": {},
   "source": [
    "Kita akan mendapatkan baris dengan indeks 260."
   ]
  },
  {
   "cell_type": "markdown",
   "metadata": {
    "colab_type": "text",
    "id": "IkM3FLZ2YDQv"
   },
   "source": [
    "### Latihan\n",
    "Bagaimana cara agar kita bisa mendapatkan data di kolom \"nilai\" yang ada di baris kelima dari dataframe `df` (yang belum di-*shuffle*)?"
   ]
  },
  {
   "cell_type": "code",
   "execution_count": 110,
   "metadata": {
    "colab": {
     "base_uri": "https://localhost:8080/",
     "height": 293
    },
    "colab_type": "code",
    "id": "zyzk57Cipqke",
    "outputId": "a55c3d26-fe7e-4865-df7d-54401b23de3a"
   },
   "outputs": [
    {
     "data": {
      "text/html": [
       "<div>\n",
       "<style scoped>\n",
       "    .dataframe tbody tr th:only-of-type {\n",
       "        vertical-align: middle;\n",
       "    }\n",
       "\n",
       "    .dataframe tbody tr th {\n",
       "        vertical-align: top;\n",
       "    }\n",
       "\n",
       "    .dataframe thead th {\n",
       "        text-align: right;\n",
       "    }\n",
       "</style>\n",
       "<table border=\"1\" class=\"dataframe\">\n",
       "  <thead>\n",
       "    <tr style=\"text-align: right;\">\n",
       "      <th></th>\n",
       "      <th>nama_series</th>\n",
       "      <th>kode_wilayah</th>\n",
       "      <th>wilayah</th>\n",
       "      <th>tahun</th>\n",
       "      <th>nilai</th>\n",
       "      <th>target</th>\n",
       "    </tr>\n",
       "  </thead>\n",
       "  <tbody>\n",
       "    <tr>\n",
       "      <th>0</th>\n",
       "      <td>Proporsi Penduduk yang Memiliki Telepon Selule...</td>\n",
       "      <td>1</td>\n",
       "      <td>Indonesia</td>\n",
       "      <td>2001</td>\n",
       "      <td>NaN</td>\n",
       "      <td>100.0</td>\n",
       "    </tr>\n",
       "    <tr>\n",
       "      <th>1</th>\n",
       "      <td>Proporsi Penduduk yang Memiliki Telepon Selule...</td>\n",
       "      <td>1</td>\n",
       "      <td>Indonesia</td>\n",
       "      <td>2002</td>\n",
       "      <td>NaN</td>\n",
       "      <td>100.0</td>\n",
       "    </tr>\n",
       "    <tr>\n",
       "      <th>2</th>\n",
       "      <td>Proporsi Penduduk yang Memiliki Telepon Selule...</td>\n",
       "      <td>1</td>\n",
       "      <td>Indonesia</td>\n",
       "      <td>2003</td>\n",
       "      <td>NaN</td>\n",
       "      <td>100.0</td>\n",
       "    </tr>\n",
       "    <tr>\n",
       "      <th>3</th>\n",
       "      <td>Proporsi Penduduk yang Memiliki Telepon Selule...</td>\n",
       "      <td>1</td>\n",
       "      <td>Indonesia</td>\n",
       "      <td>2004</td>\n",
       "      <td>NaN</td>\n",
       "      <td>100.0</td>\n",
       "    </tr>\n",
       "    <tr>\n",
       "      <th>4</th>\n",
       "      <td>Proporsi Penduduk yang Memiliki Telepon Selule...</td>\n",
       "      <td>1</td>\n",
       "      <td>Indonesia</td>\n",
       "      <td>2005</td>\n",
       "      <td>8.19</td>\n",
       "      <td>100.0</td>\n",
       "    </tr>\n",
       "  </tbody>\n",
       "</table>\n",
       "</div>"
      ],
      "text/plain": [
       "                                         nama_series  kode_wilayah    wilayah  \\\n",
       "0  Proporsi Penduduk yang Memiliki Telepon Selule...             1  Indonesia   \n",
       "1  Proporsi Penduduk yang Memiliki Telepon Selule...             1  Indonesia   \n",
       "2  Proporsi Penduduk yang Memiliki Telepon Selule...             1  Indonesia   \n",
       "3  Proporsi Penduduk yang Memiliki Telepon Selule...             1  Indonesia   \n",
       "4  Proporsi Penduduk yang Memiliki Telepon Selule...             1  Indonesia   \n",
       "\n",
       "   tahun  nilai  target  \n",
       "0   2001    NaN   100.0  \n",
       "1   2002    NaN   100.0  \n",
       "2   2003    NaN   100.0  \n",
       "3   2004    NaN   100.0  \n",
       "4   2005   8.19   100.0  "
      ]
     },
     "execution_count": 110,
     "metadata": {},
     "output_type": "execute_result"
    }
   ],
   "source": [
    "df.head()"
   ]
  },
  {
   "cell_type": "markdown",
   "metadata": {
    "colab_type": "text",
    "id": "CR7uujPZX_5n"
   },
   "source": [
    "#### Solusi"
   ]
  },
  {
   "cell_type": "markdown",
   "metadata": {
    "colab_type": "text",
    "id": "Fav_p847YWm3"
   },
   "source": [
    "Ingat bahwa di Python, indeks dimulai dari hitungan 0, jadi untuk mengambil baris kelima kita harus menggunakan indeks = 4."
   ]
  },
  {
   "cell_type": "code",
   "execution_count": 111,
   "metadata": {
    "colab": {
     "base_uri": "https://localhost:8080/",
     "height": 139
    },
    "colab_type": "code",
    "id": "EbJZ0dmQqSku",
    "outputId": "ec42f480-9825-4fc5-831f-19ecc154865f"
   },
   "outputs": [
    {
     "data": {
      "text/plain": [
       "nama_series     Proporsi Penduduk yang Memiliki Telepon Selule...\n",
       "kode_wilayah                                                    1\n",
       "wilayah                                                 Indonesia\n",
       "tahun                                                        2005\n",
       "nilai                                                        8.19\n",
       "target                                                        100\n",
       "Name: 4, dtype: object"
      ]
     },
     "execution_count": 111,
     "metadata": {},
     "output_type": "execute_result"
    }
   ],
   "source": [
    "df.iloc[4]"
   ]
  },
  {
   "cell_type": "code",
   "execution_count": 112,
   "metadata": {
    "colab": {
     "base_uri": "https://localhost:8080/",
     "height": 34
    },
    "colab_type": "code",
    "id": "Nqqrks2dWs6g",
    "outputId": "68575285-8aab-4331-d950-0b48977e5c14"
   },
   "outputs": [
    {
     "data": {
      "text/plain": [
       "8.19"
      ]
     },
     "execution_count": 112,
     "metadata": {},
     "output_type": "execute_result"
    }
   ],
   "source": [
    "df[\"nilai\"].iloc[4]"
   ]
  },
  {
   "cell_type": "markdown",
   "metadata": {
    "colab_type": "text",
    "id": "s0L4YrlAV-1j"
   },
   "source": [
    "## Mengakses sebagian data (range)"
   ]
  },
  {
   "cell_type": "code",
   "execution_count": 113,
   "metadata": {
    "colab": {},
    "colab_type": "code",
    "id": "ElrC8uz6qocL"
   },
   "outputs": [
    {
     "data": {
      "text/plain": [
       "['wilayah', 'tahun', 'nilai']"
      ]
     },
     "execution_count": 113,
     "metadata": {},
     "output_type": "execute_result"
    }
   ],
   "source": [
    "[\"wilayah\", \"tahun\", \"nilai\"]"
   ]
  },
  {
   "cell_type": "code",
   "execution_count": 114,
   "metadata": {
    "colab": {},
    "colab_type": "code",
    "id": "UzADZ26sWAV-"
   },
   "outputs": [],
   "source": [
    "subset_df = df[[\"wilayah\", \"tahun\", \"nilai\"]]"
   ]
  },
  {
   "cell_type": "code",
   "execution_count": 115,
   "metadata": {
    "colab": {
     "base_uri": "https://localhost:8080/",
     "height": 206
    },
    "colab_type": "code",
    "id": "e6NYtBMoWEvM",
    "outputId": "abc46861-329c-4cd3-d7a5-03a39dfbca6e"
   },
   "outputs": [
    {
     "data": {
      "text/html": [
       "<div>\n",
       "<style scoped>\n",
       "    .dataframe tbody tr th:only-of-type {\n",
       "        vertical-align: middle;\n",
       "    }\n",
       "\n",
       "    .dataframe tbody tr th {\n",
       "        vertical-align: top;\n",
       "    }\n",
       "\n",
       "    .dataframe thead th {\n",
       "        text-align: right;\n",
       "    }\n",
       "</style>\n",
       "<table border=\"1\" class=\"dataframe\">\n",
       "  <thead>\n",
       "    <tr style=\"text-align: right;\">\n",
       "      <th></th>\n",
       "      <th>wilayah</th>\n",
       "      <th>tahun</th>\n",
       "      <th>nilai</th>\n",
       "    </tr>\n",
       "  </thead>\n",
       "  <tbody>\n",
       "    <tr>\n",
       "      <th>0</th>\n",
       "      <td>Indonesia</td>\n",
       "      <td>2001</td>\n",
       "      <td>NaN</td>\n",
       "    </tr>\n",
       "    <tr>\n",
       "      <th>1</th>\n",
       "      <td>Indonesia</td>\n",
       "      <td>2002</td>\n",
       "      <td>NaN</td>\n",
       "    </tr>\n",
       "    <tr>\n",
       "      <th>2</th>\n",
       "      <td>Indonesia</td>\n",
       "      <td>2003</td>\n",
       "      <td>NaN</td>\n",
       "    </tr>\n",
       "    <tr>\n",
       "      <th>3</th>\n",
       "      <td>Indonesia</td>\n",
       "      <td>2004</td>\n",
       "      <td>NaN</td>\n",
       "    </tr>\n",
       "    <tr>\n",
       "      <th>4</th>\n",
       "      <td>Indonesia</td>\n",
       "      <td>2005</td>\n",
       "      <td>8.19</td>\n",
       "    </tr>\n",
       "  </tbody>\n",
       "</table>\n",
       "</div>"
      ],
      "text/plain": [
       "     wilayah  tahun  nilai\n",
       "0  Indonesia   2001    NaN\n",
       "1  Indonesia   2002    NaN\n",
       "2  Indonesia   2003    NaN\n",
       "3  Indonesia   2004    NaN\n",
       "4  Indonesia   2005   8.19"
      ]
     },
     "execution_count": 115,
     "metadata": {},
     "output_type": "execute_result"
    }
   ],
   "source": [
    "subset_df.head()"
   ]
  },
  {
   "cell_type": "code",
   "execution_count": 116,
   "metadata": {
    "colab": {},
    "colab_type": "code",
    "id": "AZndW9ITWFxZ"
   },
   "outputs": [],
   "source": [
    "selected_columns = [\"wilayah\", \"tahun\"]"
   ]
  },
  {
   "cell_type": "code",
   "execution_count": 117,
   "metadata": {
    "colab": {},
    "colab_type": "code",
    "id": "DM11rMPUWH7N"
   },
   "outputs": [],
   "source": [
    "subset_df_2 = df[selected_columns]"
   ]
  },
  {
   "cell_type": "code",
   "execution_count": 118,
   "metadata": {
    "colab": {
     "base_uri": "https://localhost:8080/",
     "height": 206
    },
    "colab_type": "code",
    "id": "eCY1LOGkWJMq",
    "outputId": "9e1dd3ad-4ec6-49c8-9f51-2db8b1a55095"
   },
   "outputs": [
    {
     "data": {
      "text/html": [
       "<div>\n",
       "<style scoped>\n",
       "    .dataframe tbody tr th:only-of-type {\n",
       "        vertical-align: middle;\n",
       "    }\n",
       "\n",
       "    .dataframe tbody tr th {\n",
       "        vertical-align: top;\n",
       "    }\n",
       "\n",
       "    .dataframe thead th {\n",
       "        text-align: right;\n",
       "    }\n",
       "</style>\n",
       "<table border=\"1\" class=\"dataframe\">\n",
       "  <thead>\n",
       "    <tr style=\"text-align: right;\">\n",
       "      <th></th>\n",
       "      <th>wilayah</th>\n",
       "      <th>tahun</th>\n",
       "    </tr>\n",
       "  </thead>\n",
       "  <tbody>\n",
       "    <tr>\n",
       "      <th>0</th>\n",
       "      <td>Indonesia</td>\n",
       "      <td>2001</td>\n",
       "    </tr>\n",
       "    <tr>\n",
       "      <th>1</th>\n",
       "      <td>Indonesia</td>\n",
       "      <td>2002</td>\n",
       "    </tr>\n",
       "    <tr>\n",
       "      <th>2</th>\n",
       "      <td>Indonesia</td>\n",
       "      <td>2003</td>\n",
       "    </tr>\n",
       "    <tr>\n",
       "      <th>3</th>\n",
       "      <td>Indonesia</td>\n",
       "      <td>2004</td>\n",
       "    </tr>\n",
       "    <tr>\n",
       "      <th>4</th>\n",
       "      <td>Indonesia</td>\n",
       "      <td>2005</td>\n",
       "    </tr>\n",
       "  </tbody>\n",
       "</table>\n",
       "</div>"
      ],
      "text/plain": [
       "     wilayah  tahun\n",
       "0  Indonesia   2001\n",
       "1  Indonesia   2002\n",
       "2  Indonesia   2003\n",
       "3  Indonesia   2004\n",
       "4  Indonesia   2005"
      ]
     },
     "execution_count": 118,
     "metadata": {},
     "output_type": "execute_result"
    }
   ],
   "source": [
    "subset_df_2.head()"
   ]
  },
  {
   "cell_type": "markdown",
   "metadata": {},
   "source": [
    "Mengambil baris-baris dengan indeks 2, 0, dan 10:"
   ]
  },
  {
   "cell_type": "code",
   "execution_count": 119,
   "metadata": {
    "colab": {},
    "colab_type": "code",
    "id": "MXsc_tCDWNiv"
   },
   "outputs": [],
   "source": [
    "subset_rows = df.loc[[2, 0, 10]]"
   ]
  },
  {
   "cell_type": "code",
   "execution_count": 120,
   "metadata": {
    "colab": {
     "base_uri": "https://localhost:8080/",
     "height": 196
    },
    "colab_type": "code",
    "id": "WLJoeQhTWciu",
    "outputId": "4bbb29e9-63ce-423a-de26-05f2cc92254f"
   },
   "outputs": [
    {
     "data": {
      "text/html": [
       "<div>\n",
       "<style scoped>\n",
       "    .dataframe tbody tr th:only-of-type {\n",
       "        vertical-align: middle;\n",
       "    }\n",
       "\n",
       "    .dataframe tbody tr th {\n",
       "        vertical-align: top;\n",
       "    }\n",
       "\n",
       "    .dataframe thead th {\n",
       "        text-align: right;\n",
       "    }\n",
       "</style>\n",
       "<table border=\"1\" class=\"dataframe\">\n",
       "  <thead>\n",
       "    <tr style=\"text-align: right;\">\n",
       "      <th></th>\n",
       "      <th>nama_series</th>\n",
       "      <th>kode_wilayah</th>\n",
       "      <th>wilayah</th>\n",
       "      <th>tahun</th>\n",
       "      <th>nilai</th>\n",
       "      <th>target</th>\n",
       "    </tr>\n",
       "  </thead>\n",
       "  <tbody>\n",
       "    <tr>\n",
       "      <th>2</th>\n",
       "      <td>Proporsi Penduduk yang Memiliki Telepon Selule...</td>\n",
       "      <td>1</td>\n",
       "      <td>Indonesia</td>\n",
       "      <td>2003</td>\n",
       "      <td>NaN</td>\n",
       "      <td>100.0</td>\n",
       "    </tr>\n",
       "    <tr>\n",
       "      <th>0</th>\n",
       "      <td>Proporsi Penduduk yang Memiliki Telepon Selule...</td>\n",
       "      <td>1</td>\n",
       "      <td>Indonesia</td>\n",
       "      <td>2001</td>\n",
       "      <td>NaN</td>\n",
       "      <td>100.0</td>\n",
       "    </tr>\n",
       "    <tr>\n",
       "      <th>10</th>\n",
       "      <td>Proporsi Penduduk yang Memiliki Telepon Selule...</td>\n",
       "      <td>1</td>\n",
       "      <td>Indonesia</td>\n",
       "      <td>2011</td>\n",
       "      <td>69.46</td>\n",
       "      <td>100.0</td>\n",
       "    </tr>\n",
       "  </tbody>\n",
       "</table>\n",
       "</div>"
      ],
      "text/plain": [
       "                                          nama_series  kode_wilayah  \\\n",
       "2   Proporsi Penduduk yang Memiliki Telepon Selule...             1   \n",
       "0   Proporsi Penduduk yang Memiliki Telepon Selule...             1   \n",
       "10  Proporsi Penduduk yang Memiliki Telepon Selule...             1   \n",
       "\n",
       "      wilayah  tahun  nilai  target  \n",
       "2   Indonesia   2003    NaN   100.0  \n",
       "0   Indonesia   2001    NaN   100.0  \n",
       "10  Indonesia   2011  69.46   100.0  "
      ]
     },
     "execution_count": 120,
     "metadata": {},
     "output_type": "execute_result"
    }
   ],
   "source": [
    "subset_rows.head()"
   ]
  },
  {
   "cell_type": "code",
   "execution_count": 50,
   "metadata": {
    "colab": {},
    "colab_type": "code",
    "id": "Gn4pLktuWdSR"
   },
   "outputs": [],
   "source": [
    "subset = df.loc[:, selected_columns]"
   ]
  },
  {
   "cell_type": "code",
   "execution_count": 51,
   "metadata": {
    "colab": {
     "base_uri": "https://localhost:8080/",
     "height": 1000
    },
    "colab_type": "code",
    "id": "W9g3wvnlWzxt",
    "outputId": "ad8a2e8d-e2a1-4d57-aa62-1271f4980dbd"
   },
   "outputs": [
    {
     "data": {
      "text/html": [
       "<div>\n",
       "<style scoped>\n",
       "    .dataframe tbody tr th:only-of-type {\n",
       "        vertical-align: middle;\n",
       "    }\n",
       "\n",
       "    .dataframe tbody tr th {\n",
       "        vertical-align: top;\n",
       "    }\n",
       "\n",
       "    .dataframe thead th {\n",
       "        text-align: right;\n",
       "    }\n",
       "</style>\n",
       "<table border=\"1\" class=\"dataframe\">\n",
       "  <thead>\n",
       "    <tr style=\"text-align: right;\">\n",
       "      <th></th>\n",
       "      <th>wilayah</th>\n",
       "      <th>tahun</th>\n",
       "    </tr>\n",
       "  </thead>\n",
       "  <tbody>\n",
       "    <tr>\n",
       "      <th>0</th>\n",
       "      <td>Indonesia</td>\n",
       "      <td>2001</td>\n",
       "    </tr>\n",
       "    <tr>\n",
       "      <th>1</th>\n",
       "      <td>Indonesia</td>\n",
       "      <td>2002</td>\n",
       "    </tr>\n",
       "    <tr>\n",
       "      <th>2</th>\n",
       "      <td>Indonesia</td>\n",
       "      <td>2003</td>\n",
       "    </tr>\n",
       "    <tr>\n",
       "      <th>3</th>\n",
       "      <td>Indonesia</td>\n",
       "      <td>2004</td>\n",
       "    </tr>\n",
       "    <tr>\n",
       "      <th>4</th>\n",
       "      <td>Indonesia</td>\n",
       "      <td>2005</td>\n",
       "    </tr>\n",
       "    <tr>\n",
       "      <th>5</th>\n",
       "      <td>Indonesia</td>\n",
       "      <td>2006</td>\n",
       "    </tr>\n",
       "    <tr>\n",
       "      <th>6</th>\n",
       "      <td>Indonesia</td>\n",
       "      <td>2007</td>\n",
       "    </tr>\n",
       "    <tr>\n",
       "      <th>7</th>\n",
       "      <td>Indonesia</td>\n",
       "      <td>2008</td>\n",
       "    </tr>\n",
       "    <tr>\n",
       "      <th>8</th>\n",
       "      <td>Indonesia</td>\n",
       "      <td>2009</td>\n",
       "    </tr>\n",
       "    <tr>\n",
       "      <th>9</th>\n",
       "      <td>Indonesia</td>\n",
       "      <td>2010</td>\n",
       "    </tr>\n",
       "    <tr>\n",
       "      <th>10</th>\n",
       "      <td>Indonesia</td>\n",
       "      <td>2011</td>\n",
       "    </tr>\n",
       "    <tr>\n",
       "      <th>11</th>\n",
       "      <td>Indonesia</td>\n",
       "      <td>2012</td>\n",
       "    </tr>\n",
       "    <tr>\n",
       "      <th>12</th>\n",
       "      <td>Indonesia</td>\n",
       "      <td>2013</td>\n",
       "    </tr>\n",
       "    <tr>\n",
       "      <th>13</th>\n",
       "      <td>Indonesia</td>\n",
       "      <td>2014</td>\n",
       "    </tr>\n",
       "    <tr>\n",
       "      <th>14</th>\n",
       "      <td>Indonesia</td>\n",
       "      <td>2015</td>\n",
       "    </tr>\n",
       "    <tr>\n",
       "      <th>15</th>\n",
       "      <td>Aceh</td>\n",
       "      <td>2001</td>\n",
       "    </tr>\n",
       "    <tr>\n",
       "      <th>16</th>\n",
       "      <td>Aceh</td>\n",
       "      <td>2002</td>\n",
       "    </tr>\n",
       "    <tr>\n",
       "      <th>17</th>\n",
       "      <td>Aceh</td>\n",
       "      <td>2003</td>\n",
       "    </tr>\n",
       "    <tr>\n",
       "      <th>18</th>\n",
       "      <td>Aceh</td>\n",
       "      <td>2004</td>\n",
       "    </tr>\n",
       "    <tr>\n",
       "      <th>19</th>\n",
       "      <td>Aceh</td>\n",
       "      <td>2005</td>\n",
       "    </tr>\n",
       "    <tr>\n",
       "      <th>20</th>\n",
       "      <td>Aceh</td>\n",
       "      <td>2006</td>\n",
       "    </tr>\n",
       "    <tr>\n",
       "      <th>21</th>\n",
       "      <td>Aceh</td>\n",
       "      <td>2007</td>\n",
       "    </tr>\n",
       "    <tr>\n",
       "      <th>22</th>\n",
       "      <td>Aceh</td>\n",
       "      <td>2008</td>\n",
       "    </tr>\n",
       "    <tr>\n",
       "      <th>23</th>\n",
       "      <td>Aceh</td>\n",
       "      <td>2009</td>\n",
       "    </tr>\n",
       "    <tr>\n",
       "      <th>24</th>\n",
       "      <td>Aceh</td>\n",
       "      <td>2010</td>\n",
       "    </tr>\n",
       "    <tr>\n",
       "      <th>25</th>\n",
       "      <td>Aceh</td>\n",
       "      <td>2011</td>\n",
       "    </tr>\n",
       "    <tr>\n",
       "      <th>26</th>\n",
       "      <td>Aceh</td>\n",
       "      <td>2012</td>\n",
       "    </tr>\n",
       "    <tr>\n",
       "      <th>27</th>\n",
       "      <td>Aceh</td>\n",
       "      <td>2013</td>\n",
       "    </tr>\n",
       "    <tr>\n",
       "      <th>28</th>\n",
       "      <td>Aceh</td>\n",
       "      <td>2014</td>\n",
       "    </tr>\n",
       "    <tr>\n",
       "      <th>29</th>\n",
       "      <td>Aceh</td>\n",
       "      <td>2015</td>\n",
       "    </tr>\n",
       "    <tr>\n",
       "      <th>...</th>\n",
       "      <td>...</td>\n",
       "      <td>...</td>\n",
       "    </tr>\n",
       "    <tr>\n",
       "      <th>495</th>\n",
       "      <td>Papua Barat</td>\n",
       "      <td>2001</td>\n",
       "    </tr>\n",
       "    <tr>\n",
       "      <th>496</th>\n",
       "      <td>Papua Barat</td>\n",
       "      <td>2002</td>\n",
       "    </tr>\n",
       "    <tr>\n",
       "      <th>497</th>\n",
       "      <td>Papua Barat</td>\n",
       "      <td>2003</td>\n",
       "    </tr>\n",
       "    <tr>\n",
       "      <th>498</th>\n",
       "      <td>Papua Barat</td>\n",
       "      <td>2004</td>\n",
       "    </tr>\n",
       "    <tr>\n",
       "      <th>499</th>\n",
       "      <td>Papua Barat</td>\n",
       "      <td>2005</td>\n",
       "    </tr>\n",
       "    <tr>\n",
       "      <th>500</th>\n",
       "      <td>Papua Barat</td>\n",
       "      <td>2006</td>\n",
       "    </tr>\n",
       "    <tr>\n",
       "      <th>501</th>\n",
       "      <td>Papua Barat</td>\n",
       "      <td>2007</td>\n",
       "    </tr>\n",
       "    <tr>\n",
       "      <th>502</th>\n",
       "      <td>Papua Barat</td>\n",
       "      <td>2008</td>\n",
       "    </tr>\n",
       "    <tr>\n",
       "      <th>503</th>\n",
       "      <td>Papua Barat</td>\n",
       "      <td>2009</td>\n",
       "    </tr>\n",
       "    <tr>\n",
       "      <th>504</th>\n",
       "      <td>Papua Barat</td>\n",
       "      <td>2010</td>\n",
       "    </tr>\n",
       "    <tr>\n",
       "      <th>505</th>\n",
       "      <td>Papua Barat</td>\n",
       "      <td>2011</td>\n",
       "    </tr>\n",
       "    <tr>\n",
       "      <th>506</th>\n",
       "      <td>Papua Barat</td>\n",
       "      <td>2012</td>\n",
       "    </tr>\n",
       "    <tr>\n",
       "      <th>507</th>\n",
       "      <td>Papua Barat</td>\n",
       "      <td>2013</td>\n",
       "    </tr>\n",
       "    <tr>\n",
       "      <th>508</th>\n",
       "      <td>Papua Barat</td>\n",
       "      <td>2014</td>\n",
       "    </tr>\n",
       "    <tr>\n",
       "      <th>509</th>\n",
       "      <td>Papua Barat</td>\n",
       "      <td>2015</td>\n",
       "    </tr>\n",
       "    <tr>\n",
       "      <th>510</th>\n",
       "      <td>Papua</td>\n",
       "      <td>2001</td>\n",
       "    </tr>\n",
       "    <tr>\n",
       "      <th>511</th>\n",
       "      <td>Papua</td>\n",
       "      <td>2002</td>\n",
       "    </tr>\n",
       "    <tr>\n",
       "      <th>512</th>\n",
       "      <td>Papua</td>\n",
       "      <td>2003</td>\n",
       "    </tr>\n",
       "    <tr>\n",
       "      <th>513</th>\n",
       "      <td>Papua</td>\n",
       "      <td>2004</td>\n",
       "    </tr>\n",
       "    <tr>\n",
       "      <th>514</th>\n",
       "      <td>Papua</td>\n",
       "      <td>2005</td>\n",
       "    </tr>\n",
       "    <tr>\n",
       "      <th>515</th>\n",
       "      <td>Papua</td>\n",
       "      <td>2006</td>\n",
       "    </tr>\n",
       "    <tr>\n",
       "      <th>516</th>\n",
       "      <td>Papua</td>\n",
       "      <td>2007</td>\n",
       "    </tr>\n",
       "    <tr>\n",
       "      <th>517</th>\n",
       "      <td>Papua</td>\n",
       "      <td>2008</td>\n",
       "    </tr>\n",
       "    <tr>\n",
       "      <th>518</th>\n",
       "      <td>Papua</td>\n",
       "      <td>2009</td>\n",
       "    </tr>\n",
       "    <tr>\n",
       "      <th>519</th>\n",
       "      <td>Papua</td>\n",
       "      <td>2010</td>\n",
       "    </tr>\n",
       "    <tr>\n",
       "      <th>520</th>\n",
       "      <td>Papua</td>\n",
       "      <td>2011</td>\n",
       "    </tr>\n",
       "    <tr>\n",
       "      <th>521</th>\n",
       "      <td>Papua</td>\n",
       "      <td>2012</td>\n",
       "    </tr>\n",
       "    <tr>\n",
       "      <th>522</th>\n",
       "      <td>Papua</td>\n",
       "      <td>2013</td>\n",
       "    </tr>\n",
       "    <tr>\n",
       "      <th>523</th>\n",
       "      <td>Papua</td>\n",
       "      <td>2014</td>\n",
       "    </tr>\n",
       "    <tr>\n",
       "      <th>524</th>\n",
       "      <td>Papua</td>\n",
       "      <td>2015</td>\n",
       "    </tr>\n",
       "  </tbody>\n",
       "</table>\n",
       "<p>525 rows × 2 columns</p>\n",
       "</div>"
      ],
      "text/plain": [
       "         wilayah  tahun\n",
       "0      Indonesia   2001\n",
       "1      Indonesia   2002\n",
       "2      Indonesia   2003\n",
       "3      Indonesia   2004\n",
       "4      Indonesia   2005\n",
       "5      Indonesia   2006\n",
       "6      Indonesia   2007\n",
       "7      Indonesia   2008\n",
       "8      Indonesia   2009\n",
       "9      Indonesia   2010\n",
       "10     Indonesia   2011\n",
       "11     Indonesia   2012\n",
       "12     Indonesia   2013\n",
       "13     Indonesia   2014\n",
       "14     Indonesia   2015\n",
       "15          Aceh   2001\n",
       "16          Aceh   2002\n",
       "17          Aceh   2003\n",
       "18          Aceh   2004\n",
       "19          Aceh   2005\n",
       "20          Aceh   2006\n",
       "21          Aceh   2007\n",
       "22          Aceh   2008\n",
       "23          Aceh   2009\n",
       "24          Aceh   2010\n",
       "25          Aceh   2011\n",
       "26          Aceh   2012\n",
       "27          Aceh   2013\n",
       "28          Aceh   2014\n",
       "29          Aceh   2015\n",
       "..           ...    ...\n",
       "495  Papua Barat   2001\n",
       "496  Papua Barat   2002\n",
       "497  Papua Barat   2003\n",
       "498  Papua Barat   2004\n",
       "499  Papua Barat   2005\n",
       "500  Papua Barat   2006\n",
       "501  Papua Barat   2007\n",
       "502  Papua Barat   2008\n",
       "503  Papua Barat   2009\n",
       "504  Papua Barat   2010\n",
       "505  Papua Barat   2011\n",
       "506  Papua Barat   2012\n",
       "507  Papua Barat   2013\n",
       "508  Papua Barat   2014\n",
       "509  Papua Barat   2015\n",
       "510        Papua   2001\n",
       "511        Papua   2002\n",
       "512        Papua   2003\n",
       "513        Papua   2004\n",
       "514        Papua   2005\n",
       "515        Papua   2006\n",
       "516        Papua   2007\n",
       "517        Papua   2008\n",
       "518        Papua   2009\n",
       "519        Papua   2010\n",
       "520        Papua   2011\n",
       "521        Papua   2012\n",
       "522        Papua   2013\n",
       "523        Papua   2014\n",
       "524        Papua   2015\n",
       "\n",
       "[525 rows x 2 columns]"
      ]
     },
     "execution_count": 51,
     "metadata": {},
     "output_type": "execute_result"
    }
   ],
   "source": [
    "subset"
   ]
  },
  {
   "cell_type": "code",
   "execution_count": 53,
   "metadata": {
    "colab": {},
    "colab_type": "code",
    "id": "Fpp8nCAGW4uP"
   },
   "outputs": [],
   "source": [
    "subset = df.loc[3:5, selected_columns]"
   ]
  },
  {
   "cell_type": "code",
   "execution_count": 54,
   "metadata": {
    "colab": {
     "base_uri": "https://localhost:8080/",
     "height": 143
    },
    "colab_type": "code",
    "id": "oijrdI00W85Q",
    "outputId": "dc521adf-b052-4bba-d668-fa72e52554ce"
   },
   "outputs": [
    {
     "data": {
      "text/html": [
       "<div>\n",
       "<style scoped>\n",
       "    .dataframe tbody tr th:only-of-type {\n",
       "        vertical-align: middle;\n",
       "    }\n",
       "\n",
       "    .dataframe tbody tr th {\n",
       "        vertical-align: top;\n",
       "    }\n",
       "\n",
       "    .dataframe thead th {\n",
       "        text-align: right;\n",
       "    }\n",
       "</style>\n",
       "<table border=\"1\" class=\"dataframe\">\n",
       "  <thead>\n",
       "    <tr style=\"text-align: right;\">\n",
       "      <th></th>\n",
       "      <th>wilayah</th>\n",
       "      <th>tahun</th>\n",
       "    </tr>\n",
       "  </thead>\n",
       "  <tbody>\n",
       "    <tr>\n",
       "      <th>3</th>\n",
       "      <td>Indonesia</td>\n",
       "      <td>2004</td>\n",
       "    </tr>\n",
       "    <tr>\n",
       "      <th>4</th>\n",
       "      <td>Indonesia</td>\n",
       "      <td>2005</td>\n",
       "    </tr>\n",
       "    <tr>\n",
       "      <th>5</th>\n",
       "      <td>Indonesia</td>\n",
       "      <td>2006</td>\n",
       "    </tr>\n",
       "  </tbody>\n",
       "</table>\n",
       "</div>"
      ],
      "text/plain": [
       "     wilayah  tahun\n",
       "3  Indonesia   2004\n",
       "4  Indonesia   2005\n",
       "5  Indonesia   2006"
      ]
     },
     "execution_count": 54,
     "metadata": {},
     "output_type": "execute_result"
    }
   ],
   "source": [
    "subset"
   ]
  },
  {
   "cell_type": "markdown",
   "metadata": {
    "colab_type": "text",
    "id": "aswq8ISwK7Kt"
   },
   "source": [
    "Memunculkan seluruh baris dengan tahun 2004:"
   ]
  },
  {
   "cell_type": "code",
   "execution_count": 58,
   "metadata": {
    "colab": {},
    "colab_type": "code",
    "id": "ZsMtbz-MW9xH"
   },
   "outputs": [],
   "source": [
    "subset = df.loc[df[\"tahun\"] == 2004, selected_columns]"
   ]
  },
  {
   "cell_type": "code",
   "execution_count": 59,
   "metadata": {
    "colab": {
     "base_uri": "https://localhost:8080/",
     "height": 206
    },
    "colab_type": "code",
    "id": "c0Y3OI9gXxtw",
    "outputId": "a9ea6614-d3eb-401f-dfd9-302ebfee75ce"
   },
   "outputs": [
    {
     "data": {
      "text/html": [
       "<div>\n",
       "<style scoped>\n",
       "    .dataframe tbody tr th:only-of-type {\n",
       "        vertical-align: middle;\n",
       "    }\n",
       "\n",
       "    .dataframe tbody tr th {\n",
       "        vertical-align: top;\n",
       "    }\n",
       "\n",
       "    .dataframe thead th {\n",
       "        text-align: right;\n",
       "    }\n",
       "</style>\n",
       "<table border=\"1\" class=\"dataframe\">\n",
       "  <thead>\n",
       "    <tr style=\"text-align: right;\">\n",
       "      <th></th>\n",
       "      <th>wilayah</th>\n",
       "      <th>tahun</th>\n",
       "    </tr>\n",
       "  </thead>\n",
       "  <tbody>\n",
       "    <tr>\n",
       "      <th>3</th>\n",
       "      <td>Indonesia</td>\n",
       "      <td>2004</td>\n",
       "    </tr>\n",
       "    <tr>\n",
       "      <th>18</th>\n",
       "      <td>Aceh</td>\n",
       "      <td>2004</td>\n",
       "    </tr>\n",
       "    <tr>\n",
       "      <th>33</th>\n",
       "      <td>Sumatera Utara</td>\n",
       "      <td>2004</td>\n",
       "    </tr>\n",
       "    <tr>\n",
       "      <th>48</th>\n",
       "      <td>Sumatera Barat</td>\n",
       "      <td>2004</td>\n",
       "    </tr>\n",
       "    <tr>\n",
       "      <th>63</th>\n",
       "      <td>Riau</td>\n",
       "      <td>2004</td>\n",
       "    </tr>\n",
       "  </tbody>\n",
       "</table>\n",
       "</div>"
      ],
      "text/plain": [
       "           wilayah  tahun\n",
       "3        Indonesia   2004\n",
       "18            Aceh   2004\n",
       "33  Sumatera Utara   2004\n",
       "48  Sumatera Barat   2004\n",
       "63            Riau   2004"
      ]
     },
     "execution_count": 59,
     "metadata": {},
     "output_type": "execute_result"
    }
   ],
   "source": [
    "subset.head()"
   ]
  },
  {
   "cell_type": "markdown",
   "metadata": {
    "colab_type": "text",
    "id": "Um_6hSoVLC3V"
   },
   "source": [
    "Pastikan bahwa di dalam *dataframe* kita, hanya ada tahun 2004:"
   ]
  },
  {
   "cell_type": "code",
   "execution_count": 60,
   "metadata": {
    "colab": {
     "base_uri": "https://localhost:8080/",
     "height": 34
    },
    "colab_type": "code",
    "id": "-ISrQttnXz_t",
    "outputId": "4a55e5d4-d1f1-4a77-f634-861d8a62fc46"
   },
   "outputs": [
    {
     "data": {
      "text/plain": [
       "array([2004])"
      ]
     },
     "execution_count": 60,
     "metadata": {},
     "output_type": "execute_result"
    }
   ],
   "source": [
    "subset[\"tahun\"].unique()"
   ]
  },
  {
   "cell_type": "code",
   "execution_count": 61,
   "metadata": {
    "colab": {
     "base_uri": "https://localhost:8080/",
     "height": 34
    },
    "colab_type": "code",
    "id": "ejTXcmeLX6cy",
    "outputId": "3d5e8fa4-e5e9-49e0-9e30-eac9b4a585b2"
   },
   "outputs": [
    {
     "data": {
      "text/plain": [
       "1"
      ]
     },
     "execution_count": 61,
     "metadata": {},
     "output_type": "execute_result"
    }
   ],
   "source": [
    "subset[\"tahun\"].nunique()"
   ]
  },
  {
   "cell_type": "markdown",
   "metadata": {
    "colab_type": "text",
    "id": "OTNsOrgnLG6n"
   },
   "source": [
    "Memunculkan baris-baris dengan *field* \"nilai\" yang kosong:"
   ]
  },
  {
   "cell_type": "code",
   "execution_count": 62,
   "metadata": {
    "colab": {
     "base_uri": "https://localhost:8080/",
     "height": 293
    },
    "colab_type": "code",
    "id": "YZbTnKV1QCJe",
    "outputId": "95fbd8ef-7a3a-41fb-bd3e-a48efada1035"
   },
   "outputs": [
    {
     "data": {
      "text/html": [
       "<div>\n",
       "<style scoped>\n",
       "    .dataframe tbody tr th:only-of-type {\n",
       "        vertical-align: middle;\n",
       "    }\n",
       "\n",
       "    .dataframe tbody tr th {\n",
       "        vertical-align: top;\n",
       "    }\n",
       "\n",
       "    .dataframe thead th {\n",
       "        text-align: right;\n",
       "    }\n",
       "</style>\n",
       "<table border=\"1\" class=\"dataframe\">\n",
       "  <thead>\n",
       "    <tr style=\"text-align: right;\">\n",
       "      <th></th>\n",
       "      <th>nama_series</th>\n",
       "      <th>kode_wilayah</th>\n",
       "      <th>wilayah</th>\n",
       "      <th>tahun</th>\n",
       "      <th>nilai</th>\n",
       "      <th>target</th>\n",
       "    </tr>\n",
       "  </thead>\n",
       "  <tbody>\n",
       "    <tr>\n",
       "      <th>0</th>\n",
       "      <td>Proporsi Penduduk yang Memiliki Telepon Selule...</td>\n",
       "      <td>1</td>\n",
       "      <td>Indonesia</td>\n",
       "      <td>2001</td>\n",
       "      <td>NaN</td>\n",
       "      <td>100.0</td>\n",
       "    </tr>\n",
       "    <tr>\n",
       "      <th>1</th>\n",
       "      <td>Proporsi Penduduk yang Memiliki Telepon Selule...</td>\n",
       "      <td>1</td>\n",
       "      <td>Indonesia</td>\n",
       "      <td>2002</td>\n",
       "      <td>NaN</td>\n",
       "      <td>100.0</td>\n",
       "    </tr>\n",
       "    <tr>\n",
       "      <th>2</th>\n",
       "      <td>Proporsi Penduduk yang Memiliki Telepon Selule...</td>\n",
       "      <td>1</td>\n",
       "      <td>Indonesia</td>\n",
       "      <td>2003</td>\n",
       "      <td>NaN</td>\n",
       "      <td>100.0</td>\n",
       "    </tr>\n",
       "    <tr>\n",
       "      <th>3</th>\n",
       "      <td>Proporsi Penduduk yang Memiliki Telepon Selule...</td>\n",
       "      <td>1</td>\n",
       "      <td>Indonesia</td>\n",
       "      <td>2004</td>\n",
       "      <td>NaN</td>\n",
       "      <td>100.0</td>\n",
       "    </tr>\n",
       "    <tr>\n",
       "      <th>15</th>\n",
       "      <td>Proporsi Penduduk yang Memiliki Telepon Selule...</td>\n",
       "      <td>11</td>\n",
       "      <td>Aceh</td>\n",
       "      <td>2001</td>\n",
       "      <td>NaN</td>\n",
       "      <td>NaN</td>\n",
       "    </tr>\n",
       "  </tbody>\n",
       "</table>\n",
       "</div>"
      ],
      "text/plain": [
       "                                          nama_series  kode_wilayah  \\\n",
       "0   Proporsi Penduduk yang Memiliki Telepon Selule...             1   \n",
       "1   Proporsi Penduduk yang Memiliki Telepon Selule...             1   \n",
       "2   Proporsi Penduduk yang Memiliki Telepon Selule...             1   \n",
       "3   Proporsi Penduduk yang Memiliki Telepon Selule...             1   \n",
       "15  Proporsi Penduduk yang Memiliki Telepon Selule...            11   \n",
       "\n",
       "      wilayah  tahun  nilai  target  \n",
       "0   Indonesia   2001    NaN   100.0  \n",
       "1   Indonesia   2002    NaN   100.0  \n",
       "2   Indonesia   2003    NaN   100.0  \n",
       "3   Indonesia   2004    NaN   100.0  \n",
       "15       Aceh   2001    NaN     NaN  "
      ]
     },
     "execution_count": 62,
     "metadata": {},
     "output_type": "execute_result"
    }
   ],
   "source": [
    "df[df[\"nilai\"].isnull()].head()"
   ]
  },
  {
   "cell_type": "markdown",
   "metadata": {
    "colab_type": "text",
    "id": "BtnPqvVxLLZG"
   },
   "source": [
    "Memunculkan baris-baris dengan *field* \"nilai\" yang tidak kosong:"
   ]
  },
  {
   "cell_type": "code",
   "execution_count": 63,
   "metadata": {
    "colab": {
     "base_uri": "https://localhost:8080/",
     "height": 293
    },
    "colab_type": "code",
    "id": "ICpUeGfSQbxC",
    "outputId": "dba5b404-ea0b-4490-e647-90c271cc54b5"
   },
   "outputs": [
    {
     "data": {
      "text/html": [
       "<div>\n",
       "<style scoped>\n",
       "    .dataframe tbody tr th:only-of-type {\n",
       "        vertical-align: middle;\n",
       "    }\n",
       "\n",
       "    .dataframe tbody tr th {\n",
       "        vertical-align: top;\n",
       "    }\n",
       "\n",
       "    .dataframe thead th {\n",
       "        text-align: right;\n",
       "    }\n",
       "</style>\n",
       "<table border=\"1\" class=\"dataframe\">\n",
       "  <thead>\n",
       "    <tr style=\"text-align: right;\">\n",
       "      <th></th>\n",
       "      <th>nama_series</th>\n",
       "      <th>kode_wilayah</th>\n",
       "      <th>wilayah</th>\n",
       "      <th>tahun</th>\n",
       "      <th>nilai</th>\n",
       "      <th>target</th>\n",
       "    </tr>\n",
       "  </thead>\n",
       "  <tbody>\n",
       "    <tr>\n",
       "      <th>4</th>\n",
       "      <td>Proporsi Penduduk yang Memiliki Telepon Selule...</td>\n",
       "      <td>1</td>\n",
       "      <td>Indonesia</td>\n",
       "      <td>2005</td>\n",
       "      <td>8.19</td>\n",
       "      <td>100.0</td>\n",
       "    </tr>\n",
       "    <tr>\n",
       "      <th>5</th>\n",
       "      <td>Proporsi Penduduk yang Memiliki Telepon Selule...</td>\n",
       "      <td>1</td>\n",
       "      <td>Indonesia</td>\n",
       "      <td>2006</td>\n",
       "      <td>12.27</td>\n",
       "      <td>100.0</td>\n",
       "    </tr>\n",
       "    <tr>\n",
       "      <th>6</th>\n",
       "      <td>Proporsi Penduduk yang Memiliki Telepon Selule...</td>\n",
       "      <td>1</td>\n",
       "      <td>Indonesia</td>\n",
       "      <td>2007</td>\n",
       "      <td>24.33</td>\n",
       "      <td>100.0</td>\n",
       "    </tr>\n",
       "    <tr>\n",
       "      <th>7</th>\n",
       "      <td>Proporsi Penduduk yang Memiliki Telepon Selule...</td>\n",
       "      <td>1</td>\n",
       "      <td>Indonesia</td>\n",
       "      <td>2008</td>\n",
       "      <td>38.15</td>\n",
       "      <td>100.0</td>\n",
       "    </tr>\n",
       "    <tr>\n",
       "      <th>8</th>\n",
       "      <td>Proporsi Penduduk yang Memiliki Telepon Selule...</td>\n",
       "      <td>1</td>\n",
       "      <td>Indonesia</td>\n",
       "      <td>2009</td>\n",
       "      <td>49.21</td>\n",
       "      <td>100.0</td>\n",
       "    </tr>\n",
       "  </tbody>\n",
       "</table>\n",
       "</div>"
      ],
      "text/plain": [
       "                                         nama_series  kode_wilayah    wilayah  \\\n",
       "4  Proporsi Penduduk yang Memiliki Telepon Selule...             1  Indonesia   \n",
       "5  Proporsi Penduduk yang Memiliki Telepon Selule...             1  Indonesia   \n",
       "6  Proporsi Penduduk yang Memiliki Telepon Selule...             1  Indonesia   \n",
       "7  Proporsi Penduduk yang Memiliki Telepon Selule...             1  Indonesia   \n",
       "8  Proporsi Penduduk yang Memiliki Telepon Selule...             1  Indonesia   \n",
       "\n",
       "   tahun  nilai  target  \n",
       "4   2005   8.19   100.0  \n",
       "5   2006  12.27   100.0  \n",
       "6   2007  24.33   100.0  \n",
       "7   2008  38.15   100.0  \n",
       "8   2009  49.21   100.0  "
      ]
     },
     "execution_count": 63,
     "metadata": {},
     "output_type": "execute_result"
    }
   ],
   "source": [
    "df[~df[\"nilai\"].isnull()].head()"
   ]
  },
  {
   "cell_type": "markdown",
   "metadata": {
    "colab_type": "text",
    "id": "TpD9FFQGXGGh"
   },
   "source": [
    "### Latihan\n",
    "1. Bagaimana caranya agar kita dapat mengambil data dari baris ke-400 sampai baris terakhir untuk kolom wilayah, tahun, target?\n",
    "2. Bagaimana kita bisa mendapatkan baris untuk tahun 2004, 2005, dan 2007 untuk kolom wilayah tahun, target?\n",
    "3. Bagaimana kita bisa mendapatkan baris untuk wilayah-wilayah yang ada di pulau Kalimantan di tahun 2005 - 2008?\n"
   ]
  },
  {
   "cell_type": "markdown",
   "metadata": {
    "colab_type": "text",
    "id": "0i4z4od98EzY"
   },
   "source": [
    "#### Hint"
   ]
  },
  {
   "cell_type": "markdown",
   "metadata": {
    "colab_type": "text",
    "id": "-FOXf7n_8RDA"
   },
   "source": [
    "Untuk nomor 2, kita bisa menggunakan operator logika:\n",
    "- `&` untuk `dan`\n",
    "- `|` untuk `atau`"
   ]
  },
  {
   "cell_type": "markdown",
   "metadata": {
    "colab_type": "text",
    "id": "M2q5oYON8DF6"
   },
   "source": [
    "#### Solusi 1"
   ]
  },
  {
   "cell_type": "code",
   "execution_count": 65,
   "metadata": {
    "colab": {},
    "colab_type": "code",
    "id": "tFrC6BcOXO_7"
   },
   "outputs": [],
   "source": [
    "selected_cols = [\"wilayah\", \"tahun\", \"target\"]\n",
    "subset = df[selected_cols].iloc[399:]"
   ]
  },
  {
   "cell_type": "code",
   "execution_count": 66,
   "metadata": {
    "colab": {
     "base_uri": "https://localhost:8080/",
     "height": 1000
    },
    "colab_type": "code",
    "id": "okmwVPZTXXqV",
    "outputId": "4d4a7e16-f7e2-4177-9910-82b4b1937d36"
   },
   "outputs": [
    {
     "data": {
      "text/html": [
       "<div>\n",
       "<style scoped>\n",
       "    .dataframe tbody tr th:only-of-type {\n",
       "        vertical-align: middle;\n",
       "    }\n",
       "\n",
       "    .dataframe tbody tr th {\n",
       "        vertical-align: top;\n",
       "    }\n",
       "\n",
       "    .dataframe thead th {\n",
       "        text-align: right;\n",
       "    }\n",
       "</style>\n",
       "<table border=\"1\" class=\"dataframe\">\n",
       "  <thead>\n",
       "    <tr style=\"text-align: right;\">\n",
       "      <th></th>\n",
       "      <th>wilayah</th>\n",
       "      <th>tahun</th>\n",
       "      <th>target</th>\n",
       "    </tr>\n",
       "  </thead>\n",
       "  <tbody>\n",
       "    <tr>\n",
       "      <th>399</th>\n",
       "      <td>Sulawesi Tengah</td>\n",
       "      <td>2010</td>\n",
       "      <td>NaN</td>\n",
       "    </tr>\n",
       "    <tr>\n",
       "      <th>400</th>\n",
       "      <td>Sulawesi Tengah</td>\n",
       "      <td>2011</td>\n",
       "      <td>NaN</td>\n",
       "    </tr>\n",
       "    <tr>\n",
       "      <th>401</th>\n",
       "      <td>Sulawesi Tengah</td>\n",
       "      <td>2012</td>\n",
       "      <td>NaN</td>\n",
       "    </tr>\n",
       "    <tr>\n",
       "      <th>402</th>\n",
       "      <td>Sulawesi Tengah</td>\n",
       "      <td>2013</td>\n",
       "      <td>NaN</td>\n",
       "    </tr>\n",
       "    <tr>\n",
       "      <th>403</th>\n",
       "      <td>Sulawesi Tengah</td>\n",
       "      <td>2014</td>\n",
       "      <td>NaN</td>\n",
       "    </tr>\n",
       "    <tr>\n",
       "      <th>404</th>\n",
       "      <td>Sulawesi Tengah</td>\n",
       "      <td>2015</td>\n",
       "      <td>NaN</td>\n",
       "    </tr>\n",
       "    <tr>\n",
       "      <th>405</th>\n",
       "      <td>Sulawesi Selatan</td>\n",
       "      <td>2001</td>\n",
       "      <td>NaN</td>\n",
       "    </tr>\n",
       "    <tr>\n",
       "      <th>406</th>\n",
       "      <td>Sulawesi Selatan</td>\n",
       "      <td>2002</td>\n",
       "      <td>NaN</td>\n",
       "    </tr>\n",
       "    <tr>\n",
       "      <th>407</th>\n",
       "      <td>Sulawesi Selatan</td>\n",
       "      <td>2003</td>\n",
       "      <td>NaN</td>\n",
       "    </tr>\n",
       "    <tr>\n",
       "      <th>408</th>\n",
       "      <td>Sulawesi Selatan</td>\n",
       "      <td>2004</td>\n",
       "      <td>NaN</td>\n",
       "    </tr>\n",
       "    <tr>\n",
       "      <th>409</th>\n",
       "      <td>Sulawesi Selatan</td>\n",
       "      <td>2005</td>\n",
       "      <td>NaN</td>\n",
       "    </tr>\n",
       "    <tr>\n",
       "      <th>410</th>\n",
       "      <td>Sulawesi Selatan</td>\n",
       "      <td>2006</td>\n",
       "      <td>NaN</td>\n",
       "    </tr>\n",
       "    <tr>\n",
       "      <th>411</th>\n",
       "      <td>Sulawesi Selatan</td>\n",
       "      <td>2007</td>\n",
       "      <td>NaN</td>\n",
       "    </tr>\n",
       "    <tr>\n",
       "      <th>412</th>\n",
       "      <td>Sulawesi Selatan</td>\n",
       "      <td>2008</td>\n",
       "      <td>NaN</td>\n",
       "    </tr>\n",
       "    <tr>\n",
       "      <th>413</th>\n",
       "      <td>Sulawesi Selatan</td>\n",
       "      <td>2009</td>\n",
       "      <td>NaN</td>\n",
       "    </tr>\n",
       "    <tr>\n",
       "      <th>414</th>\n",
       "      <td>Sulawesi Selatan</td>\n",
       "      <td>2010</td>\n",
       "      <td>NaN</td>\n",
       "    </tr>\n",
       "    <tr>\n",
       "      <th>415</th>\n",
       "      <td>Sulawesi Selatan</td>\n",
       "      <td>2011</td>\n",
       "      <td>NaN</td>\n",
       "    </tr>\n",
       "    <tr>\n",
       "      <th>416</th>\n",
       "      <td>Sulawesi Selatan</td>\n",
       "      <td>2012</td>\n",
       "      <td>NaN</td>\n",
       "    </tr>\n",
       "    <tr>\n",
       "      <th>417</th>\n",
       "      <td>Sulawesi Selatan</td>\n",
       "      <td>2013</td>\n",
       "      <td>NaN</td>\n",
       "    </tr>\n",
       "    <tr>\n",
       "      <th>418</th>\n",
       "      <td>Sulawesi Selatan</td>\n",
       "      <td>2014</td>\n",
       "      <td>NaN</td>\n",
       "    </tr>\n",
       "    <tr>\n",
       "      <th>419</th>\n",
       "      <td>Sulawesi Selatan</td>\n",
       "      <td>2015</td>\n",
       "      <td>NaN</td>\n",
       "    </tr>\n",
       "    <tr>\n",
       "      <th>420</th>\n",
       "      <td>Sulawesi Tenggara</td>\n",
       "      <td>2001</td>\n",
       "      <td>NaN</td>\n",
       "    </tr>\n",
       "    <tr>\n",
       "      <th>421</th>\n",
       "      <td>Sulawesi Tenggara</td>\n",
       "      <td>2002</td>\n",
       "      <td>NaN</td>\n",
       "    </tr>\n",
       "    <tr>\n",
       "      <th>422</th>\n",
       "      <td>Sulawesi Tenggara</td>\n",
       "      <td>2003</td>\n",
       "      <td>NaN</td>\n",
       "    </tr>\n",
       "    <tr>\n",
       "      <th>423</th>\n",
       "      <td>Sulawesi Tenggara</td>\n",
       "      <td>2004</td>\n",
       "      <td>NaN</td>\n",
       "    </tr>\n",
       "    <tr>\n",
       "      <th>424</th>\n",
       "      <td>Sulawesi Tenggara</td>\n",
       "      <td>2005</td>\n",
       "      <td>NaN</td>\n",
       "    </tr>\n",
       "    <tr>\n",
       "      <th>425</th>\n",
       "      <td>Sulawesi Tenggara</td>\n",
       "      <td>2006</td>\n",
       "      <td>NaN</td>\n",
       "    </tr>\n",
       "    <tr>\n",
       "      <th>426</th>\n",
       "      <td>Sulawesi Tenggara</td>\n",
       "      <td>2007</td>\n",
       "      <td>NaN</td>\n",
       "    </tr>\n",
       "    <tr>\n",
       "      <th>427</th>\n",
       "      <td>Sulawesi Tenggara</td>\n",
       "      <td>2008</td>\n",
       "      <td>NaN</td>\n",
       "    </tr>\n",
       "    <tr>\n",
       "      <th>428</th>\n",
       "      <td>Sulawesi Tenggara</td>\n",
       "      <td>2009</td>\n",
       "      <td>NaN</td>\n",
       "    </tr>\n",
       "    <tr>\n",
       "      <th>...</th>\n",
       "      <td>...</td>\n",
       "      <td>...</td>\n",
       "      <td>...</td>\n",
       "    </tr>\n",
       "    <tr>\n",
       "      <th>495</th>\n",
       "      <td>Papua Barat</td>\n",
       "      <td>2001</td>\n",
       "      <td>NaN</td>\n",
       "    </tr>\n",
       "    <tr>\n",
       "      <th>496</th>\n",
       "      <td>Papua Barat</td>\n",
       "      <td>2002</td>\n",
       "      <td>NaN</td>\n",
       "    </tr>\n",
       "    <tr>\n",
       "      <th>497</th>\n",
       "      <td>Papua Barat</td>\n",
       "      <td>2003</td>\n",
       "      <td>NaN</td>\n",
       "    </tr>\n",
       "    <tr>\n",
       "      <th>498</th>\n",
       "      <td>Papua Barat</td>\n",
       "      <td>2004</td>\n",
       "      <td>NaN</td>\n",
       "    </tr>\n",
       "    <tr>\n",
       "      <th>499</th>\n",
       "      <td>Papua Barat</td>\n",
       "      <td>2005</td>\n",
       "      <td>NaN</td>\n",
       "    </tr>\n",
       "    <tr>\n",
       "      <th>500</th>\n",
       "      <td>Papua Barat</td>\n",
       "      <td>2006</td>\n",
       "      <td>NaN</td>\n",
       "    </tr>\n",
       "    <tr>\n",
       "      <th>501</th>\n",
       "      <td>Papua Barat</td>\n",
       "      <td>2007</td>\n",
       "      <td>NaN</td>\n",
       "    </tr>\n",
       "    <tr>\n",
       "      <th>502</th>\n",
       "      <td>Papua Barat</td>\n",
       "      <td>2008</td>\n",
       "      <td>NaN</td>\n",
       "    </tr>\n",
       "    <tr>\n",
       "      <th>503</th>\n",
       "      <td>Papua Barat</td>\n",
       "      <td>2009</td>\n",
       "      <td>NaN</td>\n",
       "    </tr>\n",
       "    <tr>\n",
       "      <th>504</th>\n",
       "      <td>Papua Barat</td>\n",
       "      <td>2010</td>\n",
       "      <td>NaN</td>\n",
       "    </tr>\n",
       "    <tr>\n",
       "      <th>505</th>\n",
       "      <td>Papua Barat</td>\n",
       "      <td>2011</td>\n",
       "      <td>NaN</td>\n",
       "    </tr>\n",
       "    <tr>\n",
       "      <th>506</th>\n",
       "      <td>Papua Barat</td>\n",
       "      <td>2012</td>\n",
       "      <td>NaN</td>\n",
       "    </tr>\n",
       "    <tr>\n",
       "      <th>507</th>\n",
       "      <td>Papua Barat</td>\n",
       "      <td>2013</td>\n",
       "      <td>NaN</td>\n",
       "    </tr>\n",
       "    <tr>\n",
       "      <th>508</th>\n",
       "      <td>Papua Barat</td>\n",
       "      <td>2014</td>\n",
       "      <td>NaN</td>\n",
       "    </tr>\n",
       "    <tr>\n",
       "      <th>509</th>\n",
       "      <td>Papua Barat</td>\n",
       "      <td>2015</td>\n",
       "      <td>NaN</td>\n",
       "    </tr>\n",
       "    <tr>\n",
       "      <th>510</th>\n",
       "      <td>Papua</td>\n",
       "      <td>2001</td>\n",
       "      <td>NaN</td>\n",
       "    </tr>\n",
       "    <tr>\n",
       "      <th>511</th>\n",
       "      <td>Papua</td>\n",
       "      <td>2002</td>\n",
       "      <td>NaN</td>\n",
       "    </tr>\n",
       "    <tr>\n",
       "      <th>512</th>\n",
       "      <td>Papua</td>\n",
       "      <td>2003</td>\n",
       "      <td>NaN</td>\n",
       "    </tr>\n",
       "    <tr>\n",
       "      <th>513</th>\n",
       "      <td>Papua</td>\n",
       "      <td>2004</td>\n",
       "      <td>NaN</td>\n",
       "    </tr>\n",
       "    <tr>\n",
       "      <th>514</th>\n",
       "      <td>Papua</td>\n",
       "      <td>2005</td>\n",
       "      <td>NaN</td>\n",
       "    </tr>\n",
       "    <tr>\n",
       "      <th>515</th>\n",
       "      <td>Papua</td>\n",
       "      <td>2006</td>\n",
       "      <td>NaN</td>\n",
       "    </tr>\n",
       "    <tr>\n",
       "      <th>516</th>\n",
       "      <td>Papua</td>\n",
       "      <td>2007</td>\n",
       "      <td>NaN</td>\n",
       "    </tr>\n",
       "    <tr>\n",
       "      <th>517</th>\n",
       "      <td>Papua</td>\n",
       "      <td>2008</td>\n",
       "      <td>NaN</td>\n",
       "    </tr>\n",
       "    <tr>\n",
       "      <th>518</th>\n",
       "      <td>Papua</td>\n",
       "      <td>2009</td>\n",
       "      <td>NaN</td>\n",
       "    </tr>\n",
       "    <tr>\n",
       "      <th>519</th>\n",
       "      <td>Papua</td>\n",
       "      <td>2010</td>\n",
       "      <td>NaN</td>\n",
       "    </tr>\n",
       "    <tr>\n",
       "      <th>520</th>\n",
       "      <td>Papua</td>\n",
       "      <td>2011</td>\n",
       "      <td>NaN</td>\n",
       "    </tr>\n",
       "    <tr>\n",
       "      <th>521</th>\n",
       "      <td>Papua</td>\n",
       "      <td>2012</td>\n",
       "      <td>NaN</td>\n",
       "    </tr>\n",
       "    <tr>\n",
       "      <th>522</th>\n",
       "      <td>Papua</td>\n",
       "      <td>2013</td>\n",
       "      <td>NaN</td>\n",
       "    </tr>\n",
       "    <tr>\n",
       "      <th>523</th>\n",
       "      <td>Papua</td>\n",
       "      <td>2014</td>\n",
       "      <td>NaN</td>\n",
       "    </tr>\n",
       "    <tr>\n",
       "      <th>524</th>\n",
       "      <td>Papua</td>\n",
       "      <td>2015</td>\n",
       "      <td>NaN</td>\n",
       "    </tr>\n",
       "  </tbody>\n",
       "</table>\n",
       "<p>126 rows × 3 columns</p>\n",
       "</div>"
      ],
      "text/plain": [
       "               wilayah  tahun  target\n",
       "399    Sulawesi Tengah   2010     NaN\n",
       "400    Sulawesi Tengah   2011     NaN\n",
       "401    Sulawesi Tengah   2012     NaN\n",
       "402    Sulawesi Tengah   2013     NaN\n",
       "403    Sulawesi Tengah   2014     NaN\n",
       "404    Sulawesi Tengah   2015     NaN\n",
       "405   Sulawesi Selatan   2001     NaN\n",
       "406   Sulawesi Selatan   2002     NaN\n",
       "407   Sulawesi Selatan   2003     NaN\n",
       "408   Sulawesi Selatan   2004     NaN\n",
       "409   Sulawesi Selatan   2005     NaN\n",
       "410   Sulawesi Selatan   2006     NaN\n",
       "411   Sulawesi Selatan   2007     NaN\n",
       "412   Sulawesi Selatan   2008     NaN\n",
       "413   Sulawesi Selatan   2009     NaN\n",
       "414   Sulawesi Selatan   2010     NaN\n",
       "415   Sulawesi Selatan   2011     NaN\n",
       "416   Sulawesi Selatan   2012     NaN\n",
       "417   Sulawesi Selatan   2013     NaN\n",
       "418   Sulawesi Selatan   2014     NaN\n",
       "419   Sulawesi Selatan   2015     NaN\n",
       "420  Sulawesi Tenggara   2001     NaN\n",
       "421  Sulawesi Tenggara   2002     NaN\n",
       "422  Sulawesi Tenggara   2003     NaN\n",
       "423  Sulawesi Tenggara   2004     NaN\n",
       "424  Sulawesi Tenggara   2005     NaN\n",
       "425  Sulawesi Tenggara   2006     NaN\n",
       "426  Sulawesi Tenggara   2007     NaN\n",
       "427  Sulawesi Tenggara   2008     NaN\n",
       "428  Sulawesi Tenggara   2009     NaN\n",
       "..                 ...    ...     ...\n",
       "495        Papua Barat   2001     NaN\n",
       "496        Papua Barat   2002     NaN\n",
       "497        Papua Barat   2003     NaN\n",
       "498        Papua Barat   2004     NaN\n",
       "499        Papua Barat   2005     NaN\n",
       "500        Papua Barat   2006     NaN\n",
       "501        Papua Barat   2007     NaN\n",
       "502        Papua Barat   2008     NaN\n",
       "503        Papua Barat   2009     NaN\n",
       "504        Papua Barat   2010     NaN\n",
       "505        Papua Barat   2011     NaN\n",
       "506        Papua Barat   2012     NaN\n",
       "507        Papua Barat   2013     NaN\n",
       "508        Papua Barat   2014     NaN\n",
       "509        Papua Barat   2015     NaN\n",
       "510              Papua   2001     NaN\n",
       "511              Papua   2002     NaN\n",
       "512              Papua   2003     NaN\n",
       "513              Papua   2004     NaN\n",
       "514              Papua   2005     NaN\n",
       "515              Papua   2006     NaN\n",
       "516              Papua   2007     NaN\n",
       "517              Papua   2008     NaN\n",
       "518              Papua   2009     NaN\n",
       "519              Papua   2010     NaN\n",
       "520              Papua   2011     NaN\n",
       "521              Papua   2012     NaN\n",
       "522              Papua   2013     NaN\n",
       "523              Papua   2014     NaN\n",
       "524              Papua   2015     NaN\n",
       "\n",
       "[126 rows x 3 columns]"
      ]
     },
     "execution_count": 66,
     "metadata": {},
     "output_type": "execute_result"
    }
   ],
   "source": [
    "subset"
   ]
  },
  {
   "cell_type": "markdown",
   "metadata": {
    "colab_type": "text",
    "id": "LiXBFAhi8VTb"
   },
   "source": [
    "#### Solusi 2"
   ]
  },
  {
   "cell_type": "code",
   "execution_count": 67,
   "metadata": {
    "colab": {},
    "colab_type": "code",
    "id": "nLc2AxAZYbC8"
   },
   "outputs": [],
   "source": [
    "subset = df.loc[((df[\"tahun\"] == 2004) | (df[\"tahun\"] == 2005) | (df[\"tahun\"] == 2007)), selected_cols]"
   ]
  },
  {
   "cell_type": "code",
   "execution_count": 68,
   "metadata": {
    "colab": {
     "base_uri": "https://localhost:8080/",
     "height": 1000
    },
    "colab_type": "code",
    "id": "oLQwzH8oZYU6",
    "outputId": "93dd6322-c781-4dca-a35b-bfe0d12ed024"
   },
   "outputs": [
    {
     "data": {
      "text/html": [
       "<div>\n",
       "<style scoped>\n",
       "    .dataframe tbody tr th:only-of-type {\n",
       "        vertical-align: middle;\n",
       "    }\n",
       "\n",
       "    .dataframe tbody tr th {\n",
       "        vertical-align: top;\n",
       "    }\n",
       "\n",
       "    .dataframe thead th {\n",
       "        text-align: right;\n",
       "    }\n",
       "</style>\n",
       "<table border=\"1\" class=\"dataframe\">\n",
       "  <thead>\n",
       "    <tr style=\"text-align: right;\">\n",
       "      <th></th>\n",
       "      <th>wilayah</th>\n",
       "      <th>tahun</th>\n",
       "      <th>target</th>\n",
       "    </tr>\n",
       "  </thead>\n",
       "  <tbody>\n",
       "    <tr>\n",
       "      <th>3</th>\n",
       "      <td>Indonesia</td>\n",
       "      <td>2004</td>\n",
       "      <td>100.0</td>\n",
       "    </tr>\n",
       "    <tr>\n",
       "      <th>4</th>\n",
       "      <td>Indonesia</td>\n",
       "      <td>2005</td>\n",
       "      <td>100.0</td>\n",
       "    </tr>\n",
       "    <tr>\n",
       "      <th>6</th>\n",
       "      <td>Indonesia</td>\n",
       "      <td>2007</td>\n",
       "      <td>100.0</td>\n",
       "    </tr>\n",
       "    <tr>\n",
       "      <th>18</th>\n",
       "      <td>Aceh</td>\n",
       "      <td>2004</td>\n",
       "      <td>NaN</td>\n",
       "    </tr>\n",
       "    <tr>\n",
       "      <th>19</th>\n",
       "      <td>Aceh</td>\n",
       "      <td>2005</td>\n",
       "      <td>NaN</td>\n",
       "    </tr>\n",
       "    <tr>\n",
       "      <th>21</th>\n",
       "      <td>Aceh</td>\n",
       "      <td>2007</td>\n",
       "      <td>NaN</td>\n",
       "    </tr>\n",
       "    <tr>\n",
       "      <th>33</th>\n",
       "      <td>Sumatera Utara</td>\n",
       "      <td>2004</td>\n",
       "      <td>NaN</td>\n",
       "    </tr>\n",
       "    <tr>\n",
       "      <th>34</th>\n",
       "      <td>Sumatera Utara</td>\n",
       "      <td>2005</td>\n",
       "      <td>NaN</td>\n",
       "    </tr>\n",
       "    <tr>\n",
       "      <th>36</th>\n",
       "      <td>Sumatera Utara</td>\n",
       "      <td>2007</td>\n",
       "      <td>NaN</td>\n",
       "    </tr>\n",
       "    <tr>\n",
       "      <th>48</th>\n",
       "      <td>Sumatera Barat</td>\n",
       "      <td>2004</td>\n",
       "      <td>NaN</td>\n",
       "    </tr>\n",
       "    <tr>\n",
       "      <th>49</th>\n",
       "      <td>Sumatera Barat</td>\n",
       "      <td>2005</td>\n",
       "      <td>NaN</td>\n",
       "    </tr>\n",
       "    <tr>\n",
       "      <th>51</th>\n",
       "      <td>Sumatera Barat</td>\n",
       "      <td>2007</td>\n",
       "      <td>NaN</td>\n",
       "    </tr>\n",
       "    <tr>\n",
       "      <th>63</th>\n",
       "      <td>Riau</td>\n",
       "      <td>2004</td>\n",
       "      <td>NaN</td>\n",
       "    </tr>\n",
       "    <tr>\n",
       "      <th>64</th>\n",
       "      <td>Riau</td>\n",
       "      <td>2005</td>\n",
       "      <td>NaN</td>\n",
       "    </tr>\n",
       "    <tr>\n",
       "      <th>66</th>\n",
       "      <td>Riau</td>\n",
       "      <td>2007</td>\n",
       "      <td>NaN</td>\n",
       "    </tr>\n",
       "    <tr>\n",
       "      <th>78</th>\n",
       "      <td>Jambi</td>\n",
       "      <td>2004</td>\n",
       "      <td>NaN</td>\n",
       "    </tr>\n",
       "    <tr>\n",
       "      <th>79</th>\n",
       "      <td>Jambi</td>\n",
       "      <td>2005</td>\n",
       "      <td>NaN</td>\n",
       "    </tr>\n",
       "    <tr>\n",
       "      <th>81</th>\n",
       "      <td>Jambi</td>\n",
       "      <td>2007</td>\n",
       "      <td>NaN</td>\n",
       "    </tr>\n",
       "    <tr>\n",
       "      <th>93</th>\n",
       "      <td>Sumatera Selatan</td>\n",
       "      <td>2004</td>\n",
       "      <td>NaN</td>\n",
       "    </tr>\n",
       "    <tr>\n",
       "      <th>94</th>\n",
       "      <td>Sumatera Selatan</td>\n",
       "      <td>2005</td>\n",
       "      <td>NaN</td>\n",
       "    </tr>\n",
       "    <tr>\n",
       "      <th>96</th>\n",
       "      <td>Sumatera Selatan</td>\n",
       "      <td>2007</td>\n",
       "      <td>NaN</td>\n",
       "    </tr>\n",
       "    <tr>\n",
       "      <th>108</th>\n",
       "      <td>Bengkulu</td>\n",
       "      <td>2004</td>\n",
       "      <td>NaN</td>\n",
       "    </tr>\n",
       "    <tr>\n",
       "      <th>109</th>\n",
       "      <td>Bengkulu</td>\n",
       "      <td>2005</td>\n",
       "      <td>NaN</td>\n",
       "    </tr>\n",
       "    <tr>\n",
       "      <th>111</th>\n",
       "      <td>Bengkulu</td>\n",
       "      <td>2007</td>\n",
       "      <td>NaN</td>\n",
       "    </tr>\n",
       "    <tr>\n",
       "      <th>123</th>\n",
       "      <td>Lampung</td>\n",
       "      <td>2004</td>\n",
       "      <td>NaN</td>\n",
       "    </tr>\n",
       "    <tr>\n",
       "      <th>124</th>\n",
       "      <td>Lampung</td>\n",
       "      <td>2005</td>\n",
       "      <td>NaN</td>\n",
       "    </tr>\n",
       "    <tr>\n",
       "      <th>126</th>\n",
       "      <td>Lampung</td>\n",
       "      <td>2007</td>\n",
       "      <td>NaN</td>\n",
       "    </tr>\n",
       "    <tr>\n",
       "      <th>138</th>\n",
       "      <td>Kepulauan Bangka Belitung</td>\n",
       "      <td>2004</td>\n",
       "      <td>NaN</td>\n",
       "    </tr>\n",
       "    <tr>\n",
       "      <th>139</th>\n",
       "      <td>Kepulauan Bangka Belitung</td>\n",
       "      <td>2005</td>\n",
       "      <td>NaN</td>\n",
       "    </tr>\n",
       "    <tr>\n",
       "      <th>141</th>\n",
       "      <td>Kepulauan Bangka Belitung</td>\n",
       "      <td>2007</td>\n",
       "      <td>NaN</td>\n",
       "    </tr>\n",
       "    <tr>\n",
       "      <th>...</th>\n",
       "      <td>...</td>\n",
       "      <td>...</td>\n",
       "      <td>...</td>\n",
       "    </tr>\n",
       "    <tr>\n",
       "      <th>378</th>\n",
       "      <td>Sulawesi Utara</td>\n",
       "      <td>2004</td>\n",
       "      <td>NaN</td>\n",
       "    </tr>\n",
       "    <tr>\n",
       "      <th>379</th>\n",
       "      <td>Sulawesi Utara</td>\n",
       "      <td>2005</td>\n",
       "      <td>NaN</td>\n",
       "    </tr>\n",
       "    <tr>\n",
       "      <th>381</th>\n",
       "      <td>Sulawesi Utara</td>\n",
       "      <td>2007</td>\n",
       "      <td>NaN</td>\n",
       "    </tr>\n",
       "    <tr>\n",
       "      <th>393</th>\n",
       "      <td>Sulawesi Tengah</td>\n",
       "      <td>2004</td>\n",
       "      <td>NaN</td>\n",
       "    </tr>\n",
       "    <tr>\n",
       "      <th>394</th>\n",
       "      <td>Sulawesi Tengah</td>\n",
       "      <td>2005</td>\n",
       "      <td>NaN</td>\n",
       "    </tr>\n",
       "    <tr>\n",
       "      <th>396</th>\n",
       "      <td>Sulawesi Tengah</td>\n",
       "      <td>2007</td>\n",
       "      <td>NaN</td>\n",
       "    </tr>\n",
       "    <tr>\n",
       "      <th>408</th>\n",
       "      <td>Sulawesi Selatan</td>\n",
       "      <td>2004</td>\n",
       "      <td>NaN</td>\n",
       "    </tr>\n",
       "    <tr>\n",
       "      <th>409</th>\n",
       "      <td>Sulawesi Selatan</td>\n",
       "      <td>2005</td>\n",
       "      <td>NaN</td>\n",
       "    </tr>\n",
       "    <tr>\n",
       "      <th>411</th>\n",
       "      <td>Sulawesi Selatan</td>\n",
       "      <td>2007</td>\n",
       "      <td>NaN</td>\n",
       "    </tr>\n",
       "    <tr>\n",
       "      <th>423</th>\n",
       "      <td>Sulawesi Tenggara</td>\n",
       "      <td>2004</td>\n",
       "      <td>NaN</td>\n",
       "    </tr>\n",
       "    <tr>\n",
       "      <th>424</th>\n",
       "      <td>Sulawesi Tenggara</td>\n",
       "      <td>2005</td>\n",
       "      <td>NaN</td>\n",
       "    </tr>\n",
       "    <tr>\n",
       "      <th>426</th>\n",
       "      <td>Sulawesi Tenggara</td>\n",
       "      <td>2007</td>\n",
       "      <td>NaN</td>\n",
       "    </tr>\n",
       "    <tr>\n",
       "      <th>438</th>\n",
       "      <td>Gorontalo</td>\n",
       "      <td>2004</td>\n",
       "      <td>NaN</td>\n",
       "    </tr>\n",
       "    <tr>\n",
       "      <th>439</th>\n",
       "      <td>Gorontalo</td>\n",
       "      <td>2005</td>\n",
       "      <td>NaN</td>\n",
       "    </tr>\n",
       "    <tr>\n",
       "      <th>441</th>\n",
       "      <td>Gorontalo</td>\n",
       "      <td>2007</td>\n",
       "      <td>NaN</td>\n",
       "    </tr>\n",
       "    <tr>\n",
       "      <th>453</th>\n",
       "      <td>Sulawesi Barat</td>\n",
       "      <td>2004</td>\n",
       "      <td>NaN</td>\n",
       "    </tr>\n",
       "    <tr>\n",
       "      <th>454</th>\n",
       "      <td>Sulawesi Barat</td>\n",
       "      <td>2005</td>\n",
       "      <td>NaN</td>\n",
       "    </tr>\n",
       "    <tr>\n",
       "      <th>456</th>\n",
       "      <td>Sulawesi Barat</td>\n",
       "      <td>2007</td>\n",
       "      <td>NaN</td>\n",
       "    </tr>\n",
       "    <tr>\n",
       "      <th>468</th>\n",
       "      <td>Maluku</td>\n",
       "      <td>2004</td>\n",
       "      <td>NaN</td>\n",
       "    </tr>\n",
       "    <tr>\n",
       "      <th>469</th>\n",
       "      <td>Maluku</td>\n",
       "      <td>2005</td>\n",
       "      <td>NaN</td>\n",
       "    </tr>\n",
       "    <tr>\n",
       "      <th>471</th>\n",
       "      <td>Maluku</td>\n",
       "      <td>2007</td>\n",
       "      <td>NaN</td>\n",
       "    </tr>\n",
       "    <tr>\n",
       "      <th>483</th>\n",
       "      <td>Maluku Utara</td>\n",
       "      <td>2004</td>\n",
       "      <td>NaN</td>\n",
       "    </tr>\n",
       "    <tr>\n",
       "      <th>484</th>\n",
       "      <td>Maluku Utara</td>\n",
       "      <td>2005</td>\n",
       "      <td>NaN</td>\n",
       "    </tr>\n",
       "    <tr>\n",
       "      <th>486</th>\n",
       "      <td>Maluku Utara</td>\n",
       "      <td>2007</td>\n",
       "      <td>NaN</td>\n",
       "    </tr>\n",
       "    <tr>\n",
       "      <th>498</th>\n",
       "      <td>Papua Barat</td>\n",
       "      <td>2004</td>\n",
       "      <td>NaN</td>\n",
       "    </tr>\n",
       "    <tr>\n",
       "      <th>499</th>\n",
       "      <td>Papua Barat</td>\n",
       "      <td>2005</td>\n",
       "      <td>NaN</td>\n",
       "    </tr>\n",
       "    <tr>\n",
       "      <th>501</th>\n",
       "      <td>Papua Barat</td>\n",
       "      <td>2007</td>\n",
       "      <td>NaN</td>\n",
       "    </tr>\n",
       "    <tr>\n",
       "      <th>513</th>\n",
       "      <td>Papua</td>\n",
       "      <td>2004</td>\n",
       "      <td>NaN</td>\n",
       "    </tr>\n",
       "    <tr>\n",
       "      <th>514</th>\n",
       "      <td>Papua</td>\n",
       "      <td>2005</td>\n",
       "      <td>NaN</td>\n",
       "    </tr>\n",
       "    <tr>\n",
       "      <th>516</th>\n",
       "      <td>Papua</td>\n",
       "      <td>2007</td>\n",
       "      <td>NaN</td>\n",
       "    </tr>\n",
       "  </tbody>\n",
       "</table>\n",
       "<p>105 rows × 3 columns</p>\n",
       "</div>"
      ],
      "text/plain": [
       "                       wilayah  tahun  target\n",
       "3                    Indonesia   2004   100.0\n",
       "4                    Indonesia   2005   100.0\n",
       "6                    Indonesia   2007   100.0\n",
       "18                        Aceh   2004     NaN\n",
       "19                        Aceh   2005     NaN\n",
       "21                        Aceh   2007     NaN\n",
       "33              Sumatera Utara   2004     NaN\n",
       "34              Sumatera Utara   2005     NaN\n",
       "36              Sumatera Utara   2007     NaN\n",
       "48              Sumatera Barat   2004     NaN\n",
       "49              Sumatera Barat   2005     NaN\n",
       "51              Sumatera Barat   2007     NaN\n",
       "63                        Riau   2004     NaN\n",
       "64                        Riau   2005     NaN\n",
       "66                        Riau   2007     NaN\n",
       "78                       Jambi   2004     NaN\n",
       "79                       Jambi   2005     NaN\n",
       "81                       Jambi   2007     NaN\n",
       "93            Sumatera Selatan   2004     NaN\n",
       "94            Sumatera Selatan   2005     NaN\n",
       "96            Sumatera Selatan   2007     NaN\n",
       "108                   Bengkulu   2004     NaN\n",
       "109                   Bengkulu   2005     NaN\n",
       "111                   Bengkulu   2007     NaN\n",
       "123                    Lampung   2004     NaN\n",
       "124                    Lampung   2005     NaN\n",
       "126                    Lampung   2007     NaN\n",
       "138  Kepulauan Bangka Belitung   2004     NaN\n",
       "139  Kepulauan Bangka Belitung   2005     NaN\n",
       "141  Kepulauan Bangka Belitung   2007     NaN\n",
       "..                         ...    ...     ...\n",
       "378             Sulawesi Utara   2004     NaN\n",
       "379             Sulawesi Utara   2005     NaN\n",
       "381             Sulawesi Utara   2007     NaN\n",
       "393            Sulawesi Tengah   2004     NaN\n",
       "394            Sulawesi Tengah   2005     NaN\n",
       "396            Sulawesi Tengah   2007     NaN\n",
       "408           Sulawesi Selatan   2004     NaN\n",
       "409           Sulawesi Selatan   2005     NaN\n",
       "411           Sulawesi Selatan   2007     NaN\n",
       "423          Sulawesi Tenggara   2004     NaN\n",
       "424          Sulawesi Tenggara   2005     NaN\n",
       "426          Sulawesi Tenggara   2007     NaN\n",
       "438                  Gorontalo   2004     NaN\n",
       "439                  Gorontalo   2005     NaN\n",
       "441                  Gorontalo   2007     NaN\n",
       "453             Sulawesi Barat   2004     NaN\n",
       "454             Sulawesi Barat   2005     NaN\n",
       "456             Sulawesi Barat   2007     NaN\n",
       "468                     Maluku   2004     NaN\n",
       "469                     Maluku   2005     NaN\n",
       "471                     Maluku   2007     NaN\n",
       "483               Maluku Utara   2004     NaN\n",
       "484               Maluku Utara   2005     NaN\n",
       "486               Maluku Utara   2007     NaN\n",
       "498                Papua Barat   2004     NaN\n",
       "499                Papua Barat   2005     NaN\n",
       "501                Papua Barat   2007     NaN\n",
       "513                      Papua   2004     NaN\n",
       "514                      Papua   2005     NaN\n",
       "516                      Papua   2007     NaN\n",
       "\n",
       "[105 rows x 3 columns]"
      ]
     },
     "execution_count": 68,
     "metadata": {},
     "output_type": "execute_result"
    }
   ],
   "source": [
    "subset"
   ]
  },
  {
   "cell_type": "code",
   "execution_count": 69,
   "metadata": {
    "colab": {},
    "colab_type": "code",
    "id": "aJR-G5soYGCA"
   },
   "outputs": [],
   "source": [
    "subset = df.loc[df[\"tahun\"].isin([2004, 2005, 2007]), selected_cols]"
   ]
  },
  {
   "cell_type": "code",
   "execution_count": 70,
   "metadata": {
    "colab": {
     "base_uri": "https://localhost:8080/",
     "height": 206
    },
    "colab_type": "code",
    "id": "s93zMvmrYUU1",
    "outputId": "380ea698-1d43-4f1d-d096-35a5fb00d333"
   },
   "outputs": [
    {
     "data": {
      "text/html": [
       "<div>\n",
       "<style scoped>\n",
       "    .dataframe tbody tr th:only-of-type {\n",
       "        vertical-align: middle;\n",
       "    }\n",
       "\n",
       "    .dataframe tbody tr th {\n",
       "        vertical-align: top;\n",
       "    }\n",
       "\n",
       "    .dataframe thead th {\n",
       "        text-align: right;\n",
       "    }\n",
       "</style>\n",
       "<table border=\"1\" class=\"dataframe\">\n",
       "  <thead>\n",
       "    <tr style=\"text-align: right;\">\n",
       "      <th></th>\n",
       "      <th>wilayah</th>\n",
       "      <th>tahun</th>\n",
       "      <th>target</th>\n",
       "    </tr>\n",
       "  </thead>\n",
       "  <tbody>\n",
       "    <tr>\n",
       "      <th>3</th>\n",
       "      <td>Indonesia</td>\n",
       "      <td>2004</td>\n",
       "      <td>100.0</td>\n",
       "    </tr>\n",
       "    <tr>\n",
       "      <th>4</th>\n",
       "      <td>Indonesia</td>\n",
       "      <td>2005</td>\n",
       "      <td>100.0</td>\n",
       "    </tr>\n",
       "    <tr>\n",
       "      <th>6</th>\n",
       "      <td>Indonesia</td>\n",
       "      <td>2007</td>\n",
       "      <td>100.0</td>\n",
       "    </tr>\n",
       "    <tr>\n",
       "      <th>18</th>\n",
       "      <td>Aceh</td>\n",
       "      <td>2004</td>\n",
       "      <td>NaN</td>\n",
       "    </tr>\n",
       "    <tr>\n",
       "      <th>19</th>\n",
       "      <td>Aceh</td>\n",
       "      <td>2005</td>\n",
       "      <td>NaN</td>\n",
       "    </tr>\n",
       "  </tbody>\n",
       "</table>\n",
       "</div>"
      ],
      "text/plain": [
       "      wilayah  tahun  target\n",
       "3   Indonesia   2004   100.0\n",
       "4   Indonesia   2005   100.0\n",
       "6   Indonesia   2007   100.0\n",
       "18       Aceh   2004     NaN\n",
       "19       Aceh   2005     NaN"
      ]
     },
     "execution_count": 70,
     "metadata": {},
     "output_type": "execute_result"
    }
   ],
   "source": [
    "subset.head()"
   ]
  },
  {
   "cell_type": "markdown",
   "metadata": {
    "colab_type": "text",
    "id": "vWKpuLRWTZvU"
   },
   "source": [
    "#### Solusi 3"
   ]
  },
  {
   "cell_type": "code",
   "execution_count": 71,
   "metadata": {
    "colab": {
     "base_uri": "https://localhost:8080/",
     "height": 551
    },
    "colab_type": "code",
    "id": "BCWqHwsyTcMF",
    "outputId": "8e36837e-45c1-4145-fa29-5ded47bd7bff"
   },
   "outputs": [
    {
     "data": {
      "text/html": [
       "<div>\n",
       "<style scoped>\n",
       "    .dataframe tbody tr th:only-of-type {\n",
       "        vertical-align: middle;\n",
       "    }\n",
       "\n",
       "    .dataframe tbody tr th {\n",
       "        vertical-align: top;\n",
       "    }\n",
       "\n",
       "    .dataframe thead th {\n",
       "        text-align: right;\n",
       "    }\n",
       "</style>\n",
       "<table border=\"1\" class=\"dataframe\">\n",
       "  <thead>\n",
       "    <tr style=\"text-align: right;\">\n",
       "      <th></th>\n",
       "      <th>nama_series</th>\n",
       "      <th>kode_wilayah</th>\n",
       "      <th>wilayah</th>\n",
       "      <th>tahun</th>\n",
       "      <th>nilai</th>\n",
       "      <th>target</th>\n",
       "    </tr>\n",
       "  </thead>\n",
       "  <tbody>\n",
       "    <tr>\n",
       "      <th>303</th>\n",
       "      <td>Proporsi Penduduk yang Memiliki Telepon Selule...</td>\n",
       "      <td>61</td>\n",
       "      <td>Kalimantan Barat</td>\n",
       "      <td>2004</td>\n",
       "      <td>NaN</td>\n",
       "      <td>NaN</td>\n",
       "    </tr>\n",
       "    <tr>\n",
       "      <th>304</th>\n",
       "      <td>Proporsi Penduduk yang Memiliki Telepon Selule...</td>\n",
       "      <td>61</td>\n",
       "      <td>Kalimantan Barat</td>\n",
       "      <td>2005</td>\n",
       "      <td>6.29</td>\n",
       "      <td>NaN</td>\n",
       "    </tr>\n",
       "    <tr>\n",
       "      <th>305</th>\n",
       "      <td>Proporsi Penduduk yang Memiliki Telepon Selule...</td>\n",
       "      <td>61</td>\n",
       "      <td>Kalimantan Barat</td>\n",
       "      <td>2006</td>\n",
       "      <td>10.92</td>\n",
       "      <td>NaN</td>\n",
       "    </tr>\n",
       "    <tr>\n",
       "      <th>306</th>\n",
       "      <td>Proporsi Penduduk yang Memiliki Telepon Selule...</td>\n",
       "      <td>61</td>\n",
       "      <td>Kalimantan Barat</td>\n",
       "      <td>2007</td>\n",
       "      <td>26.73</td>\n",
       "      <td>NaN</td>\n",
       "    </tr>\n",
       "    <tr>\n",
       "      <th>318</th>\n",
       "      <td>Proporsi Penduduk yang Memiliki Telepon Selule...</td>\n",
       "      <td>62</td>\n",
       "      <td>Kalimantan Tengah</td>\n",
       "      <td>2004</td>\n",
       "      <td>NaN</td>\n",
       "      <td>NaN</td>\n",
       "    </tr>\n",
       "    <tr>\n",
       "      <th>319</th>\n",
       "      <td>Proporsi Penduduk yang Memiliki Telepon Selule...</td>\n",
       "      <td>62</td>\n",
       "      <td>Kalimantan Tengah</td>\n",
       "      <td>2005</td>\n",
       "      <td>4.21</td>\n",
       "      <td>NaN</td>\n",
       "    </tr>\n",
       "    <tr>\n",
       "      <th>320</th>\n",
       "      <td>Proporsi Penduduk yang Memiliki Telepon Selule...</td>\n",
       "      <td>62</td>\n",
       "      <td>Kalimantan Tengah</td>\n",
       "      <td>2006</td>\n",
       "      <td>8.83</td>\n",
       "      <td>NaN</td>\n",
       "    </tr>\n",
       "    <tr>\n",
       "      <th>321</th>\n",
       "      <td>Proporsi Penduduk yang Memiliki Telepon Selule...</td>\n",
       "      <td>62</td>\n",
       "      <td>Kalimantan Tengah</td>\n",
       "      <td>2007</td>\n",
       "      <td>24.68</td>\n",
       "      <td>NaN</td>\n",
       "    </tr>\n",
       "    <tr>\n",
       "      <th>348</th>\n",
       "      <td>Proporsi Penduduk yang Memiliki Telepon Selule...</td>\n",
       "      <td>64</td>\n",
       "      <td>Kalimantan Timur</td>\n",
       "      <td>2004</td>\n",
       "      <td>NaN</td>\n",
       "      <td>NaN</td>\n",
       "    </tr>\n",
       "    <tr>\n",
       "      <th>349</th>\n",
       "      <td>Proporsi Penduduk yang Memiliki Telepon Selule...</td>\n",
       "      <td>64</td>\n",
       "      <td>Kalimantan Timur</td>\n",
       "      <td>2005</td>\n",
       "      <td>14.82</td>\n",
       "      <td>NaN</td>\n",
       "    </tr>\n",
       "    <tr>\n",
       "      <th>350</th>\n",
       "      <td>Proporsi Penduduk yang Memiliki Telepon Selule...</td>\n",
       "      <td>64</td>\n",
       "      <td>Kalimantan Timur</td>\n",
       "      <td>2006</td>\n",
       "      <td>28.78</td>\n",
       "      <td>NaN</td>\n",
       "    </tr>\n",
       "    <tr>\n",
       "      <th>351</th>\n",
       "      <td>Proporsi Penduduk yang Memiliki Telepon Selule...</td>\n",
       "      <td>64</td>\n",
       "      <td>Kalimantan Timur</td>\n",
       "      <td>2007</td>\n",
       "      <td>43.15</td>\n",
       "      <td>NaN</td>\n",
       "    </tr>\n",
       "    <tr>\n",
       "      <th>363</th>\n",
       "      <td>Proporsi Penduduk yang Memiliki Telepon Selule...</td>\n",
       "      <td>65</td>\n",
       "      <td>Kalimantan Utara</td>\n",
       "      <td>2004</td>\n",
       "      <td>NaN</td>\n",
       "      <td>NaN</td>\n",
       "    </tr>\n",
       "    <tr>\n",
       "      <th>364</th>\n",
       "      <td>Proporsi Penduduk yang Memiliki Telepon Selule...</td>\n",
       "      <td>65</td>\n",
       "      <td>Kalimantan Utara</td>\n",
       "      <td>2005</td>\n",
       "      <td>NaN</td>\n",
       "      <td>NaN</td>\n",
       "    </tr>\n",
       "    <tr>\n",
       "      <th>365</th>\n",
       "      <td>Proporsi Penduduk yang Memiliki Telepon Selule...</td>\n",
       "      <td>65</td>\n",
       "      <td>Kalimantan Utara</td>\n",
       "      <td>2006</td>\n",
       "      <td>NaN</td>\n",
       "      <td>NaN</td>\n",
       "    </tr>\n",
       "    <tr>\n",
       "      <th>366</th>\n",
       "      <td>Proporsi Penduduk yang Memiliki Telepon Selule...</td>\n",
       "      <td>65</td>\n",
       "      <td>Kalimantan Utara</td>\n",
       "      <td>2007</td>\n",
       "      <td>NaN</td>\n",
       "      <td>NaN</td>\n",
       "    </tr>\n",
       "  </tbody>\n",
       "</table>\n",
       "</div>"
      ],
      "text/plain": [
       "                                           nama_series  kode_wilayah  \\\n",
       "303  Proporsi Penduduk yang Memiliki Telepon Selule...            61   \n",
       "304  Proporsi Penduduk yang Memiliki Telepon Selule...            61   \n",
       "305  Proporsi Penduduk yang Memiliki Telepon Selule...            61   \n",
       "306  Proporsi Penduduk yang Memiliki Telepon Selule...            61   \n",
       "318  Proporsi Penduduk yang Memiliki Telepon Selule...            62   \n",
       "319  Proporsi Penduduk yang Memiliki Telepon Selule...            62   \n",
       "320  Proporsi Penduduk yang Memiliki Telepon Selule...            62   \n",
       "321  Proporsi Penduduk yang Memiliki Telepon Selule...            62   \n",
       "348  Proporsi Penduduk yang Memiliki Telepon Selule...            64   \n",
       "349  Proporsi Penduduk yang Memiliki Telepon Selule...            64   \n",
       "350  Proporsi Penduduk yang Memiliki Telepon Selule...            64   \n",
       "351  Proporsi Penduduk yang Memiliki Telepon Selule...            64   \n",
       "363  Proporsi Penduduk yang Memiliki Telepon Selule...            65   \n",
       "364  Proporsi Penduduk yang Memiliki Telepon Selule...            65   \n",
       "365  Proporsi Penduduk yang Memiliki Telepon Selule...            65   \n",
       "366  Proporsi Penduduk yang Memiliki Telepon Selule...            65   \n",
       "\n",
       "               wilayah  tahun  nilai  target  \n",
       "303   Kalimantan Barat   2004    NaN     NaN  \n",
       "304   Kalimantan Barat   2005   6.29     NaN  \n",
       "305   Kalimantan Barat   2006  10.92     NaN  \n",
       "306   Kalimantan Barat   2007  26.73     NaN  \n",
       "318  Kalimantan Tengah   2004    NaN     NaN  \n",
       "319  Kalimantan Tengah   2005   4.21     NaN  \n",
       "320  Kalimantan Tengah   2006   8.83     NaN  \n",
       "321  Kalimantan Tengah   2007  24.68     NaN  \n",
       "348   Kalimantan Timur   2004    NaN     NaN  \n",
       "349   Kalimantan Timur   2005  14.82     NaN  \n",
       "350   Kalimantan Timur   2006  28.78     NaN  \n",
       "351   Kalimantan Timur   2007  43.15     NaN  \n",
       "363   Kalimantan Utara   2004    NaN     NaN  \n",
       "364   Kalimantan Utara   2005    NaN     NaN  \n",
       "365   Kalimantan Utara   2006    NaN     NaN  \n",
       "366   Kalimantan Utara   2007    NaN     NaN  "
      ]
     },
     "execution_count": 71,
     "metadata": {},
     "output_type": "execute_result"
    }
   ],
   "source": [
    "wilayah = [\"Kalimantan Barat\", \"Kalimantan Tengah\", \"Kalimantan Timur\", \"Kalimantan Utara\"]\n",
    "tahun = [2004, 2005, 2006, 2007]\n",
    "\n",
    "df[df[\"wilayah\"].isin(wilayah) & df[\"tahun\"].isin(tahun)]"
   ]
  },
  {
   "cell_type": "markdown",
   "metadata": {
    "colab_type": "text",
    "id": "-GpJWLJWVtNP"
   },
   "source": [
    "# Mengeksplor Data\n",
    "Langkah ini penting karena ketika kita memasukkan data baru, sering kali pandas membacanya dengan cara yang tidak sesuai dengan yang kita inginkan (misalnya ada baris yang terpotong, atau separator-nya tidak tepat)."
   ]
  },
  {
   "cell_type": "code",
   "execution_count": 72,
   "metadata": {
    "colab": {
     "base_uri": "https://localhost:8080/",
     "height": 34
    },
    "colab_type": "code",
    "id": "87Spd-jVV234",
    "outputId": "dce0fc69-05a7-437b-f2ad-26ada4271751"
   },
   "outputs": [
    {
     "data": {
      "text/plain": [
       "(525, 6)"
      ]
     },
     "execution_count": 72,
     "metadata": {},
     "output_type": "execute_result"
    }
   ],
   "source": [
    "df.shape"
   ]
  },
  {
   "cell_type": "code",
   "execution_count": 73,
   "metadata": {
    "colab": {
     "base_uri": "https://localhost:8080/",
     "height": 300
    },
    "colab_type": "code",
    "id": "dWpk_84MVugS",
    "outputId": "5c5be58e-7975-4864-bd88-0def58b6bcc7"
   },
   "outputs": [
    {
     "data": {
      "text/html": [
       "<div>\n",
       "<style scoped>\n",
       "    .dataframe tbody tr th:only-of-type {\n",
       "        vertical-align: middle;\n",
       "    }\n",
       "\n",
       "    .dataframe tbody tr th {\n",
       "        vertical-align: top;\n",
       "    }\n",
       "\n",
       "    .dataframe thead th {\n",
       "        text-align: right;\n",
       "    }\n",
       "</style>\n",
       "<table border=\"1\" class=\"dataframe\">\n",
       "  <thead>\n",
       "    <tr style=\"text-align: right;\">\n",
       "      <th></th>\n",
       "      <th>kode_wilayah</th>\n",
       "      <th>tahun</th>\n",
       "      <th>nilai</th>\n",
       "      <th>target</th>\n",
       "    </tr>\n",
       "  </thead>\n",
       "  <tbody>\n",
       "    <tr>\n",
       "      <th>count</th>\n",
       "      <td>525.000000</td>\n",
       "      <td>525.000000</td>\n",
       "      <td>361.000000</td>\n",
       "      <td>15.0</td>\n",
       "    </tr>\n",
       "    <tr>\n",
       "      <th>mean</th>\n",
       "      <td>46.228571</td>\n",
       "      <td>2008.000000</td>\n",
       "      <td>53.558172</td>\n",
       "      <td>100.0</td>\n",
       "    </tr>\n",
       "    <tr>\n",
       "      <th>std</th>\n",
       "      <td>26.902161</td>\n",
       "      <td>4.324614</td>\n",
       "      <td>28.889846</td>\n",
       "      <td>0.0</td>\n",
       "    </tr>\n",
       "    <tr>\n",
       "      <th>min</th>\n",
       "      <td>1.000000</td>\n",
       "      <td>2001.000000</td>\n",
       "      <td>1.270000</td>\n",
       "      <td>100.0</td>\n",
       "    </tr>\n",
       "    <tr>\n",
       "      <th>25%</th>\n",
       "      <td>18.000000</td>\n",
       "      <td>2004.000000</td>\n",
       "      <td>25.870000</td>\n",
       "      <td>100.0</td>\n",
       "    </tr>\n",
       "    <tr>\n",
       "      <th>50%</th>\n",
       "      <td>51.000000</td>\n",
       "      <td>2008.000000</td>\n",
       "      <td>60.890000</td>\n",
       "      <td>100.0</td>\n",
       "    </tr>\n",
       "    <tr>\n",
       "      <th>75%</th>\n",
       "      <td>72.000000</td>\n",
       "      <td>2012.000000</td>\n",
       "      <td>80.230000</td>\n",
       "      <td>100.0</td>\n",
       "    </tr>\n",
       "    <tr>\n",
       "      <th>max</th>\n",
       "      <td>94.000000</td>\n",
       "      <td>2015.000000</td>\n",
       "      <td>94.050000</td>\n",
       "      <td>100.0</td>\n",
       "    </tr>\n",
       "  </tbody>\n",
       "</table>\n",
       "</div>"
      ],
      "text/plain": [
       "       kode_wilayah        tahun       nilai  target\n",
       "count    525.000000   525.000000  361.000000    15.0\n",
       "mean      46.228571  2008.000000   53.558172   100.0\n",
       "std       26.902161     4.324614   28.889846     0.0\n",
       "min        1.000000  2001.000000    1.270000   100.0\n",
       "25%       18.000000  2004.000000   25.870000   100.0\n",
       "50%       51.000000  2008.000000   60.890000   100.0\n",
       "75%       72.000000  2012.000000   80.230000   100.0\n",
       "max       94.000000  2015.000000   94.050000   100.0"
      ]
     },
     "execution_count": 73,
     "metadata": {},
     "output_type": "execute_result"
    }
   ],
   "source": [
    "df.describe()"
   ]
  },
  {
   "cell_type": "code",
   "execution_count": 77,
   "metadata": {
    "colab": {
     "base_uri": "https://localhost:8080/",
     "height": 104
    },
    "colab_type": "code",
    "id": "oAzZICy-VvR0",
    "outputId": "0a406c4d-ca11-429e-dd1b-35a36e7ece79"
   },
   "outputs": [
    {
     "data": {
      "text/plain": [
       "count            525\n",
       "unique            35\n",
       "top       Jawa Barat\n",
       "freq              15\n",
       "Name: wilayah, dtype: object"
      ]
     },
     "execution_count": 77,
     "metadata": {},
     "output_type": "execute_result"
    }
   ],
   "source": [
    "df[\"wilayah\"].describe()"
   ]
  },
  {
   "cell_type": "code",
   "execution_count": 78,
   "metadata": {
    "colab": {
     "base_uri": "https://localhost:8080/",
     "height": 191
    },
    "colab_type": "code",
    "id": "GhISULErTTa5",
    "outputId": "21fdfd60-959a-4b5e-b883-5463634262b4"
   },
   "outputs": [
    {
     "data": {
      "text/plain": [
       "array(['Indonesia', 'Aceh', 'Sumatera Utara', 'Sumatera Barat', 'Riau',\n",
       "       'Jambi', 'Sumatera Selatan', 'Bengkulu', 'Lampung',\n",
       "       'Kepulauan Bangka Belitung', 'Kepulauan Riau', 'DKI Jakarta',\n",
       "       'Jawa Barat', 'Jawa Tengah', 'DI Yogyakarta', 'Jawa Timur',\n",
       "       'Banten', 'Bali', 'Nusa Tenggara Barat', 'Nusa Tenggara Timur',\n",
       "       'Kalimantan Barat', 'Kalimantan Tengah', 'Kalimantan Selatan',\n",
       "       'Kalimantan Timur', 'Kalimantan Utara', 'Sulawesi Utara',\n",
       "       'Sulawesi Tengah', 'Sulawesi Selatan', 'Sulawesi Tenggara',\n",
       "       'Gorontalo', 'Sulawesi Barat', 'Maluku', 'Maluku Utara',\n",
       "       'Papua Barat', 'Papua'], dtype=object)"
      ]
     },
     "execution_count": 78,
     "metadata": {},
     "output_type": "execute_result"
    }
   ],
   "source": [
    "df[\"wilayah\"].unique()"
   ]
  },
  {
   "cell_type": "code",
   "execution_count": 79,
   "metadata": {
    "colab": {
     "base_uri": "https://localhost:8080/",
     "height": 208
    },
    "colab_type": "code",
    "id": "OvuRVxfMVuDz",
    "outputId": "dab6d473-8610-4708-ebdd-f4e9d1e3e4eb"
   },
   "outputs": [
    {
     "name": "stdout",
     "output_type": "stream",
     "text": [
      "<class 'pandas.core.frame.DataFrame'>\n",
      "RangeIndex: 525 entries, 0 to 524\n",
      "Data columns (total 6 columns):\n",
      "nama_series     525 non-null object\n",
      "kode_wilayah    525 non-null int64\n",
      "wilayah         525 non-null object\n",
      "tahun           525 non-null int64\n",
      "nilai           361 non-null float64\n",
      "target          15 non-null float64\n",
      "dtypes: float64(2), int64(2), object(2)\n",
      "memory usage: 24.7+ KB\n"
     ]
    }
   ],
   "source": [
    "df.info()"
   ]
  },
  {
   "cell_type": "markdown",
   "metadata": {
    "colab_type": "text",
    "id": "qbpHE4U19qxk"
   },
   "source": [
    "Tipe-tipe data di pandas:\n",
    "\n",
    "![Pandas data type](https://pbpython.com/images/pandas_dtypes.png)\n",
    "[*Source*](https://pbpython.com/pandas_dtypes.html)"
   ]
  },
  {
   "cell_type": "markdown",
   "metadata": {
    "colab_type": "text",
    "id": "754_hl4vLl3I"
   },
   "source": [
    "## Mengganti tipe kolom"
   ]
  },
  {
   "cell_type": "code",
   "execution_count": 80,
   "metadata": {
    "colab": {},
    "colab_type": "code",
    "id": "XxxUpSsyXTdO"
   },
   "outputs": [],
   "source": [
    "df[\"tahun\"] = df[\"tahun\"].astype(\"str\")"
   ]
  },
  {
   "cell_type": "code",
   "execution_count": 81,
   "metadata": {
    "colab": {
     "base_uri": "https://localhost:8080/",
     "height": 208
    },
    "colab_type": "code",
    "id": "FnSnd7jRME1M",
    "outputId": "92f850b5-4c3c-4708-cc9d-e17ae39c80ff"
   },
   "outputs": [
    {
     "name": "stdout",
     "output_type": "stream",
     "text": [
      "<class 'pandas.core.frame.DataFrame'>\n",
      "RangeIndex: 525 entries, 0 to 524\n",
      "Data columns (total 6 columns):\n",
      "nama_series     525 non-null object\n",
      "kode_wilayah    525 non-null int64\n",
      "wilayah         525 non-null object\n",
      "tahun           525 non-null object\n",
      "nilai           361 non-null float64\n",
      "target          15 non-null float64\n",
      "dtypes: float64(2), int64(1), object(3)\n",
      "memory usage: 24.7+ KB\n"
     ]
    }
   ],
   "source": [
    "df.info()"
   ]
  },
  {
   "cell_type": "code",
   "execution_count": 83,
   "metadata": {
    "colab": {},
    "colab_type": "code",
    "id": "aZLIb8OHYA_r"
   },
   "outputs": [],
   "source": [
    "df = pd.read_csv(\"data/penduduk_telepon_seluler_pedesaan.csv\", \n",
    "                 sep=\";\",\n",
    "                 dtype={\"tahun\": str, \"kode_wilayah\": str})"
   ]
  },
  {
   "cell_type": "code",
   "execution_count": 84,
   "metadata": {
    "colab": {
     "base_uri": "https://localhost:8080/",
     "height": 293
    },
    "colab_type": "code",
    "id": "lkgyJmcfYNFd",
    "outputId": "ba2e5124-8752-4977-8d52-d19a300a2ec8"
   },
   "outputs": [
    {
     "data": {
      "text/html": [
       "<div>\n",
       "<style scoped>\n",
       "    .dataframe tbody tr th:only-of-type {\n",
       "        vertical-align: middle;\n",
       "    }\n",
       "\n",
       "    .dataframe tbody tr th {\n",
       "        vertical-align: top;\n",
       "    }\n",
       "\n",
       "    .dataframe thead th {\n",
       "        text-align: right;\n",
       "    }\n",
       "</style>\n",
       "<table border=\"1\" class=\"dataframe\">\n",
       "  <thead>\n",
       "    <tr style=\"text-align: right;\">\n",
       "      <th></th>\n",
       "      <th>nama_series</th>\n",
       "      <th>kode_wilayah</th>\n",
       "      <th>wilayah</th>\n",
       "      <th>tahun</th>\n",
       "      <th>nilai</th>\n",
       "      <th>target</th>\n",
       "    </tr>\n",
       "  </thead>\n",
       "  <tbody>\n",
       "    <tr>\n",
       "      <th>0</th>\n",
       "      <td>Proporsi Penduduk yang Memiliki Telepon Selule...</td>\n",
       "      <td>1</td>\n",
       "      <td>Indonesia</td>\n",
       "      <td>2001</td>\n",
       "      <td>NaN</td>\n",
       "      <td>100.0</td>\n",
       "    </tr>\n",
       "    <tr>\n",
       "      <th>1</th>\n",
       "      <td>Proporsi Penduduk yang Memiliki Telepon Selule...</td>\n",
       "      <td>1</td>\n",
       "      <td>Indonesia</td>\n",
       "      <td>2002</td>\n",
       "      <td>NaN</td>\n",
       "      <td>100.0</td>\n",
       "    </tr>\n",
       "    <tr>\n",
       "      <th>2</th>\n",
       "      <td>Proporsi Penduduk yang Memiliki Telepon Selule...</td>\n",
       "      <td>1</td>\n",
       "      <td>Indonesia</td>\n",
       "      <td>2003</td>\n",
       "      <td>NaN</td>\n",
       "      <td>100.0</td>\n",
       "    </tr>\n",
       "    <tr>\n",
       "      <th>3</th>\n",
       "      <td>Proporsi Penduduk yang Memiliki Telepon Selule...</td>\n",
       "      <td>1</td>\n",
       "      <td>Indonesia</td>\n",
       "      <td>2004</td>\n",
       "      <td>NaN</td>\n",
       "      <td>100.0</td>\n",
       "    </tr>\n",
       "    <tr>\n",
       "      <th>4</th>\n",
       "      <td>Proporsi Penduduk yang Memiliki Telepon Selule...</td>\n",
       "      <td>1</td>\n",
       "      <td>Indonesia</td>\n",
       "      <td>2005</td>\n",
       "      <td>8.19</td>\n",
       "      <td>100.0</td>\n",
       "    </tr>\n",
       "  </tbody>\n",
       "</table>\n",
       "</div>"
      ],
      "text/plain": [
       "                                         nama_series kode_wilayah    wilayah  \\\n",
       "0  Proporsi Penduduk yang Memiliki Telepon Selule...            1  Indonesia   \n",
       "1  Proporsi Penduduk yang Memiliki Telepon Selule...            1  Indonesia   \n",
       "2  Proporsi Penduduk yang Memiliki Telepon Selule...            1  Indonesia   \n",
       "3  Proporsi Penduduk yang Memiliki Telepon Selule...            1  Indonesia   \n",
       "4  Proporsi Penduduk yang Memiliki Telepon Selule...            1  Indonesia   \n",
       "\n",
       "  tahun  nilai  target  \n",
       "0  2001    NaN   100.0  \n",
       "1  2002    NaN   100.0  \n",
       "2  2003    NaN   100.0  \n",
       "3  2004    NaN   100.0  \n",
       "4  2005   8.19   100.0  "
      ]
     },
     "execution_count": 84,
     "metadata": {},
     "output_type": "execute_result"
    }
   ],
   "source": [
    "df.head()"
   ]
  },
  {
   "cell_type": "code",
   "execution_count": 85,
   "metadata": {
    "colab": {
     "base_uri": "https://localhost:8080/",
     "height": 208
    },
    "colab_type": "code",
    "id": "xjG0hFBnMJPZ",
    "outputId": "0e9920bb-a5ca-45a4-bb77-4798903efe80"
   },
   "outputs": [
    {
     "name": "stdout",
     "output_type": "stream",
     "text": [
      "<class 'pandas.core.frame.DataFrame'>\n",
      "RangeIndex: 525 entries, 0 to 524\n",
      "Data columns (total 6 columns):\n",
      "nama_series     525 non-null object\n",
      "kode_wilayah    525 non-null object\n",
      "wilayah         525 non-null object\n",
      "tahun           525 non-null object\n",
      "nilai           361 non-null float64\n",
      "target          15 non-null float64\n",
      "dtypes: float64(2), object(4)\n",
      "memory usage: 24.7+ KB\n"
     ]
    }
   ],
   "source": [
    "df.info()"
   ]
  },
  {
   "cell_type": "markdown",
   "metadata": {
    "colab_type": "text",
    "id": "1dbuGBE9ZpP3"
   },
   "source": [
    "# *Checkpoint*\n",
    "Sekarang kita sudah belajar cara:\n",
    "- Memasukkan data csv ke dalam program kita untuk diolah lebih lanjut (`read_csv`)\n",
    "- Merubah tipe kolom\n",
    "- Mengakses kolom, baris tertentu sesuai perintah (`loc`, `iloc`)\n",
    "- Mengeksplor data (`shape`, `info`, `describe`, `unique`, `nunique`)\n",
    "- Memilih sebagian data (mengombinasikan `loc`, logika operator )\n",
    "\n",
    "\n",
    "![alt text](https://media0.giphy.com/media/11sBLVxNs7v6WA/giphy.gif?cid=790b76115d44252537325577555e8107&rid=giphy.gif)\n"
   ]
  }
 ],
 "metadata": {
  "colab": {
   "collapsed_sections": [
    "0i4z4od98EzY"
   ],
   "name": "Data Preparation with Python - Part 1.ipynb",
   "provenance": [],
   "toc_visible": true,
   "version": "0.3.2"
  },
  "kernelspec": {
   "display_name": "Python 3",
   "language": "python",
   "name": "python3"
  },
  "language_info": {
   "codemirror_mode": {
    "name": "ipython",
    "version": 3
   },
   "file_extension": ".py",
   "mimetype": "text/x-python",
   "name": "python",
   "nbconvert_exporter": "python",
   "pygments_lexer": "ipython3",
   "version": "3.7.3"
  }
 },
 "nbformat": 4,
 "nbformat_minor": 1
}
