{
 "cells": [
  {
   "cell_type": "markdown",
   "metadata": {},
   "source": [
    "# PANDAS\n",
    "Pandas merupakan toolkit yang powerfull sebagai alat analisis data dan struktur untuk bahasa pemrograman Python. Dengan menggunakan pandas kita dapat mengolah data dengan mudah, salah satu fiturnya adalah Dataframe. Dengan adanya fitur dataframe kita dapat membaca sebuah file dan menjadikannya tabble, kita juga dapat mengolah suatu data dengan menggunakan operasi seperti join, distinct, group by, agregasi, dan teknik lainnya yang terdapat pada SQL. Banyak format file yang dapat dibaca menggunakan Pandas, seperti file .txt, .csv, .tsv dan lainnya.\n",
    "\n",
    "Data dapat didownload dari https://data.go.id/dataset/data-kunjungan-daya-tarik-wisata-dki-jakarta"
   ]
  },
  {
   "cell_type": "code",
   "execution_count": 8,
   "metadata": {
    "colab": {},
    "colab_type": "code",
    "id": "Ts7rPp6_QH1P"
   },
   "outputs": [],
   "source": [
    "import pandas as pd"
   ]
  },
  {
   "cell_type": "markdown",
   "metadata": {
    "colab_type": "text",
    "id": "5osokdPvTTN0"
   },
   "source": [
    "# Membaca data"
   ]
  },
  {
   "cell_type": "code",
   "execution_count": 33,
   "metadata": {
    "colab": {},
    "colab_type": "code",
    "id": "Q8h_t6rrPJbg"
   },
   "outputs": [],
   "source": [
    "df = pd.read_csv(\"data/Kunjungan-Daya-Tarik-Wisata-DKI-Jakarta-Januari-s-d-Desember-2014.csv\")"
   ]
  },
  {
   "cell_type": "markdown",
   "metadata": {
    "colab_type": "text",
    "id": "DicvCsXYJLV_"
   },
   "source": [
    "📖  Dokumentasi `pandas.read_csv`: [tautan](https://pandas.pydata.org/pandas-docs/stable/reference/api/pandas.read_csv.html)\n",
    "\n",
    "- Untuk membaca file `json`:  [tautan](https://pandas.pydata.org/pandas-docs/stable/reference/api/pandas.read_json.html)"
   ]
  },
  {
   "cell_type": "code",
   "execution_count": 34,
   "metadata": {
    "colab": {
     "base_uri": "https://localhost:8080/",
     "height": 1000
    },
    "colab_type": "code",
    "id": "x-T-9OjKQGDj",
    "outputId": "74da1592-ad5c-42b7-90cc-0b61ffd3cf6d",
    "scrolled": true
   },
   "outputs": [
    {
     "data": {
      "text/html": [
       "<div>\n",
       "<style scoped>\n",
       "    .dataframe tbody tr th:only-of-type {\n",
       "        vertical-align: middle;\n",
       "    }\n",
       "\n",
       "    .dataframe tbody tr th {\n",
       "        vertical-align: top;\n",
       "    }\n",
       "\n",
       "    .dataframe thead th {\n",
       "        text-align: right;\n",
       "    }\n",
       "</style>\n",
       "<table border=\"1\" class=\"dataframe\">\n",
       "  <thead>\n",
       "    <tr style=\"text-align: right;\">\n",
       "      <th></th>\n",
       "      <th>nama_destinasi_wisata</th>\n",
       "      <th>bulan</th>\n",
       "      <th>wisnus</th>\n",
       "      <th>wisman</th>\n",
       "    </tr>\n",
       "  </thead>\n",
       "  <tbody>\n",
       "    <tr>\n",
       "      <td>0</td>\n",
       "      <td>TIJA Ancol</td>\n",
       "      <td>Januari</td>\n",
       "      <td>2320962.0</td>\n",
       "      <td>0.0</td>\n",
       "    </tr>\n",
       "    <tr>\n",
       "      <td>1</td>\n",
       "      <td>TIJA Ancol</td>\n",
       "      <td>Februari</td>\n",
       "      <td>1623862.0</td>\n",
       "      <td>0.0</td>\n",
       "    </tr>\n",
       "    <tr>\n",
       "      <td>2</td>\n",
       "      <td>TIJA Ancol</td>\n",
       "      <td>Maret</td>\n",
       "      <td>3217037.0</td>\n",
       "      <td>0.0</td>\n",
       "    </tr>\n",
       "    <tr>\n",
       "      <td>3</td>\n",
       "      <td>TIJA Ancol</td>\n",
       "      <td>April</td>\n",
       "      <td>2704564.0</td>\n",
       "      <td>0.0</td>\n",
       "    </tr>\n",
       "    <tr>\n",
       "      <td>4</td>\n",
       "      <td>TIJA Ancol</td>\n",
       "      <td>Mei</td>\n",
       "      <td>2450321.0</td>\n",
       "      <td>0.0</td>\n",
       "    </tr>\n",
       "    <tr>\n",
       "      <td>...</td>\n",
       "      <td>...</td>\n",
       "      <td>...</td>\n",
       "      <td>...</td>\n",
       "      <td>...</td>\n",
       "    </tr>\n",
       "    <tr>\n",
       "      <td>163</td>\n",
       "      <td>Pelabuhan Sunda Kelapa</td>\n",
       "      <td>Agustus</td>\n",
       "      <td>6211.0</td>\n",
       "      <td>82.0</td>\n",
       "    </tr>\n",
       "    <tr>\n",
       "      <td>164</td>\n",
       "      <td>Pelabuhan Sunda Kelapa</td>\n",
       "      <td>September</td>\n",
       "      <td>4579.0</td>\n",
       "      <td>46.0</td>\n",
       "    </tr>\n",
       "    <tr>\n",
       "      <td>165</td>\n",
       "      <td>Pelabuhan Sunda Kelapa</td>\n",
       "      <td>Oktober</td>\n",
       "      <td>5059.0</td>\n",
       "      <td>59.0</td>\n",
       "    </tr>\n",
       "    <tr>\n",
       "      <td>166</td>\n",
       "      <td>Pelabuhan Sunda Kelapa</td>\n",
       "      <td>Nopember</td>\n",
       "      <td>3289.0</td>\n",
       "      <td>38.0</td>\n",
       "    </tr>\n",
       "    <tr>\n",
       "      <td>167</td>\n",
       "      <td>Pelabuhan Sunda Kelapa</td>\n",
       "      <td>Desember</td>\n",
       "      <td>5862.0</td>\n",
       "      <td>150.0</td>\n",
       "    </tr>\n",
       "  </tbody>\n",
       "</table>\n",
       "<p>168 rows × 4 columns</p>\n",
       "</div>"
      ],
      "text/plain": [
       "      nama_destinasi_wisata      bulan     wisnus  wisman\n",
       "0                TIJA Ancol    Januari  2320962.0     0.0\n",
       "1                TIJA Ancol   Februari  1623862.0     0.0\n",
       "2                TIJA Ancol      Maret  3217037.0     0.0\n",
       "3                TIJA Ancol      April  2704564.0     0.0\n",
       "4                TIJA Ancol        Mei  2450321.0     0.0\n",
       "..                      ...        ...        ...     ...\n",
       "163  Pelabuhan Sunda Kelapa    Agustus     6211.0    82.0\n",
       "164  Pelabuhan Sunda Kelapa  September     4579.0    46.0\n",
       "165  Pelabuhan Sunda Kelapa    Oktober     5059.0    59.0\n",
       "166  Pelabuhan Sunda Kelapa   Nopember     3289.0    38.0\n",
       "167  Pelabuhan Sunda Kelapa   Desember     5862.0   150.0\n",
       "\n",
       "[168 rows x 4 columns]"
      ]
     },
     "execution_count": 34,
     "metadata": {},
     "output_type": "execute_result"
    }
   ],
   "source": [
    "df"
   ]
  },
  {
   "cell_type": "markdown",
   "metadata": {
    "colab_type": "text",
    "id": "_IFNZTWnKFdI"
   },
   "source": [
    "Dalam sebuah *file* CSV, masing-masing *field* tidak harus dipisahkan oleh tanda `,` (koma), melainkan bisa dengan pemisah-pemisah seperti:\n",
    "- `;` (titik koma)\n",
    "- `\\t` (*tab*)\n",
    "- `|` (*pipe*)\n"
   ]
  },
  {
   "cell_type": "code",
   "execution_count": 29,
   "metadata": {
    "colab": {},
    "colab_type": "code",
    "id": "CVqBoR66QMvi",
    "scrolled": true
   },
   "outputs": [],
   "source": [
    "df = pd.read_csv(\"data/Kunjungan-Daya-Tarik-Wisata-DKI-Jakarta-Januari-s-d-Desember-2014.csv\", sep=\";\")"
   ]
  },
  {
   "cell_type": "markdown",
   "metadata": {
    "colab_type": "text",
    "id": "l3PYYWp5QVEg"
   },
   "source": [
    "Apabila kita ingin melihat data yang telah kita *load*, namun kita tidak perlu melihat semua datanya, kita dapat menggunakan `head()` yang akan memunculkan lima baris pertama:"
   ]
  },
  {
   "cell_type": "code",
   "execution_count": 35,
   "metadata": {
    "colab": {
     "base_uri": "https://localhost:8080/",
     "height": 293
    },
    "colab_type": "code",
    "id": "Tw2zZuzIQRte",
    "outputId": "2046dce0-707f-48f6-d38c-d5fa07318f28"
   },
   "outputs": [
    {
     "data": {
      "text/html": [
       "<div>\n",
       "<style scoped>\n",
       "    .dataframe tbody tr th:only-of-type {\n",
       "        vertical-align: middle;\n",
       "    }\n",
       "\n",
       "    .dataframe tbody tr th {\n",
       "        vertical-align: top;\n",
       "    }\n",
       "\n",
       "    .dataframe thead th {\n",
       "        text-align: right;\n",
       "    }\n",
       "</style>\n",
       "<table border=\"1\" class=\"dataframe\">\n",
       "  <thead>\n",
       "    <tr style=\"text-align: right;\">\n",
       "      <th></th>\n",
       "      <th>nama_destinasi_wisata</th>\n",
       "      <th>bulan</th>\n",
       "      <th>wisnus</th>\n",
       "      <th>wisman</th>\n",
       "    </tr>\n",
       "  </thead>\n",
       "  <tbody>\n",
       "    <tr>\n",
       "      <td>0</td>\n",
       "      <td>TIJA Ancol</td>\n",
       "      <td>Januari</td>\n",
       "      <td>2320962.0</td>\n",
       "      <td>0.0</td>\n",
       "    </tr>\n",
       "    <tr>\n",
       "      <td>1</td>\n",
       "      <td>TIJA Ancol</td>\n",
       "      <td>Februari</td>\n",
       "      <td>1623862.0</td>\n",
       "      <td>0.0</td>\n",
       "    </tr>\n",
       "    <tr>\n",
       "      <td>2</td>\n",
       "      <td>TIJA Ancol</td>\n",
       "      <td>Maret</td>\n",
       "      <td>3217037.0</td>\n",
       "      <td>0.0</td>\n",
       "    </tr>\n",
       "    <tr>\n",
       "      <td>3</td>\n",
       "      <td>TIJA Ancol</td>\n",
       "      <td>April</td>\n",
       "      <td>2704564.0</td>\n",
       "      <td>0.0</td>\n",
       "    </tr>\n",
       "    <tr>\n",
       "      <td>4</td>\n",
       "      <td>TIJA Ancol</td>\n",
       "      <td>Mei</td>\n",
       "      <td>2450321.0</td>\n",
       "      <td>0.0</td>\n",
       "    </tr>\n",
       "  </tbody>\n",
       "</table>\n",
       "</div>"
      ],
      "text/plain": [
       "  nama_destinasi_wisata     bulan     wisnus  wisman\n",
       "0            TIJA Ancol   Januari  2320962.0     0.0\n",
       "1            TIJA Ancol  Februari  1623862.0     0.0\n",
       "2            TIJA Ancol     Maret  3217037.0     0.0\n",
       "3            TIJA Ancol     April  2704564.0     0.0\n",
       "4            TIJA Ancol       Mei  2450321.0     0.0"
      ]
     },
     "execution_count": 35,
     "metadata": {},
     "output_type": "execute_result"
    }
   ],
   "source": [
    "df.head()"
   ]
  },
  {
   "cell_type": "markdown",
   "metadata": {},
   "source": [
    "Apabila kita butuh untuk melihat lebih dari lima baris, atau bahkan kurang dari lima baris, kita dapat memasukkan angka jumlah baris yang ingin kita lihat:"
   ]
  },
  {
   "cell_type": "code",
   "execution_count": 36,
   "metadata": {
    "colab": {
     "base_uri": "https://localhost:8080/",
     "height": 537
    },
    "colab_type": "code",
    "id": "Arh7hWhUQf7X",
    "outputId": "7ac65541-12a8-4caf-fcc9-80d46675ba74"
   },
   "outputs": [
    {
     "data": {
      "text/html": [
       "<div>\n",
       "<style scoped>\n",
       "    .dataframe tbody tr th:only-of-type {\n",
       "        vertical-align: middle;\n",
       "    }\n",
       "\n",
       "    .dataframe tbody tr th {\n",
       "        vertical-align: top;\n",
       "    }\n",
       "\n",
       "    .dataframe thead th {\n",
       "        text-align: right;\n",
       "    }\n",
       "</style>\n",
       "<table border=\"1\" class=\"dataframe\">\n",
       "  <thead>\n",
       "    <tr style=\"text-align: right;\">\n",
       "      <th></th>\n",
       "      <th>nama_destinasi_wisata</th>\n",
       "      <th>bulan</th>\n",
       "      <th>wisnus</th>\n",
       "      <th>wisman</th>\n",
       "    </tr>\n",
       "  </thead>\n",
       "  <tbody>\n",
       "    <tr>\n",
       "      <td>0</td>\n",
       "      <td>TIJA Ancol</td>\n",
       "      <td>Januari</td>\n",
       "      <td>2320962.0</td>\n",
       "      <td>0.0</td>\n",
       "    </tr>\n",
       "    <tr>\n",
       "      <td>1</td>\n",
       "      <td>TIJA Ancol</td>\n",
       "      <td>Februari</td>\n",
       "      <td>1623862.0</td>\n",
       "      <td>0.0</td>\n",
       "    </tr>\n",
       "    <tr>\n",
       "      <td>2</td>\n",
       "      <td>TIJA Ancol</td>\n",
       "      <td>Maret</td>\n",
       "      <td>3217037.0</td>\n",
       "      <td>0.0</td>\n",
       "    </tr>\n",
       "    <tr>\n",
       "      <td>3</td>\n",
       "      <td>TIJA Ancol</td>\n",
       "      <td>April</td>\n",
       "      <td>2704564.0</td>\n",
       "      <td>0.0</td>\n",
       "    </tr>\n",
       "    <tr>\n",
       "      <td>4</td>\n",
       "      <td>TIJA Ancol</td>\n",
       "      <td>Mei</td>\n",
       "      <td>2450321.0</td>\n",
       "      <td>0.0</td>\n",
       "    </tr>\n",
       "    <tr>\n",
       "      <td>5</td>\n",
       "      <td>TIJA Ancol</td>\n",
       "      <td>Juni</td>\n",
       "      <td>2602906.0</td>\n",
       "      <td>0.0</td>\n",
       "    </tr>\n",
       "    <tr>\n",
       "      <td>6</td>\n",
       "      <td>TIJA Ancol</td>\n",
       "      <td>Juli</td>\n",
       "      <td>2228686.0</td>\n",
       "      <td>0.0</td>\n",
       "    </tr>\n",
       "    <tr>\n",
       "      <td>7</td>\n",
       "      <td>TIJA Ancol</td>\n",
       "      <td>Agustus</td>\n",
       "      <td>2327176.0</td>\n",
       "      <td>0.0</td>\n",
       "    </tr>\n",
       "    <tr>\n",
       "      <td>8</td>\n",
       "      <td>TIJA Ancol</td>\n",
       "      <td>September</td>\n",
       "      <td>1776705.0</td>\n",
       "      <td>0.0</td>\n",
       "    </tr>\n",
       "    <tr>\n",
       "      <td>9</td>\n",
       "      <td>TIJA Ancol</td>\n",
       "      <td>Oktober</td>\n",
       "      <td>2394318.0</td>\n",
       "      <td>0.0</td>\n",
       "    </tr>\n",
       "  </tbody>\n",
       "</table>\n",
       "</div>"
      ],
      "text/plain": [
       "  nama_destinasi_wisata      bulan     wisnus  wisman\n",
       "0            TIJA Ancol    Januari  2320962.0     0.0\n",
       "1            TIJA Ancol   Februari  1623862.0     0.0\n",
       "2            TIJA Ancol      Maret  3217037.0     0.0\n",
       "3            TIJA Ancol      April  2704564.0     0.0\n",
       "4            TIJA Ancol        Mei  2450321.0     0.0\n",
       "5            TIJA Ancol       Juni  2602906.0     0.0\n",
       "6            TIJA Ancol       Juli  2228686.0     0.0\n",
       "7            TIJA Ancol    Agustus  2327176.0     0.0\n",
       "8            TIJA Ancol  September  1776705.0     0.0\n",
       "9            TIJA Ancol    Oktober  2394318.0     0.0"
      ]
     },
     "execution_count": 36,
     "metadata": {},
     "output_type": "execute_result"
    }
   ],
   "source": [
    "df.head(10)"
   ]
  },
  {
   "cell_type": "markdown",
   "metadata": {},
   "source": [
    "Kita juga dapat menggunakan `tail()` apabila ingin melihat baris-baris yang ada di urutan bawah."
   ]
  },
  {
   "cell_type": "code",
   "execution_count": 37,
   "metadata": {
    "colab": {
     "base_uri": "https://localhost:8080/",
     "height": 293
    },
    "colab_type": "code",
    "id": "2WQ4n8bmQTC_",
    "outputId": "716e664e-a1d6-4819-9d0a-6e59dc55ea71"
   },
   "outputs": [
    {
     "data": {
      "text/html": [
       "<div>\n",
       "<style scoped>\n",
       "    .dataframe tbody tr th:only-of-type {\n",
       "        vertical-align: middle;\n",
       "    }\n",
       "\n",
       "    .dataframe tbody tr th {\n",
       "        vertical-align: top;\n",
       "    }\n",
       "\n",
       "    .dataframe thead th {\n",
       "        text-align: right;\n",
       "    }\n",
       "</style>\n",
       "<table border=\"1\" class=\"dataframe\">\n",
       "  <thead>\n",
       "    <tr style=\"text-align: right;\">\n",
       "      <th></th>\n",
       "      <th>nama_destinasi_wisata</th>\n",
       "      <th>bulan</th>\n",
       "      <th>wisnus</th>\n",
       "      <th>wisman</th>\n",
       "    </tr>\n",
       "  </thead>\n",
       "  <tbody>\n",
       "    <tr>\n",
       "      <td>163</td>\n",
       "      <td>Pelabuhan Sunda Kelapa</td>\n",
       "      <td>Agustus</td>\n",
       "      <td>6211.0</td>\n",
       "      <td>82.0</td>\n",
       "    </tr>\n",
       "    <tr>\n",
       "      <td>164</td>\n",
       "      <td>Pelabuhan Sunda Kelapa</td>\n",
       "      <td>September</td>\n",
       "      <td>4579.0</td>\n",
       "      <td>46.0</td>\n",
       "    </tr>\n",
       "    <tr>\n",
       "      <td>165</td>\n",
       "      <td>Pelabuhan Sunda Kelapa</td>\n",
       "      <td>Oktober</td>\n",
       "      <td>5059.0</td>\n",
       "      <td>59.0</td>\n",
       "    </tr>\n",
       "    <tr>\n",
       "      <td>166</td>\n",
       "      <td>Pelabuhan Sunda Kelapa</td>\n",
       "      <td>Nopember</td>\n",
       "      <td>3289.0</td>\n",
       "      <td>38.0</td>\n",
       "    </tr>\n",
       "    <tr>\n",
       "      <td>167</td>\n",
       "      <td>Pelabuhan Sunda Kelapa</td>\n",
       "      <td>Desember</td>\n",
       "      <td>5862.0</td>\n",
       "      <td>150.0</td>\n",
       "    </tr>\n",
       "  </tbody>\n",
       "</table>\n",
       "</div>"
      ],
      "text/plain": [
       "      nama_destinasi_wisata      bulan  wisnus  wisman\n",
       "163  Pelabuhan Sunda Kelapa    Agustus  6211.0    82.0\n",
       "164  Pelabuhan Sunda Kelapa  September  4579.0    46.0\n",
       "165  Pelabuhan Sunda Kelapa    Oktober  5059.0    59.0\n",
       "166  Pelabuhan Sunda Kelapa   Nopember  3289.0    38.0\n",
       "167  Pelabuhan Sunda Kelapa   Desember  5862.0   150.0"
      ]
     },
     "execution_count": 37,
     "metadata": {},
     "output_type": "execute_result"
    }
   ],
   "source": [
    "df.tail()"
   ]
  },
  {
   "cell_type": "markdown",
   "metadata": {
    "colab_type": "text",
    "id": "GZv3aG7nQm_-"
   },
   "source": [
    "Struktur data di pandas secara garis besar diimplementasikan sebagai salah satu dari dua kelas berikut:\n",
    "- `DataFrame`: bisa dianggap sebagai sebuah tabel data relasional dengan baris-baris (*rows*) dan kolom-kolom (*columns*)\n",
    "- `Series`: sebuah kolom. Sebuah DataFrame memiliki satu atau lebih `Series`.\n",
    "\n",
    "![Series vs DataFrame](https://storage.googleapis.com/lds-media/images/series-and-dataframe.width-1200.png)\n",
    "[*Source*](https://www.learndatasci.com/tutorials/python-pandas-tutorial-complete-introduction-for-beginners/)"
   ]
  },
  {
   "cell_type": "markdown",
   "metadata": {},
   "source": [
    "Dengan menggunakan `type()`, fungsi dari Python yang dapat digunakan untuk mengecek tipe dari sebuah variabel, kita dapat melihat bahwa tipe dari variabel `df` adalah DataFrame."
   ]
  },
  {
   "cell_type": "code",
   "execution_count": 38,
   "metadata": {
    "colab": {
     "base_uri": "https://localhost:8080/",
     "height": 34
    },
    "colab_type": "code",
    "id": "r0bcu-GXVf15",
    "outputId": "342dfc66-15ef-4913-c558-af9e7d557b9e"
   },
   "outputs": [
    {
     "data": {
      "text/plain": [
       "pandas.core.frame.DataFrame"
      ]
     },
     "execution_count": 38,
     "metadata": {},
     "output_type": "execute_result"
    }
   ],
   "source": [
    "type(df)"
   ]
  },
  {
   "cell_type": "markdown",
   "metadata": {
    "colab_type": "text",
    "id": "W_hZQoOYWUY_"
   },
   "source": [
    "# Mengakses data"
   ]
  },
  {
   "cell_type": "markdown",
   "metadata": {
    "colab_type": "text",
    "id": "mp4NRT2WFt-b"
   },
   "source": [
    "## Mengakses kolom"
   ]
  },
  {
   "cell_type": "code",
   "execution_count": 39,
   "metadata": {
    "colab": {
     "base_uri": "https://localhost:8080/",
     "height": 1000
    },
    "colab_type": "code",
    "id": "K55XEVoRV7ct",
    "outputId": "9c91df8b-cee3-44f5-9294-e08d9d599c3a"
   },
   "outputs": [
    {
     "data": {
      "text/plain": [
       "0                  TIJA Ancol\n",
       "1                  TIJA Ancol\n",
       "2                  TIJA Ancol\n",
       "3                  TIJA Ancol\n",
       "4                  TIJA Ancol\n",
       "                ...          \n",
       "163    Pelabuhan Sunda Kelapa\n",
       "164    Pelabuhan Sunda Kelapa\n",
       "165    Pelabuhan Sunda Kelapa\n",
       "166    Pelabuhan Sunda Kelapa\n",
       "167    Pelabuhan Sunda Kelapa\n",
       "Name: nama_destinasi_wisata, Length: 168, dtype: object"
      ]
     },
     "execution_count": 39,
     "metadata": {},
     "output_type": "execute_result"
    }
   ],
   "source": [
    "df[\"nama_destinasi_wisata\"]"
   ]
  },
  {
   "cell_type": "markdown",
   "metadata": {},
   "source": [
    "Dengan menggunakan `type()`, kita dapat melihat bahwa tipe dari kolom `df[\"wilayah\"]` adalah Series."
   ]
  },
  {
   "cell_type": "code",
   "execution_count": 40,
   "metadata": {
    "colab": {
     "base_uri": "https://localhost:8080/",
     "height": 34
    },
    "colab_type": "code",
    "id": "sdogupPNViWp",
    "outputId": "700878aa-6134-4a55-e4bc-747df20604f0"
   },
   "outputs": [
    {
     "data": {
      "text/plain": [
       "pandas.core.series.Series"
      ]
     },
     "execution_count": 40,
     "metadata": {},
     "output_type": "execute_result"
    }
   ],
   "source": [
    "type(df[\"nama_destinasi_wisata\"])"
   ]
  },
  {
   "cell_type": "markdown",
   "metadata": {},
   "source": [
    "Melihat nilai-nilai unik dari kolom **wilayah**:"
   ]
  },
  {
   "cell_type": "code",
   "execution_count": 41,
   "metadata": {
    "colab": {
     "base_uri": "https://localhost:8080/",
     "height": 191
    },
    "colab_type": "code",
    "id": "8lNmzpRhb5Nt",
    "outputId": "007944eb-9937-43d9-8953-22cc374c65e0"
   },
   "outputs": [
    {
     "data": {
      "text/plain": [
       "array(['TIJA Ancol', 'Taman Mini Indonesia Indah',\n",
       "       'Taman Marga Satwa Ragunan', 'Monumen Nasional', 'Museum Nasional',\n",
       "       'Museum Satria Mandala', 'Museum Sejarah Jakarta',\n",
       "       'Museum Tekstil', 'Museum Bahari', 'Museum Seni Rupa dan Keramik',\n",
       "       'Museum Wayang', \"Museum Joang '45\",\n",
       "       'Taman Arkeologi Pulau Onrust', 'Pelabuhan Sunda Kelapa'],\n",
       "      dtype=object)"
      ]
     },
     "execution_count": 41,
     "metadata": {},
     "output_type": "execute_result"
    }
   ],
   "source": [
    "df[\"nama_destinasi_wisata\"].unique()"
   ]
  },
  {
   "cell_type": "markdown",
   "metadata": {
    "colab_type": "text",
    "id": "VX3PydH7R-Uf"
   },
   "source": [
    "Apabila kita ingin mengecek kolom apa saja yang ada di DataFrame kita:"
   ]
  },
  {
   "cell_type": "code",
   "execution_count": 42,
   "metadata": {
    "colab": {
     "base_uri": "https://localhost:8080/",
     "height": 54
    },
    "colab_type": "code",
    "id": "dPpgDG-4Vn5L",
    "outputId": "0a8acb02-ffa0-43d8-8db4-6905d7a5a195"
   },
   "outputs": [
    {
     "data": {
      "text/plain": [
       "Index(['nama_destinasi_wisata', 'bulan', 'wisnus', 'wisman'], dtype='object')"
      ]
     },
     "execution_count": 42,
     "metadata": {},
     "output_type": "execute_result"
    }
   ],
   "source": [
    "df.columns"
   ]
  },
  {
   "cell_type": "markdown",
   "metadata": {
    "colab_type": "text",
    "id": "CcisytDQWZF6"
   },
   "source": [
    "## Mengakses baris"
   ]
  },
  {
   "cell_type": "markdown",
   "metadata": {
    "colab_type": "text",
    "id": "fPwuxuMQmtzB"
   },
   "source": [
    "- `iloc` - *input* berupa posisi (hanya menerima integer)\n",
    "- `loc` -  *input* berupa label (tidak harus integer, bisa saja string apabila label-nya merupakan sebuah string)\n",
    "- `ix` - *deprecated*"
   ]
  },
  {
   "cell_type": "markdown",
   "metadata": {
    "colab_type": "text",
    "id": "N7Pjr5ZVnrfx"
   },
   "source": [
    "### iloc"
   ]
  },
  {
   "cell_type": "markdown",
   "metadata": {},
   "source": [
    "Untuk mendemonstrasikan perbedaan antara `loc` dan `iloc`, kita akan membuat satu DataFrame baru di variabel `df_shuffled` yang merupakan DataFrame `df` yang urutannya diacak:"
   ]
  },
  {
   "cell_type": "code",
   "execution_count": 51,
   "metadata": {
    "colab": {},
    "colab_type": "code",
    "id": "ENLwsKqMoBya"
   },
   "outputs": [],
   "source": [
    "import numpy as np\n",
    "\n",
    "df_shuffled = df.reindex(np.random.permutation(df.index))"
   ]
  },
  {
   "cell_type": "code",
   "execution_count": 52,
   "metadata": {
    "colab": {
     "base_uri": "https://localhost:8080/",
     "height": 196
    },
    "colab_type": "code",
    "id": "LzveoxsvnuGZ",
    "outputId": "ab235cbd-c097-4774-da18-33272fb76b61"
   },
   "outputs": [
    {
     "data": {
      "text/html": [
       "<div>\n",
       "<style scoped>\n",
       "    .dataframe tbody tr th:only-of-type {\n",
       "        vertical-align: middle;\n",
       "    }\n",
       "\n",
       "    .dataframe tbody tr th {\n",
       "        vertical-align: top;\n",
       "    }\n",
       "\n",
       "    .dataframe thead th {\n",
       "        text-align: right;\n",
       "    }\n",
       "</style>\n",
       "<table border=\"1\" class=\"dataframe\">\n",
       "  <thead>\n",
       "    <tr style=\"text-align: right;\">\n",
       "      <th></th>\n",
       "      <th>nama_destinasi_wisata</th>\n",
       "      <th>bulan</th>\n",
       "      <th>wisnus</th>\n",
       "      <th>wisman</th>\n",
       "    </tr>\n",
       "  </thead>\n",
       "  <tbody>\n",
       "    <tr>\n",
       "      <td>0</td>\n",
       "      <td>TIJA Ancol</td>\n",
       "      <td>Januari</td>\n",
       "      <td>2320962.0</td>\n",
       "      <td>0.0</td>\n",
       "    </tr>\n",
       "    <tr>\n",
       "      <td>1</td>\n",
       "      <td>TIJA Ancol</td>\n",
       "      <td>Februari</td>\n",
       "      <td>1623862.0</td>\n",
       "      <td>0.0</td>\n",
       "    </tr>\n",
       "    <tr>\n",
       "      <td>2</td>\n",
       "      <td>TIJA Ancol</td>\n",
       "      <td>Maret</td>\n",
       "      <td>3217037.0</td>\n",
       "      <td>0.0</td>\n",
       "    </tr>\n",
       "  </tbody>\n",
       "</table>\n",
       "</div>"
      ],
      "text/plain": [
       "  nama_destinasi_wisata     bulan     wisnus  wisman\n",
       "0            TIJA Ancol   Januari  2320962.0     0.0\n",
       "1            TIJA Ancol  Februari  1623862.0     0.0\n",
       "2            TIJA Ancol     Maret  3217037.0     0.0"
      ]
     },
     "execution_count": 52,
     "metadata": {},
     "output_type": "execute_result"
    }
   ],
   "source": [
    "df.head(3)"
   ]
  },
  {
   "cell_type": "code",
   "execution_count": 55,
   "metadata": {
    "colab": {
     "base_uri": "https://localhost:8080/",
     "height": 196
    },
    "colab_type": "code",
    "id": "47_DO6jsoFRD",
    "outputId": "e6748541-9841-48c2-884b-73ef079ab103"
   },
   "outputs": [
    {
     "data": {
      "text/html": [
       "<div>\n",
       "<style scoped>\n",
       "    .dataframe tbody tr th:only-of-type {\n",
       "        vertical-align: middle;\n",
       "    }\n",
       "\n",
       "    .dataframe tbody tr th {\n",
       "        vertical-align: top;\n",
       "    }\n",
       "\n",
       "    .dataframe thead th {\n",
       "        text-align: right;\n",
       "    }\n",
       "</style>\n",
       "<table border=\"1\" class=\"dataframe\">\n",
       "  <thead>\n",
       "    <tr style=\"text-align: right;\">\n",
       "      <th></th>\n",
       "      <th>nama_destinasi_wisata</th>\n",
       "      <th>bulan</th>\n",
       "      <th>wisnus</th>\n",
       "      <th>wisman</th>\n",
       "    </tr>\n",
       "  </thead>\n",
       "  <tbody>\n",
       "    <tr>\n",
       "      <td>153</td>\n",
       "      <td>Taman Arkeologi Pulau Onrust</td>\n",
       "      <td>Oktober</td>\n",
       "      <td>2554.0</td>\n",
       "      <td>14.0</td>\n",
       "    </tr>\n",
       "    <tr>\n",
       "      <td>120</td>\n",
       "      <td>Museum Wayang</td>\n",
       "      <td>Januari</td>\n",
       "      <td>23332.0</td>\n",
       "      <td>3193.0</td>\n",
       "    </tr>\n",
       "    <tr>\n",
       "      <td>55</td>\n",
       "      <td>Museum Nasional</td>\n",
       "      <td>Agustus</td>\n",
       "      <td>15367.0</td>\n",
       "      <td>0.0</td>\n",
       "    </tr>\n",
       "  </tbody>\n",
       "</table>\n",
       "</div>"
      ],
      "text/plain": [
       "            nama_destinasi_wisata    bulan   wisnus  wisman\n",
       "153  Taman Arkeologi Pulau Onrust  Oktober   2554.0    14.0\n",
       "120                 Museum Wayang  Januari  23332.0  3193.0\n",
       "55                Museum Nasional  Agustus  15367.0     0.0"
      ]
     },
     "execution_count": 55,
     "metadata": {},
     "output_type": "execute_result"
    }
   ],
   "source": [
    "df_shuffled.head(3)"
   ]
  },
  {
   "cell_type": "markdown",
   "metadata": {},
   "source": [
    "Dengan kode di bawah ini, kita akan mengambil data baris pertama dari DataFrame `df_shuffled`:"
   ]
  },
  {
   "cell_type": "code",
   "execution_count": 56,
   "metadata": {
    "colab": {
     "base_uri": "https://localhost:8080/",
     "height": 139
    },
    "colab_type": "code",
    "id": "o-5LGoeO6tBH",
    "outputId": "cbe15c37-b3ef-4ce4-d569-a3a09750bb18"
   },
   "outputs": [
    {
     "data": {
      "text/plain": [
       "nama_destinasi_wisata    Taman Arkeologi Pulau Onrust\n",
       "bulan                                         Oktober\n",
       "wisnus                                           2554\n",
       "wisman                                             14\n",
       "Name: 153, dtype: object"
      ]
     },
     "execution_count": 56,
     "metadata": {},
     "output_type": "execute_result"
    }
   ],
   "source": [
    "df_shuffled.iloc[0]"
   ]
  },
  {
   "cell_type": "markdown",
   "metadata": {},
   "source": [
    "⚠️ Python menghitung dari 0, sehingga apabila kita ingin mengambil data di baris pertama, maka posisinya adalah posisi ke-0."
   ]
  },
  {
   "cell_type": "markdown",
   "metadata": {},
   "source": [
    "Meskipun indeks-nya adalah 153, namun data tersebut tetap terambil karena **posisi**-nya ada di baris pertama DataFrame. Apabila kita mencoba untuk mengambil data di baris ke-153 (posisi ke-152), yang muncul adalah baris di posisi tersebut, bukan baris dengan indeks 153."
   ]
  },
  {
   "cell_type": "code",
   "execution_count": 57,
   "metadata": {
    "colab": {
     "base_uri": "https://localhost:8080/",
     "height": 139
    },
    "colab_type": "code",
    "id": "Ma9B4_DAoIyD",
    "outputId": "ed4a87cd-f464-42f0-e5e0-676fc0c777ce"
   },
   "outputs": [
    {
     "data": {
      "text/plain": [
       "nama_destinasi_wisata    Pelabuhan Sunda Kelapa\n",
       "bulan                                  Desember\n",
       "wisnus                                     5862\n",
       "wisman                                      150\n",
       "Name: 167, dtype: object"
      ]
     },
     "execution_count": 57,
     "metadata": {},
     "output_type": "execute_result"
    }
   ],
   "source": [
    "df_shuffled.iloc[152]"
   ]
  },
  {
   "cell_type": "markdown",
   "metadata": {},
   "source": [
    "Pada contoh di atas, baris yang muncul adalah baris dengan indeks 167. Ternyata, setelah diacak, baris dengan indeks 167 menempati baris ke-153."
   ]
  },
  {
   "cell_type": "markdown",
   "metadata": {
    "colab_type": "text",
    "id": "qHsNs_Al62rE"
   },
   "source": [
    "### loc"
   ]
  },
  {
   "cell_type": "markdown",
   "metadata": {},
   "source": [
    "`loc` mengambil baris berdasarkan indeks."
   ]
  },
  {
   "cell_type": "code",
   "execution_count": 60,
   "metadata": {
    "colab": {
     "base_uri": "https://localhost:8080/",
     "height": 196
    },
    "colab_type": "code",
    "id": "2e1wefTo63to",
    "outputId": "27bc2c5a-1079-46f5-cdce-4741f49c17dd"
   },
   "outputs": [
    {
     "data": {
      "text/html": [
       "<div>\n",
       "<style scoped>\n",
       "    .dataframe tbody tr th:only-of-type {\n",
       "        vertical-align: middle;\n",
       "    }\n",
       "\n",
       "    .dataframe tbody tr th {\n",
       "        vertical-align: top;\n",
       "    }\n",
       "\n",
       "    .dataframe thead th {\n",
       "        text-align: right;\n",
       "    }\n",
       "</style>\n",
       "<table border=\"1\" class=\"dataframe\">\n",
       "  <thead>\n",
       "    <tr style=\"text-align: right;\">\n",
       "      <th></th>\n",
       "      <th>nama_destinasi_wisata</th>\n",
       "      <th>bulan</th>\n",
       "      <th>wisnus</th>\n",
       "      <th>wisman</th>\n",
       "    </tr>\n",
       "  </thead>\n",
       "  <tbody>\n",
       "    <tr>\n",
       "      <td>153</td>\n",
       "      <td>Taman Arkeologi Pulau Onrust</td>\n",
       "      <td>Oktober</td>\n",
       "      <td>2554.0</td>\n",
       "      <td>14.0</td>\n",
       "    </tr>\n",
       "    <tr>\n",
       "      <td>120</td>\n",
       "      <td>Museum Wayang</td>\n",
       "      <td>Januari</td>\n",
       "      <td>23332.0</td>\n",
       "      <td>3193.0</td>\n",
       "    </tr>\n",
       "    <tr>\n",
       "      <td>55</td>\n",
       "      <td>Museum Nasional</td>\n",
       "      <td>Agustus</td>\n",
       "      <td>15367.0</td>\n",
       "      <td>0.0</td>\n",
       "    </tr>\n",
       "  </tbody>\n",
       "</table>\n",
       "</div>"
      ],
      "text/plain": [
       "            nama_destinasi_wisata    bulan   wisnus  wisman\n",
       "153  Taman Arkeologi Pulau Onrust  Oktober   2554.0    14.0\n",
       "120                 Museum Wayang  Januari  23332.0  3193.0\n",
       "55                Museum Nasional  Agustus  15367.0     0.0"
      ]
     },
     "execution_count": 60,
     "metadata": {},
     "output_type": "execute_result"
    }
   ],
   "source": [
    "df_shuffled.head(3)"
   ]
  },
  {
   "cell_type": "code",
   "execution_count": 61,
   "metadata": {
    "colab": {
     "base_uri": "https://localhost:8080/",
     "height": 139
    },
    "colab_type": "code",
    "id": "CJOpk8ew6-Lq",
    "outputId": "0864da34-9490-44f4-a5ab-ce08b31d119b"
   },
   "outputs": [
    {
     "data": {
      "text/plain": [
       "nama_destinasi_wisata     TIJA Ancol\n",
       "bulan                        Januari\n",
       "wisnus                   2.32096e+06\n",
       "wisman                             0\n",
       "Name: 0, dtype: object"
      ]
     },
     "execution_count": 61,
     "metadata": {},
     "output_type": "execute_result"
    }
   ],
   "source": [
    "df_shuffled.loc[0]"
   ]
  },
  {
   "cell_type": "markdown",
   "metadata": {},
   "source": [
    "Pada contoh di atas, kita tidak mendapatkan data di baris ke-0, melainkan baris dengan indeks 0.\n",
    "\n",
    "Apabila kita ingin mendapatkan baris dengan indeks 95:"
   ]
  },
  {
   "cell_type": "code",
   "execution_count": 62,
   "metadata": {
    "colab": {
     "base_uri": "https://localhost:8080/",
     "height": 139
    },
    "colab_type": "code",
    "id": "DqUSVghv66Lw",
    "outputId": "791a6c00-f8f4-4e88-c1de-70b6686cb356"
   },
   "outputs": [
    {
     "data": {
      "text/plain": [
       "nama_destinasi_wisata    Museum Tekstil\n",
       "bulan                          Desember\n",
       "wisnus                            12404\n",
       "wisman                                0\n",
       "Name: 95, dtype: object"
      ]
     },
     "execution_count": 62,
     "metadata": {},
     "output_type": "execute_result"
    }
   ],
   "source": [
    "df_shuffled.loc[95]"
   ]
  },
  {
   "cell_type": "markdown",
   "metadata": {},
   "source": [
    "⚠️ Indeks bukan merupakan posisi. Baris dengan indeks 95 akan benar-benar memiliki indeks 95, sehingga tidak perlu dikurangi lagi. Apabila kita coba kode berikut:"
   ]
  },
  {
   "cell_type": "code",
   "execution_count": 63,
   "metadata": {},
   "outputs": [
    {
     "data": {
      "text/plain": [
       "nama_destinasi_wisata    Museum Tekstil\n",
       "bulan                          Nopember\n",
       "wisnus                             6974\n",
       "wisman                               72\n",
       "Name: 94, dtype: object"
      ]
     },
     "execution_count": 63,
     "metadata": {},
     "output_type": "execute_result"
    }
   ],
   "source": [
    "df_shuffled.loc[94]"
   ]
  },
  {
   "cell_type": "markdown",
   "metadata": {},
   "source": [
    "Kita akan mendapatkan baris dengan indeks 94."
   ]
  },
  {
   "cell_type": "markdown",
   "metadata": {
    "colab_type": "text",
    "id": "IkM3FLZ2YDQv"
   },
   "source": [
    "### Latihan\n",
    "Bagaimana cara agar kita bisa mendapatkan data di kolom \"wisnus\" yang ada di baris kelima dari dataframe `df` (yang belum di-*shuffle*)?"
   ]
  },
  {
   "cell_type": "code",
   "execution_count": 65,
   "metadata": {
    "colab": {
     "base_uri": "https://localhost:8080/",
     "height": 293
    },
    "colab_type": "code",
    "id": "zyzk57Cipqke",
    "outputId": "a55c3d26-fe7e-4865-df7d-54401b23de3a"
   },
   "outputs": [
    {
     "data": {
      "text/html": [
       "<div>\n",
       "<style scoped>\n",
       "    .dataframe tbody tr th:only-of-type {\n",
       "        vertical-align: middle;\n",
       "    }\n",
       "\n",
       "    .dataframe tbody tr th {\n",
       "        vertical-align: top;\n",
       "    }\n",
       "\n",
       "    .dataframe thead th {\n",
       "        text-align: right;\n",
       "    }\n",
       "</style>\n",
       "<table border=\"1\" class=\"dataframe\">\n",
       "  <thead>\n",
       "    <tr style=\"text-align: right;\">\n",
       "      <th></th>\n",
       "      <th>nama_destinasi_wisata</th>\n",
       "      <th>bulan</th>\n",
       "      <th>wisnus</th>\n",
       "      <th>wisman</th>\n",
       "    </tr>\n",
       "  </thead>\n",
       "  <tbody>\n",
       "    <tr>\n",
       "      <td>0</td>\n",
       "      <td>TIJA Ancol</td>\n",
       "      <td>Januari</td>\n",
       "      <td>2320962.0</td>\n",
       "      <td>0.0</td>\n",
       "    </tr>\n",
       "    <tr>\n",
       "      <td>1</td>\n",
       "      <td>TIJA Ancol</td>\n",
       "      <td>Februari</td>\n",
       "      <td>1623862.0</td>\n",
       "      <td>0.0</td>\n",
       "    </tr>\n",
       "    <tr>\n",
       "      <td>2</td>\n",
       "      <td>TIJA Ancol</td>\n",
       "      <td>Maret</td>\n",
       "      <td>3217037.0</td>\n",
       "      <td>0.0</td>\n",
       "    </tr>\n",
       "    <tr>\n",
       "      <td>3</td>\n",
       "      <td>TIJA Ancol</td>\n",
       "      <td>April</td>\n",
       "      <td>2704564.0</td>\n",
       "      <td>0.0</td>\n",
       "    </tr>\n",
       "    <tr>\n",
       "      <td>4</td>\n",
       "      <td>TIJA Ancol</td>\n",
       "      <td>Mei</td>\n",
       "      <td>2450321.0</td>\n",
       "      <td>0.0</td>\n",
       "    </tr>\n",
       "  </tbody>\n",
       "</table>\n",
       "</div>"
      ],
      "text/plain": [
       "  nama_destinasi_wisata     bulan     wisnus  wisman\n",
       "0            TIJA Ancol   Januari  2320962.0     0.0\n",
       "1            TIJA Ancol  Februari  1623862.0     0.0\n",
       "2            TIJA Ancol     Maret  3217037.0     0.0\n",
       "3            TIJA Ancol     April  2704564.0     0.0\n",
       "4            TIJA Ancol       Mei  2450321.0     0.0"
      ]
     },
     "execution_count": 65,
     "metadata": {},
     "output_type": "execute_result"
    }
   ],
   "source": [
    "df.head()"
   ]
  },
  {
   "cell_type": "markdown",
   "metadata": {
    "colab_type": "text",
    "id": "CR7uujPZX_5n"
   },
   "source": [
    "#### Solusi"
   ]
  },
  {
   "cell_type": "markdown",
   "metadata": {
    "colab_type": "text",
    "id": "Fav_p847YWm3"
   },
   "source": [
    "Ingat bahwa di Python, indeks dimulai dari hitungan 0, jadi untuk mengambil baris kelima kita harus menggunakan indeks = 4."
   ]
  },
  {
   "cell_type": "code",
   "execution_count": 66,
   "metadata": {
    "colab": {
     "base_uri": "https://localhost:8080/",
     "height": 139
    },
    "colab_type": "code",
    "id": "EbJZ0dmQqSku",
    "outputId": "ec42f480-9825-4fc5-831f-19ecc154865f"
   },
   "outputs": [
    {
     "data": {
      "text/plain": [
       "nama_destinasi_wisata     TIJA Ancol\n",
       "bulan                            Mei\n",
       "wisnus                   2.45032e+06\n",
       "wisman                             0\n",
       "Name: 4, dtype: object"
      ]
     },
     "execution_count": 66,
     "metadata": {},
     "output_type": "execute_result"
    }
   ],
   "source": [
    "df.iloc[4]"
   ]
  },
  {
   "cell_type": "code",
   "execution_count": 67,
   "metadata": {
    "colab": {
     "base_uri": "https://localhost:8080/",
     "height": 34
    },
    "colab_type": "code",
    "id": "Nqqrks2dWs6g",
    "outputId": "68575285-8aab-4331-d950-0b48977e5c14"
   },
   "outputs": [
    {
     "data": {
      "text/plain": [
       "2450321.0"
      ]
     },
     "execution_count": 67,
     "metadata": {},
     "output_type": "execute_result"
    }
   ],
   "source": [
    "df[\"wisnus\"].iloc[4]"
   ]
  },
  {
   "cell_type": "markdown",
   "metadata": {
    "colab_type": "text",
    "id": "s0L4YrlAV-1j"
   },
   "source": [
    "## Mengakses sebagian data (range)"
   ]
  },
  {
   "cell_type": "code",
   "execution_count": 68,
   "metadata": {
    "colab": {},
    "colab_type": "code",
    "id": "ElrC8uz6qocL"
   },
   "outputs": [
    {
     "data": {
      "text/plain": [
       "['nama_destinasi_wisata', 'bulan', 'wisnus']"
      ]
     },
     "execution_count": 68,
     "metadata": {},
     "output_type": "execute_result"
    }
   ],
   "source": [
    "[\"nama_destinasi_wisata\", \"bulan\", \"wisnus\"]"
   ]
  },
  {
   "cell_type": "code",
   "execution_count": 69,
   "metadata": {
    "colab": {},
    "colab_type": "code",
    "id": "UzADZ26sWAV-"
   },
   "outputs": [],
   "source": [
    "subset_df = df[[\"nama_destinasi_wisata\", \"bulan\", \"wisnus\"]]"
   ]
  },
  {
   "cell_type": "code",
   "execution_count": 70,
   "metadata": {
    "colab": {
     "base_uri": "https://localhost:8080/",
     "height": 206
    },
    "colab_type": "code",
    "id": "e6NYtBMoWEvM",
    "outputId": "abc46861-329c-4cd3-d7a5-03a39dfbca6e"
   },
   "outputs": [
    {
     "data": {
      "text/html": [
       "<div>\n",
       "<style scoped>\n",
       "    .dataframe tbody tr th:only-of-type {\n",
       "        vertical-align: middle;\n",
       "    }\n",
       "\n",
       "    .dataframe tbody tr th {\n",
       "        vertical-align: top;\n",
       "    }\n",
       "\n",
       "    .dataframe thead th {\n",
       "        text-align: right;\n",
       "    }\n",
       "</style>\n",
       "<table border=\"1\" class=\"dataframe\">\n",
       "  <thead>\n",
       "    <tr style=\"text-align: right;\">\n",
       "      <th></th>\n",
       "      <th>nama_destinasi_wisata</th>\n",
       "      <th>bulan</th>\n",
       "      <th>wisnus</th>\n",
       "    </tr>\n",
       "  </thead>\n",
       "  <tbody>\n",
       "    <tr>\n",
       "      <td>0</td>\n",
       "      <td>TIJA Ancol</td>\n",
       "      <td>Januari</td>\n",
       "      <td>2320962.0</td>\n",
       "    </tr>\n",
       "    <tr>\n",
       "      <td>1</td>\n",
       "      <td>TIJA Ancol</td>\n",
       "      <td>Februari</td>\n",
       "      <td>1623862.0</td>\n",
       "    </tr>\n",
       "    <tr>\n",
       "      <td>2</td>\n",
       "      <td>TIJA Ancol</td>\n",
       "      <td>Maret</td>\n",
       "      <td>3217037.0</td>\n",
       "    </tr>\n",
       "    <tr>\n",
       "      <td>3</td>\n",
       "      <td>TIJA Ancol</td>\n",
       "      <td>April</td>\n",
       "      <td>2704564.0</td>\n",
       "    </tr>\n",
       "    <tr>\n",
       "      <td>4</td>\n",
       "      <td>TIJA Ancol</td>\n",
       "      <td>Mei</td>\n",
       "      <td>2450321.0</td>\n",
       "    </tr>\n",
       "  </tbody>\n",
       "</table>\n",
       "</div>"
      ],
      "text/plain": [
       "  nama_destinasi_wisata     bulan     wisnus\n",
       "0            TIJA Ancol   Januari  2320962.0\n",
       "1            TIJA Ancol  Februari  1623862.0\n",
       "2            TIJA Ancol     Maret  3217037.0\n",
       "3            TIJA Ancol     April  2704564.0\n",
       "4            TIJA Ancol       Mei  2450321.0"
      ]
     },
     "execution_count": 70,
     "metadata": {},
     "output_type": "execute_result"
    }
   ],
   "source": [
    "subset_df.head()"
   ]
  },
  {
   "cell_type": "code",
   "execution_count": 98,
   "metadata": {
    "colab": {},
    "colab_type": "code",
    "id": "AZndW9ITWFxZ"
   },
   "outputs": [],
   "source": [
    "selected_columns = [\"nama_destinasi_wisata\", \"bulan\", \"wisman\"]"
   ]
  },
  {
   "cell_type": "code",
   "execution_count": 99,
   "metadata": {
    "colab": {},
    "colab_type": "code",
    "id": "DM11rMPUWH7N"
   },
   "outputs": [],
   "source": [
    "subset_df_2 = df[selected_columns]"
   ]
  },
  {
   "cell_type": "code",
   "execution_count": 100,
   "metadata": {
    "colab": {
     "base_uri": "https://localhost:8080/",
     "height": 206
    },
    "colab_type": "code",
    "id": "eCY1LOGkWJMq",
    "outputId": "9e1dd3ad-4ec6-49c8-9f51-2db8b1a55095"
   },
   "outputs": [
    {
     "data": {
      "text/html": [
       "<div>\n",
       "<style scoped>\n",
       "    .dataframe tbody tr th:only-of-type {\n",
       "        vertical-align: middle;\n",
       "    }\n",
       "\n",
       "    .dataframe tbody tr th {\n",
       "        vertical-align: top;\n",
       "    }\n",
       "\n",
       "    .dataframe thead th {\n",
       "        text-align: right;\n",
       "    }\n",
       "</style>\n",
       "<table border=\"1\" class=\"dataframe\">\n",
       "  <thead>\n",
       "    <tr style=\"text-align: right;\">\n",
       "      <th></th>\n",
       "      <th>nama_destinasi_wisata</th>\n",
       "      <th>bulan</th>\n",
       "      <th>wisman</th>\n",
       "    </tr>\n",
       "  </thead>\n",
       "  <tbody>\n",
       "    <tr>\n",
       "      <td>0</td>\n",
       "      <td>TIJA Ancol</td>\n",
       "      <td>Januari</td>\n",
       "      <td>0.0</td>\n",
       "    </tr>\n",
       "    <tr>\n",
       "      <td>1</td>\n",
       "      <td>TIJA Ancol</td>\n",
       "      <td>Februari</td>\n",
       "      <td>0.0</td>\n",
       "    </tr>\n",
       "    <tr>\n",
       "      <td>2</td>\n",
       "      <td>TIJA Ancol</td>\n",
       "      <td>Maret</td>\n",
       "      <td>0.0</td>\n",
       "    </tr>\n",
       "    <tr>\n",
       "      <td>3</td>\n",
       "      <td>TIJA Ancol</td>\n",
       "      <td>April</td>\n",
       "      <td>0.0</td>\n",
       "    </tr>\n",
       "    <tr>\n",
       "      <td>4</td>\n",
       "      <td>TIJA Ancol</td>\n",
       "      <td>Mei</td>\n",
       "      <td>0.0</td>\n",
       "    </tr>\n",
       "  </tbody>\n",
       "</table>\n",
       "</div>"
      ],
      "text/plain": [
       "  nama_destinasi_wisata     bulan  wisman\n",
       "0            TIJA Ancol   Januari     0.0\n",
       "1            TIJA Ancol  Februari     0.0\n",
       "2            TIJA Ancol     Maret     0.0\n",
       "3            TIJA Ancol     April     0.0\n",
       "4            TIJA Ancol       Mei     0.0"
      ]
     },
     "execution_count": 100,
     "metadata": {},
     "output_type": "execute_result"
    }
   ],
   "source": [
    "subset_df_2.head()"
   ]
  },
  {
   "cell_type": "markdown",
   "metadata": {},
   "source": [
    "Mengambil baris-baris dengan indeks 100, 112, dan 150:"
   ]
  },
  {
   "cell_type": "code",
   "execution_count": 101,
   "metadata": {
    "colab": {},
    "colab_type": "code",
    "id": "MXsc_tCDWNiv"
   },
   "outputs": [],
   "source": [
    "subset_rows = df.loc[[100, 112, 150]]"
   ]
  },
  {
   "cell_type": "code",
   "execution_count": 102,
   "metadata": {
    "colab": {
     "base_uri": "https://localhost:8080/",
     "height": 196
    },
    "colab_type": "code",
    "id": "WLJoeQhTWciu",
    "outputId": "4bbb29e9-63ce-423a-de26-05f2cc92254f"
   },
   "outputs": [
    {
     "data": {
      "text/html": [
       "<div>\n",
       "<style scoped>\n",
       "    .dataframe tbody tr th:only-of-type {\n",
       "        vertical-align: middle;\n",
       "    }\n",
       "\n",
       "    .dataframe tbody tr th {\n",
       "        vertical-align: top;\n",
       "    }\n",
       "\n",
       "    .dataframe thead th {\n",
       "        text-align: right;\n",
       "    }\n",
       "</style>\n",
       "<table border=\"1\" class=\"dataframe\">\n",
       "  <thead>\n",
       "    <tr style=\"text-align: right;\">\n",
       "      <th></th>\n",
       "      <th>nama_destinasi_wisata</th>\n",
       "      <th>bulan</th>\n",
       "      <th>wisnus</th>\n",
       "      <th>wisman</th>\n",
       "    </tr>\n",
       "  </thead>\n",
       "  <tbody>\n",
       "    <tr>\n",
       "      <td>100</td>\n",
       "      <td>Museum Bahari</td>\n",
       "      <td>Mei</td>\n",
       "      <td>1134.0</td>\n",
       "      <td>307.0</td>\n",
       "    </tr>\n",
       "    <tr>\n",
       "      <td>112</td>\n",
       "      <td>Museum Seni Rupa dan Keramik</td>\n",
       "      <td>Mei</td>\n",
       "      <td>6443.0</td>\n",
       "      <td>103.0</td>\n",
       "    </tr>\n",
       "    <tr>\n",
       "      <td>150</td>\n",
       "      <td>Taman Arkeologi Pulau Onrust</td>\n",
       "      <td>Juli</td>\n",
       "      <td>650.0</td>\n",
       "      <td>12.0</td>\n",
       "    </tr>\n",
       "  </tbody>\n",
       "</table>\n",
       "</div>"
      ],
      "text/plain": [
       "            nama_destinasi_wisata bulan  wisnus  wisman\n",
       "100                 Museum Bahari   Mei  1134.0   307.0\n",
       "112  Museum Seni Rupa dan Keramik   Mei  6443.0   103.0\n",
       "150  Taman Arkeologi Pulau Onrust  Juli   650.0    12.0"
      ]
     },
     "execution_count": 102,
     "metadata": {},
     "output_type": "execute_result"
    }
   ],
   "source": [
    "subset_rows.head()"
   ]
  },
  {
   "cell_type": "code",
   "execution_count": 105,
   "metadata": {
    "colab": {},
    "colab_type": "code",
    "id": "Gn4pLktuWdSR"
   },
   "outputs": [],
   "source": [
    "subset = df.loc[:, selected_columns]"
   ]
  },
  {
   "cell_type": "code",
   "execution_count": 106,
   "metadata": {
    "colab": {
     "base_uri": "https://localhost:8080/",
     "height": 1000
    },
    "colab_type": "code",
    "id": "W9g3wvnlWzxt",
    "outputId": "ad8a2e8d-e2a1-4d57-aa62-1271f4980dbd"
   },
   "outputs": [
    {
     "data": {
      "text/html": [
       "<div>\n",
       "<style scoped>\n",
       "    .dataframe tbody tr th:only-of-type {\n",
       "        vertical-align: middle;\n",
       "    }\n",
       "\n",
       "    .dataframe tbody tr th {\n",
       "        vertical-align: top;\n",
       "    }\n",
       "\n",
       "    .dataframe thead th {\n",
       "        text-align: right;\n",
       "    }\n",
       "</style>\n",
       "<table border=\"1\" class=\"dataframe\">\n",
       "  <thead>\n",
       "    <tr style=\"text-align: right;\">\n",
       "      <th></th>\n",
       "      <th>nama_destinasi_wisata</th>\n",
       "      <th>bulan</th>\n",
       "      <th>wisman</th>\n",
       "    </tr>\n",
       "  </thead>\n",
       "  <tbody>\n",
       "    <tr>\n",
       "      <td>0</td>\n",
       "      <td>TIJA Ancol</td>\n",
       "      <td>Januari</td>\n",
       "      <td>0.0</td>\n",
       "    </tr>\n",
       "    <tr>\n",
       "      <td>1</td>\n",
       "      <td>TIJA Ancol</td>\n",
       "      <td>Februari</td>\n",
       "      <td>0.0</td>\n",
       "    </tr>\n",
       "    <tr>\n",
       "      <td>2</td>\n",
       "      <td>TIJA Ancol</td>\n",
       "      <td>Maret</td>\n",
       "      <td>0.0</td>\n",
       "    </tr>\n",
       "    <tr>\n",
       "      <td>3</td>\n",
       "      <td>TIJA Ancol</td>\n",
       "      <td>April</td>\n",
       "      <td>0.0</td>\n",
       "    </tr>\n",
       "    <tr>\n",
       "      <td>4</td>\n",
       "      <td>TIJA Ancol</td>\n",
       "      <td>Mei</td>\n",
       "      <td>0.0</td>\n",
       "    </tr>\n",
       "    <tr>\n",
       "      <td>...</td>\n",
       "      <td>...</td>\n",
       "      <td>...</td>\n",
       "      <td>...</td>\n",
       "    </tr>\n",
       "    <tr>\n",
       "      <td>163</td>\n",
       "      <td>Pelabuhan Sunda Kelapa</td>\n",
       "      <td>Agustus</td>\n",
       "      <td>82.0</td>\n",
       "    </tr>\n",
       "    <tr>\n",
       "      <td>164</td>\n",
       "      <td>Pelabuhan Sunda Kelapa</td>\n",
       "      <td>September</td>\n",
       "      <td>46.0</td>\n",
       "    </tr>\n",
       "    <tr>\n",
       "      <td>165</td>\n",
       "      <td>Pelabuhan Sunda Kelapa</td>\n",
       "      <td>Oktober</td>\n",
       "      <td>59.0</td>\n",
       "    </tr>\n",
       "    <tr>\n",
       "      <td>166</td>\n",
       "      <td>Pelabuhan Sunda Kelapa</td>\n",
       "      <td>Nopember</td>\n",
       "      <td>38.0</td>\n",
       "    </tr>\n",
       "    <tr>\n",
       "      <td>167</td>\n",
       "      <td>Pelabuhan Sunda Kelapa</td>\n",
       "      <td>Desember</td>\n",
       "      <td>150.0</td>\n",
       "    </tr>\n",
       "  </tbody>\n",
       "</table>\n",
       "<p>168 rows × 3 columns</p>\n",
       "</div>"
      ],
      "text/plain": [
       "      nama_destinasi_wisata      bulan  wisman\n",
       "0                TIJA Ancol    Januari     0.0\n",
       "1                TIJA Ancol   Februari     0.0\n",
       "2                TIJA Ancol      Maret     0.0\n",
       "3                TIJA Ancol      April     0.0\n",
       "4                TIJA Ancol        Mei     0.0\n",
       "..                      ...        ...     ...\n",
       "163  Pelabuhan Sunda Kelapa    Agustus    82.0\n",
       "164  Pelabuhan Sunda Kelapa  September    46.0\n",
       "165  Pelabuhan Sunda Kelapa    Oktober    59.0\n",
       "166  Pelabuhan Sunda Kelapa   Nopember    38.0\n",
       "167  Pelabuhan Sunda Kelapa   Desember   150.0\n",
       "\n",
       "[168 rows x 3 columns]"
      ]
     },
     "execution_count": 106,
     "metadata": {},
     "output_type": "execute_result"
    }
   ],
   "source": [
    "subset"
   ]
  },
  {
   "cell_type": "code",
   "execution_count": 113,
   "metadata": {
    "colab": {},
    "colab_type": "code",
    "id": "Fpp8nCAGW4uP"
   },
   "outputs": [],
   "source": [
    "subset = df.loc[108:119, selected_columns]"
   ]
  },
  {
   "cell_type": "code",
   "execution_count": 114,
   "metadata": {
    "colab": {
     "base_uri": "https://localhost:8080/",
     "height": 143
    },
    "colab_type": "code",
    "id": "oijrdI00W85Q",
    "outputId": "dc521adf-b052-4bba-d668-fa72e52554ce"
   },
   "outputs": [
    {
     "data": {
      "text/html": [
       "<div>\n",
       "<style scoped>\n",
       "    .dataframe tbody tr th:only-of-type {\n",
       "        vertical-align: middle;\n",
       "    }\n",
       "\n",
       "    .dataframe tbody tr th {\n",
       "        vertical-align: top;\n",
       "    }\n",
       "\n",
       "    .dataframe thead th {\n",
       "        text-align: right;\n",
       "    }\n",
       "</style>\n",
       "<table border=\"1\" class=\"dataframe\">\n",
       "  <thead>\n",
       "    <tr style=\"text-align: right;\">\n",
       "      <th></th>\n",
       "      <th>nama_destinasi_wisata</th>\n",
       "      <th>bulan</th>\n",
       "      <th>wisman</th>\n",
       "    </tr>\n",
       "  </thead>\n",
       "  <tbody>\n",
       "    <tr>\n",
       "      <td>108</td>\n",
       "      <td>Museum Seni Rupa dan Keramik</td>\n",
       "      <td>Januari</td>\n",
       "      <td>44.0</td>\n",
       "    </tr>\n",
       "    <tr>\n",
       "      <td>109</td>\n",
       "      <td>Museum Seni Rupa dan Keramik</td>\n",
       "      <td>Februari</td>\n",
       "      <td>80.0</td>\n",
       "    </tr>\n",
       "    <tr>\n",
       "      <td>110</td>\n",
       "      <td>Museum Seni Rupa dan Keramik</td>\n",
       "      <td>Maret</td>\n",
       "      <td>625.0</td>\n",
       "    </tr>\n",
       "    <tr>\n",
       "      <td>111</td>\n",
       "      <td>Museum Seni Rupa dan Keramik</td>\n",
       "      <td>April</td>\n",
       "      <td>81.0</td>\n",
       "    </tr>\n",
       "    <tr>\n",
       "      <td>112</td>\n",
       "      <td>Museum Seni Rupa dan Keramik</td>\n",
       "      <td>Mei</td>\n",
       "      <td>103.0</td>\n",
       "    </tr>\n",
       "    <tr>\n",
       "      <td>113</td>\n",
       "      <td>Museum Seni Rupa dan Keramik</td>\n",
       "      <td>Juni</td>\n",
       "      <td>0.0</td>\n",
       "    </tr>\n",
       "    <tr>\n",
       "      <td>114</td>\n",
       "      <td>Museum Seni Rupa dan Keramik</td>\n",
       "      <td>Juli</td>\n",
       "      <td>0.0</td>\n",
       "    </tr>\n",
       "    <tr>\n",
       "      <td>115</td>\n",
       "      <td>Museum Seni Rupa dan Keramik</td>\n",
       "      <td>Agustus</td>\n",
       "      <td>76.0</td>\n",
       "    </tr>\n",
       "    <tr>\n",
       "      <td>116</td>\n",
       "      <td>Museum Seni Rupa dan Keramik</td>\n",
       "      <td>September</td>\n",
       "      <td>95.0</td>\n",
       "    </tr>\n",
       "    <tr>\n",
       "      <td>117</td>\n",
       "      <td>Museum Seni Rupa dan Keramik</td>\n",
       "      <td>Oktober</td>\n",
       "      <td>72.0</td>\n",
       "    </tr>\n",
       "    <tr>\n",
       "      <td>118</td>\n",
       "      <td>Museum Seni Rupa dan Keramik</td>\n",
       "      <td>Nopember</td>\n",
       "      <td>449.0</td>\n",
       "    </tr>\n",
       "    <tr>\n",
       "      <td>119</td>\n",
       "      <td>Museum Seni Rupa dan Keramik</td>\n",
       "      <td>Desember</td>\n",
       "      <td>41.0</td>\n",
       "    </tr>\n",
       "  </tbody>\n",
       "</table>\n",
       "</div>"
      ],
      "text/plain": [
       "            nama_destinasi_wisata      bulan  wisman\n",
       "108  Museum Seni Rupa dan Keramik    Januari    44.0\n",
       "109  Museum Seni Rupa dan Keramik   Februari    80.0\n",
       "110  Museum Seni Rupa dan Keramik      Maret   625.0\n",
       "111  Museum Seni Rupa dan Keramik      April    81.0\n",
       "112  Museum Seni Rupa dan Keramik        Mei   103.0\n",
       "113  Museum Seni Rupa dan Keramik       Juni     0.0\n",
       "114  Museum Seni Rupa dan Keramik       Juli     0.0\n",
       "115  Museum Seni Rupa dan Keramik    Agustus    76.0\n",
       "116  Museum Seni Rupa dan Keramik  September    95.0\n",
       "117  Museum Seni Rupa dan Keramik    Oktober    72.0\n",
       "118  Museum Seni Rupa dan Keramik   Nopember   449.0\n",
       "119  Museum Seni Rupa dan Keramik   Desember    41.0"
      ]
     },
     "execution_count": 114,
     "metadata": {},
     "output_type": "execute_result"
    }
   ],
   "source": [
    "subset"
   ]
  },
  {
   "cell_type": "markdown",
   "metadata": {
    "colab_type": "text",
    "id": "aswq8ISwK7Kt"
   },
   "source": [
    "Memunculkan seluruh baris dengan bulan januari:"
   ]
  },
  {
   "cell_type": "code",
   "execution_count": 115,
   "metadata": {
    "colab": {},
    "colab_type": "code",
    "id": "ZsMtbz-MW9xH"
   },
   "outputs": [],
   "source": [
    "subset = df.loc[df[\"bulan\"] == 'Januari', selected_columns]"
   ]
  },
  {
   "cell_type": "code",
   "execution_count": 116,
   "metadata": {
    "colab": {
     "base_uri": "https://localhost:8080/",
     "height": 206
    },
    "colab_type": "code",
    "id": "c0Y3OI9gXxtw",
    "outputId": "a9ea6614-d3eb-401f-dfd9-302ebfee75ce"
   },
   "outputs": [
    {
     "data": {
      "text/html": [
       "<div>\n",
       "<style scoped>\n",
       "    .dataframe tbody tr th:only-of-type {\n",
       "        vertical-align: middle;\n",
       "    }\n",
       "\n",
       "    .dataframe tbody tr th {\n",
       "        vertical-align: top;\n",
       "    }\n",
       "\n",
       "    .dataframe thead th {\n",
       "        text-align: right;\n",
       "    }\n",
       "</style>\n",
       "<table border=\"1\" class=\"dataframe\">\n",
       "  <thead>\n",
       "    <tr style=\"text-align: right;\">\n",
       "      <th></th>\n",
       "      <th>nama_destinasi_wisata</th>\n",
       "      <th>bulan</th>\n",
       "      <th>wisman</th>\n",
       "    </tr>\n",
       "  </thead>\n",
       "  <tbody>\n",
       "    <tr>\n",
       "      <td>0</td>\n",
       "      <td>TIJA Ancol</td>\n",
       "      <td>Januari</td>\n",
       "      <td>0.0</td>\n",
       "    </tr>\n",
       "    <tr>\n",
       "      <td>12</td>\n",
       "      <td>Taman Mini Indonesia Indah</td>\n",
       "      <td>Januari</td>\n",
       "      <td>0.0</td>\n",
       "    </tr>\n",
       "    <tr>\n",
       "      <td>24</td>\n",
       "      <td>Taman Marga Satwa Ragunan</td>\n",
       "      <td>Januari</td>\n",
       "      <td>0.0</td>\n",
       "    </tr>\n",
       "    <tr>\n",
       "      <td>36</td>\n",
       "      <td>Monumen Nasional</td>\n",
       "      <td>Januari</td>\n",
       "      <td>1967.0</td>\n",
       "    </tr>\n",
       "    <tr>\n",
       "      <td>48</td>\n",
       "      <td>Museum Nasional</td>\n",
       "      <td>Januari</td>\n",
       "      <td>0.0</td>\n",
       "    </tr>\n",
       "  </tbody>\n",
       "</table>\n",
       "</div>"
      ],
      "text/plain": [
       "         nama_destinasi_wisata    bulan  wisman\n",
       "0                   TIJA Ancol  Januari     0.0\n",
       "12  Taman Mini Indonesia Indah  Januari     0.0\n",
       "24   Taman Marga Satwa Ragunan  Januari     0.0\n",
       "36            Monumen Nasional  Januari  1967.0\n",
       "48             Museum Nasional  Januari     0.0"
      ]
     },
     "execution_count": 116,
     "metadata": {},
     "output_type": "execute_result"
    }
   ],
   "source": [
    "subset.head()"
   ]
  },
  {
   "cell_type": "markdown",
   "metadata": {
    "colab_type": "text",
    "id": "Um_6hSoVLC3V"
   },
   "source": [
    "Pastikan bahwa di dalam *dataframe* kita, hanya ada bulan Januari:"
   ]
  },
  {
   "cell_type": "code",
   "execution_count": 117,
   "metadata": {
    "colab": {
     "base_uri": "https://localhost:8080/",
     "height": 34
    },
    "colab_type": "code",
    "id": "-ISrQttnXz_t",
    "outputId": "4a55e5d4-d1f1-4a77-f634-861d8a62fc46"
   },
   "outputs": [
    {
     "data": {
      "text/plain": [
       "array(['Januari'], dtype=object)"
      ]
     },
     "execution_count": 117,
     "metadata": {},
     "output_type": "execute_result"
    }
   ],
   "source": [
    "subset[\"bulan\"].unique()"
   ]
  },
  {
   "cell_type": "code",
   "execution_count": 118,
   "metadata": {
    "colab": {
     "base_uri": "https://localhost:8080/",
     "height": 34
    },
    "colab_type": "code",
    "id": "ejTXcmeLX6cy",
    "outputId": "3d5e8fa4-e5e9-49e0-9e30-eac9b4a585b2"
   },
   "outputs": [
    {
     "data": {
      "text/plain": [
       "1"
      ]
     },
     "execution_count": 118,
     "metadata": {},
     "output_type": "execute_result"
    }
   ],
   "source": [
    "subset[\"bulan\"].nunique()"
   ]
  },
  {
   "cell_type": "markdown",
   "metadata": {
    "colab_type": "text",
    "id": "OTNsOrgnLG6n"
   },
   "source": [
    "Memunculkan baris-baris dengan *field* \"wisnus\" yang kosong:"
   ]
  },
  {
   "cell_type": "code",
   "execution_count": 119,
   "metadata": {
    "colab": {
     "base_uri": "https://localhost:8080/",
     "height": 293
    },
    "colab_type": "code",
    "id": "YZbTnKV1QCJe",
    "outputId": "95fbd8ef-7a3a-41fb-bd3e-a48efada1035"
   },
   "outputs": [
    {
     "data": {
      "text/html": [
       "<div>\n",
       "<style scoped>\n",
       "    .dataframe tbody tr th:only-of-type {\n",
       "        vertical-align: middle;\n",
       "    }\n",
       "\n",
       "    .dataframe tbody tr th {\n",
       "        vertical-align: top;\n",
       "    }\n",
       "\n",
       "    .dataframe thead th {\n",
       "        text-align: right;\n",
       "    }\n",
       "</style>\n",
       "<table border=\"1\" class=\"dataframe\">\n",
       "  <thead>\n",
       "    <tr style=\"text-align: right;\">\n",
       "      <th></th>\n",
       "      <th>nama_destinasi_wisata</th>\n",
       "      <th>bulan</th>\n",
       "      <th>wisnus</th>\n",
       "      <th>wisman</th>\n",
       "    </tr>\n",
       "  </thead>\n",
       "  <tbody>\n",
       "  </tbody>\n",
       "</table>\n",
       "</div>"
      ],
      "text/plain": [
       "Empty DataFrame\n",
       "Columns: [nama_destinasi_wisata, bulan, wisnus, wisman]\n",
       "Index: []"
      ]
     },
     "execution_count": 119,
     "metadata": {},
     "output_type": "execute_result"
    }
   ],
   "source": [
    "df[df[\"wisnus\"].isnull()].head()"
   ]
  },
  {
   "cell_type": "markdown",
   "metadata": {
    "colab_type": "text",
    "id": "BtnPqvVxLLZG"
   },
   "source": [
    "Memunculkan baris-baris dengan *field* \"wisnus\" yang tidak kosong:"
   ]
  },
  {
   "cell_type": "code",
   "execution_count": 123,
   "metadata": {
    "colab": {
     "base_uri": "https://localhost:8080/",
     "height": 293
    },
    "colab_type": "code",
    "id": "ICpUeGfSQbxC",
    "outputId": "dba5b404-ea0b-4490-e647-90c271cc54b5"
   },
   "outputs": [
    {
     "data": {
      "text/html": [
       "<div>\n",
       "<style scoped>\n",
       "    .dataframe tbody tr th:only-of-type {\n",
       "        vertical-align: middle;\n",
       "    }\n",
       "\n",
       "    .dataframe tbody tr th {\n",
       "        vertical-align: top;\n",
       "    }\n",
       "\n",
       "    .dataframe thead th {\n",
       "        text-align: right;\n",
       "    }\n",
       "</style>\n",
       "<table border=\"1\" class=\"dataframe\">\n",
       "  <thead>\n",
       "    <tr style=\"text-align: right;\">\n",
       "      <th></th>\n",
       "      <th>nama_destinasi_wisata</th>\n",
       "      <th>bulan</th>\n",
       "      <th>wisnus</th>\n",
       "      <th>wisman</th>\n",
       "    </tr>\n",
       "  </thead>\n",
       "  <tbody>\n",
       "    <tr>\n",
       "      <td>0</td>\n",
       "      <td>TIJA Ancol</td>\n",
       "      <td>Januari</td>\n",
       "      <td>2320962.0</td>\n",
       "      <td>0.0</td>\n",
       "    </tr>\n",
       "    <tr>\n",
       "      <td>1</td>\n",
       "      <td>TIJA Ancol</td>\n",
       "      <td>Februari</td>\n",
       "      <td>1623862.0</td>\n",
       "      <td>0.0</td>\n",
       "    </tr>\n",
       "    <tr>\n",
       "      <td>2</td>\n",
       "      <td>TIJA Ancol</td>\n",
       "      <td>Maret</td>\n",
       "      <td>3217037.0</td>\n",
       "      <td>0.0</td>\n",
       "    </tr>\n",
       "    <tr>\n",
       "      <td>3</td>\n",
       "      <td>TIJA Ancol</td>\n",
       "      <td>April</td>\n",
       "      <td>2704564.0</td>\n",
       "      <td>0.0</td>\n",
       "    </tr>\n",
       "    <tr>\n",
       "      <td>4</td>\n",
       "      <td>TIJA Ancol</td>\n",
       "      <td>Mei</td>\n",
       "      <td>2450321.0</td>\n",
       "      <td>0.0</td>\n",
       "    </tr>\n",
       "  </tbody>\n",
       "</table>\n",
       "</div>"
      ],
      "text/plain": [
       "  nama_destinasi_wisata     bulan     wisnus  wisman\n",
       "0            TIJA Ancol   Januari  2320962.0     0.0\n",
       "1            TIJA Ancol  Februari  1623862.0     0.0\n",
       "2            TIJA Ancol     Maret  3217037.0     0.0\n",
       "3            TIJA Ancol     April  2704564.0     0.0\n",
       "4            TIJA Ancol       Mei  2450321.0     0.0"
      ]
     },
     "execution_count": 123,
     "metadata": {},
     "output_type": "execute_result"
    }
   ],
   "source": [
    "df[~df[\"wisnus\"].isnull()].head()"
   ]
  },
  {
   "cell_type": "markdown",
   "metadata": {
    "colab_type": "text",
    "id": "TpD9FFQGXGGh"
   },
   "source": [
    "### Latihan\n",
    "1. Bagaimana caranya agar kita dapat mengambil data dari baris ke-100 sampai baris terakhir untuk kolom nama_destinasi_wisata, bulan, wisman?\n",
    "2. Bagaimana kita bisa mendapatkan baris untuk bulan Januari, Februari, dan Maret untuk kolom Bulan, target?\n",
    "3. Bagaimana kita bisa mendapatkan baris untuk wisata yang ada di Monumen pada bulan Oktober s/d Desember?\n"
   ]
  },
  {
   "cell_type": "markdown",
   "metadata": {
    "colab_type": "text",
    "id": "0i4z4od98EzY"
   },
   "source": [
    "#### Hint"
   ]
  },
  {
   "cell_type": "markdown",
   "metadata": {
    "colab_type": "text",
    "id": "-FOXf7n_8RDA"
   },
   "source": [
    "Untuk nomor 2, kita bisa menggunakan operator logika:\n",
    "- `&` untuk `dan`\n",
    "- `|` untuk `atau`"
   ]
  },
  {
   "cell_type": "markdown",
   "metadata": {
    "colab_type": "text",
    "id": "M2q5oYON8DF6"
   },
   "source": [
    "#### Solusi 1"
   ]
  },
  {
   "cell_type": "code",
   "execution_count": 124,
   "metadata": {
    "colab": {},
    "colab_type": "code",
    "id": "tFrC6BcOXO_7"
   },
   "outputs": [],
   "source": [
    "selected_cols = [\"nama_destinasi_wisata\", \"bulan\", \"wisman\"]\n",
    "subset = df[selected_cols].iloc[99:]"
   ]
  },
  {
   "cell_type": "code",
   "execution_count": 125,
   "metadata": {
    "colab": {
     "base_uri": "https://localhost:8080/",
     "height": 1000
    },
    "colab_type": "code",
    "id": "okmwVPZTXXqV",
    "outputId": "4d4a7e16-f7e2-4177-9910-82b4b1937d36"
   },
   "outputs": [
    {
     "data": {
      "text/html": [
       "<div>\n",
       "<style scoped>\n",
       "    .dataframe tbody tr th:only-of-type {\n",
       "        vertical-align: middle;\n",
       "    }\n",
       "\n",
       "    .dataframe tbody tr th {\n",
       "        vertical-align: top;\n",
       "    }\n",
       "\n",
       "    .dataframe thead th {\n",
       "        text-align: right;\n",
       "    }\n",
       "</style>\n",
       "<table border=\"1\" class=\"dataframe\">\n",
       "  <thead>\n",
       "    <tr style=\"text-align: right;\">\n",
       "      <th></th>\n",
       "      <th>nama_destinasi_wisata</th>\n",
       "      <th>bulan</th>\n",
       "      <th>wisman</th>\n",
       "    </tr>\n",
       "  </thead>\n",
       "  <tbody>\n",
       "    <tr>\n",
       "      <td>99</td>\n",
       "      <td>Museum Bahari</td>\n",
       "      <td>April</td>\n",
       "      <td>331.0</td>\n",
       "    </tr>\n",
       "    <tr>\n",
       "      <td>100</td>\n",
       "      <td>Museum Bahari</td>\n",
       "      <td>Mei</td>\n",
       "      <td>307.0</td>\n",
       "    </tr>\n",
       "    <tr>\n",
       "      <td>101</td>\n",
       "      <td>Museum Bahari</td>\n",
       "      <td>Juni</td>\n",
       "      <td>302.0</td>\n",
       "    </tr>\n",
       "    <tr>\n",
       "      <td>102</td>\n",
       "      <td>Museum Bahari</td>\n",
       "      <td>Juli</td>\n",
       "      <td>343.0</td>\n",
       "    </tr>\n",
       "    <tr>\n",
       "      <td>103</td>\n",
       "      <td>Museum Bahari</td>\n",
       "      <td>Agustus</td>\n",
       "      <td>980.0</td>\n",
       "    </tr>\n",
       "    <tr>\n",
       "      <td>...</td>\n",
       "      <td>...</td>\n",
       "      <td>...</td>\n",
       "      <td>...</td>\n",
       "    </tr>\n",
       "    <tr>\n",
       "      <td>163</td>\n",
       "      <td>Pelabuhan Sunda Kelapa</td>\n",
       "      <td>Agustus</td>\n",
       "      <td>82.0</td>\n",
       "    </tr>\n",
       "    <tr>\n",
       "      <td>164</td>\n",
       "      <td>Pelabuhan Sunda Kelapa</td>\n",
       "      <td>September</td>\n",
       "      <td>46.0</td>\n",
       "    </tr>\n",
       "    <tr>\n",
       "      <td>165</td>\n",
       "      <td>Pelabuhan Sunda Kelapa</td>\n",
       "      <td>Oktober</td>\n",
       "      <td>59.0</td>\n",
       "    </tr>\n",
       "    <tr>\n",
       "      <td>166</td>\n",
       "      <td>Pelabuhan Sunda Kelapa</td>\n",
       "      <td>Nopember</td>\n",
       "      <td>38.0</td>\n",
       "    </tr>\n",
       "    <tr>\n",
       "      <td>167</td>\n",
       "      <td>Pelabuhan Sunda Kelapa</td>\n",
       "      <td>Desember</td>\n",
       "      <td>150.0</td>\n",
       "    </tr>\n",
       "  </tbody>\n",
       "</table>\n",
       "<p>69 rows × 3 columns</p>\n",
       "</div>"
      ],
      "text/plain": [
       "      nama_destinasi_wisata      bulan  wisman\n",
       "99            Museum Bahari      April   331.0\n",
       "100           Museum Bahari        Mei   307.0\n",
       "101           Museum Bahari       Juni   302.0\n",
       "102           Museum Bahari       Juli   343.0\n",
       "103           Museum Bahari    Agustus   980.0\n",
       "..                      ...        ...     ...\n",
       "163  Pelabuhan Sunda Kelapa    Agustus    82.0\n",
       "164  Pelabuhan Sunda Kelapa  September    46.0\n",
       "165  Pelabuhan Sunda Kelapa    Oktober    59.0\n",
       "166  Pelabuhan Sunda Kelapa   Nopember    38.0\n",
       "167  Pelabuhan Sunda Kelapa   Desember   150.0\n",
       "\n",
       "[69 rows x 3 columns]"
      ]
     },
     "execution_count": 125,
     "metadata": {},
     "output_type": "execute_result"
    }
   ],
   "source": [
    "subset"
   ]
  },
  {
   "cell_type": "markdown",
   "metadata": {
    "colab_type": "text",
    "id": "LiXBFAhi8VTb"
   },
   "source": [
    "#### Solusi 2"
   ]
  },
  {
   "cell_type": "code",
   "execution_count": 126,
   "metadata": {
    "colab": {},
    "colab_type": "code",
    "id": "nLc2AxAZYbC8"
   },
   "outputs": [],
   "source": [
    "subset = df.loc[((df[\"bulan\"] == 'Januari') | (df[\"bulan\"] == 'Februari') | (df[\"bulan\"] == 'Maret')), selected_cols]"
   ]
  },
  {
   "cell_type": "code",
   "execution_count": 128,
   "metadata": {
    "colab": {
     "base_uri": "https://localhost:8080/",
     "height": 1000
    },
    "colab_type": "code",
    "id": "oLQwzH8oZYU6",
    "outputId": "93dd6322-c781-4dca-a35b-bfe0d12ed024"
   },
   "outputs": [
    {
     "data": {
      "text/html": [
       "<div>\n",
       "<style scoped>\n",
       "    .dataframe tbody tr th:only-of-type {\n",
       "        vertical-align: middle;\n",
       "    }\n",
       "\n",
       "    .dataframe tbody tr th {\n",
       "        vertical-align: top;\n",
       "    }\n",
       "\n",
       "    .dataframe thead th {\n",
       "        text-align: right;\n",
       "    }\n",
       "</style>\n",
       "<table border=\"1\" class=\"dataframe\">\n",
       "  <thead>\n",
       "    <tr style=\"text-align: right;\">\n",
       "      <th></th>\n",
       "      <th>nama_destinasi_wisata</th>\n",
       "      <th>bulan</th>\n",
       "      <th>wisman</th>\n",
       "    </tr>\n",
       "  </thead>\n",
       "  <tbody>\n",
       "    <tr>\n",
       "      <td>0</td>\n",
       "      <td>TIJA Ancol</td>\n",
       "      <td>Januari</td>\n",
       "      <td>0.0</td>\n",
       "    </tr>\n",
       "    <tr>\n",
       "      <td>1</td>\n",
       "      <td>TIJA Ancol</td>\n",
       "      <td>Februari</td>\n",
       "      <td>0.0</td>\n",
       "    </tr>\n",
       "    <tr>\n",
       "      <td>2</td>\n",
       "      <td>TIJA Ancol</td>\n",
       "      <td>Maret</td>\n",
       "      <td>0.0</td>\n",
       "    </tr>\n",
       "    <tr>\n",
       "      <td>12</td>\n",
       "      <td>Taman Mini Indonesia Indah</td>\n",
       "      <td>Januari</td>\n",
       "      <td>0.0</td>\n",
       "    </tr>\n",
       "    <tr>\n",
       "      <td>13</td>\n",
       "      <td>Taman Mini Indonesia Indah</td>\n",
       "      <td>Februari</td>\n",
       "      <td>0.0</td>\n",
       "    </tr>\n",
       "    <tr>\n",
       "      <td>14</td>\n",
       "      <td>Taman Mini Indonesia Indah</td>\n",
       "      <td>Maret</td>\n",
       "      <td>0.0</td>\n",
       "    </tr>\n",
       "    <tr>\n",
       "      <td>24</td>\n",
       "      <td>Taman Marga Satwa Ragunan</td>\n",
       "      <td>Januari</td>\n",
       "      <td>0.0</td>\n",
       "    </tr>\n",
       "    <tr>\n",
       "      <td>25</td>\n",
       "      <td>Taman Marga Satwa Ragunan</td>\n",
       "      <td>Februari</td>\n",
       "      <td>0.0</td>\n",
       "    </tr>\n",
       "    <tr>\n",
       "      <td>26</td>\n",
       "      <td>Taman Marga Satwa Ragunan</td>\n",
       "      <td>Maret</td>\n",
       "      <td>128.0</td>\n",
       "    </tr>\n",
       "    <tr>\n",
       "      <td>36</td>\n",
       "      <td>Monumen Nasional</td>\n",
       "      <td>Januari</td>\n",
       "      <td>1967.0</td>\n",
       "    </tr>\n",
       "    <tr>\n",
       "      <td>37</td>\n",
       "      <td>Monumen Nasional</td>\n",
       "      <td>Februari</td>\n",
       "      <td>2196.0</td>\n",
       "    </tr>\n",
       "    <tr>\n",
       "      <td>38</td>\n",
       "      <td>Monumen Nasional</td>\n",
       "      <td>Maret</td>\n",
       "      <td>1678.0</td>\n",
       "    </tr>\n",
       "    <tr>\n",
       "      <td>48</td>\n",
       "      <td>Museum Nasional</td>\n",
       "      <td>Januari</td>\n",
       "      <td>0.0</td>\n",
       "    </tr>\n",
       "    <tr>\n",
       "      <td>49</td>\n",
       "      <td>Museum Nasional</td>\n",
       "      <td>Februari</td>\n",
       "      <td>0.0</td>\n",
       "    </tr>\n",
       "    <tr>\n",
       "      <td>50</td>\n",
       "      <td>Museum Nasional</td>\n",
       "      <td>Maret</td>\n",
       "      <td>0.0</td>\n",
       "    </tr>\n",
       "    <tr>\n",
       "      <td>60</td>\n",
       "      <td>Museum Satria Mandala</td>\n",
       "      <td>Januari</td>\n",
       "      <td>0.0</td>\n",
       "    </tr>\n",
       "    <tr>\n",
       "      <td>61</td>\n",
       "      <td>Museum Satria Mandala</td>\n",
       "      <td>Februari</td>\n",
       "      <td>0.0</td>\n",
       "    </tr>\n",
       "    <tr>\n",
       "      <td>62</td>\n",
       "      <td>Museum Satria Mandala</td>\n",
       "      <td>Maret</td>\n",
       "      <td>0.0</td>\n",
       "    </tr>\n",
       "    <tr>\n",
       "      <td>72</td>\n",
       "      <td>Museum Sejarah Jakarta</td>\n",
       "      <td>Januari</td>\n",
       "      <td>0.0</td>\n",
       "    </tr>\n",
       "    <tr>\n",
       "      <td>73</td>\n",
       "      <td>Museum Sejarah Jakarta</td>\n",
       "      <td>Februari</td>\n",
       "      <td>0.0</td>\n",
       "    </tr>\n",
       "    <tr>\n",
       "      <td>74</td>\n",
       "      <td>Museum Sejarah Jakarta</td>\n",
       "      <td>Maret</td>\n",
       "      <td>478.0</td>\n",
       "    </tr>\n",
       "    <tr>\n",
       "      <td>84</td>\n",
       "      <td>Museum Tekstil</td>\n",
       "      <td>Januari</td>\n",
       "      <td>80.0</td>\n",
       "    </tr>\n",
       "    <tr>\n",
       "      <td>85</td>\n",
       "      <td>Museum Tekstil</td>\n",
       "      <td>Februari</td>\n",
       "      <td>82.0</td>\n",
       "    </tr>\n",
       "    <tr>\n",
       "      <td>86</td>\n",
       "      <td>Museum Tekstil</td>\n",
       "      <td>Maret</td>\n",
       "      <td>171.0</td>\n",
       "    </tr>\n",
       "    <tr>\n",
       "      <td>96</td>\n",
       "      <td>Museum Bahari</td>\n",
       "      <td>Januari</td>\n",
       "      <td>694.0</td>\n",
       "    </tr>\n",
       "    <tr>\n",
       "      <td>97</td>\n",
       "      <td>Museum Bahari</td>\n",
       "      <td>Februari</td>\n",
       "      <td>255.0</td>\n",
       "    </tr>\n",
       "    <tr>\n",
       "      <td>98</td>\n",
       "      <td>Museum Bahari</td>\n",
       "      <td>Maret</td>\n",
       "      <td>358.0</td>\n",
       "    </tr>\n",
       "    <tr>\n",
       "      <td>108</td>\n",
       "      <td>Museum Seni Rupa dan Keramik</td>\n",
       "      <td>Januari</td>\n",
       "      <td>44.0</td>\n",
       "    </tr>\n",
       "    <tr>\n",
       "      <td>109</td>\n",
       "      <td>Museum Seni Rupa dan Keramik</td>\n",
       "      <td>Februari</td>\n",
       "      <td>80.0</td>\n",
       "    </tr>\n",
       "    <tr>\n",
       "      <td>110</td>\n",
       "      <td>Museum Seni Rupa dan Keramik</td>\n",
       "      <td>Maret</td>\n",
       "      <td>625.0</td>\n",
       "    </tr>\n",
       "    <tr>\n",
       "      <td>120</td>\n",
       "      <td>Museum Wayang</td>\n",
       "      <td>Januari</td>\n",
       "      <td>3193.0</td>\n",
       "    </tr>\n",
       "    <tr>\n",
       "      <td>121</td>\n",
       "      <td>Museum Wayang</td>\n",
       "      <td>Februari</td>\n",
       "      <td>3285.0</td>\n",
       "    </tr>\n",
       "    <tr>\n",
       "      <td>122</td>\n",
       "      <td>Museum Wayang</td>\n",
       "      <td>Maret</td>\n",
       "      <td>3605.0</td>\n",
       "    </tr>\n",
       "    <tr>\n",
       "      <td>132</td>\n",
       "      <td>Museum Joang '45</td>\n",
       "      <td>Januari</td>\n",
       "      <td>10.0</td>\n",
       "    </tr>\n",
       "    <tr>\n",
       "      <td>133</td>\n",
       "      <td>Museum Joang '45</td>\n",
       "      <td>Februari</td>\n",
       "      <td>13.0</td>\n",
       "    </tr>\n",
       "    <tr>\n",
       "      <td>134</td>\n",
       "      <td>Museum Joang '45</td>\n",
       "      <td>Maret</td>\n",
       "      <td>0.0</td>\n",
       "    </tr>\n",
       "    <tr>\n",
       "      <td>144</td>\n",
       "      <td>Taman Arkeologi Pulau Onrust</td>\n",
       "      <td>Januari</td>\n",
       "      <td>18.0</td>\n",
       "    </tr>\n",
       "    <tr>\n",
       "      <td>145</td>\n",
       "      <td>Taman Arkeologi Pulau Onrust</td>\n",
       "      <td>Februari</td>\n",
       "      <td>10.0</td>\n",
       "    </tr>\n",
       "    <tr>\n",
       "      <td>146</td>\n",
       "      <td>Taman Arkeologi Pulau Onrust</td>\n",
       "      <td>Maret</td>\n",
       "      <td>26.0</td>\n",
       "    </tr>\n",
       "    <tr>\n",
       "      <td>156</td>\n",
       "      <td>Pelabuhan Sunda Kelapa</td>\n",
       "      <td>Januari</td>\n",
       "      <td>86.0</td>\n",
       "    </tr>\n",
       "    <tr>\n",
       "      <td>157</td>\n",
       "      <td>Pelabuhan Sunda Kelapa</td>\n",
       "      <td>Februari</td>\n",
       "      <td>63.0</td>\n",
       "    </tr>\n",
       "    <tr>\n",
       "      <td>158</td>\n",
       "      <td>Pelabuhan Sunda Kelapa</td>\n",
       "      <td>Maret</td>\n",
       "      <td>76.0</td>\n",
       "    </tr>\n",
       "  </tbody>\n",
       "</table>\n",
       "</div>"
      ],
      "text/plain": [
       "            nama_destinasi_wisata     bulan  wisman\n",
       "0                      TIJA Ancol   Januari     0.0\n",
       "1                      TIJA Ancol  Februari     0.0\n",
       "2                      TIJA Ancol     Maret     0.0\n",
       "12     Taman Mini Indonesia Indah   Januari     0.0\n",
       "13     Taman Mini Indonesia Indah  Februari     0.0\n",
       "14     Taman Mini Indonesia Indah     Maret     0.0\n",
       "24      Taman Marga Satwa Ragunan   Januari     0.0\n",
       "25      Taman Marga Satwa Ragunan  Februari     0.0\n",
       "26      Taman Marga Satwa Ragunan     Maret   128.0\n",
       "36               Monumen Nasional   Januari  1967.0\n",
       "37               Monumen Nasional  Februari  2196.0\n",
       "38               Monumen Nasional     Maret  1678.0\n",
       "48                Museum Nasional   Januari     0.0\n",
       "49                Museum Nasional  Februari     0.0\n",
       "50                Museum Nasional     Maret     0.0\n",
       "60          Museum Satria Mandala   Januari     0.0\n",
       "61          Museum Satria Mandala  Februari     0.0\n",
       "62          Museum Satria Mandala     Maret     0.0\n",
       "72         Museum Sejarah Jakarta   Januari     0.0\n",
       "73         Museum Sejarah Jakarta  Februari     0.0\n",
       "74         Museum Sejarah Jakarta     Maret   478.0\n",
       "84                 Museum Tekstil   Januari    80.0\n",
       "85                 Museum Tekstil  Februari    82.0\n",
       "86                 Museum Tekstil     Maret   171.0\n",
       "96                  Museum Bahari   Januari   694.0\n",
       "97                  Museum Bahari  Februari   255.0\n",
       "98                  Museum Bahari     Maret   358.0\n",
       "108  Museum Seni Rupa dan Keramik   Januari    44.0\n",
       "109  Museum Seni Rupa dan Keramik  Februari    80.0\n",
       "110  Museum Seni Rupa dan Keramik     Maret   625.0\n",
       "120                 Museum Wayang   Januari  3193.0\n",
       "121                 Museum Wayang  Februari  3285.0\n",
       "122                 Museum Wayang     Maret  3605.0\n",
       "132              Museum Joang '45   Januari    10.0\n",
       "133              Museum Joang '45  Februari    13.0\n",
       "134              Museum Joang '45     Maret     0.0\n",
       "144  Taman Arkeologi Pulau Onrust   Januari    18.0\n",
       "145  Taman Arkeologi Pulau Onrust  Februari    10.0\n",
       "146  Taman Arkeologi Pulau Onrust     Maret    26.0\n",
       "156        Pelabuhan Sunda Kelapa   Januari    86.0\n",
       "157        Pelabuhan Sunda Kelapa  Februari    63.0\n",
       "158        Pelabuhan Sunda Kelapa     Maret    76.0"
      ]
     },
     "execution_count": 128,
     "metadata": {},
     "output_type": "execute_result"
    }
   ],
   "source": [
    "subset"
   ]
  },
  {
   "cell_type": "code",
   "execution_count": 129,
   "metadata": {
    "colab": {},
    "colab_type": "code",
    "id": "aJR-G5soYGCA"
   },
   "outputs": [],
   "source": [
    "subset = df.loc[df[\"bulan\"].isin(['Januari', 'Februari', 'Maret']), selected_cols]"
   ]
  },
  {
   "cell_type": "code",
   "execution_count": 130,
   "metadata": {
    "colab": {
     "base_uri": "https://localhost:8080/",
     "height": 206
    },
    "colab_type": "code",
    "id": "s93zMvmrYUU1",
    "outputId": "380ea698-1d43-4f1d-d096-35a5fb00d333"
   },
   "outputs": [
    {
     "data": {
      "text/html": [
       "<div>\n",
       "<style scoped>\n",
       "    .dataframe tbody tr th:only-of-type {\n",
       "        vertical-align: middle;\n",
       "    }\n",
       "\n",
       "    .dataframe tbody tr th {\n",
       "        vertical-align: top;\n",
       "    }\n",
       "\n",
       "    .dataframe thead th {\n",
       "        text-align: right;\n",
       "    }\n",
       "</style>\n",
       "<table border=\"1\" class=\"dataframe\">\n",
       "  <thead>\n",
       "    <tr style=\"text-align: right;\">\n",
       "      <th></th>\n",
       "      <th>nama_destinasi_wisata</th>\n",
       "      <th>bulan</th>\n",
       "      <th>wisman</th>\n",
       "    </tr>\n",
       "  </thead>\n",
       "  <tbody>\n",
       "    <tr>\n",
       "      <td>0</td>\n",
       "      <td>TIJA Ancol</td>\n",
       "      <td>Januari</td>\n",
       "      <td>0.0</td>\n",
       "    </tr>\n",
       "    <tr>\n",
       "      <td>1</td>\n",
       "      <td>TIJA Ancol</td>\n",
       "      <td>Februari</td>\n",
       "      <td>0.0</td>\n",
       "    </tr>\n",
       "    <tr>\n",
       "      <td>2</td>\n",
       "      <td>TIJA Ancol</td>\n",
       "      <td>Maret</td>\n",
       "      <td>0.0</td>\n",
       "    </tr>\n",
       "    <tr>\n",
       "      <td>12</td>\n",
       "      <td>Taman Mini Indonesia Indah</td>\n",
       "      <td>Januari</td>\n",
       "      <td>0.0</td>\n",
       "    </tr>\n",
       "    <tr>\n",
       "      <td>13</td>\n",
       "      <td>Taman Mini Indonesia Indah</td>\n",
       "      <td>Februari</td>\n",
       "      <td>0.0</td>\n",
       "    </tr>\n",
       "  </tbody>\n",
       "</table>\n",
       "</div>"
      ],
      "text/plain": [
       "         nama_destinasi_wisata     bulan  wisman\n",
       "0                   TIJA Ancol   Januari     0.0\n",
       "1                   TIJA Ancol  Februari     0.0\n",
       "2                   TIJA Ancol     Maret     0.0\n",
       "12  Taman Mini Indonesia Indah   Januari     0.0\n",
       "13  Taman Mini Indonesia Indah  Februari     0.0"
      ]
     },
     "execution_count": 130,
     "metadata": {},
     "output_type": "execute_result"
    }
   ],
   "source": [
    "subset.head()"
   ]
  },
  {
   "cell_type": "markdown",
   "metadata": {
    "colab_type": "text",
    "id": "vWKpuLRWTZvU"
   },
   "source": [
    "#### Solusi 3"
   ]
  },
  {
   "cell_type": "code",
   "execution_count": 131,
   "metadata": {
    "colab": {
     "base_uri": "https://localhost:8080/",
     "height": 551
    },
    "colab_type": "code",
    "id": "BCWqHwsyTcMF",
    "outputId": "8e36837e-45c1-4145-fa29-5ded47bd7bff"
   },
   "outputs": [
    {
     "data": {
      "text/html": [
       "<div>\n",
       "<style scoped>\n",
       "    .dataframe tbody tr th:only-of-type {\n",
       "        vertical-align: middle;\n",
       "    }\n",
       "\n",
       "    .dataframe tbody tr th {\n",
       "        vertical-align: top;\n",
       "    }\n",
       "\n",
       "    .dataframe thead th {\n",
       "        text-align: right;\n",
       "    }\n",
       "</style>\n",
       "<table border=\"1\" class=\"dataframe\">\n",
       "  <thead>\n",
       "    <tr style=\"text-align: right;\">\n",
       "      <th></th>\n",
       "      <th>nama_destinasi_wisata</th>\n",
       "      <th>bulan</th>\n",
       "      <th>wisnus</th>\n",
       "      <th>wisman</th>\n",
       "    </tr>\n",
       "  </thead>\n",
       "  <tbody>\n",
       "    <tr>\n",
       "      <td>57</td>\n",
       "      <td>Museum Nasional</td>\n",
       "      <td>Oktober</td>\n",
       "      <td>21677.0</td>\n",
       "      <td>0.0</td>\n",
       "    </tr>\n",
       "    <tr>\n",
       "      <td>59</td>\n",
       "      <td>Museum Nasional</td>\n",
       "      <td>Desember</td>\n",
       "      <td>33926.0</td>\n",
       "      <td>0.0</td>\n",
       "    </tr>\n",
       "    <tr>\n",
       "      <td>69</td>\n",
       "      <td>Museum Satria Mandala</td>\n",
       "      <td>Oktober</td>\n",
       "      <td>3179.0</td>\n",
       "      <td>0.0</td>\n",
       "    </tr>\n",
       "    <tr>\n",
       "      <td>71</td>\n",
       "      <td>Museum Satria Mandala</td>\n",
       "      <td>Desember</td>\n",
       "      <td>3712.0</td>\n",
       "      <td>0.0</td>\n",
       "    </tr>\n",
       "    <tr>\n",
       "      <td>81</td>\n",
       "      <td>Museum Sejarah Jakarta</td>\n",
       "      <td>Oktober</td>\n",
       "      <td>0.0</td>\n",
       "      <td>0.0</td>\n",
       "    </tr>\n",
       "    <tr>\n",
       "      <td>83</td>\n",
       "      <td>Museum Sejarah Jakarta</td>\n",
       "      <td>Desember</td>\n",
       "      <td>0.0</td>\n",
       "      <td>0.0</td>\n",
       "    </tr>\n",
       "    <tr>\n",
       "      <td>93</td>\n",
       "      <td>Museum Tekstil</td>\n",
       "      <td>Oktober</td>\n",
       "      <td>12735.0</td>\n",
       "      <td>64.0</td>\n",
       "    </tr>\n",
       "    <tr>\n",
       "      <td>95</td>\n",
       "      <td>Museum Tekstil</td>\n",
       "      <td>Desember</td>\n",
       "      <td>12404.0</td>\n",
       "      <td>0.0</td>\n",
       "    </tr>\n",
       "    <tr>\n",
       "      <td>105</td>\n",
       "      <td>Museum Bahari</td>\n",
       "      <td>Oktober</td>\n",
       "      <td>1479.0</td>\n",
       "      <td>338.0</td>\n",
       "    </tr>\n",
       "    <tr>\n",
       "      <td>107</td>\n",
       "      <td>Museum Bahari</td>\n",
       "      <td>Desember</td>\n",
       "      <td>2314.0</td>\n",
       "      <td>862.0</td>\n",
       "    </tr>\n",
       "    <tr>\n",
       "      <td>117</td>\n",
       "      <td>Museum Seni Rupa dan Keramik</td>\n",
       "      <td>Oktober</td>\n",
       "      <td>9642.0</td>\n",
       "      <td>72.0</td>\n",
       "    </tr>\n",
       "    <tr>\n",
       "      <td>119</td>\n",
       "      <td>Museum Seni Rupa dan Keramik</td>\n",
       "      <td>Desember</td>\n",
       "      <td>23945.0</td>\n",
       "      <td>41.0</td>\n",
       "    </tr>\n",
       "    <tr>\n",
       "      <td>129</td>\n",
       "      <td>Museum Wayang</td>\n",
       "      <td>Oktober</td>\n",
       "      <td>19339.0</td>\n",
       "      <td>4529.0</td>\n",
       "    </tr>\n",
       "    <tr>\n",
       "      <td>131</td>\n",
       "      <td>Museum Wayang</td>\n",
       "      <td>Desember</td>\n",
       "      <td>56211.0</td>\n",
       "      <td>4060.0</td>\n",
       "    </tr>\n",
       "    <tr>\n",
       "      <td>141</td>\n",
       "      <td>Museum Joang '45</td>\n",
       "      <td>Oktober</td>\n",
       "      <td>1107.0</td>\n",
       "      <td>0.0</td>\n",
       "    </tr>\n",
       "    <tr>\n",
       "      <td>143</td>\n",
       "      <td>Museum Joang '45</td>\n",
       "      <td>Desember</td>\n",
       "      <td>3587.0</td>\n",
       "      <td>0.0</td>\n",
       "    </tr>\n",
       "  </tbody>\n",
       "</table>\n",
       "</div>"
      ],
      "text/plain": [
       "            nama_destinasi_wisata     bulan   wisnus  wisman\n",
       "57                Museum Nasional   Oktober  21677.0     0.0\n",
       "59                Museum Nasional  Desember  33926.0     0.0\n",
       "69          Museum Satria Mandala   Oktober   3179.0     0.0\n",
       "71          Museum Satria Mandala  Desember   3712.0     0.0\n",
       "81         Museum Sejarah Jakarta   Oktober      0.0     0.0\n",
       "83         Museum Sejarah Jakarta  Desember      0.0     0.0\n",
       "93                 Museum Tekstil   Oktober  12735.0    64.0\n",
       "95                 Museum Tekstil  Desember  12404.0     0.0\n",
       "105                 Museum Bahari   Oktober   1479.0   338.0\n",
       "107                 Museum Bahari  Desember   2314.0   862.0\n",
       "117  Museum Seni Rupa dan Keramik   Oktober   9642.0    72.0\n",
       "119  Museum Seni Rupa dan Keramik  Desember  23945.0    41.0\n",
       "129                 Museum Wayang   Oktober  19339.0  4529.0\n",
       "131                 Museum Wayang  Desember  56211.0  4060.0\n",
       "141              Museum Joang '45   Oktober   1107.0     0.0\n",
       "143              Museum Joang '45  Desember   3587.0     0.0"
      ]
     },
     "execution_count": 131,
     "metadata": {},
     "output_type": "execute_result"
    }
   ],
   "source": [
    "nama_destinasi_wisata = [\"Museum Nasional\", \"Museum Satria Mandala\", \"Museum Sejarah Jakarta\", \"Museum Tekstil\", \"Museum Bahari\", \"Museum Seni Rupa dan Keramik\", \"Museum Wayang\", \"Museum Joang '45\"]\n",
    "bulan = [\"Oktober\", \"November\", \"Desember\"]\n",
    "\n",
    "df[df[\"nama_destinasi_wisata\"].isin(nama_destinasi_wisata) & df[\"bulan\"].isin(bulan)]"
   ]
  },
  {
   "cell_type": "markdown",
   "metadata": {
    "colab_type": "text",
    "id": "-GpJWLJWVtNP"
   },
   "source": [
    "# Mengeksplor Data\n",
    "Langkah ini penting karena ketika kita memasukkan data baru, sering kali pandas membacanya dengan cara yang tidak sesuai dengan yang kita inginkan (misalnya ada baris yang terpotong, atau separator-nya tidak tepat)."
   ]
  },
  {
   "cell_type": "code",
   "execution_count": 132,
   "metadata": {
    "colab": {
     "base_uri": "https://localhost:8080/",
     "height": 34
    },
    "colab_type": "code",
    "id": "87Spd-jVV234",
    "outputId": "dce0fc69-05a7-437b-f2ad-26ada4271751"
   },
   "outputs": [
    {
     "data": {
      "text/plain": [
       "(168, 4)"
      ]
     },
     "execution_count": 132,
     "metadata": {},
     "output_type": "execute_result"
    }
   ],
   "source": [
    "df.shape"
   ]
  },
  {
   "cell_type": "code",
   "execution_count": 133,
   "metadata": {
    "colab": {
     "base_uri": "https://localhost:8080/",
     "height": 300
    },
    "colab_type": "code",
    "id": "dWpk_84MVugS",
    "outputId": "5c5be58e-7975-4864-bd88-0def58b6bcc7"
   },
   "outputs": [
    {
     "data": {
      "text/html": [
       "<div>\n",
       "<style scoped>\n",
       "    .dataframe tbody tr th:only-of-type {\n",
       "        vertical-align: middle;\n",
       "    }\n",
       "\n",
       "    .dataframe tbody tr th {\n",
       "        vertical-align: top;\n",
       "    }\n",
       "\n",
       "    .dataframe thead th {\n",
       "        text-align: right;\n",
       "    }\n",
       "</style>\n",
       "<table border=\"1\" class=\"dataframe\">\n",
       "  <thead>\n",
       "    <tr style=\"text-align: right;\">\n",
       "      <th></th>\n",
       "      <th>wisnus</th>\n",
       "      <th>wisman</th>\n",
       "    </tr>\n",
       "  </thead>\n",
       "  <tbody>\n",
       "    <tr>\n",
       "      <td>count</td>\n",
       "      <td>1.680000e+02</td>\n",
       "      <td>168.000000</td>\n",
       "    </tr>\n",
       "    <tr>\n",
       "      <td>mean</td>\n",
       "      <td>2.492332e+05</td>\n",
       "      <td>514.958333</td>\n",
       "    </tr>\n",
       "    <tr>\n",
       "      <td>std</td>\n",
       "      <td>6.872903e+05</td>\n",
       "      <td>1127.802109</td>\n",
       "    </tr>\n",
       "    <tr>\n",
       "      <td>min</td>\n",
       "      <td>0.000000e+00</td>\n",
       "      <td>0.000000</td>\n",
       "    </tr>\n",
       "    <tr>\n",
       "      <td>25%</td>\n",
       "      <td>2.230000e+03</td>\n",
       "      <td>0.000000</td>\n",
       "    </tr>\n",
       "    <tr>\n",
       "      <td>50%</td>\n",
       "      <td>8.331500e+03</td>\n",
       "      <td>31.500000</td>\n",
       "    </tr>\n",
       "    <tr>\n",
       "      <td>75%</td>\n",
       "      <td>8.836875e+04</td>\n",
       "      <td>313.000000</td>\n",
       "    </tr>\n",
       "    <tr>\n",
       "      <td>max</td>\n",
       "      <td>4.426896e+06</td>\n",
       "      <td>5403.000000</td>\n",
       "    </tr>\n",
       "  </tbody>\n",
       "</table>\n",
       "</div>"
      ],
      "text/plain": [
       "             wisnus       wisman\n",
       "count  1.680000e+02   168.000000\n",
       "mean   2.492332e+05   514.958333\n",
       "std    6.872903e+05  1127.802109\n",
       "min    0.000000e+00     0.000000\n",
       "25%    2.230000e+03     0.000000\n",
       "50%    8.331500e+03    31.500000\n",
       "75%    8.836875e+04   313.000000\n",
       "max    4.426896e+06  5403.000000"
      ]
     },
     "execution_count": 133,
     "metadata": {},
     "output_type": "execute_result"
    }
   ],
   "source": [
    "df.describe()"
   ]
  },
  {
   "cell_type": "code",
   "execution_count": 134,
   "metadata": {
    "colab": {
     "base_uri": "https://localhost:8080/",
     "height": 104
    },
    "colab_type": "code",
    "id": "oAzZICy-VvR0",
    "outputId": "0a406c4d-ca11-429e-dd1b-35a36e7ece79"
   },
   "outputs": [
    {
     "data": {
      "text/plain": [
       "count                              168\n",
       "unique                              14\n",
       "top       Taman Arkeologi Pulau Onrust\n",
       "freq                                12\n",
       "Name: nama_destinasi_wisata, dtype: object"
      ]
     },
     "execution_count": 134,
     "metadata": {},
     "output_type": "execute_result"
    }
   ],
   "source": [
    "df[\"nama_destinasi_wisata\"].describe()"
   ]
  },
  {
   "cell_type": "code",
   "execution_count": 135,
   "metadata": {
    "colab": {
     "base_uri": "https://localhost:8080/",
     "height": 191
    },
    "colab_type": "code",
    "id": "GhISULErTTa5",
    "outputId": "21fdfd60-959a-4b5e-b883-5463634262b4"
   },
   "outputs": [
    {
     "data": {
      "text/plain": [
       "array(['TIJA Ancol', 'Taman Mini Indonesia Indah',\n",
       "       'Taman Marga Satwa Ragunan', 'Monumen Nasional', 'Museum Nasional',\n",
       "       'Museum Satria Mandala', 'Museum Sejarah Jakarta',\n",
       "       'Museum Tekstil', 'Museum Bahari', 'Museum Seni Rupa dan Keramik',\n",
       "       'Museum Wayang', \"Museum Joang '45\",\n",
       "       'Taman Arkeologi Pulau Onrust', 'Pelabuhan Sunda Kelapa'],\n",
       "      dtype=object)"
      ]
     },
     "execution_count": 135,
     "metadata": {},
     "output_type": "execute_result"
    }
   ],
   "source": [
    "df[\"nama_destinasi_wisata\"].unique()"
   ]
  },
  {
   "cell_type": "code",
   "execution_count": 136,
   "metadata": {
    "colab": {
     "base_uri": "https://localhost:8080/",
     "height": 208
    },
    "colab_type": "code",
    "id": "OvuRVxfMVuDz",
    "outputId": "dab6d473-8610-4708-ebdd-f4e9d1e3e4eb"
   },
   "outputs": [
    {
     "name": "stdout",
     "output_type": "stream",
     "text": [
      "<class 'pandas.core.frame.DataFrame'>\n",
      "RangeIndex: 168 entries, 0 to 167\n",
      "Data columns (total 4 columns):\n",
      "nama_destinasi_wisata    168 non-null object\n",
      "bulan                    168 non-null object\n",
      "wisnus                   168 non-null float64\n",
      "wisman                   168 non-null float64\n",
      "dtypes: float64(2), object(2)\n",
      "memory usage: 5.4+ KB\n"
     ]
    }
   ],
   "source": [
    "df.info()"
   ]
  },
  {
   "cell_type": "markdown",
   "metadata": {
    "colab_type": "text",
    "id": "qbpHE4U19qxk"
   },
   "source": [
    "Tipe-tipe data di pandas:\n",
    "\n",
    "![Pandas data type](https://pbpython.com/images/pandas_dtypes.png)\n",
    "[*Source*](https://pbpython.com/pandas_dtypes.html)"
   ]
  },
  {
   "cell_type": "markdown",
   "metadata": {
    "colab_type": "text",
    "id": "754_hl4vLl3I"
   },
   "source": [
    "## Mengganti tipe kolom"
   ]
  },
  {
   "cell_type": "code",
   "execution_count": 144,
   "metadata": {
    "colab": {},
    "colab_type": "code",
    "id": "XxxUpSsyXTdO"
   },
   "outputs": [],
   "source": [
    "df[\"wisman\"] = df[\"wisman\"].astype(\"int\")"
   ]
  },
  {
   "cell_type": "code",
   "execution_count": 145,
   "metadata": {
    "colab": {
     "base_uri": "https://localhost:8080/",
     "height": 208
    },
    "colab_type": "code",
    "id": "FnSnd7jRME1M",
    "outputId": "92f850b5-4c3c-4708-cc9d-e17ae39c80ff"
   },
   "outputs": [
    {
     "name": "stdout",
     "output_type": "stream",
     "text": [
      "<class 'pandas.core.frame.DataFrame'>\n",
      "RangeIndex: 168 entries, 0 to 167\n",
      "Data columns (total 4 columns):\n",
      "nama_destinasi_wisata    168 non-null object\n",
      "bulan                    168 non-null object\n",
      "wisnus                   168 non-null float64\n",
      "wisman                   168 non-null int32\n",
      "dtypes: float64(1), int32(1), object(2)\n",
      "memory usage: 4.7+ KB\n"
     ]
    }
   ],
   "source": [
    "df.info()"
   ]
  },
  {
   "cell_type": "code",
   "execution_count": 148,
   "metadata": {
    "colab": {},
    "colab_type": "code",
    "id": "aZLIb8OHYA_r"
   },
   "outputs": [],
   "source": [
    "df = pd.read_csv(\"data/Kunjungan-Daya-Tarik-Wisata-DKI-Jakarta-Januari-s-d-Desember-2014.csv\", \n",
    "                 sep=\";\",\n",
    "                 dtype={\"nama_destinasi_wisata\": str, \"bulan\": str})"
   ]
  },
  {
   "cell_type": "code",
   "execution_count": 149,
   "metadata": {
    "colab": {
     "base_uri": "https://localhost:8080/",
     "height": 293
    },
    "colab_type": "code",
    "id": "lkgyJmcfYNFd",
    "outputId": "ba2e5124-8752-4977-8d52-d19a300a2ec8"
   },
   "outputs": [
    {
     "data": {
      "text/html": [
       "<div>\n",
       "<style scoped>\n",
       "    .dataframe tbody tr th:only-of-type {\n",
       "        vertical-align: middle;\n",
       "    }\n",
       "\n",
       "    .dataframe tbody tr th {\n",
       "        vertical-align: top;\n",
       "    }\n",
       "\n",
       "    .dataframe thead th {\n",
       "        text-align: right;\n",
       "    }\n",
       "</style>\n",
       "<table border=\"1\" class=\"dataframe\">\n",
       "  <thead>\n",
       "    <tr style=\"text-align: right;\">\n",
       "      <th></th>\n",
       "      <th>nama_destinasi_wisata,bulan,wisnus,wisman</th>\n",
       "    </tr>\n",
       "  </thead>\n",
       "  <tbody>\n",
       "    <tr>\n",
       "      <td>0</td>\n",
       "      <td>TIJA Ancol,Januari,2320962.0,0.0</td>\n",
       "    </tr>\n",
       "    <tr>\n",
       "      <td>1</td>\n",
       "      <td>TIJA Ancol,Februari,1623862.0,0.0</td>\n",
       "    </tr>\n",
       "    <tr>\n",
       "      <td>2</td>\n",
       "      <td>TIJA Ancol,Maret,3217037.0,0.0</td>\n",
       "    </tr>\n",
       "    <tr>\n",
       "      <td>3</td>\n",
       "      <td>TIJA Ancol,April,2704564.0,0.0</td>\n",
       "    </tr>\n",
       "    <tr>\n",
       "      <td>4</td>\n",
       "      <td>TIJA Ancol,Mei,2450321.0,0.0</td>\n",
       "    </tr>\n",
       "  </tbody>\n",
       "</table>\n",
       "</div>"
      ],
      "text/plain": [
       "  nama_destinasi_wisata,bulan,wisnus,wisman\n",
       "0          TIJA Ancol,Januari,2320962.0,0.0\n",
       "1         TIJA Ancol,Februari,1623862.0,0.0\n",
       "2            TIJA Ancol,Maret,3217037.0,0.0\n",
       "3            TIJA Ancol,April,2704564.0,0.0\n",
       "4              TIJA Ancol,Mei,2450321.0,0.0"
      ]
     },
     "execution_count": 149,
     "metadata": {},
     "output_type": "execute_result"
    }
   ],
   "source": [
    "df.head()"
   ]
  },
  {
   "cell_type": "code",
   "execution_count": 151,
   "metadata": {
    "colab": {
     "base_uri": "https://localhost:8080/",
     "height": 208
    },
    "colab_type": "code",
    "id": "xjG0hFBnMJPZ",
    "outputId": "0e9920bb-a5ca-45a4-bb77-4798903efe80"
   },
   "outputs": [
    {
     "name": "stdout",
     "output_type": "stream",
     "text": [
      "<class 'pandas.core.frame.DataFrame'>\n",
      "RangeIndex: 168 entries, 0 to 167\n",
      "Data columns (total 1 columns):\n",
      "nama_destinasi_wisata,bulan,wisnus,wisman    168 non-null object\n",
      "dtypes: object(1)\n",
      "memory usage: 1.4+ KB\n"
     ]
    }
   ],
   "source": [
    "df.info()"
   ]
  },
  {
   "cell_type": "markdown",
   "metadata": {
    "colab_type": "text",
    "id": "1dbuGBE9ZpP3"
   },
   "source": [
    "# *Checkpoint*\n",
    "Sekarang kita sudah belajar cara:\n",
    "- Memasukkan data csv ke dalam program kita untuk diolah lebih lanjut (`read_csv`)\n",
    "- Merubah tipe kolom\n",
    "- Mengakses kolom, baris tertentu sesuai perintah (`loc`, `iloc`)\n",
    "- Mengeksplor data (`shape`, `info`, `describe`, `unique`, `nunique`)\n",
    "- Memilih sebagian data (mengombinasikan `loc`, logika operator )\n",
    "\n",
    "\n",
    "![alt text](https://media0.giphy.com/media/11sBLVxNs7v6WA/giphy.gif?cid=790b76115d44252537325577555e8107&rid=giphy.gif)\n"
   ]
  }
 ],
 "metadata": {
  "colab": {
   "collapsed_sections": [
    "0i4z4od98EzY"
   ],
   "name": "Data Preparation with Python - Part 1.ipynb",
   "provenance": [],
   "toc_visible": true,
   "version": "0.3.2"
  },
  "kernelspec": {
   "display_name": "Python 3",
   "language": "python",
   "name": "python3"
  }
 },
 "nbformat": 4,
 "nbformat_minor": 1
}
