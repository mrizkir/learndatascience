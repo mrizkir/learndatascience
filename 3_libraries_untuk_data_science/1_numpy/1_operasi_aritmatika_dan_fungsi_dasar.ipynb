{
 "cells": [
  {
   "cell_type": "markdown",
   "metadata": {},
   "source": [
    "NumPy adalah <i>library</i>/modul dalam bahasa pemrograman python yang digunakan untuk komputasi saintifik. Untuk menggunakan <i>framework</i> ini kalian harus sudah memasang pip terlebih dahulu, kemudian pada terminal/cmd ketik perintah berikut :\n",
    "<br><br><b>pip install numpy</b> atau <b>pip3 install numpy</b>\n",
    "<br><br>Setelah proses pemasangan selesai NumPy siap digunakan!"
   ]
  },
  {
   "cell_type": "code",
   "execution_count": 1,
   "metadata": {},
   "outputs": [],
   "source": [
    "import numpy as np"
   ]
  },
  {
   "cell_type": "code",
   "execution_count": 2,
   "metadata": {},
   "outputs": [],
   "source": [
    "a  = np.array([1,2,3,4,5])\n",
    "aa = np.array([7,2.3,4,5,6])\n",
    "b  = [1,2,3,4,5]"
   ]
  },
  {
   "cell_type": "markdown",
   "metadata": {},
   "source": [
    "Variabel a berisi array NumPy yang seluruh datanya bertipe <i>integer</i>\n",
    "<br>Variabel aa berisi array NumPy yang data-datanya ada yang bertipe <i>float</i> ataupun <i>integer</i>\n",
    "<br>Variabel b berisi list Python yang seluruh datanya bertipe <i>integer</i>"
   ]
  },
  {
   "cell_type": "code",
   "execution_count": 3,
   "metadata": {
    "scrolled": true
   },
   "outputs": [
    {
     "name": "stdout",
     "output_type": "stream",
     "text": [
      "Array NumPy  :  [1 2 3 4 5]\n",
      "Array NumPy  :  [7.  2.3 4.  5.  6. ]\n",
      "List Python  :  [1, 2, 3, 4, 5]\n"
     ]
    }
   ],
   "source": [
    "print(\"Array NumPy  : \", a)\n",
    "print(\"Array NumPy  : \", aa)\n",
    "print(\"List Python  : \", b)"
   ]
  },
  {
   "cell_type": "markdown",
   "metadata": {},
   "source": [
    "List dapat menampung data dengan berbagai macam tipe data namun array pada NumPy layaknya array pada bahasa pemrograman lain yang hanya dapat menyimpan himpunan data dengan satu macam tipe data saja. Oleh karena itu pada variabel aa seluruh himpunan data otomatis berubah ke <i>float</i> meskipun ada data yang awalnya bertipe <i>integer</i>. Terdapat perbedaan yang lain, yakni pada saat mencetak array NumPy tidak ada tanda koma seperti list pada Python"
   ]
  },
  {
   "cell_type": "markdown",
   "metadata": {},
   "source": [
    "Kita coba menjumlahkan array dengan bilangan skalar"
   ]
  },
  {
   "cell_type": "code",
   "execution_count": 4,
   "metadata": {},
   "outputs": [],
   "source": [
    "a = a + 1\n",
    "b = b + [1]"
   ]
  },
  {
   "cell_type": "code",
   "execution_count": 5,
   "metadata": {},
   "outputs": [
    {
     "name": "stdout",
     "output_type": "stream",
     "text": [
      "Array NumPy  :  [2 3 4 5 6]\n",
      "List Python :  [1, 2, 3, 4, 5, 1]\n"
     ]
    }
   ],
   "source": [
    "print(\"Array NumPy  : \", a)\n",
    "print(\"List Python : \", b)"
   ]
  },
  {
   "cell_type": "markdown",
   "metadata": {},
   "source": [
    "Pada variabel a yang menggunakan array NumPy seluruh nilai data akan ditambah dengan 1 yang pada awalnya [1 2 3 4 5] menjadi [2 3 4 5 6]. Beda dengan variabel b, variabel b bertipe data list, kita tidak dapat menambahkan tipe data list dengan suatu nilai yang bukan bertipe data list oleh karena itu nilai 1 harus kita ubah menjadi tipe data list([1]) terlebih dahulu. Hasilnya, nilai satu akan menjadi anggota list pada variabel b yang terletak di akhir indeks."
   ]
  },
  {
   "cell_type": "markdown",
   "metadata": {},
   "source": [
    "## Fungsi-fungsi Dasar"
   ]
  },
  {
   "cell_type": "markdown",
   "metadata": {},
   "source": [
    "<b>arange()"
   ]
  },
  {
   "cell_type": "code",
   "execution_count": 6,
   "metadata": {
    "scrolled": true
   },
   "outputs": [
    {
     "name": "stdout",
     "output_type": "stream",
     "text": [
      "[1 3 5 7 9]\n"
     ]
    }
   ],
   "source": [
    "c = np.arange(1,10,2)\n",
    "\n",
    "print(c)"
   ]
  },
  {
   "cell_type": "markdown",
   "metadata": {},
   "source": [
    "Terdapat 3 argumen pada fungsi arange() di atas. Maksudnya adalah :\n",
    "<br><b>1</b> adalah awal dari himpunan data pada variabel c\n",
    "<br><b>10</b> adalah batas akhir/akhir dari himpunan data pada variabel c. Setiap nilai dari batas akhir akan dikurangi 1(sama seperti ketika mengakses indeks pada list Python) jadi apabila kita masukkan 10 maka yang menjadi batas akhirnya adalah 9(10-1)\n",
    "<br><b>2</b> adalah jarak tiap data"
   ]
  },
  {
   "cell_type": "code",
   "execution_count": 7,
   "metadata": {},
   "outputs": [
    {
     "data": {
      "text/plain": [
       "3"
      ]
     },
     "execution_count": 7,
     "metadata": {},
     "output_type": "execute_result"
    }
   ],
   "source": [
    "c[1]   # Mengakses indeks ke 1"
   ]
  },
  {
   "cell_type": "markdown",
   "metadata": {},
   "source": [
    "<b>linspace()"
   ]
  },
  {
   "cell_type": "code",
   "execution_count": 8,
   "metadata": {},
   "outputs": [
    {
     "name": "stdout",
     "output_type": "stream",
     "text": [
      "[ 1.  4.  7. 10.]\n"
     ]
    }
   ],
   "source": [
    "d = np.linspace(1,10,4)\n",
    "\n",
    "print(d)"
   ]
  },
  {
   "cell_type": "markdown",
   "metadata": {},
   "source": [
    "Menampilkan 4 angka di dalam range 1-10 dengan jarak yang sama\n",
    "<br>Data yang keluar bertipe <i>float</i> karena terdapat operasi pembagian di dalamnya sehingga tidak menutup kemungkinan outputnya bukan <i>integer</i>"
   ]
  },
  {
   "cell_type": "markdown",
   "metadata": {},
   "source": [
    "<b>zeros()"
   ]
  },
  {
   "cell_type": "code",
   "execution_count": 9,
   "metadata": {
    "scrolled": true
   },
   "outputs": [
    {
     "name": "stdout",
     "output_type": "stream",
     "text": [
      "[[0. 0. 0. 0. 0.]\n",
      " [0. 0. 0. 0. 0.]\n",
      " [0. 0. 0. 0. 0.]\n",
      " [0. 0. 0. 0. 0.]\n",
      " [0. 0. 0. 0. 0.]]\n"
     ]
    }
   ],
   "source": [
    "e = np.zeros((5,5))\n",
    "\n",
    "print(e)"
   ]
  },
  {
   "cell_type": "markdown",
   "metadata": {},
   "source": [
    "Membuat dan menampilkan matriks berukuran 5x5 yang seluruh nilainya 0<br>\n",
    "Tipe data <i>default</i>nya adalah <i>float</i>"
   ]
  },
  {
   "cell_type": "markdown",
   "metadata": {},
   "source": [
    "<b>ones()"
   ]
  },
  {
   "cell_type": "code",
   "execution_count": 10,
   "metadata": {},
   "outputs": [
    {
     "name": "stdout",
     "output_type": "stream",
     "text": [
      "[[1. 1. 1. 1. 1.]\n",
      " [1. 1. 1. 1. 1.]\n",
      " [1. 1. 1. 1. 1.]\n",
      " [1. 1. 1. 1. 1.]\n",
      " [1. 1. 1. 1. 1.]]\n"
     ]
    }
   ],
   "source": [
    "f = np.ones((5,5))\n",
    "\n",
    "print(f)"
   ]
  },
  {
   "cell_type": "markdown",
   "metadata": {
    "scrolled": true
   },
   "source": [
    "Membuat dan menampilkan matriks berukuran 5x5 yang seluruh nilainya 1<br>\n",
    "Tipe data <i>default</i>nya adalah <i>float</i>"
   ]
  },
  {
   "cell_type": "markdown",
   "metadata": {},
   "source": [
    "<b>identity()</b> dan <b>eye()"
   ]
  },
  {
   "cell_type": "code",
   "execution_count": 11,
   "metadata": {},
   "outputs": [],
   "source": [
    "f1 = np.identity(5)\n",
    "f2 = np.eye(5)"
   ]
  },
  {
   "cell_type": "code",
   "execution_count": 12,
   "metadata": {
    "scrolled": true
   },
   "outputs": [
    {
     "name": "stdout",
     "output_type": "stream",
     "text": [
      "[[1. 0. 0. 0. 0.]\n",
      " [0. 1. 0. 0. 0.]\n",
      " [0. 0. 1. 0. 0.]\n",
      " [0. 0. 0. 1. 0.]\n",
      " [0. 0. 0. 0. 1.]]\n"
     ]
    }
   ],
   "source": [
    "print(f1)"
   ]
  },
  {
   "cell_type": "code",
   "execution_count": 13,
   "metadata": {},
   "outputs": [
    {
     "name": "stdout",
     "output_type": "stream",
     "text": [
      "[[1. 0. 0. 0. 0.]\n",
      " [0. 1. 0. 0. 0.]\n",
      " [0. 0. 1. 0. 0.]\n",
      " [0. 0. 0. 1. 0.]\n",
      " [0. 0. 0. 0. 1.]]\n"
     ]
    }
   ],
   "source": [
    "print(f2)"
   ]
  },
  {
   "cell_type": "markdown",
   "metadata": {},
   "source": [
    "Untuk membuat matriks identitas berukuran 5x5\n",
    "<br>Tipe data <i>default</i>nya adalah <i>float</i>\n",
    "<br>Dinamakan eye karena menyesuaikan penyebutan I(<i>identity</i>) dalam bahasa inggris\n",
    "<br>fungsi identity() hanya menampilkan matriks identitas saja sedangkan fungsi eye() lebih kompleks sedikit\n",
    "<br>Baca lebih lanjut sendiri https://docs.scipy.org/doc/numpy-1.15.0/reference/generated/numpy.eye.html"
   ]
  },
  {
   "cell_type": "markdown",
   "metadata": {},
   "source": [
    "<b>Matriks"
   ]
  },
  {
   "cell_type": "code",
   "execution_count": 14,
   "metadata": {},
   "outputs": [
    {
     "name": "stdout",
     "output_type": "stream",
     "text": [
      "[[1 2 3]\n",
      " [4 5 6]]\n"
     ]
    }
   ],
   "source": [
    "e = np.array([(1,2,3),(4,5,6)])   # Format penulisan untuk membuat matriks dengan array NumPy\n",
    "\n",
    "print(e)"
   ]
  },
  {
   "cell_type": "markdown",
   "metadata": {},
   "source": [
    "## Operasi Aritmatika"
   ]
  },
  {
   "cell_type": "markdown",
   "metadata": {},
   "source": [
    "Buat array NumPy yang baru"
   ]
  },
  {
   "cell_type": "code",
   "execution_count": 15,
   "metadata": {
    "scrolled": true
   },
   "outputs": [],
   "source": [
    "a = [1,2,3,4,5]\n",
    "b = [6,7,8,9,10]\n",
    "\n",
    "anp = np.array([1,2,3,4,5])\n",
    "bnp = np.array([6,7,8,9,10])"
   ]
  },
  {
   "cell_type": "markdown",
   "metadata": {},
   "source": [
    "<b>1. Penjumlahan (+)"
   ]
  },
  {
   "cell_type": "code",
   "execution_count": 16,
   "metadata": {},
   "outputs": [
    {
     "name": "stdout",
     "output_type": "stream",
     "text": [
      "Penjumlahan list Python :  [1, 2, 3, 4, 5, 6, 7, 8, 9, 10]\n",
      "Penjumlahan array NumPy :  [ 7  9 11 13 15]\n"
     ]
    }
   ],
   "source": [
    "print(\"Penjumlahan list Python : \",a+b)\n",
    "print(\"Penjumlahan array NumPy : \",anp+bnp)"
   ]
  },
  {
   "cell_type": "markdown",
   "metadata": {},
   "source": [
    "<b>2. Pengurangan (-)"
   ]
  },
  {
   "cell_type": "code",
   "execution_count": 17,
   "metadata": {
    "scrolled": true
   },
   "outputs": [
    {
     "name": "stdout",
     "output_type": "stream",
     "text": [
      "Pengurangan array NumPy :  [-5 -5 -5 -5 -5]\n"
     ]
    }
   ],
   "source": [
    "print(\"Pengurangan array NumPy : \",anp-bnp)"
   ]
  },
  {
   "cell_type": "markdown",
   "metadata": {},
   "source": [
    "Tidak bisa melakukan operasi pengurangan pada sesama list Python\n",
    "<br>contohnya :"
   ]
  },
  {
   "cell_type": "code",
   "execution_count": 18,
   "metadata": {},
   "outputs": [
    {
     "ename": "TypeError",
     "evalue": "unsupported operand type(s) for -: 'list' and 'list'",
     "output_type": "error",
     "traceback": [
      "\u001b[0;31m---------------------------------------------------------------------------\u001b[0m",
      "\u001b[0;31mTypeError\u001b[0m                                 Traceback (most recent call last)",
      "\u001b[0;32m<ipython-input-18-3d36ee62b130>\u001b[0m in \u001b[0;36m<module>\u001b[0;34m\u001b[0m\n\u001b[0;32m----> 1\u001b[0;31m \u001b[0mprint\u001b[0m\u001b[0;34m(\u001b[0m\u001b[0;34m\"Pengurangan array NumPy : \"\u001b[0m\u001b[0;34m,\u001b[0m\u001b[0ma\u001b[0m\u001b[0;34m-\u001b[0m\u001b[0mb\u001b[0m\u001b[0;34m)\u001b[0m\u001b[0;34m\u001b[0m\u001b[0m\n\u001b[0m",
      "\u001b[0;31mTypeError\u001b[0m: unsupported operand type(s) for -: 'list' and 'list'"
     ]
    }
   ],
   "source": [
    "print(\"Pengurangan array NumPy : \",a-b)"
   ]
  },
  {
   "cell_type": "markdown",
   "metadata": {},
   "source": [
    "<b>3. Perkalian (*)"
   ]
  },
  {
   "cell_type": "code",
   "execution_count": 19,
   "metadata": {
    "scrolled": true
   },
   "outputs": [
    {
     "name": "stdout",
     "output_type": "stream",
     "text": [
      "Perkalian array NumPy :  [ 6 14 24 36 50]\n"
     ]
    }
   ],
   "source": [
    "print(\"Perkalian array NumPy : \",anp*bnp)"
   ]
  },
  {
   "cell_type": "markdown",
   "metadata": {},
   "source": [
    "Tidak bisa melakukan operasi perkalian pada sesama list Python\n",
    "<br>contohnya :"
   ]
  },
  {
   "cell_type": "code",
   "execution_count": 20,
   "metadata": {},
   "outputs": [
    {
     "ename": "TypeError",
     "evalue": "can't multiply sequence by non-int of type 'list'",
     "output_type": "error",
     "traceback": [
      "\u001b[0;31m---------------------------------------------------------------------------\u001b[0m",
      "\u001b[0;31mTypeError\u001b[0m                                 Traceback (most recent call last)",
      "\u001b[0;32m<ipython-input-20-91267bcb3cea>\u001b[0m in \u001b[0;36m<module>\u001b[0;34m\u001b[0m\n\u001b[0;32m----> 1\u001b[0;31m \u001b[0mprint\u001b[0m\u001b[0;34m(\u001b[0m\u001b[0;34m\"Perkalian array NumPy : \"\u001b[0m\u001b[0;34m,\u001b[0m\u001b[0ma\u001b[0m\u001b[0;34m*\u001b[0m\u001b[0mb\u001b[0m\u001b[0;34m)\u001b[0m\u001b[0;34m\u001b[0m\u001b[0m\n\u001b[0m",
      "\u001b[0;31mTypeError\u001b[0m: can't multiply sequence by non-int of type 'list'"
     ]
    }
   ],
   "source": [
    "print(\"Perkalian array NumPy : \",a*b)"
   ]
  },
  {
   "cell_type": "markdown",
   "metadata": {},
   "source": [
    "<b>4. Pembagian (/)"
   ]
  },
  {
   "cell_type": "code",
   "execution_count": 21,
   "metadata": {},
   "outputs": [
    {
     "name": "stdout",
     "output_type": "stream",
     "text": [
      "Pembagian array NumPy :  [0.16666667 0.28571429 0.375      0.44444444 0.5       ]\n"
     ]
    }
   ],
   "source": [
    "print(\"Pembagian array NumPy : \",anp/bnp)"
   ]
  },
  {
   "cell_type": "markdown",
   "metadata": {},
   "source": [
    "Tidak bisa melakukan operasi pembagian pada sesama list Python\n",
    "<br>contohnya :"
   ]
  },
  {
   "cell_type": "code",
   "execution_count": 22,
   "metadata": {},
   "outputs": [
    {
     "ename": "TypeError",
     "evalue": "unsupported operand type(s) for /: 'list' and 'list'",
     "output_type": "error",
     "traceback": [
      "\u001b[0;31m---------------------------------------------------------------------------\u001b[0m",
      "\u001b[0;31mTypeError\u001b[0m                                 Traceback (most recent call last)",
      "\u001b[0;32m<ipython-input-22-a7a2e19168e0>\u001b[0m in \u001b[0;36m<module>\u001b[0;34m\u001b[0m\n\u001b[0;32m----> 1\u001b[0;31m \u001b[0mprint\u001b[0m\u001b[0;34m(\u001b[0m\u001b[0;34m\"Pembagian array NumPy : \"\u001b[0m\u001b[0;34m,\u001b[0m\u001b[0ma\u001b[0m\u001b[0;34m/\u001b[0m\u001b[0mb\u001b[0m\u001b[0;34m)\u001b[0m\u001b[0;34m\u001b[0m\u001b[0m\n\u001b[0m",
      "\u001b[0;31mTypeError\u001b[0m: unsupported operand type(s) for /: 'list' and 'list'"
     ]
    }
   ],
   "source": [
    "print(\"Pembagian array NumPy : \",a/b)"
   ]
  },
  {
   "cell_type": "markdown",
   "metadata": {},
   "source": [
    "<b>5. Matriks"
   ]
  },
  {
   "cell_type": "code",
   "execution_count": 23,
   "metadata": {},
   "outputs": [
    {
     "name": "stdout",
     "output_type": "stream",
     "text": [
      "[[ 8 10 12]\n",
      " [14 16 18]]\n",
      "[[ 7 16 27]\n",
      " [40 55 72]]\n",
      "[[-6 -6 -6]\n",
      " [-6 -6 -6]]\n",
      "[[0.14285714 0.25       0.33333333]\n",
      " [0.4        0.45454545 0.5       ]]\n"
     ]
    }
   ],
   "source": [
    "c = np.array([(1,2,3),(4,5,6)])\n",
    "d = np.array([(7,8,9),(10,11,12)])\n",
    "\n",
    "print(c+d)   # Hasil penjumlahan\n",
    "print(c*d)   # Hasil perkalian\n",
    "print(c-d)   # Hasil pengurangan\n",
    "print(c/d)   # Hasil pembagian"
   ]
  },
  {
   "cell_type": "markdown",
   "metadata": {},
   "source": [
    "Perkalian matriks biasa tidak sama dengan perkalian matriks numpy karena operasi aritmatika pada numpy menggunakan <i>element wise operation</i> sehingga tiap-tiap nilai akan dioperasikan satu persatu sesuai dengan urutan indeksnya sehingga tidak(otomatis) menyesuaikan dengan kaidah perkalian matriks pada umumnya"
   ]
  },
  {
   "cell_type": "markdown",
   "metadata": {},
   "source": [
    "<center><b>Sekian semoga bermanfaat (:"
   ]
  },
  {
   "cell_type": "code",
   "execution_count": null,
   "metadata": {},
   "outputs": [],
   "source": []
  }
 ],
 "metadata": {
  "kernelspec": {
   "display_name": "Python 3",
   "language": "python",
   "name": "python3"
  },
  "language_info": {
   "codemirror_mode": {
    "name": "ipython",
    "version": 3
   },
   "file_extension": ".py",
   "mimetype": "text/x-python",
   "name": "python",
   "nbconvert_exporter": "python",
   "pygments_lexer": "ipython3",
   "version": "3.6.7"
  }
 },
 "nbformat": 4,
 "nbformat_minor": 2
}
