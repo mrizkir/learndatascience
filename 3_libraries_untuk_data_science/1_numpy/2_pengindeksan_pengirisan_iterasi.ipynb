{
 "cells": [
  {
   "cell_type": "markdown",
   "metadata": {},
   "source": [
    "Sebelum membaca lebih lanjut, wajib bagi kalian untuk mengetahui konsep dan penerapan <a href=\"https://github.com/mrizkir/learndatascience/blob/master/2_dasar_pemrograman_python/3_struktur_data_list_tuple_set.ipynb\"><i>list</i></a> pada Python karena materi tentang pengindeksan, pengirisan, dan iterasi pada NumPy itu sangat berhubungan dengan operasi-operasi yang ada pada <i>list</i>."
   ]
  },
  {
   "cell_type": "code",
   "execution_count": 1,
   "metadata": {},
   "outputs": [],
   "source": [
    "import numpy as np"
   ]
  },
  {
   "cell_type": "markdown",
   "metadata": {},
   "source": [
    "### Buat array"
   ]
  },
  {
   "cell_type": "code",
   "execution_count": 2,
   "metadata": {
    "scrolled": true
   },
   "outputs": [
    {
     "name": "stdout",
     "output_type": "stream",
     "text": [
      "[ 0  1  4  9 16 25 36 49 64 81]\n"
     ]
    }
   ],
   "source": [
    "BilPang2 = np.arange(10)**2\n",
    "print(BilPang2)"
   ]
  },
  {
   "cell_type": "markdown",
   "metadata": {},
   "source": [
    "<i>Array</i> yang barusan kita buat di atas itu isinya sepuluh bilangan pangkat dua pertama.<br>\n",
    "Ingat <i>array</i> pada Python dimulai dari 0, tidak seperti Matlab dan R yang dimulai dari 1 :V"
   ]
  },
  {
   "cell_type": "markdown",
   "metadata": {},
   "source": [
    "### Buat matriks"
   ]
  },
  {
   "cell_type": "code",
   "execution_count": 3,
   "metadata": {
    "scrolled": true
   },
   "outputs": [
    {
     "name": "stdout",
     "output_type": "stream",
     "text": [
      "[[ 0  1  2  3]\n",
      " [10 11 12 13]\n",
      " [20 21 22 23]\n",
      " [30 31 32 33]\n",
      " [40 41 42 43]]\n"
     ]
    }
   ],
   "source": [
    "def f(x,y):\n",
    "    return 10*x+y\n",
    "\n",
    "# Matriks dengan 5 baris dan 4 kolom di mana semua datanya bertipe int\n",
    "Matriks = np.fromfunction(f,(5,4),dtype=int)\n",
    "print(Matriks)"
   ]
  },
  {
   "cell_type": "markdown",
   "metadata": {},
   "source": [
    "<i>Kok bisa gitu? '-'</i><br>\n",
    "Gini-gini, jadi kan ada fungsi f yang punya argumen/parameter x dan y tuh<br>\n",
    "terus isinya berupa nilai kembalian dari 10 * x + y kan?<br>\n",
    "Coba perhatikan satu persatu kolom pada matriks di atas, nilai x dan y itu sama-sama dimulai dari 0 oleh karena itu pada kolom pertama(paling kiri) itu isinya dari perhitungan ini :<br>\n",
    "0 <= asalnya dari : 10 * 0 + 0<br>\n",
    "10 <= asalnya dari : 10 * 1 + 0<br>\n",
    "20 <= asalnya dari : 10 * 2 + 0<br>\n",
    "30 <= asalnya dari : 10 * 3 + 0<br>\n",
    "40 <= asalnya dari : 10 * 4 + 0<br>\n",
    "\n",
    "Paham kan? <i>Kudu paham dong '-'</i><br>\n",
    "Begitu juga dengan kolom kedua :<br>\n",
    "1 <= asalnya dari : 10 * 0 + 1<br>\n",
    "11 <= asalnya dari : 10 * 1 + 1<br>\n",
    "21 <= asalnya dari : 10 * 2 + 1<br>\n",
    "31 <= asalnya dari : 10 * 3 + 1<br>\n",
    "41 <= asalnya dari : 10 * 4 + 1<br>Begitupun seterusnya...\n",
    "\n",
    "O iya fungsi <b>fromfunction()</b> itu gunanya buat bikin <i>array</i>/matriks yang nilainya berdasarkan nilai kembalian dari sebuah fungsi.<br>\n",
    "Argumen/parameter <b>fromfunction</b> itu ada 3, yaitu fungsi, betuk(dimensi) <i>array</i>/matriks, sama tipe data."
   ]
  },
  {
   "cell_type": "markdown",
   "metadata": {},
   "source": [
    "## Pengindeksan"
   ]
  },
  {
   "cell_type": "markdown",
   "metadata": {},
   "source": [
    "#### 1. <i>Array</i>"
   ]
  },
  {
   "cell_type": "code",
   "execution_count": 4,
   "metadata": {
    "scrolled": true
   },
   "outputs": [
    {
     "name": "stdout",
     "output_type": "stream",
     "text": [
      "[ 0  1  4  9 16 25 36 49 64 81]\n"
     ]
    }
   ],
   "source": [
    "print(BilPang2)"
   ]
  },
  {
   "cell_type": "markdown",
   "metadata": {},
   "source": [
    "Untuk mengambil nilai pada NumPy itu caranya sama ya kayak ambil nilai (pengindeksan) pada <i>list</i>'nya Python.<br>"
   ]
  },
  {
   "cell_type": "code",
   "execution_count": 5,
   "metadata": {
    "scrolled": false
   },
   "outputs": [
    {
     "name": "stdout",
     "output_type": "stream",
     "text": [
      "Nilai dari indeks kedelapan : 64\n",
      "Nilai dari indeks terakhir : 81\n"
     ]
    }
   ],
   "source": [
    "print(\"Nilai dari indeks kedelapan :\",BilPang2[8])\n",
    "print(\"Nilai dari indeks terakhir :\",BilPang2[-1])"
   ]
  },
  {
   "cell_type": "markdown",
   "metadata": {},
   "source": [
    "Gunakan kata kunci <b>shape</b> untuk mengetahui bentuk/dimensi dari suatu <i>array</i>/matriks yang telah kalian buat."
   ]
  },
  {
   "cell_type": "code",
   "execution_count": 6,
   "metadata": {},
   "outputs": [
    {
     "name": "stdout",
     "output_type": "stream",
     "text": [
      "(10,)\n"
     ]
    }
   ],
   "source": [
    "print(BilPang2.shape)"
   ]
  },
  {
   "cell_type": "markdown",
   "metadata": {},
   "source": [
    "Jika nilai yang ditampilkan sama dengan jumlah elemen dari <i>array</i> maka array tersebut adalah <i>array</i> satu dimensi."
   ]
  },
  {
   "cell_type": "markdown",
   "metadata": {},
   "source": [
    "#### 2. Matriks"
   ]
  },
  {
   "cell_type": "code",
   "execution_count": 7,
   "metadata": {
    "scrolled": false
   },
   "outputs": [
    {
     "name": "stdout",
     "output_type": "stream",
     "text": [
      "[[ 0  1  2  3]\n",
      " [10 11 12 13]\n",
      " [20 21 22 23]\n",
      " [30 31 32 33]\n",
      " [40 41 42 43]]\n"
     ]
    }
   ],
   "source": [
    "print(Matriks)"
   ]
  },
  {
   "cell_type": "code",
   "execution_count": 8,
   "metadata": {
    "scrolled": true
   },
   "outputs": [
    {
     "name": "stdout",
     "output_type": "stream",
     "text": [
      "(5, 4)\n"
     ]
    }
   ],
   "source": [
    "print(Matriks.shape)"
   ]
  },
  {
   "cell_type": "markdown",
   "metadata": {},
   "source": [
    "Ukuran matriksnya sama'kan? 5x4<br>\n",
    "5 baris 4 kolom. Ehehe"
   ]
  },
  {
   "cell_type": "markdown",
   "metadata": {},
   "source": [
    "Kalo mau ambil nilai/elemen dari sebuah matriks itu formatnya :<br>\n",
    "\n",
    "<b>nama_array[indeks baris, indeks_kolom]<b>"
   ]
  },
  {
   "cell_type": "code",
   "execution_count": 9,
   "metadata": {
    "scrolled": true
   },
   "outputs": [
    {
     "name": "stdout",
     "output_type": "stream",
     "text": [
      "23\n"
     ]
    }
   ],
   "source": [
    "print(Matriks[2,3])"
   ]
  },
  {
   "cell_type": "markdown",
   "metadata": {},
   "source": [
    "itu artinya ambil nilai Matriks dari baris ke 2 (dari 0, selalu ingat bahwa indeks selalu dimulai dari 0) dan kolom ke 3.<br>Jadi hasilnya 23 deh..."
   ]
  },
  {
   "cell_type": "markdown",
   "metadata": {},
   "source": [
    "## Pengirisan"
   ]
  },
  {
   "cell_type": "markdown",
   "metadata": {},
   "source": [
    "#### 1. <i>Array</i>"
   ]
  },
  {
   "cell_type": "code",
   "execution_count": 10,
   "metadata": {},
   "outputs": [
    {
     "name": "stdout",
     "output_type": "stream",
     "text": [
      "[ 0  1  4  9 16 25 36 49 64 81]\n"
     ]
    }
   ],
   "source": [
    "print(BilPang2)"
   ]
  },
  {
   "cell_type": "markdown",
   "metadata": {},
   "source": [
    "Mengambil nilai dari indeks ke 2 sampai 4(5-1)"
   ]
  },
  {
   "cell_type": "code",
   "execution_count": 11,
   "metadata": {
    "scrolled": false
   },
   "outputs": [
    {
     "name": "stdout",
     "output_type": "stream",
     "text": [
      "[ 4  9 16]\n"
     ]
    }
   ],
   "source": [
    "print(BilPang2[2:5])"
   ]
  },
  {
   "cell_type": "markdown",
   "metadata": {},
   "source": [
    "Ndak perlu saya jelaskan lagi ya kenapa outputnya 4 9 16<br>\n",
    "Silahkan baca kalimat di atas tulisan <b>import numpy as np</b> kalo belum paham ehehe"
   ]
  },
  {
   "cell_type": "code",
   "execution_count": 12,
   "metadata": {
    "scrolled": false
   },
   "outputs": [
    {
     "name": "stdout",
     "output_type": "stream",
     "text": [
      "[ 0  1  4  9  4 25  4 49  4 81]\n"
     ]
    }
   ],
   "source": [
    "BilPang2[2:10:2] = 4\n",
    "print(BilPang2)"
   ]
  },
  {
   "cell_type": "markdown",
   "metadata": {},
   "source": [
    "Itu maksudnya mulai dari indeks ke 2 sampai indeks ke 9(10-1) ubah nilai <i>array</i> yang memiliki urutan ke 2 dan kelipatannya menjadi 4."
   ]
  },
  {
   "cell_type": "code",
   "execution_count": 13,
   "metadata": {},
   "outputs": [
    {
     "data": {
      "text/plain": [
       "str"
      ]
     },
     "execution_count": 13,
     "metadata": {},
     "output_type": "execute_result"
    }
   ],
   "source": [
    "type(\"40\")"
   ]
  },
  {
   "cell_type": "code",
   "execution_count": 14,
   "metadata": {},
   "outputs": [
    {
     "name": "stdout",
     "output_type": "stream",
     "text": [
      "[ 0  1 40  9 40 25 40 49 40 81]\n"
     ]
    }
   ],
   "source": [
    "BilPang2[2:10:2] = \"40\"   # bertipe string\n",
    "print(BilPang2)"
   ]
  },
  {
   "cell_type": "markdown",
   "metadata": {},
   "source": [
    "Ternyata si numpy <i>array</i> ini mau nerima nilai bertipe <i>string</i> nih.<br>\n",
    "Asalkan isi dari string tersebut adalah angka lo ya.<br>"
   ]
  },
  {
   "cell_type": "code",
   "execution_count": 15,
   "metadata": {
    "scrolled": true
   },
   "outputs": [
    {
     "ename": "ValueError",
     "evalue": "invalid literal for int() with base 10: 'Genap'",
     "output_type": "error",
     "traceback": [
      "\u001b[0;31m---------------------------------------------------------------------------\u001b[0m",
      "\u001b[0;31mValueError\u001b[0m                                Traceback (most recent call last)",
      "\u001b[0;32m<ipython-input-15-e6a3ec0b6c3f>\u001b[0m in \u001b[0;36m<module>\u001b[0;34m\u001b[0m\n\u001b[0;32m----> 1\u001b[0;31m \u001b[0mBilPang2\u001b[0m\u001b[0;34m[\u001b[0m\u001b[0;36m2\u001b[0m\u001b[0;34m:\u001b[0m\u001b[0;36m10\u001b[0m\u001b[0;34m:\u001b[0m\u001b[0;36m2\u001b[0m\u001b[0;34m]\u001b[0m \u001b[0;34m=\u001b[0m \u001b[0;34m\"Genap\"\u001b[0m   \u001b[0;31m# bertipe string\u001b[0m\u001b[0;34m\u001b[0m\u001b[0;34m\u001b[0m\u001b[0m\n\u001b[0m\u001b[1;32m      2\u001b[0m \u001b[0mBilPang2\u001b[0m\u001b[0;34m\u001b[0m\u001b[0;34m\u001b[0m\u001b[0m\n",
      "\u001b[0;31mValueError\u001b[0m: invalid literal for int() with base 10: 'Genap'"
     ]
    }
   ],
   "source": [
    "BilPang2[2:10:2] = \"Genap\"   # bertipe string\n",
    "BilPang2"
   ]
  },
  {
   "cell_type": "markdown",
   "metadata": {},
   "source": [
    "Kalo mau merubah urutan nilainya berdasarkan indeks"
   ]
  },
  {
   "cell_type": "code",
   "execution_count": 16,
   "metadata": {
    "scrolled": false
   },
   "outputs": [
    {
     "data": {
      "text/plain": [
       "array([81, 40, 49, 40, 25, 40,  9, 40,  1,  0])"
      ]
     },
     "execution_count": 16,
     "metadata": {},
     "output_type": "execute_result"
    }
   ],
   "source": [
    "BilPang2[ : :-1]"
   ]
  },
  {
   "cell_type": "markdown",
   "metadata": {},
   "source": [
    "#### 2. Matriks"
   ]
  },
  {
   "cell_type": "code",
   "execution_count": 17,
   "metadata": {},
   "outputs": [
    {
     "name": "stdout",
     "output_type": "stream",
     "text": [
      "[[ 0  1  2  3]\n",
      " [10 11 12 13]\n",
      " [20 21 22 23]\n",
      " [30 31 32 33]\n",
      " [40 41 42 43]]\n"
     ]
    }
   ],
   "source": [
    "print(Matriks)"
   ]
  },
  {
   "cell_type": "markdown",
   "metadata": {},
   "source": [
    "Ambil baris kedua"
   ]
  },
  {
   "cell_type": "code",
   "execution_count": 18,
   "metadata": {
    "scrolled": false
   },
   "outputs": [
    {
     "name": "stdout",
     "output_type": "stream",
     "text": [
      "[10 11 12 13]\n"
     ]
    }
   ],
   "source": [
    "b = Matriks[1]\n",
    "print(b)"
   ]
  },
  {
   "cell_type": "markdown",
   "metadata": {},
   "source": [
    "Ambil kolom kedua"
   ]
  },
  {
   "cell_type": "code",
   "execution_count": 19,
   "metadata": {
    "scrolled": true
   },
   "outputs": [
    {
     "name": "stdout",
     "output_type": "stream",
     "text": [
      "[ 1 11 21 31 41]\n"
     ]
    }
   ],
   "source": [
    "print(Matriks[0:5,1])"
   ]
  },
  {
   "cell_type": "markdown",
   "metadata": {},
   "source": [
    "Keluaran baris kode di atas sama dengan baris kode yang di bawah :"
   ]
  },
  {
   "cell_type": "code",
   "execution_count": 20,
   "metadata": {},
   "outputs": [
    {
     "name": "stdout",
     "output_type": "stream",
     "text": [
      "[ 1 11 21 31 41]\n"
     ]
    }
   ],
   "source": [
    "print(Matriks[ : ,1])"
   ]
  },
  {
   "cell_type": "markdown",
   "metadata": {},
   "source": [
    "Silahkan pahami sendiri :V<br>\n",
    "Gampang kok :)"
   ]
  },
  {
   "cell_type": "markdown",
   "metadata": {},
   "source": [
    "Ambil baris kedua dan ketiga"
   ]
  },
  {
   "cell_type": "code",
   "execution_count": 21,
   "metadata": {},
   "outputs": [
    {
     "name": "stdout",
     "output_type": "stream",
     "text": [
      "[[10 11 12 13]\n",
      " [20 21 22 23]]\n"
     ]
    }
   ],
   "source": [
    "print(Matriks[1:3, : ])"
   ]
  },
  {
   "cell_type": "markdown",
   "metadata": {},
   "source": [
    "Pengirisan di <i>list</i> sama aja sih sama pengirisan di NumPy <i>array</i>.<br>\n",
    "Soalnya matriks ini'kan isi'nya kumpulan dari <i>array.</i>"
   ]
  },
  {
   "cell_type": "markdown",
   "metadata": {},
   "source": [
    "## Iterasi"
   ]
  },
  {
   "cell_type": "markdown",
   "metadata": {},
   "source": [
    "Kita juga dapat menerapkan iterasi(perulangan) dengan NumPy.<br>\n",
    "Caranya sama seperti perulangan biasa pada Python dapat menggunakan <b>for</b> atau <b>while</b>.<br>\n",
    "Berikut adalah contoh perulangan pada NumPy yang digunakan untuk mencetak nilai/elemen :"
   ]
  },
  {
   "cell_type": "markdown",
   "metadata": {},
   "source": [
    "#### 1. <i>Array</i>"
   ]
  },
  {
   "cell_type": "code",
   "execution_count": 22,
   "metadata": {
    "scrolled": false
   },
   "outputs": [
    {
     "name": "stdout",
     "output_type": "stream",
     "text": [
      "0\n",
      "1\n",
      "40\n",
      "9\n",
      "40\n",
      "25\n",
      "40\n",
      "49\n",
      "40\n",
      "81\n"
     ]
    }
   ],
   "source": [
    "for i in BilPang2:\n",
    "    print(i)"
   ]
  },
  {
   "cell_type": "markdown",
   "metadata": {},
   "source": [
    "#### 2. Matriks"
   ]
  },
  {
   "cell_type": "code",
   "execution_count": 23,
   "metadata": {
    "scrolled": true
   },
   "outputs": [
    {
     "name": "stdout",
     "output_type": "stream",
     "text": [
      "[0 1 2 3]\n",
      "[10 11 12 13]\n",
      "[20 21 22 23]\n",
      "[30 31 32 33]\n",
      "[40 41 42 43]\n"
     ]
    }
   ],
   "source": [
    "for baris in Matriks:\n",
    "    print(baris)"
   ]
  },
  {
   "cell_type": "markdown",
   "metadata": {},
   "source": [
    "Isi elemen matriks NumPy adalah <i>array-array</i> yang dikumpulkan menjadi satu sehingga apabila kita menggunakan perulangan biasa untuk menampilkan elemen dari <b>Matriks</b> maka hasilnya adalah seperti di atas"
   ]
  },
  {
   "cell_type": "markdown",
   "metadata": {},
   "source": [
    "Gunakan kata kunci <b>flat</b> untuk mencetak nilai dari tiap elemen pada matriks(dalam artian yang sesungguhnya)."
   ]
  },
  {
   "cell_type": "code",
   "execution_count": 24,
   "metadata": {
    "scrolled": true
   },
   "outputs": [
    {
     "name": "stdout",
     "output_type": "stream",
     "text": [
      "0\n",
      "1\n",
      "2\n",
      "3\n",
      "10\n",
      "11\n",
      "12\n",
      "13\n",
      "20\n",
      "21\n",
      "22\n",
      "23\n",
      "30\n",
      "31\n",
      "32\n",
      "33\n",
      "40\n",
      "41\n",
      "42\n",
      "43\n"
     ]
    }
   ],
   "source": [
    "for elemen in Matriks.flat:\n",
    "    print(elemen)"
   ]
  },
  {
   "cell_type": "markdown",
   "metadata": {},
   "source": [
    "## Fungsi Dasar(2)"
   ]
  },
  {
   "cell_type": "markdown",
   "metadata": {},
   "source": [
    "Berikut adalah lanjutan penjelasan mengenai beberapa fungsi dasar pada NumPy :"
   ]
  },
  {
   "cell_type": "markdown",
   "metadata": {},
   "source": [
    "<b>zeros_like()"
   ]
  },
  {
   "cell_type": "markdown",
   "metadata": {},
   "source": [
    "Menmbuat <i>array</i>/matriks yang seluruh nilai elemen'nya 0 dari matriks rujukan."
   ]
  },
  {
   "cell_type": "code",
   "execution_count": 25,
   "metadata": {
    "scrolled": true
   },
   "outputs": [
    {
     "name": "stdout",
     "output_type": "stream",
     "text": [
      "Matriks rujukan:\n",
      " [[0 1 2]\n",
      " [3 4 5]] \n",
      "\n",
      "Matriks hasil zero_like():\n",
      " [[0 0 0]\n",
      " [0 0 0]]\n"
     ]
    }
   ],
   "source": [
    "x = np.arange(6)\n",
    "x = x.reshape((2, 3))\n",
    "print(\"Matriks rujukan:\\n\", x,\"\\n\")\n",
    "print(\"Matriks hasil zero_like():\\n\",np.zeros_like(x))"
   ]
  },
  {
   "cell_type": "code",
   "execution_count": 26,
   "metadata": {
    "scrolled": true
   },
   "outputs": [
    {
     "name": "stdout",
     "output_type": "stream",
     "text": [
      "Matriks rujukan:\n",
      " [0. 1. 2.] \n",
      "\n",
      "Matriks hasil zero_like():\n",
      " [0. 0. 0.]\n"
     ]
    }
   ],
   "source": [
    "y = np.arange(3, dtype=float)\n",
    "print(\"Matriks rujukan:\\n\", y,\"\\n\")\n",
    "print(\"Matriks hasil zero_like():\\n\",np.zeros_like(y))"
   ]
  },
  {
   "cell_type": "markdown",
   "metadata": {},
   "source": [
    "Dari kedua contoh di atas dapat kita ketahui jika fungsi <b>zeros_like()</b> digunakan untuk memberi nilai kembalian pada <i>array</i>/matriks dengan nilai 0 sesuai dimensi/ukuran dari <i>array</i>/matriks awal(yang dijadikan contoh/dirujuk)."
   ]
  },
  {
   "cell_type": "markdown",
   "metadata": {},
   "source": [
    "<b>empty()</b> dan <b>empy_like()"
   ]
  },
  {
   "cell_type": "code",
   "execution_count": 27,
   "metadata": {
    "scrolled": true
   },
   "outputs": [
    {
     "name": "stdout",
     "output_type": "stream",
     "text": [
      "[[    21850000 476741369971 489626271861 433791696995]\n",
      " [498216206368 468151435365 476741369968 416611827826]\n",
      " [450971566194 519691042924 502511173664 416611827822]\n",
      " [416611827830 463856468073 420906795105 433791697004]]\n"
     ]
    }
   ],
   "source": [
    "print(np.empty([4, 4], dtype=int))"
   ]
  },
  {
   "cell_type": "markdown",
   "metadata": {},
   "source": [
    "Membuat <i>array</i>/matriks baru dengan elemen matriks berupa alamat memori secara acak.<br>\n",
    "Dimensi dari matriksnya harus disertakan, mau matriks berapa kali berapa.<br>\n",
    "Untuk parameter <b>dtype</b> dapat tidak disertakan, tipe data <i>default</i> dari elemennya itu <i>float</i>."
   ]
  },
  {
   "cell_type": "code",
   "execution_count": 28,
   "metadata": {},
   "outputs": [
    {
     "name": "stdout",
     "output_type": "stream",
     "text": [
      "[[32198784        0        0]\n",
      " [       0        0        0]]\n"
     ]
    }
   ],
   "source": [
    "a = ([1,2,3], [4,5,6]) \n",
    "print(np.empty_like(a))"
   ]
  },
  {
   "cell_type": "markdown",
   "metadata": {},
   "source": [
    "Membuat <i>array</i>/matriks baru dengan elemen matriks berupa alamat memori secara acak dan dimensi yang sama dengan <i>array</i>/matriks awal(matriks yang dijadikan contoh/rujukan)."
   ]
  },
  {
   "cell_type": "markdown",
   "metadata": {},
   "source": [
    "<b>append()</b>"
   ]
  },
  {
   "cell_type": "markdown",
   "metadata": {},
   "source": [
    "Menambahkan elemen baru pada akhir <i>array</i>/matriks.<br>\n",
    "Penggunaannya sama seperti <b>append</b> pada <i>list</i> Python."
   ]
  },
  {
   "cell_type": "code",
   "execution_count": 29,
   "metadata": {
    "scrolled": true
   },
   "outputs": [
    {
     "name": "stdout",
     "output_type": "stream",
     "text": [
      "[  0   1  40   9  40  25  40  49  40  81 112]\n"
     ]
    }
   ],
   "source": [
    "print(np.append(BilPang2,112))"
   ]
  },
  {
   "cell_type": "markdown",
   "metadata": {},
   "source": [
    "Nilai baru tersebut tidak masuk ke dalam barisan elemen <i>array</i>/matriks.<br>\n",
    "Berikut ini buktinya :"
   ]
  },
  {
   "cell_type": "code",
   "execution_count": 30,
   "metadata": {
    "scrolled": true
   },
   "outputs": [
    {
     "name": "stdout",
     "output_type": "stream",
     "text": [
      "[ 0  1 40  9 40 25 40 49 40 81]\n"
     ]
    }
   ],
   "source": [
    "print(BilPang2)"
   ]
  },
  {
   "cell_type": "markdown",
   "metadata": {},
   "source": [
    "Nah lo... <i>terus gimana caranya memasukkan nilai baru tersebut ke dalam NumPy array?</i><br>\n",
    "Kalo ingin memasukkan ke dalam barisan elemen <i>array</i>/matriks ya tinggal masukkin ke variabel yang sama aja<br>\n",
    "Ehehe."
   ]
  },
  {
   "cell_type": "code",
   "execution_count": 31,
   "metadata": {},
   "outputs": [
    {
     "name": "stdout",
     "output_type": "stream",
     "text": [
      "[  0   1  40   9  40  25  40  49  40  81 112]\n"
     ]
    }
   ],
   "source": [
    "BilPang2 = np.append(BilPang2,112)\n",
    "print(BilPang2)"
   ]
  },
  {
   "cell_type": "markdown",
   "metadata": {},
   "source": [
    "<b>delete()"
   ]
  },
  {
   "cell_type": "markdown",
   "metadata": {},
   "source": [
    "Kalo barusan itu buat nambah data...<br>\n",
    "Yup sesuai dengan namanya, fungsi <b>delete</b> berguna untuk menghapus elemen berdasarkan indeks dari sebuah <i>array</i>/matriks.<br>\n",
    "Penggunaannya sama seperti <b>delete</b> pada <i>list</i> Python."
   ]
  },
  {
   "cell_type": "code",
   "execution_count": 32,
   "metadata": {},
   "outputs": [
    {
     "name": "stdout",
     "output_type": "stream",
     "text": [
      "[ 0  1 40  9 40 25 40 49 40 81]\n"
     ]
    }
   ],
   "source": [
    "print(np.delete(BilPang2, -1))"
   ]
  },
  {
   "cell_type": "markdown",
   "metadata": {},
   "source": [
    "Nilai yang barusan dihapus tersebut ndak keluar dari barisan elemen <i>array</i>/matriks.<br>\n",
    "Ini nih buktinya :"
   ]
  },
  {
   "cell_type": "code",
   "execution_count": 33,
   "metadata": {},
   "outputs": [
    {
     "name": "stdout",
     "output_type": "stream",
     "text": [
      "[  0   1  40   9  40  25  40  49  40  81 112]\n"
     ]
    }
   ],
   "source": [
    "print(BilPang2)"
   ]
  },
  {
   "cell_type": "markdown",
   "metadata": {},
   "source": [
    "Sama seperti fungsi <b>append</b>, kalo ingin menghapus elemen ke luar dari barisan elemen array/matriks ya tinggal masukkin ke variabel yang sama aja\n",
    "Ehehe."
   ]
  },
  {
   "cell_type": "code",
   "execution_count": 34,
   "metadata": {},
   "outputs": [
    {
     "name": "stdout",
     "output_type": "stream",
     "text": [
      "[ 0  1 40  9 40 25 40 49 40 81]\n"
     ]
    }
   ],
   "source": [
    "BilPang2 = np.delete(BilPang2, -1)\n",
    "print(BilPang2)"
   ]
  },
  {
   "cell_type": "markdown",
   "metadata": {},
   "source": [
    "Sekian dari saya semoga bermanfaat!"
   ]
  },
  {
   "cell_type": "code",
   "execution_count": null,
   "metadata": {},
   "outputs": [],
   "source": []
  }
 ],
 "metadata": {
  "kernelspec": {
   "display_name": "Python 3",
   "language": "python",
   "name": "python3"
  },
  "language_info": {
   "codemirror_mode": {
    "name": "ipython",
    "version": 3
   },
   "file_extension": ".py",
   "mimetype": "text/x-python",
   "name": "python",
   "nbconvert_exporter": "python",
   "pygments_lexer": "ipython3",
   "version": "3.6.7"
  }
 },
 "nbformat": 4,
 "nbformat_minor": 2
}
